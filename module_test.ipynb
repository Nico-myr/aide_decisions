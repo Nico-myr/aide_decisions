{
 "cells": [
  {
   "cell_type": "markdown",
   "metadata": {},
   "source": [
    "\n",
    "\n"
   ]
  },
  {
   "cell_type": "code",
   "execution_count": 291,
   "metadata": {},
   "outputs": [],
   "source": [
    "import requests\n",
    "import pandas as pd\n",
    "import plotly.express as px\n",
    "import numpy as np\n",
    "import streamlit as st\n",
    "\n",
    "#prev\n",
    "from sktime.forecasting.model_selection import temporal_train_test_split\n",
    "from sktime.forecasting.base import ForecastingHorizon\n",
    "from sktime.forecasting.exp_smoothing import ExponentialSmoothing\n",
    "from sktime.performance_metrics.forecasting import mean_absolute_percentage_error\n",
    "from sktime.utils.plotting import plot_series\n",
    "\n",
    "#visualisation\n",
    "import  plotly.express  as  px\n",
    "import plotly.graph_objects as go\n",
    "import matplotlib.pyplot as plt\n",
    "\n",
    "#pip install streamlit-echarts\n",
    "#pip install pyecharts\n"
   ]
  },
  {
   "cell_type": "markdown",
   "metadata": {},
   "source": [
    "importation données OHLC"
   ]
  },
  {
   "cell_type": "code",
   "execution_count": 292,
   "metadata": {},
   "outputs": [],
   "source": [
    "#OHLC BTC\n",
    "url_BTC = \"https://api.coingecko.com/api/v3/coins/bitcoin/ohlc?vs_currency=usd&days=1\"\n",
    "headers = {\"accept\": \"application/json\"}\n",
    "response_BTC = requests.get(url_BTC, headers=headers)\n",
    "BTC_json= response_BTC.json()\n",
    "\n",
    "#OHCL ETH\n",
    "\n",
    "url_ETH = \"https://api.coingecko.com/api/v3/coins/ethereum/ohlc?vs_currency=usd&days=1\"\n",
    "headers = {\"accept\": \"application/json\"}\n",
    "response_ETH = requests.get(url_ETH, headers=headers)\n",
    "ETH_json=response_ETH.json()\n",
    "\n",
    "#OHCL BNB \n",
    "url_BNB = \"https://api.coingecko.com/api/v3/coins/binancecoin/ohlc?vs_currency=usd&days=1\"\n",
    "headers = {\"accept\": \"application/json\"}\n",
    "response_BNB = requests.get(url_BNB, headers=headers)\n",
    "BNB_json=response_BNB.json()\n"
   ]
  },
  {
   "cell_type": "markdown",
   "metadata": {},
   "source": [
    "importation données "
   ]
  },
  {
   "cell_type": "markdown",
   "metadata": {},
   "source": [
    "capitalisation, capitalisation en % et volume d'echange"
   ]
  },
  {
   "cell_type": "code",
   "execution_count": 293,
   "metadata": {},
   "outputs": [],
   "source": [
    "# total market cap, total volumes, market cap porcentage et markey cap % variation 24h\n",
    "url = \"https://api.coingecko.com/api/v3/global\"\n",
    "headers = {\"accept\": \"application/json\"}\n",
    "response_market_cap = requests.get(url, headers=headers)\n",
    "market_cap_json = response_market_cap.json()\n",
    "\n",
    "im_total_market_cap = market_cap_json['data']['total_market_cap']\n",
    "df_total_market_cap = pd.DataFrame(list(im_total_market_cap.items()), columns=['currency', 'market_cap'])\n",
    "\n",
    "im_total_volume = market_cap_json['data']['total_volume']\n",
    "df_total_volume = pd.DataFrame(list(im_total_volume.items()), columns=['currency', 'total_volume'])\n",
    "\n",
    "im_market_cap_percentage = market_cap_json['data']['market_cap_percentage']\n",
    "df_market_cap_percentage = pd.DataFrame(list(im_market_cap_percentage.items()), columns=['currency', 'market_cap_percentage'])\n"
   ]
  },
  {
   "cell_type": "markdown",
   "metadata": {},
   "source": [
    "API classement coinmarket cap "
   ]
  },
  {
   "cell_type": "code",
   "execution_count": 294,
   "metadata": {},
   "outputs": [
    {
     "data": {
      "text/plain": [
       "{'data': {'active_cryptocurrencies': 15274,\n",
       "  'upcoming_icos': 0,\n",
       "  'ongoing_icos': 49,\n",
       "  'ended_icos': 3376,\n",
       "  'markets': 1158,\n",
       "  'total_market_cap': {'btc': 34918196.43282971,\n",
       "   'eth': 1005390179.9770168,\n",
       "   'ltc': 35361046403.47276,\n",
       "   'bch': 6931250908.54157,\n",
       "   'bnb': 5068823435.140371,\n",
       "   'eos': 4773038064551.241,\n",
       "   'xrp': 2847216484004.9287,\n",
       "   'xlm': 17944348459964.875,\n",
       "   'link': 222861809061.969,\n",
       "   'dot': 581822709774.1752,\n",
       "   'yfi': 501545161.6962473,\n",
       "   'usd': 3156609046425.286,\n",
       "   'aed': 11593909366615.438,\n",
       "   'ars': 3147848389387599.0,\n",
       "   'aud': 4885635338386.642,\n",
       "   'bdt': 378356084614646.5,\n",
       "   'bhd': 1188349668053.4504,\n",
       "   'bmd': 3156609046425.286,\n",
       "   'brl': 18298704811675.055,\n",
       "   'cad': 4451292246816.611,\n",
       "   'chf': 2802873123464.7773,\n",
       "   'clp': 3094518546482103.0,\n",
       "   'cny': 22830174928270.867,\n",
       "   'czk': 75650976745723.66,\n",
       "   'dkk': 22342478830598.188,\n",
       "   'eur': 2993608068485.9775,\n",
       "   'gbp': 2501672644863.9224,\n",
       "   'gel': 8633325741973.146,\n",
       "   'hkd': 24575779730944.062,\n",
       "   'huf': 1222317938002032.2,\n",
       "   'idr': 5.018471760278307e+16,\n",
       "   'ils': 11836021280476.266,\n",
       "   'inr': 266513575036762.56,\n",
       "   'jpy': 487175383223445.94,\n",
       "   'krw': 4406389483131212.0,\n",
       "   'kwd': 969536685564.2959,\n",
       "   'lkr': 924966903097374.5,\n",
       "   'mmk': 6622565779400259.0,\n",
       "   'mxn': 64221684540879.53,\n",
       "   'myr': 14111620742044.236,\n",
       "   'ngn': 5260187374499804.0,\n",
       "   'nok': 35004584698523.805,\n",
       "   'nzd': 5384411133812.319,\n",
       "   'php': 185432634132077.75,\n",
       "   'pkr': 879070817677246.2,\n",
       "   'pln': 12931756039107.576,\n",
       "   'rub': 315258951516383.8,\n",
       "   'sar': 11856649720594.65,\n",
       "   'sek': 34655148077084.664,\n",
       "   'sgd': 4241535575681.673,\n",
       "   'thb': 109842990300125.81,\n",
       "   'try': 108647326768911.88,\n",
       "   'twd': 102516560678944.77,\n",
       "   'uah': 130777997132495.0,\n",
       "   'vef': 316071263818.5637,\n",
       "   'vnd': 8.014750550450043e+16,\n",
       "   'zar': 57460070132984.05,\n",
       "   'xdr': 2385080133125.1553,\n",
       "   'xag': 104348688135.58037,\n",
       "   'xau': 1231677283.8246827,\n",
       "   'bits': 34918196432829.707,\n",
       "   'sats': 3491819643282971.0},\n",
       "  'total_volume': {'btc': 2599356.7576578255,\n",
       "   'eth': 74842575.65917741,\n",
       "   'ltc': 2632323095.596669,\n",
       "   'bch': 515971491.3339647,\n",
       "   'bnb': 377329925.2397482,\n",
       "   'eos': 355311270772.9811,\n",
       "   'xrp': 211950563439.02945,\n",
       "   'xlm': 1335801049200.884,\n",
       "   'link': 16590128030.3363,\n",
       "   'dot': 43311652574.02531,\n",
       "   'yfi': 37335685.645550914,\n",
       "   'usd': 234982155275.20764,\n",
       "   'aed': 863065958110.3104,\n",
       "   'ars': 234330000370350.53,\n",
       "   'aud': 363693160862.8919,\n",
       "   'bdt': 28165327703448.566,\n",
       "   'bhd': 88462322103.52588,\n",
       "   'bmd': 234982155275.20764,\n",
       "   'brl': 1362179805022.6143,\n",
       "   'cad': 331360086261.3336,\n",
       "   'chf': 208649584990.75745,\n",
       "   'clp': 230360056280944.47,\n",
       "   'cny': 1699508438027.9382,\n",
       "   'czk': 5631558835110.091,\n",
       "   'dkk': 1663203695037.9207,\n",
       "   'eur': 222848146741.1065,\n",
       "   'gbp': 186227822716.55234,\n",
       "   'gel': 642676194677.6921,\n",
       "   'hkd': 1829453569895.129,\n",
       "   'huf': 90990965076442.34,\n",
       "   'idr': 3735816799211829.5,\n",
       "   'ils': 881089089419.9196,\n",
       "   'inr': 19839623263818.566,\n",
       "   'jpy': 36265980317236.64,\n",
       "   'krw': 328017465102543.8,\n",
       "   'kwd': 72173594082.00375,\n",
       "   'lkr': 68855760485827.3,\n",
       "   'mmk': 492992561767386.25,\n",
       "   'mxn': 4780747196397.399,\n",
       "   'myr': 1050487725157.8153,\n",
       "   'ngn': 391575310161126.7,\n",
       "   'nok': 2605787614493.351,\n",
       "   'nzd': 400822691217.92883,\n",
       "   'php': 13803850710007.78,\n",
       "   'pkr': 65439195142415.51,\n",
       "   'pln': 962657035087.6692,\n",
       "   'rub': 23468293604814.477,\n",
       "   'sar': 882624697804.6426,\n",
       "   'sek': 2579775089904.396,\n",
       "   'sgd': 315745522043.29767,\n",
       "   'thb': 8176857578174.66,\n",
       "   'try': 8087850802417.368,\n",
       "   'twd': 7631468460441.866,\n",
       "   'uah': 9735287194836.328,\n",
       "   'vef': 23528763207.70653,\n",
       "   'vnd': 5966286387193512.0,\n",
       "   'zar': 4277403670690.1265,\n",
       "   'xdr': 177548521829.3071,\n",
       "   'xag': 7767854453.185142,\n",
       "   'xau': 91687687.16683328,\n",
       "   'bits': 2599356757657.8257,\n",
       "   'sats': 259935675765782.56},\n",
       "  'market_cap_percentage': {'btc': 56.65538034891231,\n",
       "   'eth': 11.97176946579062,\n",
       "   'usdt': 4.039419006919482,\n",
       "   'sol': 3.2156503468999946,\n",
       "   'bnb': 2.877864226747731,\n",
       "   'xrp': 1.974957118106273,\n",
       "   'doge': 1.6952485821154089,\n",
       "   'usdc': 1.1764788093520175,\n",
       "   'steth': 0.9722466226959918,\n",
       "   'ada': 0.8513914241124156},\n",
       "  'market_cap_change_percentage_24h_usd': 1.2237455014925156,\n",
       "  'updated_at': 1731772586}}"
      ]
     },
     "execution_count": 294,
     "metadata": {},
     "output_type": "execute_result"
    }
   ],
   "source": [
    "market_cap_json"
   ]
  },
  {
   "cell_type": "markdown",
   "metadata": {},
   "source": [
    "LT OHLC BTC SOL ETH CSV "
   ]
  },
  {
   "cell_type": "code",
   "execution_count": null,
   "metadata": {},
   "outputs": [],
   "source": []
  },
  {
   "cell_type": "code",
   "execution_count": 295,
   "metadata": {},
   "outputs": [],
   "source": [
    "#nettoyage\n",
    "\n",
    "#BTC\n",
    "df_OHLC_BTC= pd.DataFrame(BTC_json, columns=[\"Timestamp\", \"Open\", \"High\", \"Low\", \"Close\"])\n",
    "df_OHLC_BTC['Timestamp'] = pd.to_datetime(df_OHLC_BTC['Timestamp'], unit='ms')\n",
    "\n",
    "#ETH\n",
    "df_OHLC_ETH= pd.DataFrame(ETH_json, columns=[\"Timestamp\", \"Open\", \"High\", \"Low\", \"Close\"])\n",
    "df_OHLC_ETH['Timestamp'] = pd.to_datetime(df_OHLC_ETH['Timestamp'], unit='ms')\n",
    "\n",
    "\n",
    "#BNB\n",
    "df_OHLC_BNB= pd.DataFrame(BNB_json, columns=[\"Timestamp\", \"Open\", \"High\", \"Low\", \"Close\"])\n",
    "df_OHLC_BNB['Timestamp'] = pd.to_datetime(df_OHLC_BNB['Timestamp'], unit='ms')\n",
    "\n",
    "\n",
    "\n"
   ]
  },
  {
   "cell_type": "markdown",
   "metadata": {},
   "source": [
    "PREVISION BTC"
   ]
  },
  {
   "cell_type": "code",
   "execution_count": 296,
   "metadata": {},
   "outputs": [
    {
     "name": "stderr",
     "output_type": "stream",
     "text": [
      "/Users/nicolasmayeur/vscode/data_visu/.venv/lib/python3.9/site-packages/statsmodels/tsa/base/tsa_model.py:473: ValueWarning:\n",
      "\n",
      "No frequency information was provided, so inferred frequency 30min will be used.\n",
      "\n",
      "/Users/nicolasmayeur/vscode/data_visu/.venv/lib/python3.9/site-packages/statsmodels/tsa/base/tsa_model.py:473: ValueWarning:\n",
      "\n",
      "No frequency information was provided, so inferred frequency 30min will be used.\n",
      "\n"
     ]
    }
   ],
   "source": [
    "\n",
    "#Prévision BTC\n",
    "\n",
    "#préparation données \n",
    "open_BTC = df_OHLC_BTC.drop(['High','Low','Close'], axis=1)\n",
    "open_BTC.set_index(\"Timestamp\", inplace=True)\n",
    "x_BTC=pd.Series(open_BTC['Open'])\n",
    "\n",
    "#préparation ech test et horizon test\n",
    "BTC_train, BTC_test = temporal_train_test_split(x_BTC,test_size= 10)\n",
    "fh_test = ForecastingHorizon(BTC_test.index, is_relative=False)\n",
    "\n",
    "#horizon prévision \n",
    "fh_dates = pd.date_range(start=x_BTC.index.max(), periods=10, freq='30min')\n",
    "fh_pred = ForecastingHorizon(fh_dates, is_relative=False)\n",
    "\n",
    "# utilisation du modele \n",
    "model= ExponentialSmoothing(trend=\"add\", seasonal=None)\n",
    "model_test_BTC= model.fit(BTC_train)\n",
    "model_pred_BTC=model.fit(x_BTC) \n",
    "\n",
    "# prévision et test \n",
    "\n",
    "BTC_perf=model_test_BTC.predict(fh_test)\n",
    "BTC_pred = model_pred_BTC.predict(fh_pred)\n",
    "#mape\n",
    "mape_BTC = mean_absolute_percentage_error(BTC_test, BTC_pred)*100\n",
    "\n",
    "#fusion \n",
    "df_BTC_train= pd.DataFrame(BTC_train)\n",
    "df_BTC_pred=pd.DataFrame(BTC_pred)\n",
    "BTC_fusion=pd.DataFrame(pd.concat([BTC_train, BTC_test], axis=0))\n"
   ]
  },
  {
   "cell_type": "markdown",
   "metadata": {},
   "source": [
    "PREVISION ETH"
   ]
  },
  {
   "cell_type": "code",
   "execution_count": 297,
   "metadata": {},
   "outputs": [
    {
     "name": "stderr",
     "output_type": "stream",
     "text": [
      "/Users/nicolasmayeur/vscode/data_visu/.venv/lib/python3.9/site-packages/statsmodels/tsa/base/tsa_model.py:473: ValueWarning:\n",
      "\n",
      "No frequency information was provided, so inferred frequency 30min will be used.\n",
      "\n",
      "/Users/nicolasmayeur/vscode/data_visu/.venv/lib/python3.9/site-packages/statsmodels/tsa/base/tsa_model.py:473: ValueWarning:\n",
      "\n",
      "No frequency information was provided, so inferred frequency 30min will be used.\n",
      "\n"
     ]
    }
   ],
   "source": [
    "# Prévision eth\n",
    "#préparation données \n",
    "open_ETH = df_OHLC_ETH.drop(['High','Low','Close'], axis=1)\n",
    "open_ETH.set_index(\"Timestamp\", inplace=True)\n",
    "x_ETH=pd.Series(open_ETH['Open'])\n",
    "\n",
    "#préparation ech test et horizon test\n",
    "ETH_train, ETH_test = temporal_train_test_split(x_ETH,test_size= 10)\n",
    "fh_test = ForecastingHorizon(ETH_test.index, is_relative=False)\n",
    "\n",
    "#horizon prévision \n",
    "fh_dates = pd.date_range(start=x_ETH.index.max(), periods=10, freq='30min')\n",
    "fh_pred = ForecastingHorizon(fh_dates, is_relative=False)\n",
    "\n",
    "# utilisation du modele \n",
    "model= ExponentialSmoothing(trend=\"add\", seasonal=None)\n",
    "model_test_ETH= model.fit(ETH_train)\n",
    "model_pred_ETH=model.fit(x_ETH) \n",
    "\n",
    "# prévision et test \n",
    "\n",
    "ETH_perf=model_test_ETH.predict(fh_test)\n",
    "ETH_pred = model_pred_ETH.predict(fh_pred)\n",
    "#mape\n",
    "mape_ETH = mean_absolute_percentage_error(ETH_test, ETH_pred)*100\n",
    "\n",
    "\n",
    "#fusion\n",
    "df_ETH_train= pd.DataFrame(ETH_train)\n",
    "df_ETH_pred = pd.DataFrame(ETH_pred)\n",
    "ETH_fusion=pd.DataFrame(pd.concat([ETH_train, ETH_test], axis=0))"
   ]
  },
  {
   "cell_type": "code",
   "execution_count": 298,
   "metadata": {},
   "outputs": [
    {
     "data": {
      "text/plain": [
       "Timestamp('2024-11-16 15:00:00')"
      ]
     },
     "execution_count": 298,
     "metadata": {},
     "output_type": "execute_result"
    }
   ],
   "source": [
    "x_ETH.index.max()"
   ]
  },
  {
   "cell_type": "markdown",
   "metadata": {},
   "source": [
    "PREVISION BNB"
   ]
  },
  {
   "cell_type": "code",
   "execution_count": 299,
   "metadata": {},
   "outputs": [
    {
     "name": "stderr",
     "output_type": "stream",
     "text": [
      "/Users/nicolasmayeur/vscode/data_visu/.venv/lib/python3.9/site-packages/statsmodels/tsa/base/tsa_model.py:473: ValueWarning:\n",
      "\n",
      "No frequency information was provided, so inferred frequency 30min will be used.\n",
      "\n",
      "/Users/nicolasmayeur/vscode/data_visu/.venv/lib/python3.9/site-packages/statsmodels/tsa/base/tsa_model.py:473: ValueWarning:\n",
      "\n",
      "No frequency information was provided, so inferred frequency 30min will be used.\n",
      "\n"
     ]
    }
   ],
   "source": [
    "open_BNB = df_OHLC_BNB.drop(['High','Low','Close'], axis=1)\n",
    "open_BNB.set_index(\"Timestamp\", inplace=True)\n",
    "x_BNB=pd.Series(open_BNB['Open'])\n",
    "\n",
    "\n",
    "\n",
    "\n",
    "#préparation ech test et horizon test\n",
    "BNB_train, BNB_test = temporal_train_test_split(x_BNB,test_size= 10)\n",
    "fh_test = ForecastingHorizon(BNB_test.index, is_relative=False)\n",
    "\n",
    "#horizon prévision \n",
    "fh_dates = pd.date_range(start=x_BNB.index.max(), periods=10, freq='30min')\n",
    "fh_pred = ForecastingHorizon(fh_dates, is_relative=False)\n",
    "\n",
    "# utilisation du modele \n",
    "model= ExponentialSmoothing(trend=\"add\", seasonal=None)\n",
    "model_test_BNB= model.fit(BNB_train)\n",
    "model_pred_BNB=model.fit(x_BNB) \n",
    "\n",
    "# prévision et test \n",
    "\n",
    "BNB_perf=model_test_BNB.predict(fh_test)\n",
    "BNB_pred = model_pred_BNB.predict(fh_pred)\n",
    "#mape\n",
    "mape_BNB = mean_absolute_percentage_error(BNB_test, BNB_pred)*100\n",
    "\n",
    "#fusion\n",
    "df_BNB_train= pd.DataFrame(BNB_train)\n",
    "df_BNB_pred = pd.DataFrame(BNB_pred)\n",
    "BNB_fusion=pd.DataFrame(pd.concat([BNB_train, BNB_test], axis=0))"
   ]
  },
  {
   "cell_type": "code",
   "execution_count": 300,
   "metadata": {},
   "outputs": [
    {
     "data": {
      "text/plain": [
       "numpy.float64"
      ]
     },
     "execution_count": 300,
     "metadata": {},
     "output_type": "execute_result"
    }
   ],
   "source": [
    "type(mape_ETH)\n"
   ]
  },
  {
   "cell_type": "markdown",
   "metadata": {},
   "source": [
    "fonction prévision"
   ]
  },
  {
   "cell_type": "markdown",
   "metadata": {},
   "source": [
    "# S = Serie avec donnée open_crypto['open']\n",
    "# name nom crypto\n",
    "\n",
    "\n",
    "def prevision(S,name):\n",
    "    #préparation ech test et horizon test\n",
    "    y_train, y_test = temporal_train_test_split(S,test_size= 10)\n",
    "    fh_test = ForecastingHorizon(y_test.index, is_relative=False)\n",
    "\n",
    "    #horizon prévision \n",
    "    fh_dates = pd.date_range(start=S.index[-1], periods=10, freq='30min')\n",
    "    fh_pred = ForecastingHorizon(fh_dates, is_relative=False)\n",
    "\n",
    "    # utilisation du modele \n",
    "    model= ExponentialSmoothing(trend=\"add\", seasonal=None)\n",
    "    model_test= model.fit(y_train)\n",
    "    model_pred=model.fit(S) \n",
    "\n",
    "    # prévision et test \n",
    "    y_pred = model_test.predict(fh_pred)\n",
    "    y_perf=model_test.predict(fh_test)\n",
    "    #mape\n",
    "    mape = mean_absolute_percentage_error(y_test, y_pred)\n",
    "    \n",
    "\n",
    "    df_train = {}\n",
    "    df_pred = {}\n",
    "    fusion = {}\n",
    "    mape={}\n",
    "\n",
    "    mape[name] = pd.DataFrame(mape)\n",
    "    df_train[name] = pd.DataFrame(y_train, columns=['train'])\n",
    "    df_pred[name] = pd.DataFrame(y_pred, columns=['prediction'])\n",
    "    fusion[name] = pd.concat([y_train, y_test], axis=0)\n",
    "\n",
    "    return df_train[name], df_pred[name], fusion[name], mape[name]\n",
    "\n",
    "\n",
    "\n",
    "prevision(x_BTC, 'btc')\n",
    "df_train['btc']"
   ]
  },
  {
   "cell_type": "markdown",
   "metadata": {},
   "source": [
    "GRAPHIQUES prévision "
   ]
  },
  {
   "cell_type": "markdown",
   "metadata": {},
   "source": []
  },
  {
   "cell_type": "code",
   "execution_count": 301,
   "metadata": {},
   "outputs": [
    {
     "data": {
      "application/vnd.plotly.v1+json": {
       "config": {
        "plotlyServerURL": "https://plot.ly"
       },
       "data": [
        {
         "line": {
          "color": "blue"
         },
         "mode": "lines",
         "name": "cours",
         "type": "scatter",
         "x": [
          "2024-11-15T15:30:00.000000000",
          "2024-11-15T16:00:00.000000000",
          "2024-11-15T16:30:00.000000000",
          "2024-11-15T17:00:00.000000000",
          "2024-11-15T17:30:00.000000000",
          "2024-11-15T18:00:00.000000000",
          "2024-11-15T18:30:00.000000000",
          "2024-11-15T19:00:00.000000000",
          "2024-11-15T19:30:00.000000000",
          "2024-11-15T20:00:00.000000000",
          "2024-11-15T20:30:00.000000000",
          "2024-11-15T21:00:00.000000000",
          "2024-11-15T21:30:00.000000000",
          "2024-11-15T22:00:00.000000000",
          "2024-11-15T22:30:00.000000000",
          "2024-11-15T23:00:00.000000000",
          "2024-11-15T23:30:00.000000000",
          "2024-11-16T00:00:00.000000000",
          "2024-11-16T00:30:00.000000000",
          "2024-11-16T01:00:00.000000000",
          "2024-11-16T01:30:00.000000000",
          "2024-11-16T02:00:00.000000000",
          "2024-11-16T02:30:00.000000000",
          "2024-11-16T03:00:00.000000000",
          "2024-11-16T03:30:00.000000000",
          "2024-11-16T04:00:00.000000000",
          "2024-11-16T04:30:00.000000000",
          "2024-11-16T05:00:00.000000000",
          "2024-11-16T05:30:00.000000000",
          "2024-11-16T06:00:00.000000000",
          "2024-11-16T06:30:00.000000000",
          "2024-11-16T07:00:00.000000000",
          "2024-11-16T07:30:00.000000000",
          "2024-11-16T08:00:00.000000000",
          "2024-11-16T08:30:00.000000000",
          "2024-11-16T09:00:00.000000000",
          "2024-11-16T09:30:00.000000000",
          "2024-11-16T10:00:00.000000000",
          "2024-11-16T10:30:00.000000000",
          "2024-11-16T11:00:00.000000000",
          "2024-11-16T11:30:00.000000000",
          "2024-11-16T12:00:00.000000000",
          "2024-11-16T12:30:00.000000000",
          "2024-11-16T13:00:00.000000000",
          "2024-11-16T13:30:00.000000000",
          "2024-11-16T14:00:00.000000000",
          "2024-11-16T14:30:00.000000000",
          "2024-11-16T15:00:00.000000000"
         ],
         "y": [
          89092,
          88187,
          88433,
          89552,
          89360,
          89512,
          89517,
          89802,
          89401,
          89730,
          90478,
          90963,
          91416,
          91350,
          91750,
          91216,
          91239,
          91269,
          91059,
          90895,
          91000,
          91451,
          91269,
          91691,
          91454,
          91388,
          91361,
          91191,
          91312,
          91583,
          91375,
          91436,
          91223,
          91362,
          91151,
          91456,
          91425,
          91279,
          91269,
          91439,
          91430,
          91197,
          91205,
          90807,
          90907,
          90954,
          90726,
          91091
         ]
        },
        {
         "line": {
          "color": "red"
         },
         "mode": "lines",
         "name": "prévision",
         "type": "scatter",
         "x": [
          "2024-11-16T15:00:00.000000000",
          "2024-11-16T15:30:00.000000000",
          "2024-11-16T16:00:00.000000000",
          "2024-11-16T16:30:00.000000000",
          "2024-11-16T17:00:00.000000000",
          "2024-11-16T17:30:00.000000000",
          "2024-11-16T18:00:00.000000000",
          "2024-11-16T18:30:00.000000000",
          "2024-11-16T19:00:00.000000000",
          "2024-11-16T19:30:00.000000000"
         ],
         "y": [
          90761.3807368029,
          91006.01124897202,
          91005.53602923302,
          91005.060809494,
          91004.58558975498,
          91004.11037001596,
          91003.63515027695,
          91003.15993053793,
          91002.68471079892,
          91002.2094910599
         ]
        }
       ],
       "layout": {
        "hovermode": "x unified",
        "legend": {
         "x": 0,
         "y": 1
        },
        "template": {
         "data": {
          "bar": [
           {
            "error_x": {
             "color": "#2a3f5f"
            },
            "error_y": {
             "color": "#2a3f5f"
            },
            "marker": {
             "line": {
              "color": "white",
              "width": 0.5
             },
             "pattern": {
              "fillmode": "overlay",
              "size": 10,
              "solidity": 0.2
             }
            },
            "type": "bar"
           }
          ],
          "barpolar": [
           {
            "marker": {
             "line": {
              "color": "white",
              "width": 0.5
             },
             "pattern": {
              "fillmode": "overlay",
              "size": 10,
              "solidity": 0.2
             }
            },
            "type": "barpolar"
           }
          ],
          "carpet": [
           {
            "aaxis": {
             "endlinecolor": "#2a3f5f",
             "gridcolor": "#C8D4E3",
             "linecolor": "#C8D4E3",
             "minorgridcolor": "#C8D4E3",
             "startlinecolor": "#2a3f5f"
            },
            "baxis": {
             "endlinecolor": "#2a3f5f",
             "gridcolor": "#C8D4E3",
             "linecolor": "#C8D4E3",
             "minorgridcolor": "#C8D4E3",
             "startlinecolor": "#2a3f5f"
            },
            "type": "carpet"
           }
          ],
          "choropleth": [
           {
            "colorbar": {
             "outlinewidth": 0,
             "ticks": ""
            },
            "type": "choropleth"
           }
          ],
          "contour": [
           {
            "colorbar": {
             "outlinewidth": 0,
             "ticks": ""
            },
            "colorscale": [
             [
              0,
              "#0d0887"
             ],
             [
              0.1111111111111111,
              "#46039f"
             ],
             [
              0.2222222222222222,
              "#7201a8"
             ],
             [
              0.3333333333333333,
              "#9c179e"
             ],
             [
              0.4444444444444444,
              "#bd3786"
             ],
             [
              0.5555555555555556,
              "#d8576b"
             ],
             [
              0.6666666666666666,
              "#ed7953"
             ],
             [
              0.7777777777777778,
              "#fb9f3a"
             ],
             [
              0.8888888888888888,
              "#fdca26"
             ],
             [
              1,
              "#f0f921"
             ]
            ],
            "type": "contour"
           }
          ],
          "contourcarpet": [
           {
            "colorbar": {
             "outlinewidth": 0,
             "ticks": ""
            },
            "type": "contourcarpet"
           }
          ],
          "heatmap": [
           {
            "colorbar": {
             "outlinewidth": 0,
             "ticks": ""
            },
            "colorscale": [
             [
              0,
              "#0d0887"
             ],
             [
              0.1111111111111111,
              "#46039f"
             ],
             [
              0.2222222222222222,
              "#7201a8"
             ],
             [
              0.3333333333333333,
              "#9c179e"
             ],
             [
              0.4444444444444444,
              "#bd3786"
             ],
             [
              0.5555555555555556,
              "#d8576b"
             ],
             [
              0.6666666666666666,
              "#ed7953"
             ],
             [
              0.7777777777777778,
              "#fb9f3a"
             ],
             [
              0.8888888888888888,
              "#fdca26"
             ],
             [
              1,
              "#f0f921"
             ]
            ],
            "type": "heatmap"
           }
          ],
          "heatmapgl": [
           {
            "colorbar": {
             "outlinewidth": 0,
             "ticks": ""
            },
            "colorscale": [
             [
              0,
              "#0d0887"
             ],
             [
              0.1111111111111111,
              "#46039f"
             ],
             [
              0.2222222222222222,
              "#7201a8"
             ],
             [
              0.3333333333333333,
              "#9c179e"
             ],
             [
              0.4444444444444444,
              "#bd3786"
             ],
             [
              0.5555555555555556,
              "#d8576b"
             ],
             [
              0.6666666666666666,
              "#ed7953"
             ],
             [
              0.7777777777777778,
              "#fb9f3a"
             ],
             [
              0.8888888888888888,
              "#fdca26"
             ],
             [
              1,
              "#f0f921"
             ]
            ],
            "type": "heatmapgl"
           }
          ],
          "histogram": [
           {
            "marker": {
             "pattern": {
              "fillmode": "overlay",
              "size": 10,
              "solidity": 0.2
             }
            },
            "type": "histogram"
           }
          ],
          "histogram2d": [
           {
            "colorbar": {
             "outlinewidth": 0,
             "ticks": ""
            },
            "colorscale": [
             [
              0,
              "#0d0887"
             ],
             [
              0.1111111111111111,
              "#46039f"
             ],
             [
              0.2222222222222222,
              "#7201a8"
             ],
             [
              0.3333333333333333,
              "#9c179e"
             ],
             [
              0.4444444444444444,
              "#bd3786"
             ],
             [
              0.5555555555555556,
              "#d8576b"
             ],
             [
              0.6666666666666666,
              "#ed7953"
             ],
             [
              0.7777777777777778,
              "#fb9f3a"
             ],
             [
              0.8888888888888888,
              "#fdca26"
             ],
             [
              1,
              "#f0f921"
             ]
            ],
            "type": "histogram2d"
           }
          ],
          "histogram2dcontour": [
           {
            "colorbar": {
             "outlinewidth": 0,
             "ticks": ""
            },
            "colorscale": [
             [
              0,
              "#0d0887"
             ],
             [
              0.1111111111111111,
              "#46039f"
             ],
             [
              0.2222222222222222,
              "#7201a8"
             ],
             [
              0.3333333333333333,
              "#9c179e"
             ],
             [
              0.4444444444444444,
              "#bd3786"
             ],
             [
              0.5555555555555556,
              "#d8576b"
             ],
             [
              0.6666666666666666,
              "#ed7953"
             ],
             [
              0.7777777777777778,
              "#fb9f3a"
             ],
             [
              0.8888888888888888,
              "#fdca26"
             ],
             [
              1,
              "#f0f921"
             ]
            ],
            "type": "histogram2dcontour"
           }
          ],
          "mesh3d": [
           {
            "colorbar": {
             "outlinewidth": 0,
             "ticks": ""
            },
            "type": "mesh3d"
           }
          ],
          "parcoords": [
           {
            "line": {
             "colorbar": {
              "outlinewidth": 0,
              "ticks": ""
             }
            },
            "type": "parcoords"
           }
          ],
          "pie": [
           {
            "automargin": true,
            "type": "pie"
           }
          ],
          "scatter": [
           {
            "fillpattern": {
             "fillmode": "overlay",
             "size": 10,
             "solidity": 0.2
            },
            "type": "scatter"
           }
          ],
          "scatter3d": [
           {
            "line": {
             "colorbar": {
              "outlinewidth": 0,
              "ticks": ""
             }
            },
            "marker": {
             "colorbar": {
              "outlinewidth": 0,
              "ticks": ""
             }
            },
            "type": "scatter3d"
           }
          ],
          "scattercarpet": [
           {
            "marker": {
             "colorbar": {
              "outlinewidth": 0,
              "ticks": ""
             }
            },
            "type": "scattercarpet"
           }
          ],
          "scattergeo": [
           {
            "marker": {
             "colorbar": {
              "outlinewidth": 0,
              "ticks": ""
             }
            },
            "type": "scattergeo"
           }
          ],
          "scattergl": [
           {
            "marker": {
             "colorbar": {
              "outlinewidth": 0,
              "ticks": ""
             }
            },
            "type": "scattergl"
           }
          ],
          "scattermapbox": [
           {
            "marker": {
             "colorbar": {
              "outlinewidth": 0,
              "ticks": ""
             }
            },
            "type": "scattermapbox"
           }
          ],
          "scatterpolar": [
           {
            "marker": {
             "colorbar": {
              "outlinewidth": 0,
              "ticks": ""
             }
            },
            "type": "scatterpolar"
           }
          ],
          "scatterpolargl": [
           {
            "marker": {
             "colorbar": {
              "outlinewidth": 0,
              "ticks": ""
             }
            },
            "type": "scatterpolargl"
           }
          ],
          "scatterternary": [
           {
            "marker": {
             "colorbar": {
              "outlinewidth": 0,
              "ticks": ""
             }
            },
            "type": "scatterternary"
           }
          ],
          "surface": [
           {
            "colorbar": {
             "outlinewidth": 0,
             "ticks": ""
            },
            "colorscale": [
             [
              0,
              "#0d0887"
             ],
             [
              0.1111111111111111,
              "#46039f"
             ],
             [
              0.2222222222222222,
              "#7201a8"
             ],
             [
              0.3333333333333333,
              "#9c179e"
             ],
             [
              0.4444444444444444,
              "#bd3786"
             ],
             [
              0.5555555555555556,
              "#d8576b"
             ],
             [
              0.6666666666666666,
              "#ed7953"
             ],
             [
              0.7777777777777778,
              "#fb9f3a"
             ],
             [
              0.8888888888888888,
              "#fdca26"
             ],
             [
              1,
              "#f0f921"
             ]
            ],
            "type": "surface"
           }
          ],
          "table": [
           {
            "cells": {
             "fill": {
              "color": "#EBF0F8"
             },
             "line": {
              "color": "white"
             }
            },
            "header": {
             "fill": {
              "color": "#C8D4E3"
             },
             "line": {
              "color": "white"
             }
            },
            "type": "table"
           }
          ]
         },
         "layout": {
          "annotationdefaults": {
           "arrowcolor": "#2a3f5f",
           "arrowhead": 0,
           "arrowwidth": 1
          },
          "autotypenumbers": "strict",
          "coloraxis": {
           "colorbar": {
            "outlinewidth": 0,
            "ticks": ""
           }
          },
          "colorscale": {
           "diverging": [
            [
             0,
             "#8e0152"
            ],
            [
             0.1,
             "#c51b7d"
            ],
            [
             0.2,
             "#de77ae"
            ],
            [
             0.3,
             "#f1b6da"
            ],
            [
             0.4,
             "#fde0ef"
            ],
            [
             0.5,
             "#f7f7f7"
            ],
            [
             0.6,
             "#e6f5d0"
            ],
            [
             0.7,
             "#b8e186"
            ],
            [
             0.8,
             "#7fbc41"
            ],
            [
             0.9,
             "#4d9221"
            ],
            [
             1,
             "#276419"
            ]
           ],
           "sequential": [
            [
             0,
             "#0d0887"
            ],
            [
             0.1111111111111111,
             "#46039f"
            ],
            [
             0.2222222222222222,
             "#7201a8"
            ],
            [
             0.3333333333333333,
             "#9c179e"
            ],
            [
             0.4444444444444444,
             "#bd3786"
            ],
            [
             0.5555555555555556,
             "#d8576b"
            ],
            [
             0.6666666666666666,
             "#ed7953"
            ],
            [
             0.7777777777777778,
             "#fb9f3a"
            ],
            [
             0.8888888888888888,
             "#fdca26"
            ],
            [
             1,
             "#f0f921"
            ]
           ],
           "sequentialminus": [
            [
             0,
             "#0d0887"
            ],
            [
             0.1111111111111111,
             "#46039f"
            ],
            [
             0.2222222222222222,
             "#7201a8"
            ],
            [
             0.3333333333333333,
             "#9c179e"
            ],
            [
             0.4444444444444444,
             "#bd3786"
            ],
            [
             0.5555555555555556,
             "#d8576b"
            ],
            [
             0.6666666666666666,
             "#ed7953"
            ],
            [
             0.7777777777777778,
             "#fb9f3a"
            ],
            [
             0.8888888888888888,
             "#fdca26"
            ],
            [
             1,
             "#f0f921"
            ]
           ]
          },
          "colorway": [
           "#636efa",
           "#EF553B",
           "#00cc96",
           "#ab63fa",
           "#FFA15A",
           "#19d3f3",
           "#FF6692",
           "#B6E880",
           "#FF97FF",
           "#FECB52"
          ],
          "font": {
           "color": "#2a3f5f"
          },
          "geo": {
           "bgcolor": "white",
           "lakecolor": "white",
           "landcolor": "white",
           "showlakes": true,
           "showland": true,
           "subunitcolor": "#C8D4E3"
          },
          "hoverlabel": {
           "align": "left"
          },
          "hovermode": "closest",
          "mapbox": {
           "style": "light"
          },
          "paper_bgcolor": "white",
          "plot_bgcolor": "white",
          "polar": {
           "angularaxis": {
            "gridcolor": "#EBF0F8",
            "linecolor": "#EBF0F8",
            "ticks": ""
           },
           "bgcolor": "white",
           "radialaxis": {
            "gridcolor": "#EBF0F8",
            "linecolor": "#EBF0F8",
            "ticks": ""
           }
          },
          "scene": {
           "xaxis": {
            "backgroundcolor": "white",
            "gridcolor": "#DFE8F3",
            "gridwidth": 2,
            "linecolor": "#EBF0F8",
            "showbackground": true,
            "ticks": "",
            "zerolinecolor": "#EBF0F8"
           },
           "yaxis": {
            "backgroundcolor": "white",
            "gridcolor": "#DFE8F3",
            "gridwidth": 2,
            "linecolor": "#EBF0F8",
            "showbackground": true,
            "ticks": "",
            "zerolinecolor": "#EBF0F8"
           },
           "zaxis": {
            "backgroundcolor": "white",
            "gridcolor": "#DFE8F3",
            "gridwidth": 2,
            "linecolor": "#EBF0F8",
            "showbackground": true,
            "ticks": "",
            "zerolinecolor": "#EBF0F8"
           }
          },
          "shapedefaults": {
           "line": {
            "color": "#2a3f5f"
           }
          },
          "ternary": {
           "aaxis": {
            "gridcolor": "#DFE8F3",
            "linecolor": "#A2B1C6",
            "ticks": ""
           },
           "baxis": {
            "gridcolor": "#DFE8F3",
            "linecolor": "#A2B1C6",
            "ticks": ""
           },
           "bgcolor": "white",
           "caxis": {
            "gridcolor": "#DFE8F3",
            "linecolor": "#A2B1C6",
            "ticks": ""
           }
          },
          "title": {
           "x": 0.05
          },
          "xaxis": {
           "automargin": true,
           "gridcolor": "#EBF0F8",
           "linecolor": "#EBF0F8",
           "ticks": "",
           "title": {
            "standoff": 15
           },
           "zerolinecolor": "#EBF0F8",
           "zerolinewidth": 2
          },
          "yaxis": {
           "automargin": true,
           "gridcolor": "#EBF0F8",
           "linecolor": "#EBF0F8",
           "ticks": "",
           "title": {
            "standoff": 15
           },
           "zerolinecolor": "#EBF0F8",
           "zerolinewidth": 2
          }
         }
        },
        "title": {
         "text": "Pévisions "
        },
        "xaxis": {
         "title": {
          "text": "Temps"
         }
        },
        "yaxis": {
         "title": {
          "text": "prix (usd)"
         }
        }
       }
      }
     },
     "metadata": {},
     "output_type": "display_data"
    },
    {
     "data": {
      "application/vnd.plotly.v1+json": {
       "config": {
        "plotlyServerURL": "https://plot.ly"
       },
       "data": [
        {
         "line": {
          "color": "blue"
         },
         "mode": "lines",
         "name": "cours",
         "type": "scatter",
         "x": [
          "2024-11-15T15:30:00.000000000",
          "2024-11-15T16:00:00.000000000",
          "2024-11-15T16:30:00.000000000",
          "2024-11-15T17:00:00.000000000",
          "2024-11-15T17:30:00.000000000",
          "2024-11-15T18:00:00.000000000",
          "2024-11-15T18:30:00.000000000",
          "2024-11-15T19:00:00.000000000",
          "2024-11-15T19:30:00.000000000",
          "2024-11-15T20:00:00.000000000",
          "2024-11-15T20:30:00.000000000",
          "2024-11-15T21:00:00.000000000",
          "2024-11-15T21:30:00.000000000",
          "2024-11-15T22:00:00.000000000",
          "2024-11-15T22:30:00.000000000",
          "2024-11-15T23:00:00.000000000",
          "2024-11-15T23:30:00.000000000",
          "2024-11-16T00:00:00.000000000",
          "2024-11-16T00:30:00.000000000",
          "2024-11-16T01:00:00.000000000",
          "2024-11-16T01:30:00.000000000",
          "2024-11-16T02:00:00.000000000",
          "2024-11-16T02:30:00.000000000",
          "2024-11-16T03:00:00.000000000",
          "2024-11-16T03:30:00.000000000",
          "2024-11-16T04:00:00.000000000",
          "2024-11-16T04:30:00.000000000",
          "2024-11-16T05:00:00.000000000",
          "2024-11-16T05:30:00.000000000",
          "2024-11-16T06:00:00.000000000",
          "2024-11-16T06:30:00.000000000",
          "2024-11-16T07:00:00.000000000",
          "2024-11-16T07:30:00.000000000",
          "2024-11-16T08:00:00.000000000",
          "2024-11-16T08:30:00.000000000",
          "2024-11-16T09:00:00.000000000",
          "2024-11-16T09:30:00.000000000",
          "2024-11-16T10:00:00.000000000",
          "2024-11-16T10:30:00.000000000",
          "2024-11-16T11:00:00.000000000",
          "2024-11-16T11:30:00.000000000",
          "2024-11-16T12:00:00.000000000",
          "2024-11-16T12:30:00.000000000",
          "2024-11-16T13:00:00.000000000",
          "2024-11-16T13:30:00.000000000",
          "2024-11-16T14:00:00.000000000",
          "2024-11-16T14:30:00.000000000",
          "2024-11-16T15:00:00.000000000"
         ],
         "y": [
          3056.27,
          3039.06,
          3026.09,
          3050.05,
          3032,
          3040.58,
          3039.09,
          3035.04,
          3023.22,
          3035.99,
          3046.17,
          3069.48,
          3091.25,
          3092.59,
          3095.57,
          3098.63,
          3101.92,
          3100.89,
          3092.38,
          3073.68,
          3081.02,
          3107.66,
          3100.02,
          3109.89,
          3111.97,
          3126.79,
          3148.09,
          3144.08,
          3134.23,
          3133.25,
          3131.17,
          3127.93,
          3116.23,
          3114.13,
          3108.2,
          3117.96,
          3120.9,
          3115.13,
          3118.97,
          3125.72,
          3127.12,
          3143.59,
          3185.33,
          3190.87,
          3175.63,
          3179.95,
          3167.89,
          3175.68
         ]
        },
        {
         "line": {
          "color": "red"
         },
         "mode": "lines",
         "name": "prévision",
         "type": "scatter",
         "x": [
          "2024-11-16T15:00:00.000000000",
          "2024-11-16T15:30:00.000000000",
          "2024-11-16T16:00:00.000000000",
          "2024-11-16T16:30:00.000000000",
          "2024-11-16T17:00:00.000000000",
          "2024-11-16T17:30:00.000000000",
          "2024-11-16T18:00:00.000000000",
          "2024-11-16T18:30:00.000000000",
          "2024-11-16T19:00:00.000000000",
          "2024-11-16T19:30:00.000000000"
         ],
         "y": [
          3170.430556805636,
          3178.220556509848,
          3180.761113097919,
          3183.30166968599,
          3185.842226274061,
          3188.382782862132,
          3190.923339450203,
          3193.463896038274,
          3196.004452626345,
          3198.545009214416
         ]
        }
       ],
       "layout": {
        "hovermode": "x unified",
        "legend": {
         "x": 0,
         "y": 1
        },
        "template": {
         "data": {
          "bar": [
           {
            "error_x": {
             "color": "#2a3f5f"
            },
            "error_y": {
             "color": "#2a3f5f"
            },
            "marker": {
             "line": {
              "color": "white",
              "width": 0.5
             },
             "pattern": {
              "fillmode": "overlay",
              "size": 10,
              "solidity": 0.2
             }
            },
            "type": "bar"
           }
          ],
          "barpolar": [
           {
            "marker": {
             "line": {
              "color": "white",
              "width": 0.5
             },
             "pattern": {
              "fillmode": "overlay",
              "size": 10,
              "solidity": 0.2
             }
            },
            "type": "barpolar"
           }
          ],
          "carpet": [
           {
            "aaxis": {
             "endlinecolor": "#2a3f5f",
             "gridcolor": "#C8D4E3",
             "linecolor": "#C8D4E3",
             "minorgridcolor": "#C8D4E3",
             "startlinecolor": "#2a3f5f"
            },
            "baxis": {
             "endlinecolor": "#2a3f5f",
             "gridcolor": "#C8D4E3",
             "linecolor": "#C8D4E3",
             "minorgridcolor": "#C8D4E3",
             "startlinecolor": "#2a3f5f"
            },
            "type": "carpet"
           }
          ],
          "choropleth": [
           {
            "colorbar": {
             "outlinewidth": 0,
             "ticks": ""
            },
            "type": "choropleth"
           }
          ],
          "contour": [
           {
            "colorbar": {
             "outlinewidth": 0,
             "ticks": ""
            },
            "colorscale": [
             [
              0,
              "#0d0887"
             ],
             [
              0.1111111111111111,
              "#46039f"
             ],
             [
              0.2222222222222222,
              "#7201a8"
             ],
             [
              0.3333333333333333,
              "#9c179e"
             ],
             [
              0.4444444444444444,
              "#bd3786"
             ],
             [
              0.5555555555555556,
              "#d8576b"
             ],
             [
              0.6666666666666666,
              "#ed7953"
             ],
             [
              0.7777777777777778,
              "#fb9f3a"
             ],
             [
              0.8888888888888888,
              "#fdca26"
             ],
             [
              1,
              "#f0f921"
             ]
            ],
            "type": "contour"
           }
          ],
          "contourcarpet": [
           {
            "colorbar": {
             "outlinewidth": 0,
             "ticks": ""
            },
            "type": "contourcarpet"
           }
          ],
          "heatmap": [
           {
            "colorbar": {
             "outlinewidth": 0,
             "ticks": ""
            },
            "colorscale": [
             [
              0,
              "#0d0887"
             ],
             [
              0.1111111111111111,
              "#46039f"
             ],
             [
              0.2222222222222222,
              "#7201a8"
             ],
             [
              0.3333333333333333,
              "#9c179e"
             ],
             [
              0.4444444444444444,
              "#bd3786"
             ],
             [
              0.5555555555555556,
              "#d8576b"
             ],
             [
              0.6666666666666666,
              "#ed7953"
             ],
             [
              0.7777777777777778,
              "#fb9f3a"
             ],
             [
              0.8888888888888888,
              "#fdca26"
             ],
             [
              1,
              "#f0f921"
             ]
            ],
            "type": "heatmap"
           }
          ],
          "heatmapgl": [
           {
            "colorbar": {
             "outlinewidth": 0,
             "ticks": ""
            },
            "colorscale": [
             [
              0,
              "#0d0887"
             ],
             [
              0.1111111111111111,
              "#46039f"
             ],
             [
              0.2222222222222222,
              "#7201a8"
             ],
             [
              0.3333333333333333,
              "#9c179e"
             ],
             [
              0.4444444444444444,
              "#bd3786"
             ],
             [
              0.5555555555555556,
              "#d8576b"
             ],
             [
              0.6666666666666666,
              "#ed7953"
             ],
             [
              0.7777777777777778,
              "#fb9f3a"
             ],
             [
              0.8888888888888888,
              "#fdca26"
             ],
             [
              1,
              "#f0f921"
             ]
            ],
            "type": "heatmapgl"
           }
          ],
          "histogram": [
           {
            "marker": {
             "pattern": {
              "fillmode": "overlay",
              "size": 10,
              "solidity": 0.2
             }
            },
            "type": "histogram"
           }
          ],
          "histogram2d": [
           {
            "colorbar": {
             "outlinewidth": 0,
             "ticks": ""
            },
            "colorscale": [
             [
              0,
              "#0d0887"
             ],
             [
              0.1111111111111111,
              "#46039f"
             ],
             [
              0.2222222222222222,
              "#7201a8"
             ],
             [
              0.3333333333333333,
              "#9c179e"
             ],
             [
              0.4444444444444444,
              "#bd3786"
             ],
             [
              0.5555555555555556,
              "#d8576b"
             ],
             [
              0.6666666666666666,
              "#ed7953"
             ],
             [
              0.7777777777777778,
              "#fb9f3a"
             ],
             [
              0.8888888888888888,
              "#fdca26"
             ],
             [
              1,
              "#f0f921"
             ]
            ],
            "type": "histogram2d"
           }
          ],
          "histogram2dcontour": [
           {
            "colorbar": {
             "outlinewidth": 0,
             "ticks": ""
            },
            "colorscale": [
             [
              0,
              "#0d0887"
             ],
             [
              0.1111111111111111,
              "#46039f"
             ],
             [
              0.2222222222222222,
              "#7201a8"
             ],
             [
              0.3333333333333333,
              "#9c179e"
             ],
             [
              0.4444444444444444,
              "#bd3786"
             ],
             [
              0.5555555555555556,
              "#d8576b"
             ],
             [
              0.6666666666666666,
              "#ed7953"
             ],
             [
              0.7777777777777778,
              "#fb9f3a"
             ],
             [
              0.8888888888888888,
              "#fdca26"
             ],
             [
              1,
              "#f0f921"
             ]
            ],
            "type": "histogram2dcontour"
           }
          ],
          "mesh3d": [
           {
            "colorbar": {
             "outlinewidth": 0,
             "ticks": ""
            },
            "type": "mesh3d"
           }
          ],
          "parcoords": [
           {
            "line": {
             "colorbar": {
              "outlinewidth": 0,
              "ticks": ""
             }
            },
            "type": "parcoords"
           }
          ],
          "pie": [
           {
            "automargin": true,
            "type": "pie"
           }
          ],
          "scatter": [
           {
            "fillpattern": {
             "fillmode": "overlay",
             "size": 10,
             "solidity": 0.2
            },
            "type": "scatter"
           }
          ],
          "scatter3d": [
           {
            "line": {
             "colorbar": {
              "outlinewidth": 0,
              "ticks": ""
             }
            },
            "marker": {
             "colorbar": {
              "outlinewidth": 0,
              "ticks": ""
             }
            },
            "type": "scatter3d"
           }
          ],
          "scattercarpet": [
           {
            "marker": {
             "colorbar": {
              "outlinewidth": 0,
              "ticks": ""
             }
            },
            "type": "scattercarpet"
           }
          ],
          "scattergeo": [
           {
            "marker": {
             "colorbar": {
              "outlinewidth": 0,
              "ticks": ""
             }
            },
            "type": "scattergeo"
           }
          ],
          "scattergl": [
           {
            "marker": {
             "colorbar": {
              "outlinewidth": 0,
              "ticks": ""
             }
            },
            "type": "scattergl"
           }
          ],
          "scattermapbox": [
           {
            "marker": {
             "colorbar": {
              "outlinewidth": 0,
              "ticks": ""
             }
            },
            "type": "scattermapbox"
           }
          ],
          "scatterpolar": [
           {
            "marker": {
             "colorbar": {
              "outlinewidth": 0,
              "ticks": ""
             }
            },
            "type": "scatterpolar"
           }
          ],
          "scatterpolargl": [
           {
            "marker": {
             "colorbar": {
              "outlinewidth": 0,
              "ticks": ""
             }
            },
            "type": "scatterpolargl"
           }
          ],
          "scatterternary": [
           {
            "marker": {
             "colorbar": {
              "outlinewidth": 0,
              "ticks": ""
             }
            },
            "type": "scatterternary"
           }
          ],
          "surface": [
           {
            "colorbar": {
             "outlinewidth": 0,
             "ticks": ""
            },
            "colorscale": [
             [
              0,
              "#0d0887"
             ],
             [
              0.1111111111111111,
              "#46039f"
             ],
             [
              0.2222222222222222,
              "#7201a8"
             ],
             [
              0.3333333333333333,
              "#9c179e"
             ],
             [
              0.4444444444444444,
              "#bd3786"
             ],
             [
              0.5555555555555556,
              "#d8576b"
             ],
             [
              0.6666666666666666,
              "#ed7953"
             ],
             [
              0.7777777777777778,
              "#fb9f3a"
             ],
             [
              0.8888888888888888,
              "#fdca26"
             ],
             [
              1,
              "#f0f921"
             ]
            ],
            "type": "surface"
           }
          ],
          "table": [
           {
            "cells": {
             "fill": {
              "color": "#EBF0F8"
             },
             "line": {
              "color": "white"
             }
            },
            "header": {
             "fill": {
              "color": "#C8D4E3"
             },
             "line": {
              "color": "white"
             }
            },
            "type": "table"
           }
          ]
         },
         "layout": {
          "annotationdefaults": {
           "arrowcolor": "#2a3f5f",
           "arrowhead": 0,
           "arrowwidth": 1
          },
          "autotypenumbers": "strict",
          "coloraxis": {
           "colorbar": {
            "outlinewidth": 0,
            "ticks": ""
           }
          },
          "colorscale": {
           "diverging": [
            [
             0,
             "#8e0152"
            ],
            [
             0.1,
             "#c51b7d"
            ],
            [
             0.2,
             "#de77ae"
            ],
            [
             0.3,
             "#f1b6da"
            ],
            [
             0.4,
             "#fde0ef"
            ],
            [
             0.5,
             "#f7f7f7"
            ],
            [
             0.6,
             "#e6f5d0"
            ],
            [
             0.7,
             "#b8e186"
            ],
            [
             0.8,
             "#7fbc41"
            ],
            [
             0.9,
             "#4d9221"
            ],
            [
             1,
             "#276419"
            ]
           ],
           "sequential": [
            [
             0,
             "#0d0887"
            ],
            [
             0.1111111111111111,
             "#46039f"
            ],
            [
             0.2222222222222222,
             "#7201a8"
            ],
            [
             0.3333333333333333,
             "#9c179e"
            ],
            [
             0.4444444444444444,
             "#bd3786"
            ],
            [
             0.5555555555555556,
             "#d8576b"
            ],
            [
             0.6666666666666666,
             "#ed7953"
            ],
            [
             0.7777777777777778,
             "#fb9f3a"
            ],
            [
             0.8888888888888888,
             "#fdca26"
            ],
            [
             1,
             "#f0f921"
            ]
           ],
           "sequentialminus": [
            [
             0,
             "#0d0887"
            ],
            [
             0.1111111111111111,
             "#46039f"
            ],
            [
             0.2222222222222222,
             "#7201a8"
            ],
            [
             0.3333333333333333,
             "#9c179e"
            ],
            [
             0.4444444444444444,
             "#bd3786"
            ],
            [
             0.5555555555555556,
             "#d8576b"
            ],
            [
             0.6666666666666666,
             "#ed7953"
            ],
            [
             0.7777777777777778,
             "#fb9f3a"
            ],
            [
             0.8888888888888888,
             "#fdca26"
            ],
            [
             1,
             "#f0f921"
            ]
           ]
          },
          "colorway": [
           "#636efa",
           "#EF553B",
           "#00cc96",
           "#ab63fa",
           "#FFA15A",
           "#19d3f3",
           "#FF6692",
           "#B6E880",
           "#FF97FF",
           "#FECB52"
          ],
          "font": {
           "color": "#2a3f5f"
          },
          "geo": {
           "bgcolor": "white",
           "lakecolor": "white",
           "landcolor": "white",
           "showlakes": true,
           "showland": true,
           "subunitcolor": "#C8D4E3"
          },
          "hoverlabel": {
           "align": "left"
          },
          "hovermode": "closest",
          "mapbox": {
           "style": "light"
          },
          "paper_bgcolor": "white",
          "plot_bgcolor": "white",
          "polar": {
           "angularaxis": {
            "gridcolor": "#EBF0F8",
            "linecolor": "#EBF0F8",
            "ticks": ""
           },
           "bgcolor": "white",
           "radialaxis": {
            "gridcolor": "#EBF0F8",
            "linecolor": "#EBF0F8",
            "ticks": ""
           }
          },
          "scene": {
           "xaxis": {
            "backgroundcolor": "white",
            "gridcolor": "#DFE8F3",
            "gridwidth": 2,
            "linecolor": "#EBF0F8",
            "showbackground": true,
            "ticks": "",
            "zerolinecolor": "#EBF0F8"
           },
           "yaxis": {
            "backgroundcolor": "white",
            "gridcolor": "#DFE8F3",
            "gridwidth": 2,
            "linecolor": "#EBF0F8",
            "showbackground": true,
            "ticks": "",
            "zerolinecolor": "#EBF0F8"
           },
           "zaxis": {
            "backgroundcolor": "white",
            "gridcolor": "#DFE8F3",
            "gridwidth": 2,
            "linecolor": "#EBF0F8",
            "showbackground": true,
            "ticks": "",
            "zerolinecolor": "#EBF0F8"
           }
          },
          "shapedefaults": {
           "line": {
            "color": "#2a3f5f"
           }
          },
          "ternary": {
           "aaxis": {
            "gridcolor": "#DFE8F3",
            "linecolor": "#A2B1C6",
            "ticks": ""
           },
           "baxis": {
            "gridcolor": "#DFE8F3",
            "linecolor": "#A2B1C6",
            "ticks": ""
           },
           "bgcolor": "white",
           "caxis": {
            "gridcolor": "#DFE8F3",
            "linecolor": "#A2B1C6",
            "ticks": ""
           }
          },
          "title": {
           "x": 0.05
          },
          "xaxis": {
           "automargin": true,
           "gridcolor": "#EBF0F8",
           "linecolor": "#EBF0F8",
           "ticks": "",
           "title": {
            "standoff": 15
           },
           "zerolinecolor": "#EBF0F8",
           "zerolinewidth": 2
          },
          "yaxis": {
           "automargin": true,
           "gridcolor": "#EBF0F8",
           "linecolor": "#EBF0F8",
           "ticks": "",
           "title": {
            "standoff": 15
           },
           "zerolinecolor": "#EBF0F8",
           "zerolinewidth": 2
          }
         }
        },
        "title": {
         "text": "Pévisions "
        },
        "xaxis": {
         "title": {
          "text": "Temps"
         }
        },
        "yaxis": {
         "title": {
          "text": "prix (usd)"
         }
        }
       }
      }
     },
     "metadata": {},
     "output_type": "display_data"
    },
    {
     "data": {
      "application/vnd.plotly.v1+json": {
       "config": {
        "plotlyServerURL": "https://plot.ly"
       },
       "data": [
        {
         "line": {
          "color": "blue"
         },
         "mode": "lines",
         "name": "cours",
         "type": "scatter",
         "x": [
          "2024-11-15T16:00:00.000000000",
          "2024-11-15T16:30:00.000000000",
          "2024-11-15T17:00:00.000000000",
          "2024-11-15T17:30:00.000000000",
          "2024-11-15T18:00:00.000000000",
          "2024-11-15T18:30:00.000000000",
          "2024-11-15T19:00:00.000000000",
          "2024-11-15T19:30:00.000000000",
          "2024-11-15T20:00:00.000000000",
          "2024-11-15T20:30:00.000000000",
          "2024-11-15T21:00:00.000000000",
          "2024-11-15T21:30:00.000000000",
          "2024-11-15T22:00:00.000000000",
          "2024-11-15T22:30:00.000000000",
          "2024-11-15T23:00:00.000000000",
          "2024-11-15T23:30:00.000000000",
          "2024-11-16T00:00:00.000000000",
          "2024-11-16T00:30:00.000000000",
          "2024-11-16T01:00:00.000000000",
          "2024-11-16T01:30:00.000000000",
          "2024-11-16T02:00:00.000000000",
          "2024-11-16T02:30:00.000000000",
          "2024-11-16T03:00:00.000000000",
          "2024-11-16T03:30:00.000000000",
          "2024-11-16T04:00:00.000000000",
          "2024-11-16T04:30:00.000000000",
          "2024-11-16T05:00:00.000000000",
          "2024-11-16T05:30:00.000000000",
          "2024-11-16T06:00:00.000000000",
          "2024-11-16T06:30:00.000000000",
          "2024-11-16T07:00:00.000000000",
          "2024-11-16T07:30:00.000000000",
          "2024-11-16T08:00:00.000000000",
          "2024-11-16T08:30:00.000000000",
          "2024-11-16T09:00:00.000000000",
          "2024-11-16T09:30:00.000000000",
          "2024-11-16T10:00:00.000000000",
          "2024-11-16T10:30:00.000000000",
          "2024-11-16T11:00:00.000000000",
          "2024-11-16T11:30:00.000000000",
          "2024-11-16T12:00:00.000000000",
          "2024-11-16T12:30:00.000000000",
          "2024-11-16T13:00:00.000000000",
          "2024-11-16T13:30:00.000000000",
          "2024-11-16T14:00:00.000000000",
          "2024-11-16T14:30:00.000000000",
          "2024-11-16T15:00:00.000000000",
          "2024-11-16T15:30:00.000000000"
         ],
         "y": [
          607.11,
          606.92,
          613.18,
          612.17,
          611.91,
          612.47,
          612.42,
          611.26,
          613.37,
          612.36,
          616.08,
          618.76,
          618.36,
          618.93,
          617.3,
          618.38,
          618.89,
          619.32,
          618.07,
          619.2,
          621.83,
          620.32,
          621.96,
          620.91,
          622.51,
          624.82,
          624.28,
          622.7,
          624.26,
          624.72,
          625.54,
          623.84,
          624.26,
          623.58,
          624.72,
          623.53,
          622.45,
          622.23,
          624.96,
          625.15,
          625.72,
          628.4,
          627.46,
          625.66,
          626.6,
          624.61,
          629.29,
          628.38
         ]
        },
        {
         "line": {
          "color": "red"
         },
         "mode": "lines",
         "name": "prévision",
         "type": "scatter",
         "x": [
          "2024-11-16T15:30:00.000000000",
          "2024-11-16T16:00:00.000000000",
          "2024-11-16T16:30:00.000000000",
          "2024-11-16T17:00:00.000000000",
          "2024-11-16T17:30:00.000000000",
          "2024-11-16T18:00:00.000000000",
          "2024-11-16T18:30:00.000000000",
          "2024-11-16T19:00:00.000000000",
          "2024-11-16T19:30:00.000000000",
          "2024-11-16T20:00:00.000000000"
         ],
         "y": [
          628.3644837974036,
          628.8100729027752,
          629.2470889049707,
          629.6841049071663,
          630.1211209093618,
          630.5581369115573,
          630.9951529137528,
          631.4321689159483,
          631.8691849181439,
          632.3062009203394
         ]
        }
       ],
       "layout": {
        "hovermode": "x unified",
        "legend": {
         "x": 0,
         "y": 1
        },
        "template": {
         "data": {
          "bar": [
           {
            "error_x": {
             "color": "#2a3f5f"
            },
            "error_y": {
             "color": "#2a3f5f"
            },
            "marker": {
             "line": {
              "color": "white",
              "width": 0.5
             },
             "pattern": {
              "fillmode": "overlay",
              "size": 10,
              "solidity": 0.2
             }
            },
            "type": "bar"
           }
          ],
          "barpolar": [
           {
            "marker": {
             "line": {
              "color": "white",
              "width": 0.5
             },
             "pattern": {
              "fillmode": "overlay",
              "size": 10,
              "solidity": 0.2
             }
            },
            "type": "barpolar"
           }
          ],
          "carpet": [
           {
            "aaxis": {
             "endlinecolor": "#2a3f5f",
             "gridcolor": "#C8D4E3",
             "linecolor": "#C8D4E3",
             "minorgridcolor": "#C8D4E3",
             "startlinecolor": "#2a3f5f"
            },
            "baxis": {
             "endlinecolor": "#2a3f5f",
             "gridcolor": "#C8D4E3",
             "linecolor": "#C8D4E3",
             "minorgridcolor": "#C8D4E3",
             "startlinecolor": "#2a3f5f"
            },
            "type": "carpet"
           }
          ],
          "choropleth": [
           {
            "colorbar": {
             "outlinewidth": 0,
             "ticks": ""
            },
            "type": "choropleth"
           }
          ],
          "contour": [
           {
            "colorbar": {
             "outlinewidth": 0,
             "ticks": ""
            },
            "colorscale": [
             [
              0,
              "#0d0887"
             ],
             [
              0.1111111111111111,
              "#46039f"
             ],
             [
              0.2222222222222222,
              "#7201a8"
             ],
             [
              0.3333333333333333,
              "#9c179e"
             ],
             [
              0.4444444444444444,
              "#bd3786"
             ],
             [
              0.5555555555555556,
              "#d8576b"
             ],
             [
              0.6666666666666666,
              "#ed7953"
             ],
             [
              0.7777777777777778,
              "#fb9f3a"
             ],
             [
              0.8888888888888888,
              "#fdca26"
             ],
             [
              1,
              "#f0f921"
             ]
            ],
            "type": "contour"
           }
          ],
          "contourcarpet": [
           {
            "colorbar": {
             "outlinewidth": 0,
             "ticks": ""
            },
            "type": "contourcarpet"
           }
          ],
          "heatmap": [
           {
            "colorbar": {
             "outlinewidth": 0,
             "ticks": ""
            },
            "colorscale": [
             [
              0,
              "#0d0887"
             ],
             [
              0.1111111111111111,
              "#46039f"
             ],
             [
              0.2222222222222222,
              "#7201a8"
             ],
             [
              0.3333333333333333,
              "#9c179e"
             ],
             [
              0.4444444444444444,
              "#bd3786"
             ],
             [
              0.5555555555555556,
              "#d8576b"
             ],
             [
              0.6666666666666666,
              "#ed7953"
             ],
             [
              0.7777777777777778,
              "#fb9f3a"
             ],
             [
              0.8888888888888888,
              "#fdca26"
             ],
             [
              1,
              "#f0f921"
             ]
            ],
            "type": "heatmap"
           }
          ],
          "heatmapgl": [
           {
            "colorbar": {
             "outlinewidth": 0,
             "ticks": ""
            },
            "colorscale": [
             [
              0,
              "#0d0887"
             ],
             [
              0.1111111111111111,
              "#46039f"
             ],
             [
              0.2222222222222222,
              "#7201a8"
             ],
             [
              0.3333333333333333,
              "#9c179e"
             ],
             [
              0.4444444444444444,
              "#bd3786"
             ],
             [
              0.5555555555555556,
              "#d8576b"
             ],
             [
              0.6666666666666666,
              "#ed7953"
             ],
             [
              0.7777777777777778,
              "#fb9f3a"
             ],
             [
              0.8888888888888888,
              "#fdca26"
             ],
             [
              1,
              "#f0f921"
             ]
            ],
            "type": "heatmapgl"
           }
          ],
          "histogram": [
           {
            "marker": {
             "pattern": {
              "fillmode": "overlay",
              "size": 10,
              "solidity": 0.2
             }
            },
            "type": "histogram"
           }
          ],
          "histogram2d": [
           {
            "colorbar": {
             "outlinewidth": 0,
             "ticks": ""
            },
            "colorscale": [
             [
              0,
              "#0d0887"
             ],
             [
              0.1111111111111111,
              "#46039f"
             ],
             [
              0.2222222222222222,
              "#7201a8"
             ],
             [
              0.3333333333333333,
              "#9c179e"
             ],
             [
              0.4444444444444444,
              "#bd3786"
             ],
             [
              0.5555555555555556,
              "#d8576b"
             ],
             [
              0.6666666666666666,
              "#ed7953"
             ],
             [
              0.7777777777777778,
              "#fb9f3a"
             ],
             [
              0.8888888888888888,
              "#fdca26"
             ],
             [
              1,
              "#f0f921"
             ]
            ],
            "type": "histogram2d"
           }
          ],
          "histogram2dcontour": [
           {
            "colorbar": {
             "outlinewidth": 0,
             "ticks": ""
            },
            "colorscale": [
             [
              0,
              "#0d0887"
             ],
             [
              0.1111111111111111,
              "#46039f"
             ],
             [
              0.2222222222222222,
              "#7201a8"
             ],
             [
              0.3333333333333333,
              "#9c179e"
             ],
             [
              0.4444444444444444,
              "#bd3786"
             ],
             [
              0.5555555555555556,
              "#d8576b"
             ],
             [
              0.6666666666666666,
              "#ed7953"
             ],
             [
              0.7777777777777778,
              "#fb9f3a"
             ],
             [
              0.8888888888888888,
              "#fdca26"
             ],
             [
              1,
              "#f0f921"
             ]
            ],
            "type": "histogram2dcontour"
           }
          ],
          "mesh3d": [
           {
            "colorbar": {
             "outlinewidth": 0,
             "ticks": ""
            },
            "type": "mesh3d"
           }
          ],
          "parcoords": [
           {
            "line": {
             "colorbar": {
              "outlinewidth": 0,
              "ticks": ""
             }
            },
            "type": "parcoords"
           }
          ],
          "pie": [
           {
            "automargin": true,
            "type": "pie"
           }
          ],
          "scatter": [
           {
            "fillpattern": {
             "fillmode": "overlay",
             "size": 10,
             "solidity": 0.2
            },
            "type": "scatter"
           }
          ],
          "scatter3d": [
           {
            "line": {
             "colorbar": {
              "outlinewidth": 0,
              "ticks": ""
             }
            },
            "marker": {
             "colorbar": {
              "outlinewidth": 0,
              "ticks": ""
             }
            },
            "type": "scatter3d"
           }
          ],
          "scattercarpet": [
           {
            "marker": {
             "colorbar": {
              "outlinewidth": 0,
              "ticks": ""
             }
            },
            "type": "scattercarpet"
           }
          ],
          "scattergeo": [
           {
            "marker": {
             "colorbar": {
              "outlinewidth": 0,
              "ticks": ""
             }
            },
            "type": "scattergeo"
           }
          ],
          "scattergl": [
           {
            "marker": {
             "colorbar": {
              "outlinewidth": 0,
              "ticks": ""
             }
            },
            "type": "scattergl"
           }
          ],
          "scattermapbox": [
           {
            "marker": {
             "colorbar": {
              "outlinewidth": 0,
              "ticks": ""
             }
            },
            "type": "scattermapbox"
           }
          ],
          "scatterpolar": [
           {
            "marker": {
             "colorbar": {
              "outlinewidth": 0,
              "ticks": ""
             }
            },
            "type": "scatterpolar"
           }
          ],
          "scatterpolargl": [
           {
            "marker": {
             "colorbar": {
              "outlinewidth": 0,
              "ticks": ""
             }
            },
            "type": "scatterpolargl"
           }
          ],
          "scatterternary": [
           {
            "marker": {
             "colorbar": {
              "outlinewidth": 0,
              "ticks": ""
             }
            },
            "type": "scatterternary"
           }
          ],
          "surface": [
           {
            "colorbar": {
             "outlinewidth": 0,
             "ticks": ""
            },
            "colorscale": [
             [
              0,
              "#0d0887"
             ],
             [
              0.1111111111111111,
              "#46039f"
             ],
             [
              0.2222222222222222,
              "#7201a8"
             ],
             [
              0.3333333333333333,
              "#9c179e"
             ],
             [
              0.4444444444444444,
              "#bd3786"
             ],
             [
              0.5555555555555556,
              "#d8576b"
             ],
             [
              0.6666666666666666,
              "#ed7953"
             ],
             [
              0.7777777777777778,
              "#fb9f3a"
             ],
             [
              0.8888888888888888,
              "#fdca26"
             ],
             [
              1,
              "#f0f921"
             ]
            ],
            "type": "surface"
           }
          ],
          "table": [
           {
            "cells": {
             "fill": {
              "color": "#EBF0F8"
             },
             "line": {
              "color": "white"
             }
            },
            "header": {
             "fill": {
              "color": "#C8D4E3"
             },
             "line": {
              "color": "white"
             }
            },
            "type": "table"
           }
          ]
         },
         "layout": {
          "annotationdefaults": {
           "arrowcolor": "#2a3f5f",
           "arrowhead": 0,
           "arrowwidth": 1
          },
          "autotypenumbers": "strict",
          "coloraxis": {
           "colorbar": {
            "outlinewidth": 0,
            "ticks": ""
           }
          },
          "colorscale": {
           "diverging": [
            [
             0,
             "#8e0152"
            ],
            [
             0.1,
             "#c51b7d"
            ],
            [
             0.2,
             "#de77ae"
            ],
            [
             0.3,
             "#f1b6da"
            ],
            [
             0.4,
             "#fde0ef"
            ],
            [
             0.5,
             "#f7f7f7"
            ],
            [
             0.6,
             "#e6f5d0"
            ],
            [
             0.7,
             "#b8e186"
            ],
            [
             0.8,
             "#7fbc41"
            ],
            [
             0.9,
             "#4d9221"
            ],
            [
             1,
             "#276419"
            ]
           ],
           "sequential": [
            [
             0,
             "#0d0887"
            ],
            [
             0.1111111111111111,
             "#46039f"
            ],
            [
             0.2222222222222222,
             "#7201a8"
            ],
            [
             0.3333333333333333,
             "#9c179e"
            ],
            [
             0.4444444444444444,
             "#bd3786"
            ],
            [
             0.5555555555555556,
             "#d8576b"
            ],
            [
             0.6666666666666666,
             "#ed7953"
            ],
            [
             0.7777777777777778,
             "#fb9f3a"
            ],
            [
             0.8888888888888888,
             "#fdca26"
            ],
            [
             1,
             "#f0f921"
            ]
           ],
           "sequentialminus": [
            [
             0,
             "#0d0887"
            ],
            [
             0.1111111111111111,
             "#46039f"
            ],
            [
             0.2222222222222222,
             "#7201a8"
            ],
            [
             0.3333333333333333,
             "#9c179e"
            ],
            [
             0.4444444444444444,
             "#bd3786"
            ],
            [
             0.5555555555555556,
             "#d8576b"
            ],
            [
             0.6666666666666666,
             "#ed7953"
            ],
            [
             0.7777777777777778,
             "#fb9f3a"
            ],
            [
             0.8888888888888888,
             "#fdca26"
            ],
            [
             1,
             "#f0f921"
            ]
           ]
          },
          "colorway": [
           "#636efa",
           "#EF553B",
           "#00cc96",
           "#ab63fa",
           "#FFA15A",
           "#19d3f3",
           "#FF6692",
           "#B6E880",
           "#FF97FF",
           "#FECB52"
          ],
          "font": {
           "color": "#2a3f5f"
          },
          "geo": {
           "bgcolor": "white",
           "lakecolor": "white",
           "landcolor": "white",
           "showlakes": true,
           "showland": true,
           "subunitcolor": "#C8D4E3"
          },
          "hoverlabel": {
           "align": "left"
          },
          "hovermode": "closest",
          "mapbox": {
           "style": "light"
          },
          "paper_bgcolor": "white",
          "plot_bgcolor": "white",
          "polar": {
           "angularaxis": {
            "gridcolor": "#EBF0F8",
            "linecolor": "#EBF0F8",
            "ticks": ""
           },
           "bgcolor": "white",
           "radialaxis": {
            "gridcolor": "#EBF0F8",
            "linecolor": "#EBF0F8",
            "ticks": ""
           }
          },
          "scene": {
           "xaxis": {
            "backgroundcolor": "white",
            "gridcolor": "#DFE8F3",
            "gridwidth": 2,
            "linecolor": "#EBF0F8",
            "showbackground": true,
            "ticks": "",
            "zerolinecolor": "#EBF0F8"
           },
           "yaxis": {
            "backgroundcolor": "white",
            "gridcolor": "#DFE8F3",
            "gridwidth": 2,
            "linecolor": "#EBF0F8",
            "showbackground": true,
            "ticks": "",
            "zerolinecolor": "#EBF0F8"
           },
           "zaxis": {
            "backgroundcolor": "white",
            "gridcolor": "#DFE8F3",
            "gridwidth": 2,
            "linecolor": "#EBF0F8",
            "showbackground": true,
            "ticks": "",
            "zerolinecolor": "#EBF0F8"
           }
          },
          "shapedefaults": {
           "line": {
            "color": "#2a3f5f"
           }
          },
          "ternary": {
           "aaxis": {
            "gridcolor": "#DFE8F3",
            "linecolor": "#A2B1C6",
            "ticks": ""
           },
           "baxis": {
            "gridcolor": "#DFE8F3",
            "linecolor": "#A2B1C6",
            "ticks": ""
           },
           "bgcolor": "white",
           "caxis": {
            "gridcolor": "#DFE8F3",
            "linecolor": "#A2B1C6",
            "ticks": ""
           }
          },
          "title": {
           "x": 0.05
          },
          "xaxis": {
           "automargin": true,
           "gridcolor": "#EBF0F8",
           "linecolor": "#EBF0F8",
           "ticks": "",
           "title": {
            "standoff": 15
           },
           "zerolinecolor": "#EBF0F8",
           "zerolinewidth": 2
          },
          "yaxis": {
           "automargin": true,
           "gridcolor": "#EBF0F8",
           "linecolor": "#EBF0F8",
           "ticks": "",
           "title": {
            "standoff": 15
           },
           "zerolinecolor": "#EBF0F8",
           "zerolinewidth": 2
          }
         }
        },
        "title": {
         "text": "Pévisions "
        },
        "xaxis": {
         "title": {
          "text": "Temps"
         }
        },
        "yaxis": {
         "title": {
          "text": "prix (usd)"
         }
        }
       }
      }
     },
     "metadata": {},
     "output_type": "display_data"
    }
   ],
   "source": [
    "def graph_prev(index_fusion,valeur_y_fusion,index_pred,valeur_pred):\n",
    "    fig = go.Figure()\n",
    "    fig.add_trace(go.Scatter(x=index_fusion.index.values, y=valeur_y_fusion, mode='lines', name='cours', line=dict(color='blue')))\n",
    "    fig.add_trace(go.Scatter(x=index_pred.index.values, y=valeur_pred, mode='lines', name='prévision', line=dict(color='red')))\n",
    "    fig.update_layout(\n",
    "            title=\"Pévisions \",\n",
    "            xaxis_title=\"Temps\",\n",
    "            yaxis_title=\"prix (usd)\",\n",
    "            legend=dict(x=0, y=1),\n",
    "            hovermode=\"x unified\",\n",
    "            template=\"plotly_white\"\n",
    "        )\n",
    "    fig.show()\n",
    "\n",
    "\n",
    "graph_prev(BTC_fusion,BTC_fusion['Open'],df_BTC_pred,df_BTC_pred['Open'])\n",
    "graph_prev(ETH_fusion,ETH_fusion['Open'],df_ETH_pred,df_ETH_pred['Open'])\n",
    "graph_prev(BNB_fusion,BNB_fusion['Open'],df_BNB_pred,df_BNB_pred['Open'])"
   ]
  },
  {
   "cell_type": "markdown",
   "metadata": {},
   "source": [
    "Jauges"
   ]
  },
  {
   "cell_type": "code",
   "execution_count": null,
   "metadata": {},
   "outputs": [],
   "source": []
  },
  {
   "cell_type": "markdown",
   "metadata": {},
   "source": [
    "JAUGE  performance prévision\n"
   ]
  },
  {
   "cell_type": "markdown",
   "metadata": {},
   "source": []
  },
  {
   "cell_type": "code",
   "execution_count": 302,
   "metadata": {},
   "outputs": [
    {
     "name": "stderr",
     "output_type": "stream",
     "text": [
      "2024-11-16 16:56:46.352 Thread 'MainThread': missing ScriptRunContext! This warning can be ignored when running in bare mode.\n",
      "2024-11-16 16:56:46.353 Thread 'MainThread': missing ScriptRunContext! This warning can be ignored when running in bare mode.\n",
      "2024-11-16 16:56:46.353 Thread 'MainThread': missing ScriptRunContext! This warning can be ignored when running in bare mode.\n",
      "2024-11-16 16:56:46.354 Thread 'MainThread': missing ScriptRunContext! This warning can be ignored when running in bare mode.\n",
      "2024-11-16 16:56:46.354 Thread 'MainThread': missing ScriptRunContext! This warning can be ignored when running in bare mode.\n",
      "2024-11-16 16:56:46.355 Thread 'MainThread': missing ScriptRunContext! This warning can be ignored when running in bare mode.\n",
      "2024-11-16 16:56:46.355 Thread 'MainThread': missing ScriptRunContext! This warning can be ignored when running in bare mode.\n",
      "2024-11-16 16:56:46.355 Thread 'MainThread': missing ScriptRunContext! This warning can be ignored when running in bare mode.\n",
      "2024-11-16 16:56:46.356 Thread 'MainThread': missing ScriptRunContext! This warning can be ignored when running in bare mode.\n",
      "2024-11-16 16:56:46.356 Thread 'MainThread': missing ScriptRunContext! This warning can be ignored when running in bare mode.\n",
      "2024-11-16 16:56:46.356 Thread 'MainThread': missing ScriptRunContext! This warning can be ignored when running in bare mode.\n",
      "2024-11-16 16:56:46.357 Thread 'MainThread': missing ScriptRunContext! This warning can be ignored when running in bare mode.\n",
      "2024-11-16 16:56:46.357 Thread 'MainThread': missing ScriptRunContext! This warning can be ignored when running in bare mode.\n",
      "2024-11-16 16:56:46.357 Thread 'MainThread': missing ScriptRunContext! This warning can be ignored when running in bare mode.\n",
      "2024-11-16 16:56:46.357 Thread 'MainThread': missing ScriptRunContext! This warning can be ignored when running in bare mode.\n",
      "2024-11-16 16:56:46.358 Thread 'MainThread': missing ScriptRunContext! This warning can be ignored when running in bare mode.\n",
      "2024-11-16 16:56:46.358 Thread 'MainThread': missing ScriptRunContext! This warning can be ignored when running in bare mode.\n",
      "2024-11-16 16:56:46.358 Thread 'MainThread': missing ScriptRunContext! This warning can be ignored when running in bare mode.\n"
     ]
    }
   ],
   "source": [
    "# app_streamlit_echarts.py\n",
    "\n",
    "import streamlit as st\n",
    "from streamlit_echarts import st_echarts\n",
    "def visua_mape(mape):\n",
    "    # Configuration de la jauge\n",
    "    options = {\n",
    "        \"series\": [\n",
    "            {\n",
    "                \"type\": \"gauge\",\n",
    "                \"startAngle\": 180,\n",
    "                \"endAngle\": 0,\n",
    "                \"center\": [\"50%\", \"75%\"],\n",
    "                \"radius\": \"90%\",\n",
    "                \"min\": 0,\n",
    "                \"max\": 20,\n",
    "                \"splitNumber\": 4,\n",
    "                \"axisLine\": {\n",
    "                    \"lineStyle\": {\n",
    "                        \"width\": 6,\n",
    "                        \"color\": [\n",
    "                            [0.25, \"seagreen\"],   # Zone 0-5%\n",
    "                            [1, \"#DC143C\"]        # Zone 5-20%\n",
    "                        ]\n",
    "                    }\n",
    "                },\n",
    "                \"pointer\": {\n",
    "                    \"length\": \"70%\",\n",
    "                    \"width\": 6,\n",
    "                    \"itemStyle\": {\n",
    "                        \"color\": \"black\"\n",
    "                    }\n",
    "                },\n",
    "                \"axisTick\": {\n",
    "                    \"length\": 10,\n",
    "                    \"lineStyle\": {\n",
    "                        \"color\": \"auto\",\n",
    "                        \"width\": 2\n",
    "                    }\n",
    "                },\n",
    "                \"splitLine\": {\n",
    "                    \"length\": 15,\n",
    "                    \"lineStyle\": {\n",
    "                        \"color\": \"auto\",\n",
    "                        \"width\": 3\n",
    "                    }\n",
    "                },\n",
    "                \"axisLabel\": {\n",
    "                    \"fontSize\": 12,\n",
    "                    \"distance\": -40,\n",
    "                    \"formatter\": \"{value} %\"\n",
    "                },\n",
    "                \"title\": {\n",
    "                    \"show\": True,\n",
    "                    \"offsetCenter\": [0, \"-10%\"],\n",
    "                    \"fontSize\": 16,\n",
    "                    \"color\": \"#333\",\n",
    "                    \"text\": \"Qualité du modèle de prévision en %\"\n",
    "                },\n",
    "                \"detail\": {\n",
    "                    \"fontSize\": 20,\n",
    "                    \"offsetCenter\": [0, \"25%\"],\n",
    "                    \"valueAnimation\": True,\n",
    "                    \"formatter\": \"{value} %\",\n",
    "                    \"color\": \"black\"\n",
    "                },\n",
    "                \"data\": [\n",
    "                    {\n",
    "                        \"value\": mape,\n",
    "                        \"name\": \"MAPE\"\n",
    "                    }\n",
    "                ]\n",
    "            }\n",
    "        ]\n",
    "    }\n",
    "\n",
    "    # Afficher la jauge dans Streamlit\n",
    "    st_echarts(options=options, height=\"400px\")\n",
    "\n",
    "# Assure-toi que ces variables sont bien définies avant d'appeler la fonction\n",
    "try:\n",
    "    # Appel des fonctions pour chaque jauge\n",
    "    st.subheader(\"MAPE pour BTC\")\n",
    "    visua_mape(mape_BTC)\n",
    "\n",
    "    st.subheader(\"MAPE pour ETH\")\n",
    "    visua_mape(mape_ETH)\n",
    "\n",
    "    st.subheader(\"MAPE pour BNB\")\n",
    "    visua_mape(mape_BNB)\n",
    "\n",
    "except IndexError:\n",
    "    st.error(\"Erreur : une des valeurs MAPE est non définie ou en dehors des limites.\")\n",
    "\n"
   ]
  },
  {
   "cell_type": "code",
   "execution_count": 303,
   "metadata": {},
   "outputs": [
    {
     "data": {
      "application/vnd.plotly.v1+json": {
       "config": {
        "plotlyServerURL": "https://plot.ly"
       },
       "data": [
        {
         "domain": {
          "x": [
           0,
           1
          ],
          "y": [
           0,
           1
          ]
         },
         "mode": "gauge+number",
         "title": {
          "text": "qualité du modèle de prévision en %"
         },
         "type": "indicator",
         "value": 0.2704021486418302
        }
       ],
       "layout": {
        "template": {
         "data": {
          "candlestick": [
           {
            "decreasing": {
             "line": {
              "color": "#000033"
             }
            },
            "increasing": {
             "line": {
              "color": "#000032"
             }
            },
            "type": "candlestick"
           }
          ],
          "contour": [
           {
            "colorscale": [
             [
              0,
              "#000011"
             ],
             [
              0.1111111111111111,
              "#000012"
             ],
             [
              0.2222222222222222,
              "#000013"
             ],
             [
              0.3333333333333333,
              "#000014"
             ],
             [
              0.4444444444444444,
              "#000015"
             ],
             [
              0.5555555555555556,
              "#000016"
             ],
             [
              0.6666666666666666,
              "#000017"
             ],
             [
              0.7777777777777778,
              "#000018"
             ],
             [
              0.8888888888888888,
              "#000019"
             ],
             [
              1,
              "#000020"
             ]
            ],
            "type": "contour"
           }
          ],
          "contourcarpet": [
           {
            "colorscale": [
             [
              0,
              "#000011"
             ],
             [
              0.1111111111111111,
              "#000012"
             ],
             [
              0.2222222222222222,
              "#000013"
             ],
             [
              0.3333333333333333,
              "#000014"
             ],
             [
              0.4444444444444444,
              "#000015"
             ],
             [
              0.5555555555555556,
              "#000016"
             ],
             [
              0.6666666666666666,
              "#000017"
             ],
             [
              0.7777777777777778,
              "#000018"
             ],
             [
              0.8888888888888888,
              "#000019"
             ],
             [
              1,
              "#000020"
             ]
            ],
            "type": "contourcarpet"
           }
          ],
          "heatmap": [
           {
            "colorscale": [
             [
              0,
              "#000011"
             ],
             [
              0.1111111111111111,
              "#000012"
             ],
             [
              0.2222222222222222,
              "#000013"
             ],
             [
              0.3333333333333333,
              "#000014"
             ],
             [
              0.4444444444444444,
              "#000015"
             ],
             [
              0.5555555555555556,
              "#000016"
             ],
             [
              0.6666666666666666,
              "#000017"
             ],
             [
              0.7777777777777778,
              "#000018"
             ],
             [
              0.8888888888888888,
              "#000019"
             ],
             [
              1,
              "#000020"
             ]
            ],
            "type": "heatmap"
           }
          ],
          "histogram2d": [
           {
            "colorscale": [
             [
              0,
              "#000011"
             ],
             [
              0.1111111111111111,
              "#000012"
             ],
             [
              0.2222222222222222,
              "#000013"
             ],
             [
              0.3333333333333333,
              "#000014"
             ],
             [
              0.4444444444444444,
              "#000015"
             ],
             [
              0.5555555555555556,
              "#000016"
             ],
             [
              0.6666666666666666,
              "#000017"
             ],
             [
              0.7777777777777778,
              "#000018"
             ],
             [
              0.8888888888888888,
              "#000019"
             ],
             [
              1,
              "#000020"
             ]
            ],
            "type": "histogram2d"
           }
          ],
          "icicle": [
           {
            "textfont": {
             "color": "white"
            },
            "type": "icicle"
           }
          ],
          "sankey": [
           {
            "textfont": {
             "color": "#000036"
            },
            "type": "sankey"
           }
          ],
          "scatter": [
           {
            "marker": {
             "line": {
              "width": 0
             }
            },
            "type": "scatter"
           }
          ],
          "table": [
           {
            "cells": {
             "fill": {
              "color": "#000038"
             },
             "font": {
              "color": "#000037"
             },
             "line": {
              "color": "#000039"
             }
            },
            "header": {
             "fill": {
              "color": "#000040"
             },
             "font": {
              "color": "#000036"
             },
             "line": {
              "color": "#000039"
             }
            },
            "type": "table"
           }
          ],
          "waterfall": [
           {
            "connector": {
             "line": {
              "color": "#000036",
              "width": 2
             }
            },
            "decreasing": {
             "marker": {
              "color": "#000033"
             }
            },
            "increasing": {
             "marker": {
              "color": "#000032"
             }
            },
            "totals": {
             "marker": {
              "color": "#000034"
             }
            },
            "type": "waterfall"
           }
          ]
         },
         "layout": {
          "coloraxis": {
           "colorscale": [
            [
             0,
             "#000011"
            ],
            [
             0.1111111111111111,
             "#000012"
            ],
            [
             0.2222222222222222,
             "#000013"
            ],
            [
             0.3333333333333333,
             "#000014"
            ],
            [
             0.4444444444444444,
             "#000015"
            ],
            [
             0.5555555555555556,
             "#000016"
            ],
            [
             0.6666666666666666,
             "#000017"
            ],
            [
             0.7777777777777778,
             "#000018"
            ],
            [
             0.8888888888888888,
             "#000019"
            ],
            [
             1,
             "#000020"
            ]
           ]
          },
          "colorscale": {
           "diverging": [
            [
             0,
             "#000021"
            ],
            [
             0.1,
             "#000022"
            ],
            [
             0.2,
             "#000023"
            ],
            [
             0.3,
             "#000024"
            ],
            [
             0.4,
             "#000025"
            ],
            [
             0.5,
             "#000026"
            ],
            [
             0.6,
             "#000027"
            ],
            [
             0.7,
             "#000028"
            ],
            [
             0.8,
             "#000029"
            ],
            [
             0.9,
             "#000030"
            ],
            [
             1,
             "#000031"
            ]
           ],
           "sequential": [
            [
             0,
             "#000011"
            ],
            [
             0.1111111111111111,
             "#000012"
            ],
            [
             0.2222222222222222,
             "#000013"
            ],
            [
             0.3333333333333333,
             "#000014"
            ],
            [
             0.4444444444444444,
             "#000015"
            ],
            [
             0.5555555555555556,
             "#000016"
            ],
            [
             0.6666666666666666,
             "#000017"
            ],
            [
             0.7777777777777778,
             "#000018"
            ],
            [
             0.8888888888888888,
             "#000019"
            ],
            [
             1,
             "#000020"
            ]
           ],
           "sequentialminus": [
            [
             0,
             "#000011"
            ],
            [
             0.1111111111111111,
             "#000012"
            ],
            [
             0.2222222222222222,
             "#000013"
            ],
            [
             0.3333333333333333,
             "#000014"
            ],
            [
             0.4444444444444444,
             "#000015"
            ],
            [
             0.5555555555555556,
             "#000016"
            ],
            [
             0.6666666666666666,
             "#000017"
            ],
            [
             0.7777777777777778,
             "#000018"
            ],
            [
             0.8888888888888888,
             "#000019"
            ],
            [
             1,
             "#000020"
            ]
           ]
          },
          "colorway": [
           "#000001",
           "#000002",
           "#000003",
           "#000004",
           "#000005",
           "#000006",
           "#000007",
           "#000008",
           "#000009",
           "#000010"
          ]
         }
        }
       }
      }
     },
     "metadata": {},
     "output_type": "display_data"
    },
    {
     "data": {
      "application/vnd.plotly.v1+json": {
       "config": {
        "plotlyServerURL": "https://plot.ly"
       },
       "data": [
        {
         "domain": {
          "x": [
           0,
           1
          ],
          "y": [
           0,
           1
          ]
         },
         "mode": "gauge+number",
         "title": {
          "text": "qualité du modèle de prévision en %"
         },
         "type": "indicator",
         "value": 0.8916233458613575
        }
       ],
       "layout": {
        "template": {
         "data": {
          "candlestick": [
           {
            "decreasing": {
             "line": {
              "color": "#000033"
             }
            },
            "increasing": {
             "line": {
              "color": "#000032"
             }
            },
            "type": "candlestick"
           }
          ],
          "contour": [
           {
            "colorscale": [
             [
              0,
              "#000011"
             ],
             [
              0.1111111111111111,
              "#000012"
             ],
             [
              0.2222222222222222,
              "#000013"
             ],
             [
              0.3333333333333333,
              "#000014"
             ],
             [
              0.4444444444444444,
              "#000015"
             ],
             [
              0.5555555555555556,
              "#000016"
             ],
             [
              0.6666666666666666,
              "#000017"
             ],
             [
              0.7777777777777778,
              "#000018"
             ],
             [
              0.8888888888888888,
              "#000019"
             ],
             [
              1,
              "#000020"
             ]
            ],
            "type": "contour"
           }
          ],
          "contourcarpet": [
           {
            "colorscale": [
             [
              0,
              "#000011"
             ],
             [
              0.1111111111111111,
              "#000012"
             ],
             [
              0.2222222222222222,
              "#000013"
             ],
             [
              0.3333333333333333,
              "#000014"
             ],
             [
              0.4444444444444444,
              "#000015"
             ],
             [
              0.5555555555555556,
              "#000016"
             ],
             [
              0.6666666666666666,
              "#000017"
             ],
             [
              0.7777777777777778,
              "#000018"
             ],
             [
              0.8888888888888888,
              "#000019"
             ],
             [
              1,
              "#000020"
             ]
            ],
            "type": "contourcarpet"
           }
          ],
          "heatmap": [
           {
            "colorscale": [
             [
              0,
              "#000011"
             ],
             [
              0.1111111111111111,
              "#000012"
             ],
             [
              0.2222222222222222,
              "#000013"
             ],
             [
              0.3333333333333333,
              "#000014"
             ],
             [
              0.4444444444444444,
              "#000015"
             ],
             [
              0.5555555555555556,
              "#000016"
             ],
             [
              0.6666666666666666,
              "#000017"
             ],
             [
              0.7777777777777778,
              "#000018"
             ],
             [
              0.8888888888888888,
              "#000019"
             ],
             [
              1,
              "#000020"
             ]
            ],
            "type": "heatmap"
           }
          ],
          "histogram2d": [
           {
            "colorscale": [
             [
              0,
              "#000011"
             ],
             [
              0.1111111111111111,
              "#000012"
             ],
             [
              0.2222222222222222,
              "#000013"
             ],
             [
              0.3333333333333333,
              "#000014"
             ],
             [
              0.4444444444444444,
              "#000015"
             ],
             [
              0.5555555555555556,
              "#000016"
             ],
             [
              0.6666666666666666,
              "#000017"
             ],
             [
              0.7777777777777778,
              "#000018"
             ],
             [
              0.8888888888888888,
              "#000019"
             ],
             [
              1,
              "#000020"
             ]
            ],
            "type": "histogram2d"
           }
          ],
          "icicle": [
           {
            "textfont": {
             "color": "white"
            },
            "type": "icicle"
           }
          ],
          "sankey": [
           {
            "textfont": {
             "color": "#000036"
            },
            "type": "sankey"
           }
          ],
          "scatter": [
           {
            "marker": {
             "line": {
              "width": 0
             }
            },
            "type": "scatter"
           }
          ],
          "table": [
           {
            "cells": {
             "fill": {
              "color": "#000038"
             },
             "font": {
              "color": "#000037"
             },
             "line": {
              "color": "#000039"
             }
            },
            "header": {
             "fill": {
              "color": "#000040"
             },
             "font": {
              "color": "#000036"
             },
             "line": {
              "color": "#000039"
             }
            },
            "type": "table"
           }
          ],
          "waterfall": [
           {
            "connector": {
             "line": {
              "color": "#000036",
              "width": 2
             }
            },
            "decreasing": {
             "marker": {
              "color": "#000033"
             }
            },
            "increasing": {
             "marker": {
              "color": "#000032"
             }
            },
            "totals": {
             "marker": {
              "color": "#000034"
             }
            },
            "type": "waterfall"
           }
          ]
         },
         "layout": {
          "coloraxis": {
           "colorscale": [
            [
             0,
             "#000011"
            ],
            [
             0.1111111111111111,
             "#000012"
            ],
            [
             0.2222222222222222,
             "#000013"
            ],
            [
             0.3333333333333333,
             "#000014"
            ],
            [
             0.4444444444444444,
             "#000015"
            ],
            [
             0.5555555555555556,
             "#000016"
            ],
            [
             0.6666666666666666,
             "#000017"
            ],
            [
             0.7777777777777778,
             "#000018"
            ],
            [
             0.8888888888888888,
             "#000019"
            ],
            [
             1,
             "#000020"
            ]
           ]
          },
          "colorscale": {
           "diverging": [
            [
             0,
             "#000021"
            ],
            [
             0.1,
             "#000022"
            ],
            [
             0.2,
             "#000023"
            ],
            [
             0.3,
             "#000024"
            ],
            [
             0.4,
             "#000025"
            ],
            [
             0.5,
             "#000026"
            ],
            [
             0.6,
             "#000027"
            ],
            [
             0.7,
             "#000028"
            ],
            [
             0.8,
             "#000029"
            ],
            [
             0.9,
             "#000030"
            ],
            [
             1,
             "#000031"
            ]
           ],
           "sequential": [
            [
             0,
             "#000011"
            ],
            [
             0.1111111111111111,
             "#000012"
            ],
            [
             0.2222222222222222,
             "#000013"
            ],
            [
             0.3333333333333333,
             "#000014"
            ],
            [
             0.4444444444444444,
             "#000015"
            ],
            [
             0.5555555555555556,
             "#000016"
            ],
            [
             0.6666666666666666,
             "#000017"
            ],
            [
             0.7777777777777778,
             "#000018"
            ],
            [
             0.8888888888888888,
             "#000019"
            ],
            [
             1,
             "#000020"
            ]
           ],
           "sequentialminus": [
            [
             0,
             "#000011"
            ],
            [
             0.1111111111111111,
             "#000012"
            ],
            [
             0.2222222222222222,
             "#000013"
            ],
            [
             0.3333333333333333,
             "#000014"
            ],
            [
             0.4444444444444444,
             "#000015"
            ],
            [
             0.5555555555555556,
             "#000016"
            ],
            [
             0.6666666666666666,
             "#000017"
            ],
            [
             0.7777777777777778,
             "#000018"
            ],
            [
             0.8888888888888888,
             "#000019"
            ],
            [
             1,
             "#000020"
            ]
           ]
          },
          "colorway": [
           "#000001",
           "#000002",
           "#000003",
           "#000004",
           "#000005",
           "#000006",
           "#000007",
           "#000008",
           "#000009",
           "#000010"
          ]
         }
        }
       }
      }
     },
     "metadata": {},
     "output_type": "display_data"
    },
    {
     "data": {
      "application/vnd.plotly.v1+json": {
       "config": {
        "plotlyServerURL": "https://plot.ly"
       },
       "data": [
        {
         "domain": {
          "x": [
           0,
           1
          ],
          "y": [
           0,
           1
          ]
         },
         "mode": "gauge+number",
         "title": {
          "text": "qualité du modèle de prévision en %"
         },
         "type": "indicator",
         "value": 0.5933565544840196
        }
       ],
       "layout": {
        "template": {
         "data": {
          "candlestick": [
           {
            "decreasing": {
             "line": {
              "color": "#000033"
             }
            },
            "increasing": {
             "line": {
              "color": "#000032"
             }
            },
            "type": "candlestick"
           }
          ],
          "contour": [
           {
            "colorscale": [
             [
              0,
              "#000011"
             ],
             [
              0.1111111111111111,
              "#000012"
             ],
             [
              0.2222222222222222,
              "#000013"
             ],
             [
              0.3333333333333333,
              "#000014"
             ],
             [
              0.4444444444444444,
              "#000015"
             ],
             [
              0.5555555555555556,
              "#000016"
             ],
             [
              0.6666666666666666,
              "#000017"
             ],
             [
              0.7777777777777778,
              "#000018"
             ],
             [
              0.8888888888888888,
              "#000019"
             ],
             [
              1,
              "#000020"
             ]
            ],
            "type": "contour"
           }
          ],
          "contourcarpet": [
           {
            "colorscale": [
             [
              0,
              "#000011"
             ],
             [
              0.1111111111111111,
              "#000012"
             ],
             [
              0.2222222222222222,
              "#000013"
             ],
             [
              0.3333333333333333,
              "#000014"
             ],
             [
              0.4444444444444444,
              "#000015"
             ],
             [
              0.5555555555555556,
              "#000016"
             ],
             [
              0.6666666666666666,
              "#000017"
             ],
             [
              0.7777777777777778,
              "#000018"
             ],
             [
              0.8888888888888888,
              "#000019"
             ],
             [
              1,
              "#000020"
             ]
            ],
            "type": "contourcarpet"
           }
          ],
          "heatmap": [
           {
            "colorscale": [
             [
              0,
              "#000011"
             ],
             [
              0.1111111111111111,
              "#000012"
             ],
             [
              0.2222222222222222,
              "#000013"
             ],
             [
              0.3333333333333333,
              "#000014"
             ],
             [
              0.4444444444444444,
              "#000015"
             ],
             [
              0.5555555555555556,
              "#000016"
             ],
             [
              0.6666666666666666,
              "#000017"
             ],
             [
              0.7777777777777778,
              "#000018"
             ],
             [
              0.8888888888888888,
              "#000019"
             ],
             [
              1,
              "#000020"
             ]
            ],
            "type": "heatmap"
           }
          ],
          "histogram2d": [
           {
            "colorscale": [
             [
              0,
              "#000011"
             ],
             [
              0.1111111111111111,
              "#000012"
             ],
             [
              0.2222222222222222,
              "#000013"
             ],
             [
              0.3333333333333333,
              "#000014"
             ],
             [
              0.4444444444444444,
              "#000015"
             ],
             [
              0.5555555555555556,
              "#000016"
             ],
             [
              0.6666666666666666,
              "#000017"
             ],
             [
              0.7777777777777778,
              "#000018"
             ],
             [
              0.8888888888888888,
              "#000019"
             ],
             [
              1,
              "#000020"
             ]
            ],
            "type": "histogram2d"
           }
          ],
          "icicle": [
           {
            "textfont": {
             "color": "white"
            },
            "type": "icicle"
           }
          ],
          "sankey": [
           {
            "textfont": {
             "color": "#000036"
            },
            "type": "sankey"
           }
          ],
          "scatter": [
           {
            "marker": {
             "line": {
              "width": 0
             }
            },
            "type": "scatter"
           }
          ],
          "table": [
           {
            "cells": {
             "fill": {
              "color": "#000038"
             },
             "font": {
              "color": "#000037"
             },
             "line": {
              "color": "#000039"
             }
            },
            "header": {
             "fill": {
              "color": "#000040"
             },
             "font": {
              "color": "#000036"
             },
             "line": {
              "color": "#000039"
             }
            },
            "type": "table"
           }
          ],
          "waterfall": [
           {
            "connector": {
             "line": {
              "color": "#000036",
              "width": 2
             }
            },
            "decreasing": {
             "marker": {
              "color": "#000033"
             }
            },
            "increasing": {
             "marker": {
              "color": "#000032"
             }
            },
            "totals": {
             "marker": {
              "color": "#000034"
             }
            },
            "type": "waterfall"
           }
          ]
         },
         "layout": {
          "coloraxis": {
           "colorscale": [
            [
             0,
             "#000011"
            ],
            [
             0.1111111111111111,
             "#000012"
            ],
            [
             0.2222222222222222,
             "#000013"
            ],
            [
             0.3333333333333333,
             "#000014"
            ],
            [
             0.4444444444444444,
             "#000015"
            ],
            [
             0.5555555555555556,
             "#000016"
            ],
            [
             0.6666666666666666,
             "#000017"
            ],
            [
             0.7777777777777778,
             "#000018"
            ],
            [
             0.8888888888888888,
             "#000019"
            ],
            [
             1,
             "#000020"
            ]
           ]
          },
          "colorscale": {
           "diverging": [
            [
             0,
             "#000021"
            ],
            [
             0.1,
             "#000022"
            ],
            [
             0.2,
             "#000023"
            ],
            [
             0.3,
             "#000024"
            ],
            [
             0.4,
             "#000025"
            ],
            [
             0.5,
             "#000026"
            ],
            [
             0.6,
             "#000027"
            ],
            [
             0.7,
             "#000028"
            ],
            [
             0.8,
             "#000029"
            ],
            [
             0.9,
             "#000030"
            ],
            [
             1,
             "#000031"
            ]
           ],
           "sequential": [
            [
             0,
             "#000011"
            ],
            [
             0.1111111111111111,
             "#000012"
            ],
            [
             0.2222222222222222,
             "#000013"
            ],
            [
             0.3333333333333333,
             "#000014"
            ],
            [
             0.4444444444444444,
             "#000015"
            ],
            [
             0.5555555555555556,
             "#000016"
            ],
            [
             0.6666666666666666,
             "#000017"
            ],
            [
             0.7777777777777778,
             "#000018"
            ],
            [
             0.8888888888888888,
             "#000019"
            ],
            [
             1,
             "#000020"
            ]
           ],
           "sequentialminus": [
            [
             0,
             "#000011"
            ],
            [
             0.1111111111111111,
             "#000012"
            ],
            [
             0.2222222222222222,
             "#000013"
            ],
            [
             0.3333333333333333,
             "#000014"
            ],
            [
             0.4444444444444444,
             "#000015"
            ],
            [
             0.5555555555555556,
             "#000016"
            ],
            [
             0.6666666666666666,
             "#000017"
            ],
            [
             0.7777777777777778,
             "#000018"
            ],
            [
             0.8888888888888888,
             "#000019"
            ],
            [
             1,
             "#000020"
            ]
           ]
          },
          "colorway": [
           "#000001",
           "#000002",
           "#000003",
           "#000004",
           "#000005",
           "#000006",
           "#000007",
           "#000008",
           "#000009",
           "#000010"
          ]
         }
        }
       }
      }
     },
     "metadata": {},
     "output_type": "display_data"
    }
   ],
   "source": [
    "\n",
    "def jauge(mape):\n",
    "\n",
    "    fig = go.Figure(go.Indicator(\n",
    "        mode = \"gauge+number\",\n",
    "        value = mape,\n",
    "        domain = {'x': [0, 1], 'y': [0, 1]},\n",
    "        title = {'text': \"qualité du modèle de prévision en %\"}))\n",
    "\n",
    "    fig.show()\n",
    "\n",
    "jauge(mape_BTC)\n",
    "jauge(mape_ETH)\n",
    "jauge(mape_BNB)"
   ]
  },
  {
   "cell_type": "markdown",
   "metadata": {},
   "source": [
    "PAGE ACCUEIL"
   ]
  },
  {
   "cell_type": "markdown",
   "metadata": {},
   "source": [
    "Volume échange"
   ]
  },
  {
   "cell_type": "markdown",
   "metadata": {},
   "source": []
  },
  {
   "cell_type": "code",
   "execution_count": 304,
   "metadata": {},
   "outputs": [
    {
     "data": {
      "text/html": [
       "<div>\n",
       "<style scoped>\n",
       "    .dataframe tbody tr th:only-of-type {\n",
       "        vertical-align: middle;\n",
       "    }\n",
       "\n",
       "    .dataframe tbody tr th {\n",
       "        vertical-align: top;\n",
       "    }\n",
       "\n",
       "    .dataframe thead th {\n",
       "        text-align: right;\n",
       "    }\n",
       "</style>\n",
       "<table border=\"1\" class=\"dataframe\">\n",
       "  <thead>\n",
       "    <tr style=\"text-align: right;\">\n",
       "      <th></th>\n",
       "      <th>currency</th>\n",
       "      <th>total_volume</th>\n",
       "    </tr>\n",
       "  </thead>\n",
       "  <tbody>\n",
       "    <tr>\n",
       "      <th>0</th>\n",
       "      <td>btc</td>\n",
       "      <td>2.599357e+06</td>\n",
       "    </tr>\n",
       "    <tr>\n",
       "      <th>1</th>\n",
       "      <td>eth</td>\n",
       "      <td>7.484258e+07</td>\n",
       "    </tr>\n",
       "    <tr>\n",
       "      <th>2</th>\n",
       "      <td>ltc</td>\n",
       "      <td>2.632323e+09</td>\n",
       "    </tr>\n",
       "    <tr>\n",
       "      <th>3</th>\n",
       "      <td>bch</td>\n",
       "      <td>5.159715e+08</td>\n",
       "    </tr>\n",
       "    <tr>\n",
       "      <th>4</th>\n",
       "      <td>bnb</td>\n",
       "      <td>3.773299e+08</td>\n",
       "    </tr>\n",
       "    <tr>\n",
       "      <th>...</th>\n",
       "      <td>...</td>\n",
       "      <td>...</td>\n",
       "    </tr>\n",
       "    <tr>\n",
       "      <th>57</th>\n",
       "      <td>xdr</td>\n",
       "      <td>1.775485e+11</td>\n",
       "    </tr>\n",
       "    <tr>\n",
       "      <th>58</th>\n",
       "      <td>xag</td>\n",
       "      <td>7.767854e+09</td>\n",
       "    </tr>\n",
       "    <tr>\n",
       "      <th>59</th>\n",
       "      <td>xau</td>\n",
       "      <td>9.168769e+07</td>\n",
       "    </tr>\n",
       "    <tr>\n",
       "      <th>60</th>\n",
       "      <td>bits</td>\n",
       "      <td>2.599357e+12</td>\n",
       "    </tr>\n",
       "    <tr>\n",
       "      <th>61</th>\n",
       "      <td>sats</td>\n",
       "      <td>2.599357e+14</td>\n",
       "    </tr>\n",
       "  </tbody>\n",
       "</table>\n",
       "<p>62 rows × 2 columns</p>\n",
       "</div>"
      ],
      "text/plain": [
       "   currency  total_volume\n",
       "0       btc  2.599357e+06\n",
       "1       eth  7.484258e+07\n",
       "2       ltc  2.632323e+09\n",
       "3       bch  5.159715e+08\n",
       "4       bnb  3.773299e+08\n",
       "..      ...           ...\n",
       "57      xdr  1.775485e+11\n",
       "58      xag  7.767854e+09\n",
       "59      xau  9.168769e+07\n",
       "60     bits  2.599357e+12\n",
       "61     sats  2.599357e+14\n",
       "\n",
       "[62 rows x 2 columns]"
      ]
     },
     "execution_count": 304,
     "metadata": {},
     "output_type": "execute_result"
    }
   ],
   "source": [
    "df_total_volume"
   ]
  },
  {
   "cell_type": "code",
   "execution_count": 305,
   "metadata": {},
   "outputs": [
    {
     "data": {
      "text/html": [
       "<div>\n",
       "<style scoped>\n",
       "    .dataframe tbody tr th:only-of-type {\n",
       "        vertical-align: middle;\n",
       "    }\n",
       "\n",
       "    .dataframe tbody tr th {\n",
       "        vertical-align: top;\n",
       "    }\n",
       "\n",
       "    .dataframe thead th {\n",
       "        text-align: right;\n",
       "    }\n",
       "</style>\n",
       "<table border=\"1\" class=\"dataframe\">\n",
       "  <thead>\n",
       "    <tr style=\"text-align: right;\">\n",
       "      <th></th>\n",
       "      <th>currency</th>\n",
       "      <th>total_volume</th>\n",
       "    </tr>\n",
       "  </thead>\n",
       "  <tbody>\n",
       "    <tr>\n",
       "      <th>0</th>\n",
       "      <td>btc</td>\n",
       "      <td>2.599357e+06</td>\n",
       "    </tr>\n",
       "    <tr>\n",
       "      <th>1</th>\n",
       "      <td>eth</td>\n",
       "      <td>7.484258e+07</td>\n",
       "    </tr>\n",
       "    <tr>\n",
       "      <th>4</th>\n",
       "      <td>bnb</td>\n",
       "      <td>3.773299e+08</td>\n",
       "    </tr>\n",
       "  </tbody>\n",
       "</table>\n",
       "</div>"
      ],
      "text/plain": [
       "  currency  total_volume\n",
       "0      btc  2.599357e+06\n",
       "1      eth  7.484258e+07\n",
       "4      bnb  3.773299e+08"
      ]
     },
     "execution_count": 305,
     "metadata": {},
     "output_type": "execute_result"
    }
   ],
   "source": [
    "filtered_df = df_total_volume[df_total_volume['currency'].isin(['btc', 'eth', 'bnb'])]\n",
    "filtered_df"
   ]
  },
  {
   "cell_type": "code",
   "execution_count": 306,
   "metadata": {},
   "outputs": [
    {
     "data": {
      "application/vnd.plotly.v1+json": {
       "config": {
        "plotlyServerURL": "https://plot.ly"
       },
       "data": [
        {
         "alignmentgroup": "True",
         "bingroup": "x",
         "histfunc": "sum",
         "hovertemplate": "currency=%{x}<br>sum of total_volume=%{y}<extra></extra>",
         "legendgroup": "",
         "marker": {
          "color": "#000001",
          "pattern": {
           "shape": ""
          }
         },
         "name": "",
         "offsetgroup": "",
         "orientation": "v",
         "showlegend": false,
         "type": "histogram",
         "x": [
          "btc",
          "eth",
          "bnb"
         ],
         "xaxis": "x",
         "y": [
          2599356.7576578255,
          74842575.65917741,
          377329925.2397482
         ],
         "yaxis": "y"
        }
       ],
       "layout": {
        "bargap": 0.2,
        "barmode": "relative",
        "legend": {
         "tracegroupgap": 0
        },
        "margin": {
         "t": 60
        },
        "template": {
         "data": {
          "candlestick": [
           {
            "decreasing": {
             "line": {
              "color": "#000033"
             }
            },
            "increasing": {
             "line": {
              "color": "#000032"
             }
            },
            "type": "candlestick"
           }
          ],
          "contour": [
           {
            "colorscale": [
             [
              0,
              "#000011"
             ],
             [
              0.1111111111111111,
              "#000012"
             ],
             [
              0.2222222222222222,
              "#000013"
             ],
             [
              0.3333333333333333,
              "#000014"
             ],
             [
              0.4444444444444444,
              "#000015"
             ],
             [
              0.5555555555555556,
              "#000016"
             ],
             [
              0.6666666666666666,
              "#000017"
             ],
             [
              0.7777777777777778,
              "#000018"
             ],
             [
              0.8888888888888888,
              "#000019"
             ],
             [
              1,
              "#000020"
             ]
            ],
            "type": "contour"
           }
          ],
          "contourcarpet": [
           {
            "colorscale": [
             [
              0,
              "#000011"
             ],
             [
              0.1111111111111111,
              "#000012"
             ],
             [
              0.2222222222222222,
              "#000013"
             ],
             [
              0.3333333333333333,
              "#000014"
             ],
             [
              0.4444444444444444,
              "#000015"
             ],
             [
              0.5555555555555556,
              "#000016"
             ],
             [
              0.6666666666666666,
              "#000017"
             ],
             [
              0.7777777777777778,
              "#000018"
             ],
             [
              0.8888888888888888,
              "#000019"
             ],
             [
              1,
              "#000020"
             ]
            ],
            "type": "contourcarpet"
           }
          ],
          "heatmap": [
           {
            "colorscale": [
             [
              0,
              "#000011"
             ],
             [
              0.1111111111111111,
              "#000012"
             ],
             [
              0.2222222222222222,
              "#000013"
             ],
             [
              0.3333333333333333,
              "#000014"
             ],
             [
              0.4444444444444444,
              "#000015"
             ],
             [
              0.5555555555555556,
              "#000016"
             ],
             [
              0.6666666666666666,
              "#000017"
             ],
             [
              0.7777777777777778,
              "#000018"
             ],
             [
              0.8888888888888888,
              "#000019"
             ],
             [
              1,
              "#000020"
             ]
            ],
            "type": "heatmap"
           }
          ],
          "histogram2d": [
           {
            "colorscale": [
             [
              0,
              "#000011"
             ],
             [
              0.1111111111111111,
              "#000012"
             ],
             [
              0.2222222222222222,
              "#000013"
             ],
             [
              0.3333333333333333,
              "#000014"
             ],
             [
              0.4444444444444444,
              "#000015"
             ],
             [
              0.5555555555555556,
              "#000016"
             ],
             [
              0.6666666666666666,
              "#000017"
             ],
             [
              0.7777777777777778,
              "#000018"
             ],
             [
              0.8888888888888888,
              "#000019"
             ],
             [
              1,
              "#000020"
             ]
            ],
            "type": "histogram2d"
           }
          ],
          "icicle": [
           {
            "textfont": {
             "color": "white"
            },
            "type": "icicle"
           }
          ],
          "sankey": [
           {
            "textfont": {
             "color": "#000036"
            },
            "type": "sankey"
           }
          ],
          "scatter": [
           {
            "marker": {
             "line": {
              "width": 0
             }
            },
            "type": "scatter"
           }
          ],
          "table": [
           {
            "cells": {
             "fill": {
              "color": "#000038"
             },
             "font": {
              "color": "#000037"
             },
             "line": {
              "color": "#000039"
             }
            },
            "header": {
             "fill": {
              "color": "#000040"
             },
             "font": {
              "color": "#000036"
             },
             "line": {
              "color": "#000039"
             }
            },
            "type": "table"
           }
          ],
          "waterfall": [
           {
            "connector": {
             "line": {
              "color": "#000036",
              "width": 2
             }
            },
            "decreasing": {
             "marker": {
              "color": "#000033"
             }
            },
            "increasing": {
             "marker": {
              "color": "#000032"
             }
            },
            "totals": {
             "marker": {
              "color": "#000034"
             }
            },
            "type": "waterfall"
           }
          ]
         },
         "layout": {
          "coloraxis": {
           "colorscale": [
            [
             0,
             "#000011"
            ],
            [
             0.1111111111111111,
             "#000012"
            ],
            [
             0.2222222222222222,
             "#000013"
            ],
            [
             0.3333333333333333,
             "#000014"
            ],
            [
             0.4444444444444444,
             "#000015"
            ],
            [
             0.5555555555555556,
             "#000016"
            ],
            [
             0.6666666666666666,
             "#000017"
            ],
            [
             0.7777777777777778,
             "#000018"
            ],
            [
             0.8888888888888888,
             "#000019"
            ],
            [
             1,
             "#000020"
            ]
           ]
          },
          "colorscale": {
           "diverging": [
            [
             0,
             "#000021"
            ],
            [
             0.1,
             "#000022"
            ],
            [
             0.2,
             "#000023"
            ],
            [
             0.3,
             "#000024"
            ],
            [
             0.4,
             "#000025"
            ],
            [
             0.5,
             "#000026"
            ],
            [
             0.6,
             "#000027"
            ],
            [
             0.7,
             "#000028"
            ],
            [
             0.8,
             "#000029"
            ],
            [
             0.9,
             "#000030"
            ],
            [
             1,
             "#000031"
            ]
           ],
           "sequential": [
            [
             0,
             "#000011"
            ],
            [
             0.1111111111111111,
             "#000012"
            ],
            [
             0.2222222222222222,
             "#000013"
            ],
            [
             0.3333333333333333,
             "#000014"
            ],
            [
             0.4444444444444444,
             "#000015"
            ],
            [
             0.5555555555555556,
             "#000016"
            ],
            [
             0.6666666666666666,
             "#000017"
            ],
            [
             0.7777777777777778,
             "#000018"
            ],
            [
             0.8888888888888888,
             "#000019"
            ],
            [
             1,
             "#000020"
            ]
           ],
           "sequentialminus": [
            [
             0,
             "#000011"
            ],
            [
             0.1111111111111111,
             "#000012"
            ],
            [
             0.2222222222222222,
             "#000013"
            ],
            [
             0.3333333333333333,
             "#000014"
            ],
            [
             0.4444444444444444,
             "#000015"
            ],
            [
             0.5555555555555556,
             "#000016"
            ],
            [
             0.6666666666666666,
             "#000017"
            ],
            [
             0.7777777777777778,
             "#000018"
            ],
            [
             0.8888888888888888,
             "#000019"
            ],
            [
             1,
             "#000020"
            ]
           ]
          },
          "colorway": [
           "#000001",
           "#000002",
           "#000003",
           "#000004",
           "#000005",
           "#000006",
           "#000007",
           "#000008",
           "#000009",
           "#000010"
          ]
         }
        },
        "xaxis": {
         "anchor": "y",
         "domain": [
          0,
          1
         ],
         "title": {
          "text": "currency"
         }
        },
        "yaxis": {
         "anchor": "x",
         "domain": [
          0,
          1
         ],
         "title": {
          "text": "sum of total_volume"
         }
        }
       }
      }
     },
     "metadata": {},
     "output_type": "display_data"
    }
   ],
   "source": [
    "df = px.data.stocks()\n",
    "fig = px.histogram(filtered_df, x='currency',y='total_volume')\n",
    "fig.update_layout(bargap=0.2)\n",
    "fig.show()"
   ]
  },
  {
   "cell_type": "code",
   "execution_count": 307,
   "metadata": {},
   "outputs": [],
   "source": [
    "\n",
    "\n",
    "url = \"https://api.coingecko.com/api/v3/coins/bitcoin/market_chart?vs_currency=usd&days=7\"\n",
    "\n",
    "headers = {\"accept\": \"application/json\"}\n",
    "\n",
    "response_BTC2 = requests.get(url, headers=headers)\n",
    "BTC2_json= response_BTC2.json()\n",
    "df_OHLC_BTC2= pd.DataFrame(BTC2_json, columns=[\"Timestamp\", \"price\", \"Higmarket_cap\", \"volume\"])\n",
    "df_OHLC_BTC2['Timestamp'] = pd.to_datetime(df_OHLC_BTC2['Timestamp'], unit='ms')"
   ]
  },
  {
   "cell_type": "code",
   "execution_count": 308,
   "metadata": {},
   "outputs": [],
   "source": [
    "BTC_volume_df=pd.DataFrame(BTC2_json['total_volumes'], columns=['Timestamp','price'])\n",
    "BTC_volume_df['Timestamp'] = pd.to_datetime(df_OHLC_BTC2['Timestamp'])\n",
    "BTC_market_cap_df=pd.DataFrame(BTC2_json['market_caps'], columns=['Timestamp','price'])\n"
   ]
  },
  {
   "cell_type": "code",
   "execution_count": 309,
   "metadata": {},
   "outputs": [
    {
     "data": {
      "text/html": [
       "<div>\n",
       "<style scoped>\n",
       "    .dataframe tbody tr th:only-of-type {\n",
       "        vertical-align: middle;\n",
       "    }\n",
       "\n",
       "    .dataframe tbody tr th {\n",
       "        vertical-align: top;\n",
       "    }\n",
       "\n",
       "    .dataframe thead th {\n",
       "        text-align: right;\n",
       "    }\n",
       "</style>\n",
       "<table border=\"1\" class=\"dataframe\">\n",
       "  <thead>\n",
       "    <tr style=\"text-align: right;\">\n",
       "      <th></th>\n",
       "      <th>Timestamp</th>\n",
       "      <th>price</th>\n",
       "    </tr>\n",
       "  </thead>\n",
       "  <tbody>\n",
       "    <tr>\n",
       "      <th>0</th>\n",
       "      <td>NaT</td>\n",
       "      <td>3.708132e+10</td>\n",
       "    </tr>\n",
       "    <tr>\n",
       "      <th>1</th>\n",
       "      <td>NaT</td>\n",
       "      <td>3.750733e+10</td>\n",
       "    </tr>\n",
       "    <tr>\n",
       "      <th>2</th>\n",
       "      <td>NaT</td>\n",
       "      <td>3.862192e+10</td>\n",
       "    </tr>\n",
       "    <tr>\n",
       "      <th>3</th>\n",
       "      <td>NaT</td>\n",
       "      <td>3.407141e+10</td>\n",
       "    </tr>\n",
       "    <tr>\n",
       "      <th>4</th>\n",
       "      <td>NaT</td>\n",
       "      <td>3.403451e+10</td>\n",
       "    </tr>\n",
       "    <tr>\n",
       "      <th>...</th>\n",
       "      <td>...</td>\n",
       "      <td>...</td>\n",
       "    </tr>\n",
       "    <tr>\n",
       "      <th>164</th>\n",
       "      <td>NaT</td>\n",
       "      <td>7.356461e+10</td>\n",
       "    </tr>\n",
       "    <tr>\n",
       "      <th>165</th>\n",
       "      <td>NaT</td>\n",
       "      <td>7.503084e+10</td>\n",
       "    </tr>\n",
       "    <tr>\n",
       "      <th>166</th>\n",
       "      <td>NaT</td>\n",
       "      <td>7.432652e+10</td>\n",
       "    </tr>\n",
       "    <tr>\n",
       "      <th>167</th>\n",
       "      <td>NaT</td>\n",
       "      <td>6.729969e+10</td>\n",
       "    </tr>\n",
       "    <tr>\n",
       "      <th>168</th>\n",
       "      <td>NaT</td>\n",
       "      <td>6.795297e+10</td>\n",
       "    </tr>\n",
       "  </tbody>\n",
       "</table>\n",
       "<p>169 rows × 2 columns</p>\n",
       "</div>"
      ],
      "text/plain": [
       "    Timestamp         price\n",
       "0         NaT  3.708132e+10\n",
       "1         NaT  3.750733e+10\n",
       "2         NaT  3.862192e+10\n",
       "3         NaT  3.407141e+10\n",
       "4         NaT  3.403451e+10\n",
       "..        ...           ...\n",
       "164       NaT  7.356461e+10\n",
       "165       NaT  7.503084e+10\n",
       "166       NaT  7.432652e+10\n",
       "167       NaT  6.729969e+10\n",
       "168       NaT  6.795297e+10\n",
       "\n",
       "[169 rows x 2 columns]"
      ]
     },
     "execution_count": 309,
     "metadata": {},
     "output_type": "execute_result"
    }
   ],
   "source": [
    "BTC_volume_df"
   ]
  },
  {
   "cell_type": "markdown",
   "metadata": {},
   "source": [
    "Graphique prévision animmé "
   ]
  },
  {
   "cell_type": "code",
   "execution_count": 310,
   "metadata": {},
   "outputs": [
    {
     "name": "stderr",
     "output_type": "stream",
     "text": [
      "2024-11-16 16:56:46.790 Thread 'MainThread': missing ScriptRunContext! This warning can be ignored when running in bare mode.\n",
      "2024-11-16 16:56:46.791 Thread 'MainThread': missing ScriptRunContext! This warning can be ignored when running in bare mode.\n",
      "2024-11-16 16:56:46.791 Thread 'MainThread': missing ScriptRunContext! This warning can be ignored when running in bare mode.\n",
      "2024-11-16 16:56:46.792 Thread 'MainThread': missing ScriptRunContext! This warning can be ignored when running in bare mode.\n",
      "2024-11-16 16:56:46.856 Thread 'MainThread': missing ScriptRunContext! This warning can be ignored when running in bare mode.\n",
      "2024-11-16 16:56:46.857 Thread 'MainThread': missing ScriptRunContext! This warning can be ignored when running in bare mode.\n",
      "2024-11-16 16:56:46.857 Thread 'MainThread': missing ScriptRunContext! This warning can be ignored when running in bare mode.\n",
      "2024-11-16 16:56:46.857 Thread 'MainThread': missing ScriptRunContext! This warning can be ignored when running in bare mode.\n",
      "2024-11-16 16:56:46.920 Thread 'MainThread': missing ScriptRunContext! This warning can be ignored when running in bare mode.\n",
      "2024-11-16 16:56:46.920 Thread 'MainThread': missing ScriptRunContext! This warning can be ignored when running in bare mode.\n",
      "2024-11-16 16:56:46.920 Thread 'MainThread': missing ScriptRunContext! This warning can be ignored when running in bare mode.\n",
      "2024-11-16 16:56:46.921 Thread 'MainThread': missing ScriptRunContext! This warning can be ignored when running in bare mode.\n"
     ]
    }
   ],
   "source": [
    "import pandas as pd\n",
    "import numpy as np\n",
    "import plotly.graph_objects as go\n",
    "\n",
    "# Définir la fonction pour afficher l'animation avec une séquence différée entre les lignes\n",
    "def graph_prev_2(index_fusion, valeur_y_fusion, index_pred, valeur_pred):\n",
    "    # S'assurer que les données sont en 1D\n",
    "    index_fusion = pd.Series(index_fusion).values\n",
    "    valeur_y_fusion = pd.Series(valeur_y_fusion).values\n",
    "    index_pred = pd.Series(index_pred).values\n",
    "    valeur_pred = pd.Series(valeur_pred).values\n",
    "    \n",
    "    # Créer des DataFrames pour les données originales et les prévisions\n",
    "    df_fusion = pd.DataFrame({'Date': index_fusion, 'Valeur': valeur_y_fusion, 'Type': 'cours'})\n",
    "    df_pred = pd.DataFrame({'Date': index_pred, 'Valeur': valeur_pred, 'Type': 'prévision'})\n",
    "    \n",
    "    # Calculer le nombre de frames pour chaque ligne\n",
    "    frames = []\n",
    "    max_length_fusion = len(df_fusion)\n",
    "    max_length_pred = len(df_pred)\n",
    "\n",
    "    # Créer la figure initiale\n",
    "    fig = go.Figure()\n",
    "\n",
    "    # Ajouter les deux lignes initialement vides pour l'animation\n",
    "    fig.add_trace(go.Scatter(x=[], y=[], mode='lines', name='Cours', line=dict(color='blue')))\n",
    "    fig.add_trace(go.Scatter(x=[], y=[], mode='lines', name='Prévision', line=dict(color='red')))\n",
    "\n",
    "    # Définir les frames pour l'animation\n",
    "    for i in range(1, max_length_fusion + max_length_pred + 1):\n",
    "        frame_data = []\n",
    "\n",
    "        # Afficher les données du cours jusqu'à ce que la série soit complète\n",
    "        if i <= max_length_fusion:\n",
    "            frame_data.append(go.Scatter(x=df_fusion['Date'][:i], y=df_fusion['Valeur'][:i], mode='lines', line=dict(color='blue')))\n",
    "            frame_data.append(go.Scatter(x=[], y=[], mode='lines', line=dict(color='red')))  # Prévision vide avant la fin du cours\n",
    "        # Commencer à afficher la prévision une fois le cours terminé\n",
    "        else:\n",
    "            frame_data.append(go.Scatter(x=df_fusion['Date'], y=df_fusion['Valeur'], mode='lines', line=dict(color='blue')))\n",
    "            j = i - max_length_fusion  # index pour les données de prévision\n",
    "            frame_data.append(go.Scatter(x=df_pred['Date'][:j], y=df_pred['Valeur'][:j], mode='lines', line=dict(color='red')))\n",
    "\n",
    "        # Ajouter le frame\n",
    "        frames.append(go.Frame(data=frame_data, name=str(i)))\n",
    "\n",
    "    # Ajouter les frames à la figure\n",
    "    fig.frames = frames\n",
    "\n",
    "    # Ajuster les attributs de la figure\n",
    "    fig.update_layout(\n",
    "        xaxis_title=\"Temps\",\n",
    "        yaxis_title=\"prix (usd)\",\n",
    "        title=\"Prévisions \",\n",
    "        hovermode=\"x unified\",\n",
    "        template=\"plotly_white\",\n",
    "        updatemenus=[{\n",
    "            \"type\": \"buttons\",\n",
    "            \"showactive\": False,\n",
    "            \"buttons\": [{\n",
    "                \"label\": \"Play\",\n",
    "                \"method\": \"animate\",\n",
    "                \"args\": [None, {\"frame\": {\"duration\": 100, \"redraw\": True}, \"fromcurrent\": True}]\n",
    "            }]\n",
    "        }]\n",
    "        \n",
    "    )\n",
    "\n",
    "    st.plotly_chart(fig)\n",
    "\n",
    "# Exécuter la fonction avec animation\n",
    "graph_prev_2(BTC_fusion.index, BTC_fusion['Open'], df_BTC_pred.index, df_BTC_pred['Open'])\n",
    "graph_prev_2(ETH_fusion.index,ETH_fusion['Open'],df_ETH_pred.index,df_ETH_pred['Open'])\n",
    "graph_prev_2(BNB_fusion.index,BNB_fusion['Open'],df_BNB_pred.index,df_BNB_pred['Open'])\n"
   ]
  },
  {
   "cell_type": "markdown",
   "metadata": {},
   "source": [
    "jauge animation"
   ]
  },
  {
   "cell_type": "code",
   "execution_count": 311,
   "metadata": {},
   "outputs": [
    {
     "name": "stderr",
     "output_type": "stream",
     "text": [
      "2024-11-16 16:56:46.935 Thread 'MainThread': missing ScriptRunContext! This warning can be ignored when running in bare mode.\n",
      "2024-11-16 16:56:46.935 Thread 'MainThread': missing ScriptRunContext! This warning can be ignored when running in bare mode.\n",
      "2024-11-16 16:56:46.936 Thread 'MainThread': missing ScriptRunContext! This warning can be ignored when running in bare mode.\n",
      "2024-11-16 16:56:46.936 Thread 'MainThread': missing ScriptRunContext! This warning can be ignored when running in bare mode.\n",
      "2024-11-16 16:56:46.944 Thread 'MainThread': missing ScriptRunContext! This warning can be ignored when running in bare mode.\n",
      "2024-11-16 16:56:46.944 Thread 'MainThread': missing ScriptRunContext! This warning can be ignored when running in bare mode.\n",
      "2024-11-16 16:56:46.945 Thread 'MainThread': missing ScriptRunContext! This warning can be ignored when running in bare mode.\n",
      "2024-11-16 16:56:46.945 Thread 'MainThread': missing ScriptRunContext! This warning can be ignored when running in bare mode.\n",
      "2024-11-16 16:56:46.952 Thread 'MainThread': missing ScriptRunContext! This warning can be ignored when running in bare mode.\n",
      "2024-11-16 16:56:46.953 Thread 'MainThread': missing ScriptRunContext! This warning can be ignored when running in bare mode.\n",
      "2024-11-16 16:56:46.953 Thread 'MainThread': missing ScriptRunContext! This warning can be ignored when running in bare mode.\n",
      "2024-11-16 16:56:46.953 Thread 'MainThread': missing ScriptRunContext! This warning can be ignored when running in bare mode.\n"
     ]
    }
   ],
   "source": [
    "import plotly.graph_objects as go\n",
    "\n",
    "def jauge(mape):\n",
    "    fig = go.Figure(go.Indicator(\n",
    "        mode=\"gauge+number\",\n",
    "        value=mape,\n",
    "        domain={'x': [0, 1], 'y': [0, 1]},\n",
    "        title={'text': \"Qualité du modèle de prévision en %\"},\n",
    "        gauge={\n",
    "            'axis': {'range': [0, 20]},  # Plage de 0 à 100%\n",
    "            'bar': {'color': \"black\"},      # Couleur de la barre\n",
    "            'steps': [\n",
    "                {'range': [0, 5], 'color': \"seagreen\"},  # Zone 0-50%\n",
    "                {'range': [5, 20], 'color': \"#DC143C\"}      # Zone 50-100%\n",
    "            ]\n",
    "        }\n",
    "    ))\n",
    "\n",
    "    # Configuration du layout\n",
    "    fig.update_layout(\n",
    "        hovermode=\"x unified\",\n",
    "        template=\"plotly_white\"\n",
    "    )\n",
    "\n",
    "    # Afficher la figure\n",
    "    st.plotly_chart(fig)\n",
    "\n",
    "\n",
    "jauge(mape_BTC)\n",
    "jauge(mape_ETH)\n",
    "jauge(mape_BNB)\n",
    "\n"
   ]
  },
  {
   "cell_type": "code",
   "execution_count": 312,
   "metadata": {},
   "outputs": [
    {
     "name": "stderr",
     "output_type": "stream",
     "text": [
      "2024-11-16 16:56:46.965 Thread 'MainThread': missing ScriptRunContext! This warning can be ignored when running in bare mode.\n",
      "2024-11-16 16:56:46.966 Thread 'MainThread': missing ScriptRunContext! This warning can be ignored when running in bare mode.\n",
      "2024-11-16 16:56:46.966 Thread 'MainThread': missing ScriptRunContext! This warning can be ignored when running in bare mode.\n",
      "2024-11-16 16:56:46.967 Thread 'MainThread': missing ScriptRunContext! This warning can be ignored when running in bare mode.\n"
     ]
    }
   ],
   "source": [
    "essa = jauge(mape_BTC)"
   ]
  },
  {
   "cell_type": "markdown",
   "metadata": {},
   "source": [
    "PAGE INDICATEURS en temps réel"
   ]
  },
  {
   "cell_type": "markdown",
   "metadata": {},
   "source": [
    "GRAPHIQUE bougie avec BB et Volume "
   ]
  },
  {
   "cell_type": "code",
   "execution_count": 313,
   "metadata": {},
   "outputs": [
    {
     "data": {
      "application/vnd.plotly.v1+json": {
       "config": {
        "plotlyServerURL": "https://plot.ly"
       },
       "data": [
        {
         "close": [
          87778,
          88403,
          89416,
          89556,
          89697,
          89375,
          89545,
          89265,
          89601,
          90388,
          90934,
          91359,
          91222,
          91777,
          91251,
          91267,
          91365,
          90948,
          90923,
          91123,
          91379,
          91334,
          91598,
          91566,
          91490,
          91147,
          91179,
          91371,
          91715,
          91406,
          91348,
          91279,
          91383,
          91204,
          91279,
          91324,
          91390,
          91316,
          91408,
          91486,
          91127,
          91169,
          90843,
          90925,
          91040,
          90908,
          90944,
          90973
         ],
         "decreasing": {
          "line": {
           "color": "red"
          }
         },
         "high": [
          89092,
          88732,
          89416,
          89582,
          89746,
          89981,
          89626,
          89802,
          89606,
          90853,
          91241,
          91359,
          91416,
          91777,
          91750,
          91507,
          91422,
          91269,
          91291,
          91166,
          91379,
          91451,
          91598,
          91691,
          91605,
          91388,
          91361,
          91371,
          91715,
          91583,
          91432,
          91436,
          91423,
          91362,
          91279,
          91456,
          91425,
          91433,
          91408,
          91577,
          91430,
          91197,
          91219,
          90947,
          91222,
          90954,
          90944,
          91091
         ],
         "increasing": {
          "line": {
           "color": "green"
          }
         },
         "low": [
          87778,
          88072,
          88433,
          88998,
          89360,
          89338,
          89410,
          89265,
          89301,
          89730,
          90478,
          90807,
          91222,
          91226,
          91251,
          91216,
          91239,
          90885,
          90923,
          90895,
          91000,
          91247,
          91237,
          91445,
          91454,
          91147,
          91136,
          91191,
          91206,
          91406,
          91278,
          91271,
          91223,
          91151,
          91137,
          91318,
          91347,
          91279,
          91269,
          91439,
          91127,
          91034,
          90635,
          90807,
          90907,
          90804,
          90678,
          90933
         ],
         "name": "OHLC",
         "open": [
          89092,
          88187,
          88433,
          89552,
          89360,
          89512,
          89517,
          89802,
          89401,
          89730,
          90478,
          90963,
          91416,
          91350,
          91750,
          91216,
          91239,
          91269,
          91059,
          90895,
          91000,
          91451,
          91269,
          91691,
          91454,
          91388,
          91361,
          91191,
          91312,
          91583,
          91375,
          91436,
          91223,
          91362,
          91151,
          91456,
          91425,
          91279,
          91269,
          91439,
          91430,
          91197,
          91205,
          90807,
          90907,
          90954,
          90726,
          91091
         ],
         "type": "candlestick",
         "x": [
          "2024-11-15T15:30:00",
          "2024-11-15T16:00:00",
          "2024-11-15T16:30:00",
          "2024-11-15T17:00:00",
          "2024-11-15T17:30:00",
          "2024-11-15T18:00:00",
          "2024-11-15T18:30:00",
          "2024-11-15T19:00:00",
          "2024-11-15T19:30:00",
          "2024-11-15T20:00:00",
          "2024-11-15T20:30:00",
          "2024-11-15T21:00:00",
          "2024-11-15T21:30:00",
          "2024-11-15T22:00:00",
          "2024-11-15T22:30:00",
          "2024-11-15T23:00:00",
          "2024-11-15T23:30:00",
          "2024-11-16T00:00:00",
          "2024-11-16T00:30:00",
          "2024-11-16T01:00:00",
          "2024-11-16T01:30:00",
          "2024-11-16T02:00:00",
          "2024-11-16T02:30:00",
          "2024-11-16T03:00:00",
          "2024-11-16T03:30:00",
          "2024-11-16T04:00:00",
          "2024-11-16T04:30:00",
          "2024-11-16T05:00:00",
          "2024-11-16T05:30:00",
          "2024-11-16T06:00:00",
          "2024-11-16T06:30:00",
          "2024-11-16T07:00:00",
          "2024-11-16T07:30:00",
          "2024-11-16T08:00:00",
          "2024-11-16T08:30:00",
          "2024-11-16T09:00:00",
          "2024-11-16T09:30:00",
          "2024-11-16T10:00:00",
          "2024-11-16T10:30:00",
          "2024-11-16T11:00:00",
          "2024-11-16T11:30:00",
          "2024-11-16T12:00:00",
          "2024-11-16T12:30:00",
          "2024-11-16T13:00:00",
          "2024-11-16T13:30:00",
          "2024-11-16T14:00:00",
          "2024-11-16T14:30:00",
          "2024-11-16T15:00:00"
         ]
        },
        {
         "line": {
          "color": "red"
         },
         "mode": "lines",
         "name": "Upper Bollinger Band",
         "type": "scatter",
         "x": [
          "2024-11-15T15:30:00",
          "2024-11-15T16:00:00",
          "2024-11-15T16:30:00",
          "2024-11-15T17:00:00",
          "2024-11-15T17:30:00",
          "2024-11-15T18:00:00",
          "2024-11-15T18:30:00",
          "2024-11-15T19:00:00",
          "2024-11-15T19:30:00",
          "2024-11-15T20:00:00",
          "2024-11-15T20:30:00",
          "2024-11-15T21:00:00",
          "2024-11-15T21:30:00",
          "2024-11-15T22:00:00",
          "2024-11-15T22:30:00",
          "2024-11-15T23:00:00",
          "2024-11-15T23:30:00",
          "2024-11-16T00:00:00",
          "2024-11-16T00:30:00",
          "2024-11-16T01:00:00",
          "2024-11-16T01:30:00",
          "2024-11-16T02:00:00",
          "2024-11-16T02:30:00",
          "2024-11-16T03:00:00",
          "2024-11-16T03:30:00",
          "2024-11-16T04:00:00",
          "2024-11-16T04:30:00",
          "2024-11-16T05:00:00",
          "2024-11-16T05:30:00",
          "2024-11-16T06:00:00",
          "2024-11-16T06:30:00",
          "2024-11-16T07:00:00",
          "2024-11-16T07:30:00",
          "2024-11-16T08:00:00",
          "2024-11-16T08:30:00",
          "2024-11-16T09:00:00",
          "2024-11-16T09:30:00",
          "2024-11-16T10:00:00",
          "2024-11-16T10:30:00",
          "2024-11-16T11:00:00",
          "2024-11-16T11:30:00",
          "2024-11-16T12:00:00",
          "2024-11-16T12:30:00",
          "2024-11-16T13:00:00",
          "2024-11-16T13:30:00",
          "2024-11-16T14:00:00",
          "2024-11-16T14:30:00",
          "2024-11-16T15:00:00"
         ],
         "y": [
          null,
          91839.15818486913,
          90910.37996819174,
          91925.39704766052,
          91879.61683019438,
          91924.63783583198,
          91902.30647231644,
          92068.5654400071,
          91931.05911846225,
          91957.7893844881,
          92684.34060139403,
          93052.18952446998,
          93588.77378844438,
          94269.79031106397,
          94941.74459441553,
          94992.92138230432,
          94862.88699332628,
          94731.38527692702,
          93886.37493121266,
          92875.57354787474,
          92490.24142079904,
          92503.33738059305,
          92460.17826961436,
          92678.7266519134,
          92436.71525418629,
          92469.61020175718,
          92488.12944076306,
          92489.25496775545,
          92453.32316085426,
          92348.85704324489,
          92141.59146417647,
          92138.00258044405,
          92160.43154670137,
          91931.88880397417,
          91973.02631045307,
          92003.314345717,
          92021.70341388484,
          91984.89903864812,
          91993.3839867262,
          91867.37625286977,
          91889.53520110999,
          91887.87847181107,
          91895.57756548663,
          92252.89956719402,
          92372.25071222174,
          92335.89986362231,
          92395.62999825149,
          92346.5128839987
         ]
        },
        {
         "line": {
          "color": "green"
         },
         "mode": "lines",
         "name": "Lower Bollinger Band",
         "type": "scatter",
         "x": [
          "2024-11-15T15:30:00",
          "2024-11-15T16:00:00",
          "2024-11-15T16:30:00",
          "2024-11-15T17:00:00",
          "2024-11-15T17:30:00",
          "2024-11-15T18:00:00",
          "2024-11-15T18:30:00",
          "2024-11-15T19:00:00",
          "2024-11-15T19:30:00",
          "2024-11-15T20:00:00",
          "2024-11-15T20:30:00",
          "2024-11-15T21:00:00",
          "2024-11-15T21:30:00",
          "2024-11-15T22:00:00",
          "2024-11-15T22:30:00",
          "2024-11-15T23:00:00",
          "2024-11-15T23:30:00",
          "2024-11-16T00:00:00",
          "2024-11-16T00:30:00",
          "2024-11-16T01:00:00",
          "2024-11-16T01:30:00",
          "2024-11-16T02:00:00",
          "2024-11-16T02:30:00",
          "2024-11-16T03:00:00",
          "2024-11-16T03:30:00",
          "2024-11-16T04:00:00",
          "2024-11-16T04:30:00",
          "2024-11-16T05:00:00",
          "2024-11-16T05:30:00",
          "2024-11-16T06:00:00",
          "2024-11-16T06:30:00",
          "2024-11-16T07:00:00",
          "2024-11-16T07:30:00",
          "2024-11-16T08:00:00",
          "2024-11-16T08:30:00",
          "2024-11-16T09:00:00",
          "2024-11-16T09:30:00",
          "2024-11-16T10:00:00",
          "2024-11-16T10:30:00",
          "2024-11-16T11:00:00",
          "2024-11-16T11:30:00",
          "2024-11-16T12:00:00",
          "2024-11-16T12:30:00",
          "2024-11-16T13:00:00",
          "2024-11-16T13:30:00",
          "2024-11-16T14:00:00",
          "2024-11-16T14:30:00",
          "2024-11-16T15:00:00"
         ],
         "y": [
          null,
          85439.84181513087,
          86230.9533651416,
          85706.60295233948,
          85969.98316980562,
          86120.69549750137,
          86284.26495625498,
          86295.1845599929,
          86481.38532598219,
          86559.41061551191,
          86110.05939860597,
          86297.41047553002,
          86357.42621155563,
          86036.00968893601,
          85842.05540558446,
          86131.67861769568,
          86606.11300667372,
          87031.01472307298,
          88207.62506878734,
          89451.42645212526,
          89941.15857920096,
          90025.66261940695,
          90039.42173038564,
          89889.07334808659,
          90071.88474581372,
          90073.38979824282,
          90079.27055923693,
          90062.54503224454,
          90149.07683914574,
          90391.14295675511,
          90673.40853582353,
          90673.99741955595,
          90642.36845329862,
          90805.11119602583,
          90703.37368954692,
          90686.685654283,
          90681.09658611515,
          90735.50096135188,
          90718.41601327379,
          90815.62374713023,
          90804.46479889001,
          90758.32152818894,
          90747.02243451338,
          90278.70043280598,
          90110.54928777825,
          90046.50013637768,
          89846.97000174852,
          89858.4871160013
         ]
        }
       ],
       "layout": {
        "template": {
         "data": {
          "bar": [
           {
            "error_x": {
             "color": "#f2f5fa"
            },
            "error_y": {
             "color": "#f2f5fa"
            },
            "marker": {
             "line": {
              "color": "rgb(17,17,17)",
              "width": 0.5
             },
             "pattern": {
              "fillmode": "overlay",
              "size": 10,
              "solidity": 0.2
             }
            },
            "type": "bar"
           }
          ],
          "barpolar": [
           {
            "marker": {
             "line": {
              "color": "rgb(17,17,17)",
              "width": 0.5
             },
             "pattern": {
              "fillmode": "overlay",
              "size": 10,
              "solidity": 0.2
             }
            },
            "type": "barpolar"
           }
          ],
          "carpet": [
           {
            "aaxis": {
             "endlinecolor": "#A2B1C6",
             "gridcolor": "#506784",
             "linecolor": "#506784",
             "minorgridcolor": "#506784",
             "startlinecolor": "#A2B1C6"
            },
            "baxis": {
             "endlinecolor": "#A2B1C6",
             "gridcolor": "#506784",
             "linecolor": "#506784",
             "minorgridcolor": "#506784",
             "startlinecolor": "#A2B1C6"
            },
            "type": "carpet"
           }
          ],
          "choropleth": [
           {
            "colorbar": {
             "outlinewidth": 0,
             "ticks": ""
            },
            "type": "choropleth"
           }
          ],
          "contour": [
           {
            "colorbar": {
             "outlinewidth": 0,
             "ticks": ""
            },
            "colorscale": [
             [
              0,
              "#0d0887"
             ],
             [
              0.1111111111111111,
              "#46039f"
             ],
             [
              0.2222222222222222,
              "#7201a8"
             ],
             [
              0.3333333333333333,
              "#9c179e"
             ],
             [
              0.4444444444444444,
              "#bd3786"
             ],
             [
              0.5555555555555556,
              "#d8576b"
             ],
             [
              0.6666666666666666,
              "#ed7953"
             ],
             [
              0.7777777777777778,
              "#fb9f3a"
             ],
             [
              0.8888888888888888,
              "#fdca26"
             ],
             [
              1,
              "#f0f921"
             ]
            ],
            "type": "contour"
           }
          ],
          "contourcarpet": [
           {
            "colorbar": {
             "outlinewidth": 0,
             "ticks": ""
            },
            "type": "contourcarpet"
           }
          ],
          "heatmap": [
           {
            "colorbar": {
             "outlinewidth": 0,
             "ticks": ""
            },
            "colorscale": [
             [
              0,
              "#0d0887"
             ],
             [
              0.1111111111111111,
              "#46039f"
             ],
             [
              0.2222222222222222,
              "#7201a8"
             ],
             [
              0.3333333333333333,
              "#9c179e"
             ],
             [
              0.4444444444444444,
              "#bd3786"
             ],
             [
              0.5555555555555556,
              "#d8576b"
             ],
             [
              0.6666666666666666,
              "#ed7953"
             ],
             [
              0.7777777777777778,
              "#fb9f3a"
             ],
             [
              0.8888888888888888,
              "#fdca26"
             ],
             [
              1,
              "#f0f921"
             ]
            ],
            "type": "heatmap"
           }
          ],
          "heatmapgl": [
           {
            "colorbar": {
             "outlinewidth": 0,
             "ticks": ""
            },
            "colorscale": [
             [
              0,
              "#0d0887"
             ],
             [
              0.1111111111111111,
              "#46039f"
             ],
             [
              0.2222222222222222,
              "#7201a8"
             ],
             [
              0.3333333333333333,
              "#9c179e"
             ],
             [
              0.4444444444444444,
              "#bd3786"
             ],
             [
              0.5555555555555556,
              "#d8576b"
             ],
             [
              0.6666666666666666,
              "#ed7953"
             ],
             [
              0.7777777777777778,
              "#fb9f3a"
             ],
             [
              0.8888888888888888,
              "#fdca26"
             ],
             [
              1,
              "#f0f921"
             ]
            ],
            "type": "heatmapgl"
           }
          ],
          "histogram": [
           {
            "marker": {
             "pattern": {
              "fillmode": "overlay",
              "size": 10,
              "solidity": 0.2
             }
            },
            "type": "histogram"
           }
          ],
          "histogram2d": [
           {
            "colorbar": {
             "outlinewidth": 0,
             "ticks": ""
            },
            "colorscale": [
             [
              0,
              "#0d0887"
             ],
             [
              0.1111111111111111,
              "#46039f"
             ],
             [
              0.2222222222222222,
              "#7201a8"
             ],
             [
              0.3333333333333333,
              "#9c179e"
             ],
             [
              0.4444444444444444,
              "#bd3786"
             ],
             [
              0.5555555555555556,
              "#d8576b"
             ],
             [
              0.6666666666666666,
              "#ed7953"
             ],
             [
              0.7777777777777778,
              "#fb9f3a"
             ],
             [
              0.8888888888888888,
              "#fdca26"
             ],
             [
              1,
              "#f0f921"
             ]
            ],
            "type": "histogram2d"
           }
          ],
          "histogram2dcontour": [
           {
            "colorbar": {
             "outlinewidth": 0,
             "ticks": ""
            },
            "colorscale": [
             [
              0,
              "#0d0887"
             ],
             [
              0.1111111111111111,
              "#46039f"
             ],
             [
              0.2222222222222222,
              "#7201a8"
             ],
             [
              0.3333333333333333,
              "#9c179e"
             ],
             [
              0.4444444444444444,
              "#bd3786"
             ],
             [
              0.5555555555555556,
              "#d8576b"
             ],
             [
              0.6666666666666666,
              "#ed7953"
             ],
             [
              0.7777777777777778,
              "#fb9f3a"
             ],
             [
              0.8888888888888888,
              "#fdca26"
             ],
             [
              1,
              "#f0f921"
             ]
            ],
            "type": "histogram2dcontour"
           }
          ],
          "mesh3d": [
           {
            "colorbar": {
             "outlinewidth": 0,
             "ticks": ""
            },
            "type": "mesh3d"
           }
          ],
          "parcoords": [
           {
            "line": {
             "colorbar": {
              "outlinewidth": 0,
              "ticks": ""
             }
            },
            "type": "parcoords"
           }
          ],
          "pie": [
           {
            "automargin": true,
            "type": "pie"
           }
          ],
          "scatter": [
           {
            "marker": {
             "line": {
              "color": "#283442"
             }
            },
            "type": "scatter"
           }
          ],
          "scatter3d": [
           {
            "line": {
             "colorbar": {
              "outlinewidth": 0,
              "ticks": ""
             }
            },
            "marker": {
             "colorbar": {
              "outlinewidth": 0,
              "ticks": ""
             }
            },
            "type": "scatter3d"
           }
          ],
          "scattercarpet": [
           {
            "marker": {
             "colorbar": {
              "outlinewidth": 0,
              "ticks": ""
             }
            },
            "type": "scattercarpet"
           }
          ],
          "scattergeo": [
           {
            "marker": {
             "colorbar": {
              "outlinewidth": 0,
              "ticks": ""
             }
            },
            "type": "scattergeo"
           }
          ],
          "scattergl": [
           {
            "marker": {
             "line": {
              "color": "#283442"
             }
            },
            "type": "scattergl"
           }
          ],
          "scattermapbox": [
           {
            "marker": {
             "colorbar": {
              "outlinewidth": 0,
              "ticks": ""
             }
            },
            "type": "scattermapbox"
           }
          ],
          "scatterpolar": [
           {
            "marker": {
             "colorbar": {
              "outlinewidth": 0,
              "ticks": ""
             }
            },
            "type": "scatterpolar"
           }
          ],
          "scatterpolargl": [
           {
            "marker": {
             "colorbar": {
              "outlinewidth": 0,
              "ticks": ""
             }
            },
            "type": "scatterpolargl"
           }
          ],
          "scatterternary": [
           {
            "marker": {
             "colorbar": {
              "outlinewidth": 0,
              "ticks": ""
             }
            },
            "type": "scatterternary"
           }
          ],
          "surface": [
           {
            "colorbar": {
             "outlinewidth": 0,
             "ticks": ""
            },
            "colorscale": [
             [
              0,
              "#0d0887"
             ],
             [
              0.1111111111111111,
              "#46039f"
             ],
             [
              0.2222222222222222,
              "#7201a8"
             ],
             [
              0.3333333333333333,
              "#9c179e"
             ],
             [
              0.4444444444444444,
              "#bd3786"
             ],
             [
              0.5555555555555556,
              "#d8576b"
             ],
             [
              0.6666666666666666,
              "#ed7953"
             ],
             [
              0.7777777777777778,
              "#fb9f3a"
             ],
             [
              0.8888888888888888,
              "#fdca26"
             ],
             [
              1,
              "#f0f921"
             ]
            ],
            "type": "surface"
           }
          ],
          "table": [
           {
            "cells": {
             "fill": {
              "color": "#506784"
             },
             "line": {
              "color": "rgb(17,17,17)"
             }
            },
            "header": {
             "fill": {
              "color": "#2a3f5f"
             },
             "line": {
              "color": "rgb(17,17,17)"
             }
            },
            "type": "table"
           }
          ]
         },
         "layout": {
          "annotationdefaults": {
           "arrowcolor": "#f2f5fa",
           "arrowhead": 0,
           "arrowwidth": 1
          },
          "autotypenumbers": "strict",
          "coloraxis": {
           "colorbar": {
            "outlinewidth": 0,
            "ticks": ""
           }
          },
          "colorscale": {
           "diverging": [
            [
             0,
             "#8e0152"
            ],
            [
             0.1,
             "#c51b7d"
            ],
            [
             0.2,
             "#de77ae"
            ],
            [
             0.3,
             "#f1b6da"
            ],
            [
             0.4,
             "#fde0ef"
            ],
            [
             0.5,
             "#f7f7f7"
            ],
            [
             0.6,
             "#e6f5d0"
            ],
            [
             0.7,
             "#b8e186"
            ],
            [
             0.8,
             "#7fbc41"
            ],
            [
             0.9,
             "#4d9221"
            ],
            [
             1,
             "#276419"
            ]
           ],
           "sequential": [
            [
             0,
             "#0d0887"
            ],
            [
             0.1111111111111111,
             "#46039f"
            ],
            [
             0.2222222222222222,
             "#7201a8"
            ],
            [
             0.3333333333333333,
             "#9c179e"
            ],
            [
             0.4444444444444444,
             "#bd3786"
            ],
            [
             0.5555555555555556,
             "#d8576b"
            ],
            [
             0.6666666666666666,
             "#ed7953"
            ],
            [
             0.7777777777777778,
             "#fb9f3a"
            ],
            [
             0.8888888888888888,
             "#fdca26"
            ],
            [
             1,
             "#f0f921"
            ]
           ],
           "sequentialminus": [
            [
             0,
             "#0d0887"
            ],
            [
             0.1111111111111111,
             "#46039f"
            ],
            [
             0.2222222222222222,
             "#7201a8"
            ],
            [
             0.3333333333333333,
             "#9c179e"
            ],
            [
             0.4444444444444444,
             "#bd3786"
            ],
            [
             0.5555555555555556,
             "#d8576b"
            ],
            [
             0.6666666666666666,
             "#ed7953"
            ],
            [
             0.7777777777777778,
             "#fb9f3a"
            ],
            [
             0.8888888888888888,
             "#fdca26"
            ],
            [
             1,
             "#f0f921"
            ]
           ]
          },
          "colorway": [
           "#636efa",
           "#EF553B",
           "#00cc96",
           "#ab63fa",
           "#FFA15A",
           "#19d3f3",
           "#FF6692",
           "#B6E880",
           "#FF97FF",
           "#FECB52"
          ],
          "font": {
           "color": "#f2f5fa"
          },
          "geo": {
           "bgcolor": "rgb(17,17,17)",
           "lakecolor": "rgb(17,17,17)",
           "landcolor": "rgb(17,17,17)",
           "showlakes": true,
           "showland": true,
           "subunitcolor": "#506784"
          },
          "hoverlabel": {
           "align": "left"
          },
          "hovermode": "closest",
          "mapbox": {
           "style": "dark"
          },
          "paper_bgcolor": "rgb(17,17,17)",
          "plot_bgcolor": "rgb(17,17,17)",
          "polar": {
           "angularaxis": {
            "gridcolor": "#506784",
            "linecolor": "#506784",
            "ticks": ""
           },
           "bgcolor": "rgb(17,17,17)",
           "radialaxis": {
            "gridcolor": "#506784",
            "linecolor": "#506784",
            "ticks": ""
           }
          },
          "scene": {
           "xaxis": {
            "backgroundcolor": "rgb(17,17,17)",
            "gridcolor": "#506784",
            "gridwidth": 2,
            "linecolor": "#506784",
            "showbackground": true,
            "ticks": "",
            "zerolinecolor": "#C8D4E3"
           },
           "yaxis": {
            "backgroundcolor": "rgb(17,17,17)",
            "gridcolor": "#506784",
            "gridwidth": 2,
            "linecolor": "#506784",
            "showbackground": true,
            "ticks": "",
            "zerolinecolor": "#C8D4E3"
           },
           "zaxis": {
            "backgroundcolor": "rgb(17,17,17)",
            "gridcolor": "#506784",
            "gridwidth": 2,
            "linecolor": "#506784",
            "showbackground": true,
            "ticks": "",
            "zerolinecolor": "#C8D4E3"
           }
          },
          "shapedefaults": {
           "line": {
            "color": "#f2f5fa"
           }
          },
          "sliderdefaults": {
           "bgcolor": "#C8D4E3",
           "bordercolor": "rgb(17,17,17)",
           "borderwidth": 1,
           "tickwidth": 0
          },
          "ternary": {
           "aaxis": {
            "gridcolor": "#506784",
            "linecolor": "#506784",
            "ticks": ""
           },
           "baxis": {
            "gridcolor": "#506784",
            "linecolor": "#506784",
            "ticks": ""
           },
           "bgcolor": "rgb(17,17,17)",
           "caxis": {
            "gridcolor": "#506784",
            "linecolor": "#506784",
            "ticks": ""
           }
          },
          "title": {
           "x": 0.05
          },
          "updatemenudefaults": {
           "bgcolor": "#506784",
           "borderwidth": 0
          },
          "xaxis": {
           "automargin": true,
           "gridcolor": "#283442",
           "linecolor": "#506784",
           "ticks": "",
           "title": {
            "standoff": 15
           },
           "zerolinecolor": "#283442",
           "zerolinewidth": 2
          },
          "yaxis": {
           "automargin": true,
           "gridcolor": "#283442",
           "linecolor": "#506784",
           "ticks": "",
           "title": {
            "standoff": 15
           },
           "zerolinecolor": "#283442",
           "zerolinewidth": 2
          }
         }
        },
        "title": {
         "text": "graphiques OHLC  du Bitcoin"
        },
        "xaxis": {
         "title": {
          "text": "périodes"
         }
        },
        "yaxis": {
         "title": {
          "text": "prix en dollars "
         }
        }
       }
      }
     },
     "metadata": {},
     "output_type": "display_data"
    },
    {
     "data": {
      "application/vnd.plotly.v1+json": {
       "config": {
        "plotlyServerURL": "https://plot.ly"
       },
       "data": [
        {
         "close": [
          3018.64,
          3028.43,
          3049.06,
          3035.8,
          3048.8,
          3037.79,
          3032.47,
          3016.77,
          3031.56,
          3043.35,
          3066.36,
          3088.09,
          3090.86,
          3098.14,
          3088.71,
          3100.36,
          3103.17,
          3093.91,
          3075.89,
          3083.57,
          3107.39,
          3102.16,
          3107.97,
          3114.88,
          3122.44,
          3132.17,
          3144.23,
          3136.62,
          3136.5,
          3131.35,
          3126.37,
          3120.27,
          3117.64,
          3108.12,
          3113.79,
          3117.04,
          3119.62,
          3122.6,
          3125.21,
          3130.01,
          3132.09,
          3177.19,
          3195.46,
          3176.27,
          3184.78,
          3169.83,
          3171.07,
          3166.18
         ],
         "decreasing": {
          "line": {
           "color": "red"
          }
         },
         "high": [
          3056.27,
          3039.3,
          3049.06,
          3050.05,
          3049.9,
          3056.58,
          3043.6,
          3035.04,
          3031.56,
          3061.69,
          3070.02,
          3088.09,
          3093.54,
          3098.14,
          3095.57,
          3114.45,
          3108.04,
          3100.89,
          3092.38,
          3084.67,
          3107.39,
          3107.66,
          3109.25,
          3116.66,
          3122.44,
          3134.74,
          3150.02,
          3144.56,
          3136.5,
          3133.29,
          3131.17,
          3127.93,
          3122.98,
          3114.13,
          3113.79,
          3119.15,
          3124.72,
          3122.6,
          3125.21,
          3132.22,
          3132.39,
          3177.19,
          3200.21,
          3190.87,
          3189.19,
          3179.95,
          3178.54,
          3175.68
         ],
         "increasing": {
          "line": {
           "color": "green"
          }
         },
         "low": [
          3018.64,
          3027.5,
          3026.09,
          3022.01,
          3032,
          3036,
          3032.47,
          3016.77,
          3018.52,
          3035.99,
          3046.17,
          3065.2,
          3085.94,
          3086.09,
          3081.94,
          3098.63,
          3101.79,
          3093.26,
          3075.89,
          3073.68,
          3081.02,
          3100.01,
          3098.2,
          3108.83,
          3111.97,
          3125.16,
          3144.23,
          3134.36,
          3128.78,
          3128.67,
          3125.83,
          3119.82,
          3116.23,
          3105.79,
          3108.2,
          3114.49,
          3119.62,
          3115.13,
          3118.65,
          3125.72,
          3125.08,
          3143.59,
          3185.33,
          3176.27,
          3175.63,
          3164.73,
          3162.87,
          3166.18
         ],
         "name": "OHLC",
         "open": [
          3056.27,
          3039.06,
          3026.09,
          3050.05,
          3032,
          3040.58,
          3039.09,
          3035.04,
          3023.22,
          3035.99,
          3046.17,
          3069.48,
          3091.25,
          3092.59,
          3095.57,
          3098.63,
          3101.92,
          3100.89,
          3092.38,
          3073.68,
          3081.02,
          3107.66,
          3100.02,
          3109.89,
          3111.97,
          3126.79,
          3148.09,
          3144.08,
          3134.23,
          3133.25,
          3131.17,
          3127.93,
          3116.23,
          3114.13,
          3108.2,
          3117.96,
          3120.9,
          3115.13,
          3118.97,
          3125.72,
          3127.12,
          3143.59,
          3185.33,
          3190.87,
          3175.63,
          3179.95,
          3167.89,
          3175.68
         ],
         "type": "candlestick",
         "x": [
          "2024-11-15T15:30:00",
          "2024-11-15T16:00:00",
          "2024-11-15T16:30:00",
          "2024-11-15T17:00:00",
          "2024-11-15T17:30:00",
          "2024-11-15T18:00:00",
          "2024-11-15T18:30:00",
          "2024-11-15T19:00:00",
          "2024-11-15T19:30:00",
          "2024-11-15T20:00:00",
          "2024-11-15T20:30:00",
          "2024-11-15T21:00:00",
          "2024-11-15T21:30:00",
          "2024-11-15T22:00:00",
          "2024-11-15T22:30:00",
          "2024-11-15T23:00:00",
          "2024-11-15T23:30:00",
          "2024-11-16T00:00:00",
          "2024-11-16T00:30:00",
          "2024-11-16T01:00:00",
          "2024-11-16T01:30:00",
          "2024-11-16T02:00:00",
          "2024-11-16T02:30:00",
          "2024-11-16T03:00:00",
          "2024-11-16T03:30:00",
          "2024-11-16T04:00:00",
          "2024-11-16T04:30:00",
          "2024-11-16T05:00:00",
          "2024-11-16T05:30:00",
          "2024-11-16T06:00:00",
          "2024-11-16T06:30:00",
          "2024-11-16T07:00:00",
          "2024-11-16T07:30:00",
          "2024-11-16T08:00:00",
          "2024-11-16T08:30:00",
          "2024-11-16T09:00:00",
          "2024-11-16T09:30:00",
          "2024-11-16T10:00:00",
          "2024-11-16T10:30:00",
          "2024-11-16T11:00:00",
          "2024-11-16T11:30:00",
          "2024-11-16T12:00:00",
          "2024-11-16T12:30:00",
          "2024-11-16T13:00:00",
          "2024-11-16T13:30:00",
          "2024-11-16T14:00:00",
          "2024-11-16T14:30:00",
          "2024-11-16T15:00:00"
         ]
        },
        {
         "line": {
          "color": "red"
         },
         "mode": "lines",
         "name": "Upper Bollinger Band",
         "type": "scatter",
         "x": [
          "2024-11-15T15:30:00",
          "2024-11-15T16:00:00",
          "2024-11-15T16:30:00",
          "2024-11-15T17:00:00",
          "2024-11-15T17:30:00",
          "2024-11-15T18:00:00",
          "2024-11-15T18:30:00",
          "2024-11-15T19:00:00",
          "2024-11-15T19:30:00",
          "2024-11-15T20:00:00",
          "2024-11-15T20:30:00",
          "2024-11-15T21:00:00",
          "2024-11-15T21:30:00",
          "2024-11-15T22:00:00",
          "2024-11-15T22:30:00",
          "2024-11-15T23:00:00",
          "2024-11-15T23:30:00",
          "2024-11-16T00:00:00",
          "2024-11-16T00:30:00",
          "2024-11-16T01:00:00",
          "2024-11-16T01:30:00",
          "2024-11-16T02:00:00",
          "2024-11-16T02:30:00",
          "2024-11-16T03:00:00",
          "2024-11-16T03:30:00",
          "2024-11-16T04:00:00",
          "2024-11-16T04:30:00",
          "2024-11-16T05:00:00",
          "2024-11-16T05:30:00",
          "2024-11-16T06:00:00",
          "2024-11-16T06:30:00",
          "2024-11-16T07:00:00",
          "2024-11-16T07:30:00",
          "2024-11-16T08:00:00",
          "2024-11-16T08:30:00",
          "2024-11-16T09:00:00",
          "2024-11-16T09:30:00",
          "2024-11-16T10:00:00",
          "2024-11-16T10:30:00",
          "2024-11-16T11:00:00",
          "2024-11-16T11:30:00",
          "2024-11-16T12:00:00",
          "2024-11-16T12:30:00",
          "2024-11-16T13:00:00",
          "2024-11-16T13:30:00",
          "2024-11-16T14:00:00",
          "2024-11-16T14:30:00",
          "2024-11-16T15:00:00"
         ],
         "y": [
          null,
          3108.5115385211025,
          3116.1711261237,
          3109.149528421486,
          3103.027724820518,
          3096.428464017942,
          3091.4323550315585,
          3087.9329146131895,
          3090.7591556175157,
          3087.638356764948,
          3078.0227744164376,
          3106.198071330563,
          3146.659296006198,
          3174.9919909116406,
          3194.893826829012,
          3211.7157493613313,
          3223.3607806116324,
          3224.7472407542054,
          3201.2173552171957,
          3175.2070108617936,
          3146.198892126213,
          3143.899752488547,
          3145.5630378567166,
          3152.599836382893,
          3159.473460355271,
          3177.5261604134093,
          3212.83249022544,
          3232.831196600085,
          3238.5666846516056,
          3225.5006957549244,
          3206.5970230236685,
          3202.973656445657,
          3192.094555283809,
          3189.380014127995,
          3192.122387597214,
          3193.3575444557277,
          3180.2674035709774,
          3167.425873941868,
          3160.5041136244795,
          3154.4626216909696,
          3150.7643633068124,
          3169.4216916301402,
          3239.727887666384,
          3281.953968398822,
          3292.6865317537536,
          3303.0964959252074,
          3302.4094239898027,
          3295.958823916507
         ]
        },
        {
         "line": {
          "color": "green"
         },
         "mode": "lines",
         "name": "Lower Bollinger Band",
         "type": "scatter",
         "x": [
          "2024-11-15T15:30:00",
          "2024-11-15T16:00:00",
          "2024-11-15T16:30:00",
          "2024-11-15T17:00:00",
          "2024-11-15T17:30:00",
          "2024-11-15T18:00:00",
          "2024-11-15T18:30:00",
          "2024-11-15T19:00:00",
          "2024-11-15T19:30:00",
          "2024-11-15T20:00:00",
          "2024-11-15T20:30:00",
          "2024-11-15T21:00:00",
          "2024-11-15T21:30:00",
          "2024-11-15T22:00:00",
          "2024-11-15T22:30:00",
          "2024-11-15T23:00:00",
          "2024-11-15T23:30:00",
          "2024-11-16T00:00:00",
          "2024-11-16T00:30:00",
          "2024-11-16T01:00:00",
          "2024-11-16T01:30:00",
          "2024-11-16T02:00:00",
          "2024-11-16T02:30:00",
          "2024-11-16T03:00:00",
          "2024-11-16T03:30:00",
          "2024-11-16T04:00:00",
          "2024-11-16T04:30:00",
          "2024-11-16T05:00:00",
          "2024-11-16T05:30:00",
          "2024-11-16T06:00:00",
          "2024-11-16T06:30:00",
          "2024-11-16T07:00:00",
          "2024-11-16T07:30:00",
          "2024-11-16T08:00:00",
          "2024-11-16T08:30:00",
          "2024-11-16T09:00:00",
          "2024-11-16T09:30:00",
          "2024-11-16T10:00:00",
          "2024-11-16T10:30:00",
          "2024-11-16T11:00:00",
          "2024-11-16T11:30:00",
          "2024-11-16T12:00:00",
          "2024-11-16T12:30:00",
          "2024-11-16T13:00:00",
          "2024-11-16T13:30:00",
          "2024-11-16T14:00:00",
          "2024-11-16T14:30:00",
          "2024-11-16T15:00:00"
         ],
         "y": [
          null,
          2986.8184614788975,
          2964.7755405429666,
          2976.5854715785144,
          2978.360275179483,
          2984.9215359820573,
          2989.4647878255846,
          2991.6120853868106,
          2985.107511049151,
          2987.839643235052,
          2995.435225583563,
          2973.3439286694374,
          2945.9147039938025,
          2926.0900090883597,
          2918.902173170988,
          2913.6902506386696,
          2914.6112193883673,
          2926.3947592457944,
          2963.7566447828044,
          2997.304989138207,
          3033.283107873787,
          3043.2182475114532,
          3043.3089621432837,
          3039.7321636171073,
          3036.138539644728,
          3023.7178395865903,
          2997.64550977456,
          2986.284803399915,
          2988.9193153483943,
          3013.899304245075,
          3042.832976976331,
          3050.5103435543424,
          3064.631444716191,
          3068.1939858720048,
          3064.6976124027865,
          3061.6964555442723,
          3069.3485964290226,
          3076.4001260581313,
          3080.26988637552,
          3084.8053783090304,
          3087.693636693188,
          3072.16830836986,
          3015.682112333616,
          2988.804031601178,
          2991.557468246246,
          2993.5455040747925,
          3003.6305760101964,
          3022.191176083493
         ]
        }
       ],
       "layout": {
        "template": {
         "data": {
          "bar": [
           {
            "error_x": {
             "color": "#f2f5fa"
            },
            "error_y": {
             "color": "#f2f5fa"
            },
            "marker": {
             "line": {
              "color": "rgb(17,17,17)",
              "width": 0.5
             },
             "pattern": {
              "fillmode": "overlay",
              "size": 10,
              "solidity": 0.2
             }
            },
            "type": "bar"
           }
          ],
          "barpolar": [
           {
            "marker": {
             "line": {
              "color": "rgb(17,17,17)",
              "width": 0.5
             },
             "pattern": {
              "fillmode": "overlay",
              "size": 10,
              "solidity": 0.2
             }
            },
            "type": "barpolar"
           }
          ],
          "carpet": [
           {
            "aaxis": {
             "endlinecolor": "#A2B1C6",
             "gridcolor": "#506784",
             "linecolor": "#506784",
             "minorgridcolor": "#506784",
             "startlinecolor": "#A2B1C6"
            },
            "baxis": {
             "endlinecolor": "#A2B1C6",
             "gridcolor": "#506784",
             "linecolor": "#506784",
             "minorgridcolor": "#506784",
             "startlinecolor": "#A2B1C6"
            },
            "type": "carpet"
           }
          ],
          "choropleth": [
           {
            "colorbar": {
             "outlinewidth": 0,
             "ticks": ""
            },
            "type": "choropleth"
           }
          ],
          "contour": [
           {
            "colorbar": {
             "outlinewidth": 0,
             "ticks": ""
            },
            "colorscale": [
             [
              0,
              "#0d0887"
             ],
             [
              0.1111111111111111,
              "#46039f"
             ],
             [
              0.2222222222222222,
              "#7201a8"
             ],
             [
              0.3333333333333333,
              "#9c179e"
             ],
             [
              0.4444444444444444,
              "#bd3786"
             ],
             [
              0.5555555555555556,
              "#d8576b"
             ],
             [
              0.6666666666666666,
              "#ed7953"
             ],
             [
              0.7777777777777778,
              "#fb9f3a"
             ],
             [
              0.8888888888888888,
              "#fdca26"
             ],
             [
              1,
              "#f0f921"
             ]
            ],
            "type": "contour"
           }
          ],
          "contourcarpet": [
           {
            "colorbar": {
             "outlinewidth": 0,
             "ticks": ""
            },
            "type": "contourcarpet"
           }
          ],
          "heatmap": [
           {
            "colorbar": {
             "outlinewidth": 0,
             "ticks": ""
            },
            "colorscale": [
             [
              0,
              "#0d0887"
             ],
             [
              0.1111111111111111,
              "#46039f"
             ],
             [
              0.2222222222222222,
              "#7201a8"
             ],
             [
              0.3333333333333333,
              "#9c179e"
             ],
             [
              0.4444444444444444,
              "#bd3786"
             ],
             [
              0.5555555555555556,
              "#d8576b"
             ],
             [
              0.6666666666666666,
              "#ed7953"
             ],
             [
              0.7777777777777778,
              "#fb9f3a"
             ],
             [
              0.8888888888888888,
              "#fdca26"
             ],
             [
              1,
              "#f0f921"
             ]
            ],
            "type": "heatmap"
           }
          ],
          "heatmapgl": [
           {
            "colorbar": {
             "outlinewidth": 0,
             "ticks": ""
            },
            "colorscale": [
             [
              0,
              "#0d0887"
             ],
             [
              0.1111111111111111,
              "#46039f"
             ],
             [
              0.2222222222222222,
              "#7201a8"
             ],
             [
              0.3333333333333333,
              "#9c179e"
             ],
             [
              0.4444444444444444,
              "#bd3786"
             ],
             [
              0.5555555555555556,
              "#d8576b"
             ],
             [
              0.6666666666666666,
              "#ed7953"
             ],
             [
              0.7777777777777778,
              "#fb9f3a"
             ],
             [
              0.8888888888888888,
              "#fdca26"
             ],
             [
              1,
              "#f0f921"
             ]
            ],
            "type": "heatmapgl"
           }
          ],
          "histogram": [
           {
            "marker": {
             "pattern": {
              "fillmode": "overlay",
              "size": 10,
              "solidity": 0.2
             }
            },
            "type": "histogram"
           }
          ],
          "histogram2d": [
           {
            "colorbar": {
             "outlinewidth": 0,
             "ticks": ""
            },
            "colorscale": [
             [
              0,
              "#0d0887"
             ],
             [
              0.1111111111111111,
              "#46039f"
             ],
             [
              0.2222222222222222,
              "#7201a8"
             ],
             [
              0.3333333333333333,
              "#9c179e"
             ],
             [
              0.4444444444444444,
              "#bd3786"
             ],
             [
              0.5555555555555556,
              "#d8576b"
             ],
             [
              0.6666666666666666,
              "#ed7953"
             ],
             [
              0.7777777777777778,
              "#fb9f3a"
             ],
             [
              0.8888888888888888,
              "#fdca26"
             ],
             [
              1,
              "#f0f921"
             ]
            ],
            "type": "histogram2d"
           }
          ],
          "histogram2dcontour": [
           {
            "colorbar": {
             "outlinewidth": 0,
             "ticks": ""
            },
            "colorscale": [
             [
              0,
              "#0d0887"
             ],
             [
              0.1111111111111111,
              "#46039f"
             ],
             [
              0.2222222222222222,
              "#7201a8"
             ],
             [
              0.3333333333333333,
              "#9c179e"
             ],
             [
              0.4444444444444444,
              "#bd3786"
             ],
             [
              0.5555555555555556,
              "#d8576b"
             ],
             [
              0.6666666666666666,
              "#ed7953"
             ],
             [
              0.7777777777777778,
              "#fb9f3a"
             ],
             [
              0.8888888888888888,
              "#fdca26"
             ],
             [
              1,
              "#f0f921"
             ]
            ],
            "type": "histogram2dcontour"
           }
          ],
          "mesh3d": [
           {
            "colorbar": {
             "outlinewidth": 0,
             "ticks": ""
            },
            "type": "mesh3d"
           }
          ],
          "parcoords": [
           {
            "line": {
             "colorbar": {
              "outlinewidth": 0,
              "ticks": ""
             }
            },
            "type": "parcoords"
           }
          ],
          "pie": [
           {
            "automargin": true,
            "type": "pie"
           }
          ],
          "scatter": [
           {
            "marker": {
             "line": {
              "color": "#283442"
             }
            },
            "type": "scatter"
           }
          ],
          "scatter3d": [
           {
            "line": {
             "colorbar": {
              "outlinewidth": 0,
              "ticks": ""
             }
            },
            "marker": {
             "colorbar": {
              "outlinewidth": 0,
              "ticks": ""
             }
            },
            "type": "scatter3d"
           }
          ],
          "scattercarpet": [
           {
            "marker": {
             "colorbar": {
              "outlinewidth": 0,
              "ticks": ""
             }
            },
            "type": "scattercarpet"
           }
          ],
          "scattergeo": [
           {
            "marker": {
             "colorbar": {
              "outlinewidth": 0,
              "ticks": ""
             }
            },
            "type": "scattergeo"
           }
          ],
          "scattergl": [
           {
            "marker": {
             "line": {
              "color": "#283442"
             }
            },
            "type": "scattergl"
           }
          ],
          "scattermapbox": [
           {
            "marker": {
             "colorbar": {
              "outlinewidth": 0,
              "ticks": ""
             }
            },
            "type": "scattermapbox"
           }
          ],
          "scatterpolar": [
           {
            "marker": {
             "colorbar": {
              "outlinewidth": 0,
              "ticks": ""
             }
            },
            "type": "scatterpolar"
           }
          ],
          "scatterpolargl": [
           {
            "marker": {
             "colorbar": {
              "outlinewidth": 0,
              "ticks": ""
             }
            },
            "type": "scatterpolargl"
           }
          ],
          "scatterternary": [
           {
            "marker": {
             "colorbar": {
              "outlinewidth": 0,
              "ticks": ""
             }
            },
            "type": "scatterternary"
           }
          ],
          "surface": [
           {
            "colorbar": {
             "outlinewidth": 0,
             "ticks": ""
            },
            "colorscale": [
             [
              0,
              "#0d0887"
             ],
             [
              0.1111111111111111,
              "#46039f"
             ],
             [
              0.2222222222222222,
              "#7201a8"
             ],
             [
              0.3333333333333333,
              "#9c179e"
             ],
             [
              0.4444444444444444,
              "#bd3786"
             ],
             [
              0.5555555555555556,
              "#d8576b"
             ],
             [
              0.6666666666666666,
              "#ed7953"
             ],
             [
              0.7777777777777778,
              "#fb9f3a"
             ],
             [
              0.8888888888888888,
              "#fdca26"
             ],
             [
              1,
              "#f0f921"
             ]
            ],
            "type": "surface"
           }
          ],
          "table": [
           {
            "cells": {
             "fill": {
              "color": "#506784"
             },
             "line": {
              "color": "rgb(17,17,17)"
             }
            },
            "header": {
             "fill": {
              "color": "#2a3f5f"
             },
             "line": {
              "color": "rgb(17,17,17)"
             }
            },
            "type": "table"
           }
          ]
         },
         "layout": {
          "annotationdefaults": {
           "arrowcolor": "#f2f5fa",
           "arrowhead": 0,
           "arrowwidth": 1
          },
          "autotypenumbers": "strict",
          "coloraxis": {
           "colorbar": {
            "outlinewidth": 0,
            "ticks": ""
           }
          },
          "colorscale": {
           "diverging": [
            [
             0,
             "#8e0152"
            ],
            [
             0.1,
             "#c51b7d"
            ],
            [
             0.2,
             "#de77ae"
            ],
            [
             0.3,
             "#f1b6da"
            ],
            [
             0.4,
             "#fde0ef"
            ],
            [
             0.5,
             "#f7f7f7"
            ],
            [
             0.6,
             "#e6f5d0"
            ],
            [
             0.7,
             "#b8e186"
            ],
            [
             0.8,
             "#7fbc41"
            ],
            [
             0.9,
             "#4d9221"
            ],
            [
             1,
             "#276419"
            ]
           ],
           "sequential": [
            [
             0,
             "#0d0887"
            ],
            [
             0.1111111111111111,
             "#46039f"
            ],
            [
             0.2222222222222222,
             "#7201a8"
            ],
            [
             0.3333333333333333,
             "#9c179e"
            ],
            [
             0.4444444444444444,
             "#bd3786"
            ],
            [
             0.5555555555555556,
             "#d8576b"
            ],
            [
             0.6666666666666666,
             "#ed7953"
            ],
            [
             0.7777777777777778,
             "#fb9f3a"
            ],
            [
             0.8888888888888888,
             "#fdca26"
            ],
            [
             1,
             "#f0f921"
            ]
           ],
           "sequentialminus": [
            [
             0,
             "#0d0887"
            ],
            [
             0.1111111111111111,
             "#46039f"
            ],
            [
             0.2222222222222222,
             "#7201a8"
            ],
            [
             0.3333333333333333,
             "#9c179e"
            ],
            [
             0.4444444444444444,
             "#bd3786"
            ],
            [
             0.5555555555555556,
             "#d8576b"
            ],
            [
             0.6666666666666666,
             "#ed7953"
            ],
            [
             0.7777777777777778,
             "#fb9f3a"
            ],
            [
             0.8888888888888888,
             "#fdca26"
            ],
            [
             1,
             "#f0f921"
            ]
           ]
          },
          "colorway": [
           "#636efa",
           "#EF553B",
           "#00cc96",
           "#ab63fa",
           "#FFA15A",
           "#19d3f3",
           "#FF6692",
           "#B6E880",
           "#FF97FF",
           "#FECB52"
          ],
          "font": {
           "color": "#f2f5fa"
          },
          "geo": {
           "bgcolor": "rgb(17,17,17)",
           "lakecolor": "rgb(17,17,17)",
           "landcolor": "rgb(17,17,17)",
           "showlakes": true,
           "showland": true,
           "subunitcolor": "#506784"
          },
          "hoverlabel": {
           "align": "left"
          },
          "hovermode": "closest",
          "mapbox": {
           "style": "dark"
          },
          "paper_bgcolor": "rgb(17,17,17)",
          "plot_bgcolor": "rgb(17,17,17)",
          "polar": {
           "angularaxis": {
            "gridcolor": "#506784",
            "linecolor": "#506784",
            "ticks": ""
           },
           "bgcolor": "rgb(17,17,17)",
           "radialaxis": {
            "gridcolor": "#506784",
            "linecolor": "#506784",
            "ticks": ""
           }
          },
          "scene": {
           "xaxis": {
            "backgroundcolor": "rgb(17,17,17)",
            "gridcolor": "#506784",
            "gridwidth": 2,
            "linecolor": "#506784",
            "showbackground": true,
            "ticks": "",
            "zerolinecolor": "#C8D4E3"
           },
           "yaxis": {
            "backgroundcolor": "rgb(17,17,17)",
            "gridcolor": "#506784",
            "gridwidth": 2,
            "linecolor": "#506784",
            "showbackground": true,
            "ticks": "",
            "zerolinecolor": "#C8D4E3"
           },
           "zaxis": {
            "backgroundcolor": "rgb(17,17,17)",
            "gridcolor": "#506784",
            "gridwidth": 2,
            "linecolor": "#506784",
            "showbackground": true,
            "ticks": "",
            "zerolinecolor": "#C8D4E3"
           }
          },
          "shapedefaults": {
           "line": {
            "color": "#f2f5fa"
           }
          },
          "sliderdefaults": {
           "bgcolor": "#C8D4E3",
           "bordercolor": "rgb(17,17,17)",
           "borderwidth": 1,
           "tickwidth": 0
          },
          "ternary": {
           "aaxis": {
            "gridcolor": "#506784",
            "linecolor": "#506784",
            "ticks": ""
           },
           "baxis": {
            "gridcolor": "#506784",
            "linecolor": "#506784",
            "ticks": ""
           },
           "bgcolor": "rgb(17,17,17)",
           "caxis": {
            "gridcolor": "#506784",
            "linecolor": "#506784",
            "ticks": ""
           }
          },
          "title": {
           "x": 0.05
          },
          "updatemenudefaults": {
           "bgcolor": "#506784",
           "borderwidth": 0
          },
          "xaxis": {
           "automargin": true,
           "gridcolor": "#283442",
           "linecolor": "#506784",
           "ticks": "",
           "title": {
            "standoff": 15
           },
           "zerolinecolor": "#283442",
           "zerolinewidth": 2
          },
          "yaxis": {
           "automargin": true,
           "gridcolor": "#283442",
           "linecolor": "#506784",
           "ticks": "",
           "title": {
            "standoff": 15
           },
           "zerolinecolor": "#283442",
           "zerolinewidth": 2
          }
         }
        },
        "title": {
         "text": "graphiques OHLC  d'Ethereum"
        },
        "xaxis": {
         "title": {
          "text": "périodes"
         }
        },
        "yaxis": {
         "title": {
          "text": "prix en dollars "
         }
        }
       }
      }
     },
     "metadata": {},
     "output_type": "display_data"
    },
    {
     "data": {
      "application/vnd.plotly.v1+json": {
       "config": {
        "plotlyServerURL": "https://plot.ly"
       },
       "data": [
        {
         "close": [
          606.69,
          613.23,
          613.46,
          613.24,
          611.7,
          610.73,
          609.81,
          612.87,
          613.02,
          616.02,
          618.75,
          617.64,
          619.59,
          616.78,
          618.51,
          619.23,
          618.57,
          618.15,
          620.1,
          622.14,
          620.6,
          621.65,
          621.57,
          622.43,
          623.41,
          624.7,
          623.22,
          625.2,
          624.66,
          625.45,
          624.37,
          624.95,
          623.75,
          624.19,
          622.5,
          623.72,
          622.78,
          624.8,
          625.35,
          624.83,
          627.62,
          627.88,
          625.98,
          627.64,
          625.5,
          628.03,
          628.16,
          626.46
         ],
         "decreasing": {
          "line": {
           "color": "red"
          }
         },
         "high": [
          608.83,
          613.23,
          613.46,
          613.67,
          614.97,
          612.61,
          612.42,
          613.06,
          616.71,
          617.61,
          618.75,
          619,
          619.59,
          618.93,
          619.44,
          619.39,
          618.89,
          620.17,
          620.1,
          622.14,
          621.83,
          622.27,
          622.09,
          622.43,
          624.18,
          624.94,
          624.28,
          625.2,
          624.98,
          626.32,
          625.54,
          625.93,
          624.26,
          624.57,
          624.72,
          624.35,
          623.73,
          624.8,
          626.16,
          626.51,
          627.62,
          628.9,
          627.46,
          628.58,
          626.6,
          628.03,
          629.69,
          628.38
         ],
         "increasing": {
          "line": {
           "color": "green"
          }
         },
         "low": [
          605.83,
          606.92,
          610.06,
          612.17,
          610.87,
          610.73,
          609.81,
          610.33,
          613.02,
          612.36,
          615.62,
          617.64,
          617.36,
          616.23,
          617.3,
          618.37,
          618.05,
          617.96,
          618.07,
          619.2,
          620.52,
          620.32,
          620.96,
          620.91,
          622.28,
          624.42,
          622.55,
          622,
          623.46,
          624.69,
          623.98,
          623.84,
          622.42,
          623.58,
          622.46,
          623.39,
          622.45,
          622.23,
          624.96,
          624.83,
          625.5,
          626.83,
          625.92,
          625.66,
          624.64,
          624.61,
          628.16,
          625.86
         ],
         "name": "OHLC",
         "open": [
          607.11,
          606.92,
          613.18,
          612.17,
          611.91,
          612.47,
          612.42,
          611.26,
          613.37,
          612.36,
          616.08,
          618.76,
          618.36,
          618.93,
          617.3,
          618.38,
          618.89,
          619.32,
          618.07,
          619.2,
          621.83,
          620.32,
          621.96,
          620.91,
          622.51,
          624.82,
          624.28,
          622.7,
          624.26,
          624.72,
          625.54,
          623.84,
          624.26,
          623.58,
          624.72,
          623.53,
          622.45,
          622.23,
          624.96,
          625.15,
          625.72,
          628.4,
          627.46,
          625.66,
          626.6,
          624.61,
          629.29,
          628.38
         ],
         "type": "candlestick",
         "x": [
          "2024-11-15T16:00:00",
          "2024-11-15T16:30:00",
          "2024-11-15T17:00:00",
          "2024-11-15T17:30:00",
          "2024-11-15T18:00:00",
          "2024-11-15T18:30:00",
          "2024-11-15T19:00:00",
          "2024-11-15T19:30:00",
          "2024-11-15T20:00:00",
          "2024-11-15T20:30:00",
          "2024-11-15T21:00:00",
          "2024-11-15T21:30:00",
          "2024-11-15T22:00:00",
          "2024-11-15T22:30:00",
          "2024-11-15T23:00:00",
          "2024-11-15T23:30:00",
          "2024-11-16T00:00:00",
          "2024-11-16T00:30:00",
          "2024-11-16T01:00:00",
          "2024-11-16T01:30:00",
          "2024-11-16T02:00:00",
          "2024-11-16T02:30:00",
          "2024-11-16T03:00:00",
          "2024-11-16T03:30:00",
          "2024-11-16T04:00:00",
          "2024-11-16T04:30:00",
          "2024-11-16T05:00:00",
          "2024-11-16T05:30:00",
          "2024-11-16T06:00:00",
          "2024-11-16T06:30:00",
          "2024-11-16T07:00:00",
          "2024-11-16T07:30:00",
          "2024-11-16T08:00:00",
          "2024-11-16T08:30:00",
          "2024-11-16T09:00:00",
          "2024-11-16T09:30:00",
          "2024-11-16T10:00:00",
          "2024-11-16T10:30:00",
          "2024-11-16T11:00:00",
          "2024-11-16T11:30:00",
          "2024-11-16T12:00:00",
          "2024-11-16T12:30:00",
          "2024-11-16T13:00:00",
          "2024-11-16T13:30:00",
          "2024-11-16T14:00:00",
          "2024-11-16T14:30:00",
          "2024-11-16T15:00:00",
          "2024-11-16T15:30:00"
         ]
        },
        {
         "line": {
          "color": "red"
         },
         "mode": "lines",
         "name": "Upper Bollinger Band",
         "type": "scatter",
         "x": [
          "2024-11-15T16:00:00",
          "2024-11-15T16:30:00",
          "2024-11-15T17:00:00",
          "2024-11-15T17:30:00",
          "2024-11-15T18:00:00",
          "2024-11-15T18:30:00",
          "2024-11-15T19:00:00",
          "2024-11-15T19:30:00",
          "2024-11-15T20:00:00",
          "2024-11-15T20:30:00",
          "2024-11-15T21:00:00",
          "2024-11-15T21:30:00",
          "2024-11-15T22:00:00",
          "2024-11-15T22:30:00",
          "2024-11-15T23:00:00",
          "2024-11-15T23:30:00",
          "2024-11-16T00:00:00",
          "2024-11-16T00:30:00",
          "2024-11-16T01:00:00",
          "2024-11-16T01:30:00",
          "2024-11-16T02:00:00",
          "2024-11-16T02:30:00",
          "2024-11-16T03:00:00",
          "2024-11-16T03:30:00",
          "2024-11-16T04:00:00",
          "2024-11-16T04:30:00",
          "2024-11-16T05:00:00",
          "2024-11-16T05:30:00",
          "2024-11-16T06:00:00",
          "2024-11-16T06:30:00",
          "2024-11-16T07:00:00",
          "2024-11-16T07:30:00",
          "2024-11-16T08:00:00",
          "2024-11-16T08:30:00",
          "2024-11-16T09:00:00",
          "2024-11-16T09:30:00",
          "2024-11-16T10:00:00",
          "2024-11-16T10:30:00",
          "2024-11-16T11:00:00",
          "2024-11-16T11:30:00",
          "2024-11-16T12:00:00",
          "2024-11-16T12:30:00",
          "2024-11-16T13:00:00",
          "2024-11-16T13:30:00",
          "2024-11-16T14:00:00",
          "2024-11-16T14:30:00",
          "2024-11-16T15:00:00",
          "2024-11-16T15:30:00"
         ],
         "y": [
          null,
          607.6867514421274,
          626.873159831895,
          626.3181346946071,
          625.2528074345756,
          624.778085912335,
          624.2384338272027,
          623.3128222031283,
          623.4773189041464,
          623.0352680271259,
          623.563943710091,
          624.8460420451131,
          627.7675382218409,
          630.1012588833614,
          630.3906317488702,
          630.9800179286541,
          631.1599027971783,
          629.5204501290522,
          628.0508810828849,
          623.2702914416316,
          624.8394490609884,
          625.3897358203632,
          627.0662772350727,
          627.5474738511197,
          628.1166928577985,
          631.0003613140706,
          632.2919539146221,
          632.2102501286854,
          631.424595479066,
          630.9177329620836,
          632.0999648110018,
          630.8882120685672,
          630.6139259797554,
          628.7242364469325,
          628.1616443710682,
          628.0624706275272,
          628.6866972260466,
          629.0300222460642,
          629.3456822683393,
          629.5920778131708,
          629.7515583415566,
          633.4102313226018,
          634.856212211567,
          634.8876484048226,
          635.3566004643626,
          635.1031501562168,
          636.1757813596594,
          634.9210938239559
         ]
        },
        {
         "line": {
          "color": "green"
         },
         "mode": "lines",
         "name": "Lower Bollinger Band",
         "type": "scatter",
         "x": [
          "2024-11-15T16:00:00",
          "2024-11-15T16:30:00",
          "2024-11-15T17:00:00",
          "2024-11-15T17:30:00",
          "2024-11-15T18:00:00",
          "2024-11-15T18:30:00",
          "2024-11-15T19:00:00",
          "2024-11-15T19:30:00",
          "2024-11-15T20:00:00",
          "2024-11-15T20:30:00",
          "2024-11-15T21:00:00",
          "2024-11-15T21:30:00",
          "2024-11-15T22:00:00",
          "2024-11-15T22:30:00",
          "2024-11-15T23:00:00",
          "2024-11-15T23:30:00",
          "2024-11-16T00:00:00",
          "2024-11-16T00:30:00",
          "2024-11-16T01:00:00",
          "2024-11-16T01:30:00",
          "2024-11-16T02:00:00",
          "2024-11-16T02:30:00",
          "2024-11-16T03:00:00",
          "2024-11-16T03:30:00",
          "2024-11-16T04:00:00",
          "2024-11-16T04:30:00",
          "2024-11-16T05:00:00",
          "2024-11-16T05:30:00",
          "2024-11-16T06:00:00",
          "2024-11-16T06:30:00",
          "2024-11-16T07:00:00",
          "2024-11-16T07:30:00",
          "2024-11-16T08:00:00",
          "2024-11-16T08:30:00",
          "2024-11-16T09:00:00",
          "2024-11-16T09:30:00",
          "2024-11-16T10:00:00",
          "2024-11-16T10:30:00",
          "2024-11-16T11:00:00",
          "2024-11-16T11:30:00",
          "2024-11-16T12:00:00",
          "2024-11-16T12:30:00",
          "2024-11-16T13:00:00",
          "2024-11-16T13:30:00",
          "2024-11-16T14:00:00",
          "2024-11-16T14:30:00",
          "2024-11-16T15:00:00",
          "2024-11-16T15:30:00"
         ],
         "y": [
          null,
          606.3432485578726,
          591.2668401681051,
          593.3718653053929,
          595.2631925654244,
          596.4752474209984,
          597.5272804585118,
          598.5471777968716,
          598.9249033180756,
          599.5987319728741,
          600.8640562899091,
          601.9499579548869,
          600.064461778159,
          599.0827411166385,
          599.8713682511298,
          600.4639820713459,
          601.5780972028215,
          604.8295498709477,
          607.2391189171153,
          613.3877085583683,
          612.9685509390116,
          612.7302641796367,
          611.7737227649272,
          611.6885261488804,
          612.1613071422015,
          610.5656386859297,
          610.3520460853779,
          611.1097498713148,
          613.1334045209339,
          614.7442670379164,
          614.3040351889982,
          616.219787931433,
          616.9540740202445,
          619.3777635530676,
          620.3823556289319,
          620.2235293724726,
          619.2333027739535,
          618.7959777539359,
          618.6203177316606,
          618.4599221868293,
          618.3364416584434,
          615.5897686773984,
          614.7837877884331,
          615.1683515951775,
          615.0753995356374,
          615.5448498437834,
          615.8402186403407,
          618.3249061760442
         ]
        }
       ],
       "layout": {
        "template": {
         "data": {
          "bar": [
           {
            "error_x": {
             "color": "#f2f5fa"
            },
            "error_y": {
             "color": "#f2f5fa"
            },
            "marker": {
             "line": {
              "color": "rgb(17,17,17)",
              "width": 0.5
             },
             "pattern": {
              "fillmode": "overlay",
              "size": 10,
              "solidity": 0.2
             }
            },
            "type": "bar"
           }
          ],
          "barpolar": [
           {
            "marker": {
             "line": {
              "color": "rgb(17,17,17)",
              "width": 0.5
             },
             "pattern": {
              "fillmode": "overlay",
              "size": 10,
              "solidity": 0.2
             }
            },
            "type": "barpolar"
           }
          ],
          "carpet": [
           {
            "aaxis": {
             "endlinecolor": "#A2B1C6",
             "gridcolor": "#506784",
             "linecolor": "#506784",
             "minorgridcolor": "#506784",
             "startlinecolor": "#A2B1C6"
            },
            "baxis": {
             "endlinecolor": "#A2B1C6",
             "gridcolor": "#506784",
             "linecolor": "#506784",
             "minorgridcolor": "#506784",
             "startlinecolor": "#A2B1C6"
            },
            "type": "carpet"
           }
          ],
          "choropleth": [
           {
            "colorbar": {
             "outlinewidth": 0,
             "ticks": ""
            },
            "type": "choropleth"
           }
          ],
          "contour": [
           {
            "colorbar": {
             "outlinewidth": 0,
             "ticks": ""
            },
            "colorscale": [
             [
              0,
              "#0d0887"
             ],
             [
              0.1111111111111111,
              "#46039f"
             ],
             [
              0.2222222222222222,
              "#7201a8"
             ],
             [
              0.3333333333333333,
              "#9c179e"
             ],
             [
              0.4444444444444444,
              "#bd3786"
             ],
             [
              0.5555555555555556,
              "#d8576b"
             ],
             [
              0.6666666666666666,
              "#ed7953"
             ],
             [
              0.7777777777777778,
              "#fb9f3a"
             ],
             [
              0.8888888888888888,
              "#fdca26"
             ],
             [
              1,
              "#f0f921"
             ]
            ],
            "type": "contour"
           }
          ],
          "contourcarpet": [
           {
            "colorbar": {
             "outlinewidth": 0,
             "ticks": ""
            },
            "type": "contourcarpet"
           }
          ],
          "heatmap": [
           {
            "colorbar": {
             "outlinewidth": 0,
             "ticks": ""
            },
            "colorscale": [
             [
              0,
              "#0d0887"
             ],
             [
              0.1111111111111111,
              "#46039f"
             ],
             [
              0.2222222222222222,
              "#7201a8"
             ],
             [
              0.3333333333333333,
              "#9c179e"
             ],
             [
              0.4444444444444444,
              "#bd3786"
             ],
             [
              0.5555555555555556,
              "#d8576b"
             ],
             [
              0.6666666666666666,
              "#ed7953"
             ],
             [
              0.7777777777777778,
              "#fb9f3a"
             ],
             [
              0.8888888888888888,
              "#fdca26"
             ],
             [
              1,
              "#f0f921"
             ]
            ],
            "type": "heatmap"
           }
          ],
          "heatmapgl": [
           {
            "colorbar": {
             "outlinewidth": 0,
             "ticks": ""
            },
            "colorscale": [
             [
              0,
              "#0d0887"
             ],
             [
              0.1111111111111111,
              "#46039f"
             ],
             [
              0.2222222222222222,
              "#7201a8"
             ],
             [
              0.3333333333333333,
              "#9c179e"
             ],
             [
              0.4444444444444444,
              "#bd3786"
             ],
             [
              0.5555555555555556,
              "#d8576b"
             ],
             [
              0.6666666666666666,
              "#ed7953"
             ],
             [
              0.7777777777777778,
              "#fb9f3a"
             ],
             [
              0.8888888888888888,
              "#fdca26"
             ],
             [
              1,
              "#f0f921"
             ]
            ],
            "type": "heatmapgl"
           }
          ],
          "histogram": [
           {
            "marker": {
             "pattern": {
              "fillmode": "overlay",
              "size": 10,
              "solidity": 0.2
             }
            },
            "type": "histogram"
           }
          ],
          "histogram2d": [
           {
            "colorbar": {
             "outlinewidth": 0,
             "ticks": ""
            },
            "colorscale": [
             [
              0,
              "#0d0887"
             ],
             [
              0.1111111111111111,
              "#46039f"
             ],
             [
              0.2222222222222222,
              "#7201a8"
             ],
             [
              0.3333333333333333,
              "#9c179e"
             ],
             [
              0.4444444444444444,
              "#bd3786"
             ],
             [
              0.5555555555555556,
              "#d8576b"
             ],
             [
              0.6666666666666666,
              "#ed7953"
             ],
             [
              0.7777777777777778,
              "#fb9f3a"
             ],
             [
              0.8888888888888888,
              "#fdca26"
             ],
             [
              1,
              "#f0f921"
             ]
            ],
            "type": "histogram2d"
           }
          ],
          "histogram2dcontour": [
           {
            "colorbar": {
             "outlinewidth": 0,
             "ticks": ""
            },
            "colorscale": [
             [
              0,
              "#0d0887"
             ],
             [
              0.1111111111111111,
              "#46039f"
             ],
             [
              0.2222222222222222,
              "#7201a8"
             ],
             [
              0.3333333333333333,
              "#9c179e"
             ],
             [
              0.4444444444444444,
              "#bd3786"
             ],
             [
              0.5555555555555556,
              "#d8576b"
             ],
             [
              0.6666666666666666,
              "#ed7953"
             ],
             [
              0.7777777777777778,
              "#fb9f3a"
             ],
             [
              0.8888888888888888,
              "#fdca26"
             ],
             [
              1,
              "#f0f921"
             ]
            ],
            "type": "histogram2dcontour"
           }
          ],
          "mesh3d": [
           {
            "colorbar": {
             "outlinewidth": 0,
             "ticks": ""
            },
            "type": "mesh3d"
           }
          ],
          "parcoords": [
           {
            "line": {
             "colorbar": {
              "outlinewidth": 0,
              "ticks": ""
             }
            },
            "type": "parcoords"
           }
          ],
          "pie": [
           {
            "automargin": true,
            "type": "pie"
           }
          ],
          "scatter": [
           {
            "marker": {
             "line": {
              "color": "#283442"
             }
            },
            "type": "scatter"
           }
          ],
          "scatter3d": [
           {
            "line": {
             "colorbar": {
              "outlinewidth": 0,
              "ticks": ""
             }
            },
            "marker": {
             "colorbar": {
              "outlinewidth": 0,
              "ticks": ""
             }
            },
            "type": "scatter3d"
           }
          ],
          "scattercarpet": [
           {
            "marker": {
             "colorbar": {
              "outlinewidth": 0,
              "ticks": ""
             }
            },
            "type": "scattercarpet"
           }
          ],
          "scattergeo": [
           {
            "marker": {
             "colorbar": {
              "outlinewidth": 0,
              "ticks": ""
             }
            },
            "type": "scattergeo"
           }
          ],
          "scattergl": [
           {
            "marker": {
             "line": {
              "color": "#283442"
             }
            },
            "type": "scattergl"
           }
          ],
          "scattermapbox": [
           {
            "marker": {
             "colorbar": {
              "outlinewidth": 0,
              "ticks": ""
             }
            },
            "type": "scattermapbox"
           }
          ],
          "scatterpolar": [
           {
            "marker": {
             "colorbar": {
              "outlinewidth": 0,
              "ticks": ""
             }
            },
            "type": "scatterpolar"
           }
          ],
          "scatterpolargl": [
           {
            "marker": {
             "colorbar": {
              "outlinewidth": 0,
              "ticks": ""
             }
            },
            "type": "scatterpolargl"
           }
          ],
          "scatterternary": [
           {
            "marker": {
             "colorbar": {
              "outlinewidth": 0,
              "ticks": ""
             }
            },
            "type": "scatterternary"
           }
          ],
          "surface": [
           {
            "colorbar": {
             "outlinewidth": 0,
             "ticks": ""
            },
            "colorscale": [
             [
              0,
              "#0d0887"
             ],
             [
              0.1111111111111111,
              "#46039f"
             ],
             [
              0.2222222222222222,
              "#7201a8"
             ],
             [
              0.3333333333333333,
              "#9c179e"
             ],
             [
              0.4444444444444444,
              "#bd3786"
             ],
             [
              0.5555555555555556,
              "#d8576b"
             ],
             [
              0.6666666666666666,
              "#ed7953"
             ],
             [
              0.7777777777777778,
              "#fb9f3a"
             ],
             [
              0.8888888888888888,
              "#fdca26"
             ],
             [
              1,
              "#f0f921"
             ]
            ],
            "type": "surface"
           }
          ],
          "table": [
           {
            "cells": {
             "fill": {
              "color": "#506784"
             },
             "line": {
              "color": "rgb(17,17,17)"
             }
            },
            "header": {
             "fill": {
              "color": "#2a3f5f"
             },
             "line": {
              "color": "rgb(17,17,17)"
             }
            },
            "type": "table"
           }
          ]
         },
         "layout": {
          "annotationdefaults": {
           "arrowcolor": "#f2f5fa",
           "arrowhead": 0,
           "arrowwidth": 1
          },
          "autotypenumbers": "strict",
          "coloraxis": {
           "colorbar": {
            "outlinewidth": 0,
            "ticks": ""
           }
          },
          "colorscale": {
           "diverging": [
            [
             0,
             "#8e0152"
            ],
            [
             0.1,
             "#c51b7d"
            ],
            [
             0.2,
             "#de77ae"
            ],
            [
             0.3,
             "#f1b6da"
            ],
            [
             0.4,
             "#fde0ef"
            ],
            [
             0.5,
             "#f7f7f7"
            ],
            [
             0.6,
             "#e6f5d0"
            ],
            [
             0.7,
             "#b8e186"
            ],
            [
             0.8,
             "#7fbc41"
            ],
            [
             0.9,
             "#4d9221"
            ],
            [
             1,
             "#276419"
            ]
           ],
           "sequential": [
            [
             0,
             "#0d0887"
            ],
            [
             0.1111111111111111,
             "#46039f"
            ],
            [
             0.2222222222222222,
             "#7201a8"
            ],
            [
             0.3333333333333333,
             "#9c179e"
            ],
            [
             0.4444444444444444,
             "#bd3786"
            ],
            [
             0.5555555555555556,
             "#d8576b"
            ],
            [
             0.6666666666666666,
             "#ed7953"
            ],
            [
             0.7777777777777778,
             "#fb9f3a"
            ],
            [
             0.8888888888888888,
             "#fdca26"
            ],
            [
             1,
             "#f0f921"
            ]
           ],
           "sequentialminus": [
            [
             0,
             "#0d0887"
            ],
            [
             0.1111111111111111,
             "#46039f"
            ],
            [
             0.2222222222222222,
             "#7201a8"
            ],
            [
             0.3333333333333333,
             "#9c179e"
            ],
            [
             0.4444444444444444,
             "#bd3786"
            ],
            [
             0.5555555555555556,
             "#d8576b"
            ],
            [
             0.6666666666666666,
             "#ed7953"
            ],
            [
             0.7777777777777778,
             "#fb9f3a"
            ],
            [
             0.8888888888888888,
             "#fdca26"
            ],
            [
             1,
             "#f0f921"
            ]
           ]
          },
          "colorway": [
           "#636efa",
           "#EF553B",
           "#00cc96",
           "#ab63fa",
           "#FFA15A",
           "#19d3f3",
           "#FF6692",
           "#B6E880",
           "#FF97FF",
           "#FECB52"
          ],
          "font": {
           "color": "#f2f5fa"
          },
          "geo": {
           "bgcolor": "rgb(17,17,17)",
           "lakecolor": "rgb(17,17,17)",
           "landcolor": "rgb(17,17,17)",
           "showlakes": true,
           "showland": true,
           "subunitcolor": "#506784"
          },
          "hoverlabel": {
           "align": "left"
          },
          "hovermode": "closest",
          "mapbox": {
           "style": "dark"
          },
          "paper_bgcolor": "rgb(17,17,17)",
          "plot_bgcolor": "rgb(17,17,17)",
          "polar": {
           "angularaxis": {
            "gridcolor": "#506784",
            "linecolor": "#506784",
            "ticks": ""
           },
           "bgcolor": "rgb(17,17,17)",
           "radialaxis": {
            "gridcolor": "#506784",
            "linecolor": "#506784",
            "ticks": ""
           }
          },
          "scene": {
           "xaxis": {
            "backgroundcolor": "rgb(17,17,17)",
            "gridcolor": "#506784",
            "gridwidth": 2,
            "linecolor": "#506784",
            "showbackground": true,
            "ticks": "",
            "zerolinecolor": "#C8D4E3"
           },
           "yaxis": {
            "backgroundcolor": "rgb(17,17,17)",
            "gridcolor": "#506784",
            "gridwidth": 2,
            "linecolor": "#506784",
            "showbackground": true,
            "ticks": "",
            "zerolinecolor": "#C8D4E3"
           },
           "zaxis": {
            "backgroundcolor": "rgb(17,17,17)",
            "gridcolor": "#506784",
            "gridwidth": 2,
            "linecolor": "#506784",
            "showbackground": true,
            "ticks": "",
            "zerolinecolor": "#C8D4E3"
           }
          },
          "shapedefaults": {
           "line": {
            "color": "#f2f5fa"
           }
          },
          "sliderdefaults": {
           "bgcolor": "#C8D4E3",
           "bordercolor": "rgb(17,17,17)",
           "borderwidth": 1,
           "tickwidth": 0
          },
          "ternary": {
           "aaxis": {
            "gridcolor": "#506784",
            "linecolor": "#506784",
            "ticks": ""
           },
           "baxis": {
            "gridcolor": "#506784",
            "linecolor": "#506784",
            "ticks": ""
           },
           "bgcolor": "rgb(17,17,17)",
           "caxis": {
            "gridcolor": "#506784",
            "linecolor": "#506784",
            "ticks": ""
           }
          },
          "title": {
           "x": 0.05
          },
          "updatemenudefaults": {
           "bgcolor": "#506784",
           "borderwidth": 0
          },
          "xaxis": {
           "automargin": true,
           "gridcolor": "#283442",
           "linecolor": "#506784",
           "ticks": "",
           "title": {
            "standoff": 15
           },
           "zerolinecolor": "#283442",
           "zerolinewidth": 2
          },
          "yaxis": {
           "automargin": true,
           "gridcolor": "#283442",
           "linecolor": "#506784",
           "ticks": "",
           "title": {
            "standoff": 15
           },
           "zerolinecolor": "#283442",
           "zerolinewidth": 2
          }
         }
        },
        "title": {
         "text": "graphiques OHLC  du Binance Coin"
        },
        "xaxis": {
         "title": {
          "text": "périodes"
         }
        },
        "yaxis": {
         "title": {
          "text": "prix en dollars "
         }
        }
       }
      }
     },
     "metadata": {},
     "output_type": "display_data"
    }
   ],
   "source": [
    "\n",
    "import numpy as np\n",
    "\n",
    "\n",
    "\n",
    "def calcul_BB(prix, valeurs_passees=10, ecart=5):\n",
    "    #tableau 1 dim pour calcul\n",
    "    prix = np.asarray(prix).flatten()\n",
    "    prix = pd.Series(prix)\n",
    "\n",
    "    rolling_mean = prix.rolling(valeurs_passees, min_periods=1).mean()\n",
    "    rolling_std = prix.rolling(valeurs_passees, min_periods=1).std()\n",
    "    \n",
    "    # Calcul des bandes de Bollinger\n",
    "    bande_supp = rolling_mean + ecart * rolling_std\n",
    "    bande_inf = rolling_mean - ecart * rolling_std\n",
    "    \n",
    "    return bande_supp.values, bande_inf.values\n",
    "\n",
    "\n",
    "# Exemple d'appel à la fonction avec open_BTC\n",
    "B_supp_BTC, B_inf_BTC = calcul_BB(open_BTC)\n",
    "B_supp_ETH, B_inf_ETH = calcul_BB(open_ETH)\n",
    "B_supp_BNB, B_inf_BNB = calcul_BB(open_BNB)\n",
    "\n",
    "\n",
    "\n",
    "\n",
    "\n",
    "\n",
    "\n",
    "def graph_BB(df, bande_supp, bande_inf,nom ):\n",
    "\n",
    "    \n",
    "\n",
    "    fig = go.Figure()\n",
    "    \n",
    "    #bougies OHLC\n",
    "    fig.add_trace(go.Candlestick(\n",
    "        x=df['Timestamp'],\n",
    "        open=df['Open'],\n",
    "        high=df['High'],\n",
    "        low=df['Low'],\n",
    "        close=df['Close'],\n",
    "        name=\"OHLC\",\n",
    "        increasing_line_color='green',\n",
    "        decreasing_line_color= 'red'\n",
    "        \n",
    "\n",
    "        \n",
    "    ))\n",
    "    \n",
    "    # BB supp\n",
    "    fig.add_trace(go.Scatter(\n",
    "        x=df['Timestamp'],  \n",
    "        y=bande_supp,  \n",
    "        mode='lines',\n",
    "        name='Upper Bollinger Band',\n",
    "        line=dict(color='red')\n",
    "        \n",
    "    ))\n",
    "    \n",
    "    #BB inf\n",
    "    fig.add_trace(go.Scatter(\n",
    "        x=df['Timestamp'],  \n",
    "        y=bande_inf,    \n",
    "        mode='lines',\n",
    "        name='Lower Bollinger Band',\n",
    "        line=dict(color='green')\n",
    "        \n",
    "    ))\n",
    "    fig.update_layout(template=\"plotly_dark\",\n",
    "                      xaxis_title=\"périodes\",\n",
    "                      yaxis_title=\"prix en dollars \",\n",
    "                      title=\"graphiques OHLC  \"+nom)\n",
    "   \n",
    "    fig.show()\n",
    "\n",
    "graph_BB_BTC=graph_BB(df_OHLC_BTC,B_supp_BTC, B_inf_BTC,nom = \"du Bitcoin\")\n",
    "graph_BB_ETH=graph_BB(df_OHLC_ETH,B_supp_ETH, B_inf_ETH,nom = \"d'Ethereum\")\n",
    "graph_BB_BNB=graph_BB(df_OHLC_BNB,B_supp_BNB, B_inf_BNB, nom= \"du Binance Coin\")\n",
    " "
   ]
  },
  {
   "cell_type": "code",
   "execution_count": null,
   "metadata": {},
   "outputs": [],
   "source": []
  },
  {
   "cell_type": "markdown",
   "metadata": {},
   "source": [
    "RSI"
   ]
  },
  {
   "cell_type": "code",
   "execution_count": 314,
   "metadata": {},
   "outputs": [
    {
     "data": {
      "text/plain": [
       "(Timestamp\n",
       " 2024-11-15 16:00:00          NaN\n",
       " 2024-11-15 16:30:00          NaN\n",
       " 2024-11-15 17:00:00          NaN\n",
       " 2024-11-15 17:30:00          NaN\n",
       " 2024-11-15 18:00:00          NaN\n",
       " 2024-11-15 18:30:00          NaN\n",
       " 2024-11-15 19:00:00          NaN\n",
       " 2024-11-15 19:30:00          NaN\n",
       " 2024-11-15 20:00:00          NaN\n",
       " 2024-11-15 20:30:00    71.866464\n",
       " 2024-11-15 21:00:00    76.457377\n",
       " 2024-11-15 21:30:00    79.866939\n",
       " 2024-11-15 22:00:00    78.037367\n",
       " 2024-11-15 22:30:00    80.972558\n",
       " 2024-11-15 23:00:00    67.576257\n",
       " 2024-11-15 23:30:00    67.830957\n",
       " 2024-11-16 00:00:00    68.193065\n",
       " 2024-11-16 00:30:00    62.703383\n",
       " 2024-11-16 01:00:00    58.609310\n",
       " 2024-11-16 01:30:00    60.446493\n",
       " 2024-11-16 02:00:00    67.360610\n",
       " 2024-11-16 02:30:00    62.464645\n",
       " 2024-11-16 03:00:00    68.384728\n",
       " 2024-11-16 03:30:00    62.257393\n",
       " 2024-11-16 04:00:00    60.577895\n",
       " 2024-11-16 04:30:00    59.844078\n",
       " 2024-11-16 05:00:00    55.168782\n",
       " 2024-11-16 05:30:00    57.777493\n",
       " 2024-11-16 06:00:00    63.118201\n",
       " 2024-11-16 06:30:00    56.972497\n",
       " 2024-11-16 07:00:00    58.295687\n",
       " 2024-11-16 07:30:00    52.081726\n",
       " 2024-11-16 08:00:00    55.519626\n",
       " 2024-11-16 08:30:00    49.526482\n",
       " 2024-11-16 09:00:00    56.984274\n",
       " 2024-11-16 09:30:00    56.049011\n",
       " 2024-11-16 10:00:00    51.615876\n",
       " 2024-11-16 10:30:00    51.307042\n",
       " 2024-11-16 11:00:00    56.251420\n",
       " 2024-11-16 11:30:00    55.917422\n",
       " 2024-11-16 12:00:00    47.760120\n",
       " 2024-11-16 12:30:00    48.049244\n",
       " 2024-11-16 13:00:00    36.792941\n",
       " 2024-11-16 13:30:00    40.672981\n",
       " 2024-11-16 14:00:00    42.515766\n",
       " 2024-11-16 14:30:00    36.418457\n",
       " 2024-11-16 15:00:00    49.341292\n",
       " Name: Open, dtype: float64,\n",
       " Timestamp\n",
       " 2024-11-15 16:00:00           NaN\n",
       " 2024-11-15 16:30:00           NaN\n",
       " 2024-11-15 17:00:00           NaN\n",
       " 2024-11-15 17:30:00           NaN\n",
       " 2024-11-15 18:00:00           NaN\n",
       " 2024-11-15 18:30:00           NaN\n",
       " 2024-11-15 19:00:00           NaN\n",
       " 2024-11-15 19:30:00           NaN\n",
       " 2024-11-15 20:00:00           NaN\n",
       " 2024-11-15 20:30:00    304.919915\n",
       " 2024-11-15 21:00:00    331.163410\n",
       " 2024-11-15 21:30:00    348.142452\n",
       " 2024-11-15 22:00:00    301.462888\n",
       " 2024-11-15 22:30:00    314.239472\n",
       " 2024-11-15 23:00:00    274.668138\n",
       " 2024-11-15 23:30:00    243.777164\n",
       " 2024-11-16 00:00:00    218.120667\n",
       " 2024-11-16 00:30:00    192.456555\n",
       " 2024-11-16 01:00:00    170.205051\n",
       " 2024-11-16 01:30:00    162.782087\n",
       " 2024-11-16 02:00:00    195.144995\n",
       " 2024-11-16 02:30:00    173.498846\n",
       " 2024-11-16 03:00:00    200.765596\n",
       " 2024-11-16 03:30:00    178.948787\n",
       " 2024-11-16 04:00:00    159.669880\n",
       " 2024-11-16 04:30:00    142.599992\n",
       " 2024-11-16 05:00:00    127.459582\n",
       " 2024-11-16 05:30:00    126.777951\n",
       " 2024-11-16 06:00:00    141.913038\n",
       " 2024-11-16 06:30:00    127.093518\n",
       " 2024-11-16 07:00:00    120.222004\n",
       " 2024-11-16 07:30:00    107.772320\n",
       " 2024-11-16 08:00:00    110.994669\n",
       " 2024-11-16 08:30:00     99.577663\n",
       " 2024-11-16 09:00:00    120.647302\n",
       " 2024-11-16 09:30:00    108.304509\n",
       " 2024-11-16 10:00:00     97.249920\n",
       " 2024-11-16 10:30:00     87.344168\n",
       " 2024-11-16 11:00:00     95.747765\n",
       " 2024-11-16 11:30:00     86.029342\n",
       " 2024-11-16 12:00:00     77.310421\n",
       " 2024-11-16 12:30:00     70.295392\n",
       " 2024-11-16 13:00:00     63.189282\n",
       " 2024-11-16 13:30:00     66.906402\n",
       " 2024-11-16 14:00:00     64.898234\n",
       " 2024-11-16 14:30:00     58.357029\n",
       " 2024-11-16 15:00:00     89.239655\n",
       " Name: Open, dtype: float64,\n",
       " Timestamp\n",
       " 2024-11-15 16:00:00           NaN\n",
       " 2024-11-15 16:30:00           NaN\n",
       " 2024-11-15 17:00:00           NaN\n",
       " 2024-11-15 17:30:00           NaN\n",
       " 2024-11-15 18:00:00           NaN\n",
       " 2024-11-15 18:30:00           NaN\n",
       " 2024-11-15 19:00:00           NaN\n",
       " 2024-11-15 19:30:00           NaN\n",
       " 2024-11-15 20:00:00           NaN\n",
       " 2024-11-15 20:30:00    119.366878\n",
       " 2024-11-15 21:00:00    101.971262\n",
       " 2024-11-15 21:30:00     87.760635\n",
       " 2024-11-15 22:00:00     84.842930\n",
       " 2024-11-15 22:30:00     73.841970\n",
       " 2024-11-15 23:00:00    131.788437\n",
       " 2024-11-15 23:30:00    115.612082\n",
       " 2024-11-16 00:00:00    101.736881\n",
       " 2024-11-16 00:30:00    114.475137\n",
       " 2024-11-16 01:00:00    120.201118\n",
       " 2024-11-16 01:30:00    106.517384\n",
       " 2024-11-16 02:00:00     94.556947\n",
       " 2024-11-16 02:30:00    104.256429\n",
       " 2024-11-16 03:00:00     92.816908\n",
       " 2024-11-16 03:30:00    108.485006\n",
       " 2024-11-16 04:00:00    103.907917\n",
       " 2024-11-16 04:30:00     95.685894\n",
       " 2024-11-16 05:00:00    103.576119\n",
       " 2024-11-16 05:30:00     92.646508\n",
       " 2024-11-16 06:00:00     82.923911\n",
       " 2024-11-16 06:30:00     95.985203\n",
       " 2024-11-16 07:00:00     86.005954\n",
       " 2024-11-16 07:30:00     99.156921\n",
       " 2024-11-16 08:00:00     88.925031\n",
       " 2024-11-16 08:30:00    101.481767\n",
       " 2024-11-16 09:00:00     91.073043\n",
       " 2024-11-16 09:30:00     84.927285\n",
       " 2024-11-16 10:00:00     91.160947\n",
       " 2024-11-16 10:30:00     82.893997\n",
       " 2024-11-16 11:00:00     74.466186\n",
       " 2024-11-16 11:30:00     67.821351\n",
       " 2024-11-16 12:00:00     84.561912\n",
       " 2024-11-16 12:30:00     76.003252\n",
       " 2024-11-16 13:00:00    108.553666\n",
       " 2024-11-16 13:30:00     97.591996\n",
       " 2024-11-16 14:00:00     87.746869\n",
       " 2024-11-16 14:30:00    101.883225\n",
       " 2024-11-16 15:00:00     91.622362\n",
       " Name: Open, dtype: float64)"
      ]
     },
     "execution_count": 314,
     "metadata": {},
     "output_type": "execute_result"
    }
   ],
   "source": [
    "def RSI_indica(prix, period=10):\n",
    "    delta = prix.diff()\n",
    "    delta = delta.dropna()\n",
    "    up, down = delta.clip(lower=0), delta.clip(upper=0, lower=None)\n",
    "    ema_up = up.ewm(alpha=1/period, min_periods=period).mean()\n",
    "    ema_down = down.abs().ewm(alpha=1/period, min_periods=period).mean()\n",
    "    rs = ema_up / ema_down\n",
    "    rsi = 100 - 100 / (1 + rs)\n",
    "    \n",
    "    return rsi, ema_up, ema_down\n",
    "\n",
    "RSI_indica(open_BTC['Open'])\n",
    "\n",
    "\n",
    "\n"
   ]
  },
  {
   "cell_type": "code",
   "execution_count": 315,
   "metadata": {},
   "outputs": [
    {
     "data": {
      "application/vnd.plotly.v1+json": {
       "config": {
        "plotlyServerURL": "https://plot.ly"
       },
       "data": [
        {
         "line": {
          "color": "blue"
         },
         "mode": "lines",
         "name": "RSI",
         "type": "scatter",
         "x": [
          "2024-11-15T22:30:00",
          "2024-11-15T23:00:00",
          "2024-11-15T23:30:00",
          "2024-11-16T00:00:00",
          "2024-11-16T00:30:00",
          "2024-11-16T01:00:00",
          "2024-11-16T01:30:00",
          "2024-11-16T02:00:00",
          "2024-11-16T02:30:00",
          "2024-11-16T03:00:00",
          "2024-11-16T03:30:00",
          "2024-11-16T04:00:00",
          "2024-11-16T04:30:00",
          "2024-11-16T05:00:00",
          "2024-11-16T05:30:00",
          "2024-11-16T06:00:00",
          "2024-11-16T06:30:00",
          "2024-11-16T07:00:00",
          "2024-11-16T07:30:00",
          "2024-11-16T08:00:00",
          "2024-11-16T08:30:00",
          "2024-11-16T09:00:00",
          "2024-11-16T09:30:00",
          "2024-11-16T10:00:00",
          "2024-11-16T10:30:00",
          "2024-11-16T11:00:00",
          "2024-11-16T11:30:00",
          "2024-11-16T12:00:00",
          "2024-11-16T12:30:00",
          "2024-11-16T13:00:00",
          "2024-11-16T13:30:00",
          "2024-11-16T14:00:00",
          "2024-11-16T14:30:00",
          "2024-11-16T15:00:00"
         ],
         "y": [
          78.811033519199,
          67.86139626880188,
          68.06718480540218,
          68.35184105760287,
          64.04785521682953,
          60.82661225348349,
          62.13952272060398,
          67.22121899518484,
          63.516230486330855,
          67.92996013188667,
          63.29847921726288,
          62.03012244992295,
          61.487324421051134,
          58.04336484609811,
          59.770545350636674,
          63.40414882921886,
          58.99941358033533,
          59.879687080806605,
          55.406445994845605,
          57.63084389857489,
          53.285707018602146,
          58.19257091758539,
          57.531111002558625,
          54.395140736145486,
          54.177310358914454,
          57.30731789475175,
          57.08500476183478,
          51.51348051443079,
          51.68783264294514,
          43.33840128828302,
          45.71130224850995,
          46.83817076531462,
          42.25597518059797,
          50.589613510597715
         ]
        },
        {
         "line": {
          "color": "green"
         },
         "mode": "lines",
         "name": "EMA Up",
         "type": "scatter",
         "x": [
          "2024-11-15T22:30:00",
          "2024-11-15T23:00:00",
          "2024-11-15T23:30:00",
          "2024-11-16T00:00:00",
          "2024-11-16T00:30:00",
          "2024-11-16T01:00:00",
          "2024-11-16T01:30:00",
          "2024-11-16T02:00:00",
          "2024-11-16T02:30:00",
          "2024-11-16T03:00:00",
          "2024-11-16T03:30:00",
          "2024-11-16T04:00:00",
          "2024-11-16T04:30:00",
          "2024-11-16T05:00:00",
          "2024-11-16T05:30:00",
          "2024-11-16T06:00:00",
          "2024-11-16T06:30:00",
          "2024-11-16T07:00:00",
          "2024-11-16T07:30:00",
          "2024-11-16T08:00:00",
          "2024-11-16T08:30:00",
          "2024-11-16T09:00:00",
          "2024-11-16T09:30:00",
          "2024-11-16T10:00:00",
          "2024-11-16T10:30:00",
          "2024-11-16T11:00:00",
          "2024-11-16T11:30:00",
          "2024-11-16T12:00:00",
          "2024-11-16T12:30:00",
          "2024-11-16T13:00:00",
          "2024-11-16T13:30:00",
          "2024-11-16T14:00:00",
          "2024-11-16T14:30:00",
          "2024-11-16T15:00:00"
         ],
         "y": [
          299.02125892525436,
          268.2661923527204,
          243.8085203361481,
          223.07434868294038,
          201.98050080455468,
          183.31308014315687,
          176.22405897966905,
          200.63119733826687,
          183.11474472803957,
          203.64505049229547,
          186.39374046952219,
          170.81083882407125,
          156.70244834194168,
          143.9023145671434,
          142.05054573802983,
          152.37940096230554,
          140.27873670711216,
          134.032958917354,
          123.55059278873472,
          124.75071500565133,
          115.12019259704961,
          129.69447218777782,
          119.79248054419766,
          110.69127035271983,
          102.31958245627334,
          107.41689699593739,
          99.35816608852201,
          91.930721765236,
          85.67734101756507,
          79.31341330092422,
          80.84560263415649,
          78.3453632748064,
          72.5719479561882,
          94.07285150538304
         ]
        },
        {
         "line": {
          "color": "red"
         },
         "mode": "lines",
         "name": "EMA Down",
         "type": "scatter",
         "x": [
          "2024-11-15T22:30:00",
          "2024-11-15T23:00:00",
          "2024-11-15T23:30:00",
          "2024-11-16T00:00:00",
          "2024-11-16T00:30:00",
          "2024-11-16T01:00:00",
          "2024-11-16T01:30:00",
          "2024-11-16T02:00:00",
          "2024-11-16T02:30:00",
          "2024-11-16T03:00:00",
          "2024-11-16T03:30:00",
          "2024-11-16T04:00:00",
          "2024-11-16T04:30:00",
          "2024-11-16T05:00:00",
          "2024-11-16T05:30:00",
          "2024-11-16T06:00:00",
          "2024-11-16T06:30:00",
          "2024-11-16T07:00:00",
          "2024-11-16T07:30:00",
          "2024-11-16T08:00:00",
          "2024-11-16T08:30:00",
          "2024-11-16T09:00:00",
          "2024-11-16T09:30:00",
          "2024-11-16T10:00:00",
          "2024-11-16T10:30:00",
          "2024-11-16T11:00:00",
          "2024-11-16T11:30:00",
          "2024-11-16T12:00:00",
          "2024-11-16T12:30:00",
          "2024-11-16T13:00:00",
          "2024-11-16T13:30:00",
          "2024-11-16T14:00:00",
          "2024-11-16T14:30:00",
          "2024-11-16T15:00:00"
         ],
         "y": [
          80.39421829014137,
          127.04868046555558,
          114.37952730115946,
          103.28752428394368,
          113.37822607359578,
          118.05678635414864,
          107.37010342164172,
          97.8328893553088,
          105.18124407036235,
          96.14174475521634,
          108.0742195422067,
          104.55672789638332,
          98.15080770296143,
          104.01976050328054,
          95.60923284472774,
          87.95093037412549,
          97.48419718392476,
          89.80414753993063,
          99.43897199986132,
          91.71447371378055,
          100.92309375150334,
          93.1767124716115,
          88.4296073950915,
          92.80350667093008,
          86.5409973296655,
          80.0232082855815,
          74.69483872956592,
          86.52882095481546,
          80.08186504049577,
          103.69613698991084,
          96.01569568247989,
          88.92283271721985,
          99.1716874611053,
          91.88004470655636
         ]
        }
       ],
       "layout": {
        "showlegend": true,
        "template": {
         "data": {
          "bar": [
           {
            "error_x": {
             "color": "#f2f5fa"
            },
            "error_y": {
             "color": "#f2f5fa"
            },
            "marker": {
             "line": {
              "color": "rgb(17,17,17)",
              "width": 0.5
             },
             "pattern": {
              "fillmode": "overlay",
              "size": 10,
              "solidity": 0.2
             }
            },
            "type": "bar"
           }
          ],
          "barpolar": [
           {
            "marker": {
             "line": {
              "color": "rgb(17,17,17)",
              "width": 0.5
             },
             "pattern": {
              "fillmode": "overlay",
              "size": 10,
              "solidity": 0.2
             }
            },
            "type": "barpolar"
           }
          ],
          "carpet": [
           {
            "aaxis": {
             "endlinecolor": "#A2B1C6",
             "gridcolor": "#506784",
             "linecolor": "#506784",
             "minorgridcolor": "#506784",
             "startlinecolor": "#A2B1C6"
            },
            "baxis": {
             "endlinecolor": "#A2B1C6",
             "gridcolor": "#506784",
             "linecolor": "#506784",
             "minorgridcolor": "#506784",
             "startlinecolor": "#A2B1C6"
            },
            "type": "carpet"
           }
          ],
          "choropleth": [
           {
            "colorbar": {
             "outlinewidth": 0,
             "ticks": ""
            },
            "type": "choropleth"
           }
          ],
          "contour": [
           {
            "colorbar": {
             "outlinewidth": 0,
             "ticks": ""
            },
            "colorscale": [
             [
              0,
              "#0d0887"
             ],
             [
              0.1111111111111111,
              "#46039f"
             ],
             [
              0.2222222222222222,
              "#7201a8"
             ],
             [
              0.3333333333333333,
              "#9c179e"
             ],
             [
              0.4444444444444444,
              "#bd3786"
             ],
             [
              0.5555555555555556,
              "#d8576b"
             ],
             [
              0.6666666666666666,
              "#ed7953"
             ],
             [
              0.7777777777777778,
              "#fb9f3a"
             ],
             [
              0.8888888888888888,
              "#fdca26"
             ],
             [
              1,
              "#f0f921"
             ]
            ],
            "type": "contour"
           }
          ],
          "contourcarpet": [
           {
            "colorbar": {
             "outlinewidth": 0,
             "ticks": ""
            },
            "type": "contourcarpet"
           }
          ],
          "heatmap": [
           {
            "colorbar": {
             "outlinewidth": 0,
             "ticks": ""
            },
            "colorscale": [
             [
              0,
              "#0d0887"
             ],
             [
              0.1111111111111111,
              "#46039f"
             ],
             [
              0.2222222222222222,
              "#7201a8"
             ],
             [
              0.3333333333333333,
              "#9c179e"
             ],
             [
              0.4444444444444444,
              "#bd3786"
             ],
             [
              0.5555555555555556,
              "#d8576b"
             ],
             [
              0.6666666666666666,
              "#ed7953"
             ],
             [
              0.7777777777777778,
              "#fb9f3a"
             ],
             [
              0.8888888888888888,
              "#fdca26"
             ],
             [
              1,
              "#f0f921"
             ]
            ],
            "type": "heatmap"
           }
          ],
          "heatmapgl": [
           {
            "colorbar": {
             "outlinewidth": 0,
             "ticks": ""
            },
            "colorscale": [
             [
              0,
              "#0d0887"
             ],
             [
              0.1111111111111111,
              "#46039f"
             ],
             [
              0.2222222222222222,
              "#7201a8"
             ],
             [
              0.3333333333333333,
              "#9c179e"
             ],
             [
              0.4444444444444444,
              "#bd3786"
             ],
             [
              0.5555555555555556,
              "#d8576b"
             ],
             [
              0.6666666666666666,
              "#ed7953"
             ],
             [
              0.7777777777777778,
              "#fb9f3a"
             ],
             [
              0.8888888888888888,
              "#fdca26"
             ],
             [
              1,
              "#f0f921"
             ]
            ],
            "type": "heatmapgl"
           }
          ],
          "histogram": [
           {
            "marker": {
             "pattern": {
              "fillmode": "overlay",
              "size": 10,
              "solidity": 0.2
             }
            },
            "type": "histogram"
           }
          ],
          "histogram2d": [
           {
            "colorbar": {
             "outlinewidth": 0,
             "ticks": ""
            },
            "colorscale": [
             [
              0,
              "#0d0887"
             ],
             [
              0.1111111111111111,
              "#46039f"
             ],
             [
              0.2222222222222222,
              "#7201a8"
             ],
             [
              0.3333333333333333,
              "#9c179e"
             ],
             [
              0.4444444444444444,
              "#bd3786"
             ],
             [
              0.5555555555555556,
              "#d8576b"
             ],
             [
              0.6666666666666666,
              "#ed7953"
             ],
             [
              0.7777777777777778,
              "#fb9f3a"
             ],
             [
              0.8888888888888888,
              "#fdca26"
             ],
             [
              1,
              "#f0f921"
             ]
            ],
            "type": "histogram2d"
           }
          ],
          "histogram2dcontour": [
           {
            "colorbar": {
             "outlinewidth": 0,
             "ticks": ""
            },
            "colorscale": [
             [
              0,
              "#0d0887"
             ],
             [
              0.1111111111111111,
              "#46039f"
             ],
             [
              0.2222222222222222,
              "#7201a8"
             ],
             [
              0.3333333333333333,
              "#9c179e"
             ],
             [
              0.4444444444444444,
              "#bd3786"
             ],
             [
              0.5555555555555556,
              "#d8576b"
             ],
             [
              0.6666666666666666,
              "#ed7953"
             ],
             [
              0.7777777777777778,
              "#fb9f3a"
             ],
             [
              0.8888888888888888,
              "#fdca26"
             ],
             [
              1,
              "#f0f921"
             ]
            ],
            "type": "histogram2dcontour"
           }
          ],
          "mesh3d": [
           {
            "colorbar": {
             "outlinewidth": 0,
             "ticks": ""
            },
            "type": "mesh3d"
           }
          ],
          "parcoords": [
           {
            "line": {
             "colorbar": {
              "outlinewidth": 0,
              "ticks": ""
             }
            },
            "type": "parcoords"
           }
          ],
          "pie": [
           {
            "automargin": true,
            "type": "pie"
           }
          ],
          "scatter": [
           {
            "marker": {
             "line": {
              "color": "#283442"
             }
            },
            "type": "scatter"
           }
          ],
          "scatter3d": [
           {
            "line": {
             "colorbar": {
              "outlinewidth": 0,
              "ticks": ""
             }
            },
            "marker": {
             "colorbar": {
              "outlinewidth": 0,
              "ticks": ""
             }
            },
            "type": "scatter3d"
           }
          ],
          "scattercarpet": [
           {
            "marker": {
             "colorbar": {
              "outlinewidth": 0,
              "ticks": ""
             }
            },
            "type": "scattercarpet"
           }
          ],
          "scattergeo": [
           {
            "marker": {
             "colorbar": {
              "outlinewidth": 0,
              "ticks": ""
             }
            },
            "type": "scattergeo"
           }
          ],
          "scattergl": [
           {
            "marker": {
             "line": {
              "color": "#283442"
             }
            },
            "type": "scattergl"
           }
          ],
          "scattermapbox": [
           {
            "marker": {
             "colorbar": {
              "outlinewidth": 0,
              "ticks": ""
             }
            },
            "type": "scattermapbox"
           }
          ],
          "scatterpolar": [
           {
            "marker": {
             "colorbar": {
              "outlinewidth": 0,
              "ticks": ""
             }
            },
            "type": "scatterpolar"
           }
          ],
          "scatterpolargl": [
           {
            "marker": {
             "colorbar": {
              "outlinewidth": 0,
              "ticks": ""
             }
            },
            "type": "scatterpolargl"
           }
          ],
          "scatterternary": [
           {
            "marker": {
             "colorbar": {
              "outlinewidth": 0,
              "ticks": ""
             }
            },
            "type": "scatterternary"
           }
          ],
          "surface": [
           {
            "colorbar": {
             "outlinewidth": 0,
             "ticks": ""
            },
            "colorscale": [
             [
              0,
              "#0d0887"
             ],
             [
              0.1111111111111111,
              "#46039f"
             ],
             [
              0.2222222222222222,
              "#7201a8"
             ],
             [
              0.3333333333333333,
              "#9c179e"
             ],
             [
              0.4444444444444444,
              "#bd3786"
             ],
             [
              0.5555555555555556,
              "#d8576b"
             ],
             [
              0.6666666666666666,
              "#ed7953"
             ],
             [
              0.7777777777777778,
              "#fb9f3a"
             ],
             [
              0.8888888888888888,
              "#fdca26"
             ],
             [
              1,
              "#f0f921"
             ]
            ],
            "type": "surface"
           }
          ],
          "table": [
           {
            "cells": {
             "fill": {
              "color": "#506784"
             },
             "line": {
              "color": "rgb(17,17,17)"
             }
            },
            "header": {
             "fill": {
              "color": "#2a3f5f"
             },
             "line": {
              "color": "rgb(17,17,17)"
             }
            },
            "type": "table"
           }
          ]
         },
         "layout": {
          "annotationdefaults": {
           "arrowcolor": "#f2f5fa",
           "arrowhead": 0,
           "arrowwidth": 1
          },
          "autotypenumbers": "strict",
          "coloraxis": {
           "colorbar": {
            "outlinewidth": 0,
            "ticks": ""
           }
          },
          "colorscale": {
           "diverging": [
            [
             0,
             "#8e0152"
            ],
            [
             0.1,
             "#c51b7d"
            ],
            [
             0.2,
             "#de77ae"
            ],
            [
             0.3,
             "#f1b6da"
            ],
            [
             0.4,
             "#fde0ef"
            ],
            [
             0.5,
             "#f7f7f7"
            ],
            [
             0.6,
             "#e6f5d0"
            ],
            [
             0.7,
             "#b8e186"
            ],
            [
             0.8,
             "#7fbc41"
            ],
            [
             0.9,
             "#4d9221"
            ],
            [
             1,
             "#276419"
            ]
           ],
           "sequential": [
            [
             0,
             "#0d0887"
            ],
            [
             0.1111111111111111,
             "#46039f"
            ],
            [
             0.2222222222222222,
             "#7201a8"
            ],
            [
             0.3333333333333333,
             "#9c179e"
            ],
            [
             0.4444444444444444,
             "#bd3786"
            ],
            [
             0.5555555555555556,
             "#d8576b"
            ],
            [
             0.6666666666666666,
             "#ed7953"
            ],
            [
             0.7777777777777778,
             "#fb9f3a"
            ],
            [
             0.8888888888888888,
             "#fdca26"
            ],
            [
             1,
             "#f0f921"
            ]
           ],
           "sequentialminus": [
            [
             0,
             "#0d0887"
            ],
            [
             0.1111111111111111,
             "#46039f"
            ],
            [
             0.2222222222222222,
             "#7201a8"
            ],
            [
             0.3333333333333333,
             "#9c179e"
            ],
            [
             0.4444444444444444,
             "#bd3786"
            ],
            [
             0.5555555555555556,
             "#d8576b"
            ],
            [
             0.6666666666666666,
             "#ed7953"
            ],
            [
             0.7777777777777778,
             "#fb9f3a"
            ],
            [
             0.8888888888888888,
             "#fdca26"
            ],
            [
             1,
             "#f0f921"
            ]
           ]
          },
          "colorway": [
           "#636efa",
           "#EF553B",
           "#00cc96",
           "#ab63fa",
           "#FFA15A",
           "#19d3f3",
           "#FF6692",
           "#B6E880",
           "#FF97FF",
           "#FECB52"
          ],
          "font": {
           "color": "#f2f5fa"
          },
          "geo": {
           "bgcolor": "rgb(17,17,17)",
           "lakecolor": "rgb(17,17,17)",
           "landcolor": "rgb(17,17,17)",
           "showlakes": true,
           "showland": true,
           "subunitcolor": "#506784"
          },
          "hoverlabel": {
           "align": "left"
          },
          "hovermode": "closest",
          "mapbox": {
           "style": "dark"
          },
          "paper_bgcolor": "rgb(17,17,17)",
          "plot_bgcolor": "rgb(17,17,17)",
          "polar": {
           "angularaxis": {
            "gridcolor": "#506784",
            "linecolor": "#506784",
            "ticks": ""
           },
           "bgcolor": "rgb(17,17,17)",
           "radialaxis": {
            "gridcolor": "#506784",
            "linecolor": "#506784",
            "ticks": ""
           }
          },
          "scene": {
           "xaxis": {
            "backgroundcolor": "rgb(17,17,17)",
            "gridcolor": "#506784",
            "gridwidth": 2,
            "linecolor": "#506784",
            "showbackground": true,
            "ticks": "",
            "zerolinecolor": "#C8D4E3"
           },
           "yaxis": {
            "backgroundcolor": "rgb(17,17,17)",
            "gridcolor": "#506784",
            "gridwidth": 2,
            "linecolor": "#506784",
            "showbackground": true,
            "ticks": "",
            "zerolinecolor": "#C8D4E3"
           },
           "zaxis": {
            "backgroundcolor": "rgb(17,17,17)",
            "gridcolor": "#506784",
            "gridwidth": 2,
            "linecolor": "#506784",
            "showbackground": true,
            "ticks": "",
            "zerolinecolor": "#C8D4E3"
           }
          },
          "shapedefaults": {
           "line": {
            "color": "#f2f5fa"
           }
          },
          "sliderdefaults": {
           "bgcolor": "#C8D4E3",
           "bordercolor": "rgb(17,17,17)",
           "borderwidth": 1,
           "tickwidth": 0
          },
          "ternary": {
           "aaxis": {
            "gridcolor": "#506784",
            "linecolor": "#506784",
            "ticks": ""
           },
           "baxis": {
            "gridcolor": "#506784",
            "linecolor": "#506784",
            "ticks": ""
           },
           "bgcolor": "rgb(17,17,17)",
           "caxis": {
            "gridcolor": "#506784",
            "linecolor": "#506784",
            "ticks": ""
           }
          },
          "title": {
           "x": 0.05
          },
          "updatemenudefaults": {
           "bgcolor": "#506784",
           "borderwidth": 0
          },
          "xaxis": {
           "automargin": true,
           "gridcolor": "#283442",
           "linecolor": "#506784",
           "ticks": "",
           "title": {
            "standoff": 15
           },
           "zerolinecolor": "#283442",
           "zerolinewidth": 2
          },
          "yaxis": {
           "automargin": true,
           "gridcolor": "#283442",
           "linecolor": "#506784",
           "ticks": "",
           "title": {
            "standoff": 15
           },
           "zerolinecolor": "#283442",
           "zerolinewidth": 2
          }
         }
        },
        "title": {
         "text": "RSI et ses composantes (EMA Up et EMA Down)"
        },
        "xaxis": {
         "title": {
          "text": "Périodes"
         }
        },
        "yaxis": {
         "title": {
          "text": "Valeur"
         }
        }
       }
      }
     },
     "metadata": {},
     "output_type": "display_data"
    },
    {
     "data": {
      "application/vnd.plotly.v1+json": {
       "config": {
        "plotlyServerURL": "https://plot.ly"
       },
       "data": [
        {
         "line": {
          "color": "blue"
         },
         "mode": "lines",
         "name": "RSI",
         "type": "scatter",
         "x": [
          "2024-11-15T22:30:00",
          "2024-11-15T23:00:00",
          "2024-11-15T23:30:00",
          "2024-11-16T00:00:00",
          "2024-11-16T00:30:00",
          "2024-11-16T01:00:00",
          "2024-11-16T01:30:00",
          "2024-11-16T02:00:00",
          "2024-11-16T02:30:00",
          "2024-11-16T03:00:00",
          "2024-11-16T03:30:00",
          "2024-11-16T04:00:00",
          "2024-11-16T04:30:00",
          "2024-11-16T05:00:00",
          "2024-11-16T05:30:00",
          "2024-11-16T06:00:00",
          "2024-11-16T06:30:00",
          "2024-11-16T07:00:00",
          "2024-11-16T07:30:00",
          "2024-11-16T08:00:00",
          "2024-11-16T08:30:00",
          "2024-11-16T09:00:00",
          "2024-11-16T09:30:00",
          "2024-11-16T10:00:00",
          "2024-11-16T10:30:00",
          "2024-11-16T11:00:00",
          "2024-11-16T11:30:00",
          "2024-11-16T12:00:00",
          "2024-11-16T12:30:00",
          "2024-11-16T13:00:00",
          "2024-11-16T13:30:00",
          "2024-11-16T14:00:00",
          "2024-11-16T14:30:00",
          "2024-11-16T15:00:00"
         ],
         "y": [
          69.99730154213015,
          70.9156832675348,
          71.91121481662714,
          71.09079611806466,
          64.53930402684765,
          52.98428529883379,
          56.292130308275006,
          65.71918611707207,
          61.61482575624322,
          64.68342624240293,
          65.31275489900459,
          69.48510189993469,
          74.2745890775721,
          71.9839216184042,
          66.55424353915431,
          66.02067152291791,
          64.83262662795336,
          62.93287491213889,
          56.49505000520866,
          55.399615402980125,
          52.3148568230631,
          56.59837154231583,
          57.82731147728615,
          54.56197542066198,
          56.329334468644674,
          59.32433715440684,
          59.93802664996854,
          66.36685434100534,
          76.61065365807549,
          77.58642209510995,
          69.05216247218493,
          70.0575890369353,
          63.82381505041258,
          65.93249663651439
         ]
        },
        {
         "line": {
          "color": "green"
         },
         "mode": "lines",
         "name": "EMA Up",
         "type": "scatter",
         "x": [
          "2024-11-15T22:30:00",
          "2024-11-15T23:00:00",
          "2024-11-15T23:30:00",
          "2024-11-16T00:00:00",
          "2024-11-16T00:30:00",
          "2024-11-16T01:00:00",
          "2024-11-16T01:30:00",
          "2024-11-16T02:00:00",
          "2024-11-16T02:30:00",
          "2024-11-16T03:00:00",
          "2024-11-16T03:30:00",
          "2024-11-16T04:00:00",
          "2024-11-16T04:30:00",
          "2024-11-16T05:00:00",
          "2024-11-16T05:30:00",
          "2024-11-16T06:00:00",
          "2024-11-16T06:30:00",
          "2024-11-16T07:00:00",
          "2024-11-16T07:30:00",
          "2024-11-16T08:00:00",
          "2024-11-16T08:30:00",
          "2024-11-16T09:00:00",
          "2024-11-16T09:30:00",
          "2024-11-16T10:00:00",
          "2024-11-16T10:30:00",
          "2024-11-16T11:00:00",
          "2024-11-16T11:30:00",
          "2024-11-16T12:00:00",
          "2024-11-16T12:30:00",
          "2024-11-16T13:00:00",
          "2024-11-16T13:30:00",
          "2024-11-16T14:00:00",
          "2024-11-16T14:30:00",
          "2024-11-16T15:00:00"
         ],
         "y": [
          7.776587858973299,
          7.291475281629121,
          6.8924526153508285,
          6.224054108997558,
          5.635509297201918,
          5.114664847994996,
          5.316105628508038,
          7.210213381670524,
          6.580713270594979,
          6.863401552147192,
          6.458186974429627,
          7.1572518122663995,
          8.325394392073578,
          7.64534016781565,
          7.0271754592127085,
          6.464298490332062,
          5.950959382927303,
          5.482127871661485,
          5.0533850312523745,
          4.66083407031857,
          4.301026377393171,
          4.720031478264414,
          4.584128563315473,
          4.235850295681652,
          4.205911754741562,
          4.397518403656899,
          4.172635774567277,
          5.091915907276208,
          7.822434824359878,
          7.652900498624997,
          7.086074628177989,
          6.881739408296525,
          6.3746112508938255,
          6.478678342838162
         ]
        },
        {
         "line": {
          "color": "red"
         },
         "mode": "lines",
         "name": "EMA Down",
         "type": "scatter",
         "x": [
          "2024-11-15T22:30:00",
          "2024-11-15T23:00:00",
          "2024-11-15T23:30:00",
          "2024-11-16T00:00:00",
          "2024-11-16T00:30:00",
          "2024-11-16T01:00:00",
          "2024-11-16T01:30:00",
          "2024-11-16T02:00:00",
          "2024-11-16T02:30:00",
          "2024-11-16T03:00:00",
          "2024-11-16T03:30:00",
          "2024-11-16T04:00:00",
          "2024-11-16T04:30:00",
          "2024-11-16T05:00:00",
          "2024-11-16T05:30:00",
          "2024-11-16T06:00:00",
          "2024-11-16T06:30:00",
          "2024-11-16T07:00:00",
          "2024-11-16T07:30:00",
          "2024-11-16T08:00:00",
          "2024-11-16T08:30:00",
          "2024-11-16T09:00:00",
          "2024-11-16T09:30:00",
          "2024-11-16T10:00:00",
          "2024-11-16T10:30:00",
          "2024-11-16T11:00:00",
          "2024-11-16T11:30:00",
          "2024-11-16T12:00:00",
          "2024-11-16T12:30:00",
          "2024-11-16T13:00:00",
          "2024-11-16T13:30:00",
          "2024-11-16T14:00:00",
          "2024-11-16T14:30:00",
          "2024-11-16T15:00:00"
         ],
         "y": [
          3.3332516457577626,
          2.990418575504675,
          2.6922173598769743,
          2.53102312865344,
          3.0963935055577885,
          4.538508388461913,
          4.127675588147329,
          3.7610323194345696,
          4.099692280869521,
          3.747356026504263,
          3.429907601302401,
          3.143160242354372,
          2.8835459675675468,
          2.975559605253895,
          3.5313931391646034,
          3.327026470802414,
          3.2279983308752045,
          3.228943852481308,
          3.891442932943548,
          3.752282223748425,
          3.9203979723664095,
          3.6194866909738614,
          3.3431439420232225,
          3.5275238545834156,
          3.260733811757635,
          3.0151533843332925,
          2.788947727230353,
          2.580462055845246,
          2.3882009695501227,
          2.2108105631425206,
          3.1758409650264205,
          2.9412355226112186,
          3.6132142118408996,
          3.34755101801115
         ]
        }
       ],
       "layout": {
        "showlegend": true,
        "template": {
         "data": {
          "bar": [
           {
            "error_x": {
             "color": "#f2f5fa"
            },
            "error_y": {
             "color": "#f2f5fa"
            },
            "marker": {
             "line": {
              "color": "rgb(17,17,17)",
              "width": 0.5
             },
             "pattern": {
              "fillmode": "overlay",
              "size": 10,
              "solidity": 0.2
             }
            },
            "type": "bar"
           }
          ],
          "barpolar": [
           {
            "marker": {
             "line": {
              "color": "rgb(17,17,17)",
              "width": 0.5
             },
             "pattern": {
              "fillmode": "overlay",
              "size": 10,
              "solidity": 0.2
             }
            },
            "type": "barpolar"
           }
          ],
          "carpet": [
           {
            "aaxis": {
             "endlinecolor": "#A2B1C6",
             "gridcolor": "#506784",
             "linecolor": "#506784",
             "minorgridcolor": "#506784",
             "startlinecolor": "#A2B1C6"
            },
            "baxis": {
             "endlinecolor": "#A2B1C6",
             "gridcolor": "#506784",
             "linecolor": "#506784",
             "minorgridcolor": "#506784",
             "startlinecolor": "#A2B1C6"
            },
            "type": "carpet"
           }
          ],
          "choropleth": [
           {
            "colorbar": {
             "outlinewidth": 0,
             "ticks": ""
            },
            "type": "choropleth"
           }
          ],
          "contour": [
           {
            "colorbar": {
             "outlinewidth": 0,
             "ticks": ""
            },
            "colorscale": [
             [
              0,
              "#0d0887"
             ],
             [
              0.1111111111111111,
              "#46039f"
             ],
             [
              0.2222222222222222,
              "#7201a8"
             ],
             [
              0.3333333333333333,
              "#9c179e"
             ],
             [
              0.4444444444444444,
              "#bd3786"
             ],
             [
              0.5555555555555556,
              "#d8576b"
             ],
             [
              0.6666666666666666,
              "#ed7953"
             ],
             [
              0.7777777777777778,
              "#fb9f3a"
             ],
             [
              0.8888888888888888,
              "#fdca26"
             ],
             [
              1,
              "#f0f921"
             ]
            ],
            "type": "contour"
           }
          ],
          "contourcarpet": [
           {
            "colorbar": {
             "outlinewidth": 0,
             "ticks": ""
            },
            "type": "contourcarpet"
           }
          ],
          "heatmap": [
           {
            "colorbar": {
             "outlinewidth": 0,
             "ticks": ""
            },
            "colorscale": [
             [
              0,
              "#0d0887"
             ],
             [
              0.1111111111111111,
              "#46039f"
             ],
             [
              0.2222222222222222,
              "#7201a8"
             ],
             [
              0.3333333333333333,
              "#9c179e"
             ],
             [
              0.4444444444444444,
              "#bd3786"
             ],
             [
              0.5555555555555556,
              "#d8576b"
             ],
             [
              0.6666666666666666,
              "#ed7953"
             ],
             [
              0.7777777777777778,
              "#fb9f3a"
             ],
             [
              0.8888888888888888,
              "#fdca26"
             ],
             [
              1,
              "#f0f921"
             ]
            ],
            "type": "heatmap"
           }
          ],
          "heatmapgl": [
           {
            "colorbar": {
             "outlinewidth": 0,
             "ticks": ""
            },
            "colorscale": [
             [
              0,
              "#0d0887"
             ],
             [
              0.1111111111111111,
              "#46039f"
             ],
             [
              0.2222222222222222,
              "#7201a8"
             ],
             [
              0.3333333333333333,
              "#9c179e"
             ],
             [
              0.4444444444444444,
              "#bd3786"
             ],
             [
              0.5555555555555556,
              "#d8576b"
             ],
             [
              0.6666666666666666,
              "#ed7953"
             ],
             [
              0.7777777777777778,
              "#fb9f3a"
             ],
             [
              0.8888888888888888,
              "#fdca26"
             ],
             [
              1,
              "#f0f921"
             ]
            ],
            "type": "heatmapgl"
           }
          ],
          "histogram": [
           {
            "marker": {
             "pattern": {
              "fillmode": "overlay",
              "size": 10,
              "solidity": 0.2
             }
            },
            "type": "histogram"
           }
          ],
          "histogram2d": [
           {
            "colorbar": {
             "outlinewidth": 0,
             "ticks": ""
            },
            "colorscale": [
             [
              0,
              "#0d0887"
             ],
             [
              0.1111111111111111,
              "#46039f"
             ],
             [
              0.2222222222222222,
              "#7201a8"
             ],
             [
              0.3333333333333333,
              "#9c179e"
             ],
             [
              0.4444444444444444,
              "#bd3786"
             ],
             [
              0.5555555555555556,
              "#d8576b"
             ],
             [
              0.6666666666666666,
              "#ed7953"
             ],
             [
              0.7777777777777778,
              "#fb9f3a"
             ],
             [
              0.8888888888888888,
              "#fdca26"
             ],
             [
              1,
              "#f0f921"
             ]
            ],
            "type": "histogram2d"
           }
          ],
          "histogram2dcontour": [
           {
            "colorbar": {
             "outlinewidth": 0,
             "ticks": ""
            },
            "colorscale": [
             [
              0,
              "#0d0887"
             ],
             [
              0.1111111111111111,
              "#46039f"
             ],
             [
              0.2222222222222222,
              "#7201a8"
             ],
             [
              0.3333333333333333,
              "#9c179e"
             ],
             [
              0.4444444444444444,
              "#bd3786"
             ],
             [
              0.5555555555555556,
              "#d8576b"
             ],
             [
              0.6666666666666666,
              "#ed7953"
             ],
             [
              0.7777777777777778,
              "#fb9f3a"
             ],
             [
              0.8888888888888888,
              "#fdca26"
             ],
             [
              1,
              "#f0f921"
             ]
            ],
            "type": "histogram2dcontour"
           }
          ],
          "mesh3d": [
           {
            "colorbar": {
             "outlinewidth": 0,
             "ticks": ""
            },
            "type": "mesh3d"
           }
          ],
          "parcoords": [
           {
            "line": {
             "colorbar": {
              "outlinewidth": 0,
              "ticks": ""
             }
            },
            "type": "parcoords"
           }
          ],
          "pie": [
           {
            "automargin": true,
            "type": "pie"
           }
          ],
          "scatter": [
           {
            "marker": {
             "line": {
              "color": "#283442"
             }
            },
            "type": "scatter"
           }
          ],
          "scatter3d": [
           {
            "line": {
             "colorbar": {
              "outlinewidth": 0,
              "ticks": ""
             }
            },
            "marker": {
             "colorbar": {
              "outlinewidth": 0,
              "ticks": ""
             }
            },
            "type": "scatter3d"
           }
          ],
          "scattercarpet": [
           {
            "marker": {
             "colorbar": {
              "outlinewidth": 0,
              "ticks": ""
             }
            },
            "type": "scattercarpet"
           }
          ],
          "scattergeo": [
           {
            "marker": {
             "colorbar": {
              "outlinewidth": 0,
              "ticks": ""
             }
            },
            "type": "scattergeo"
           }
          ],
          "scattergl": [
           {
            "marker": {
             "line": {
              "color": "#283442"
             }
            },
            "type": "scattergl"
           }
          ],
          "scattermapbox": [
           {
            "marker": {
             "colorbar": {
              "outlinewidth": 0,
              "ticks": ""
             }
            },
            "type": "scattermapbox"
           }
          ],
          "scatterpolar": [
           {
            "marker": {
             "colorbar": {
              "outlinewidth": 0,
              "ticks": ""
             }
            },
            "type": "scatterpolar"
           }
          ],
          "scatterpolargl": [
           {
            "marker": {
             "colorbar": {
              "outlinewidth": 0,
              "ticks": ""
             }
            },
            "type": "scatterpolargl"
           }
          ],
          "scatterternary": [
           {
            "marker": {
             "colorbar": {
              "outlinewidth": 0,
              "ticks": ""
             }
            },
            "type": "scatterternary"
           }
          ],
          "surface": [
           {
            "colorbar": {
             "outlinewidth": 0,
             "ticks": ""
            },
            "colorscale": [
             [
              0,
              "#0d0887"
             ],
             [
              0.1111111111111111,
              "#46039f"
             ],
             [
              0.2222222222222222,
              "#7201a8"
             ],
             [
              0.3333333333333333,
              "#9c179e"
             ],
             [
              0.4444444444444444,
              "#bd3786"
             ],
             [
              0.5555555555555556,
              "#d8576b"
             ],
             [
              0.6666666666666666,
              "#ed7953"
             ],
             [
              0.7777777777777778,
              "#fb9f3a"
             ],
             [
              0.8888888888888888,
              "#fdca26"
             ],
             [
              1,
              "#f0f921"
             ]
            ],
            "type": "surface"
           }
          ],
          "table": [
           {
            "cells": {
             "fill": {
              "color": "#506784"
             },
             "line": {
              "color": "rgb(17,17,17)"
             }
            },
            "header": {
             "fill": {
              "color": "#2a3f5f"
             },
             "line": {
              "color": "rgb(17,17,17)"
             }
            },
            "type": "table"
           }
          ]
         },
         "layout": {
          "annotationdefaults": {
           "arrowcolor": "#f2f5fa",
           "arrowhead": 0,
           "arrowwidth": 1
          },
          "autotypenumbers": "strict",
          "coloraxis": {
           "colorbar": {
            "outlinewidth": 0,
            "ticks": ""
           }
          },
          "colorscale": {
           "diverging": [
            [
             0,
             "#8e0152"
            ],
            [
             0.1,
             "#c51b7d"
            ],
            [
             0.2,
             "#de77ae"
            ],
            [
             0.3,
             "#f1b6da"
            ],
            [
             0.4,
             "#fde0ef"
            ],
            [
             0.5,
             "#f7f7f7"
            ],
            [
             0.6,
             "#e6f5d0"
            ],
            [
             0.7,
             "#b8e186"
            ],
            [
             0.8,
             "#7fbc41"
            ],
            [
             0.9,
             "#4d9221"
            ],
            [
             1,
             "#276419"
            ]
           ],
           "sequential": [
            [
             0,
             "#0d0887"
            ],
            [
             0.1111111111111111,
             "#46039f"
            ],
            [
             0.2222222222222222,
             "#7201a8"
            ],
            [
             0.3333333333333333,
             "#9c179e"
            ],
            [
             0.4444444444444444,
             "#bd3786"
            ],
            [
             0.5555555555555556,
             "#d8576b"
            ],
            [
             0.6666666666666666,
             "#ed7953"
            ],
            [
             0.7777777777777778,
             "#fb9f3a"
            ],
            [
             0.8888888888888888,
             "#fdca26"
            ],
            [
             1,
             "#f0f921"
            ]
           ],
           "sequentialminus": [
            [
             0,
             "#0d0887"
            ],
            [
             0.1111111111111111,
             "#46039f"
            ],
            [
             0.2222222222222222,
             "#7201a8"
            ],
            [
             0.3333333333333333,
             "#9c179e"
            ],
            [
             0.4444444444444444,
             "#bd3786"
            ],
            [
             0.5555555555555556,
             "#d8576b"
            ],
            [
             0.6666666666666666,
             "#ed7953"
            ],
            [
             0.7777777777777778,
             "#fb9f3a"
            ],
            [
             0.8888888888888888,
             "#fdca26"
            ],
            [
             1,
             "#f0f921"
            ]
           ]
          },
          "colorway": [
           "#636efa",
           "#EF553B",
           "#00cc96",
           "#ab63fa",
           "#FFA15A",
           "#19d3f3",
           "#FF6692",
           "#B6E880",
           "#FF97FF",
           "#FECB52"
          ],
          "font": {
           "color": "#f2f5fa"
          },
          "geo": {
           "bgcolor": "rgb(17,17,17)",
           "lakecolor": "rgb(17,17,17)",
           "landcolor": "rgb(17,17,17)",
           "showlakes": true,
           "showland": true,
           "subunitcolor": "#506784"
          },
          "hoverlabel": {
           "align": "left"
          },
          "hovermode": "closest",
          "mapbox": {
           "style": "dark"
          },
          "paper_bgcolor": "rgb(17,17,17)",
          "plot_bgcolor": "rgb(17,17,17)",
          "polar": {
           "angularaxis": {
            "gridcolor": "#506784",
            "linecolor": "#506784",
            "ticks": ""
           },
           "bgcolor": "rgb(17,17,17)",
           "radialaxis": {
            "gridcolor": "#506784",
            "linecolor": "#506784",
            "ticks": ""
           }
          },
          "scene": {
           "xaxis": {
            "backgroundcolor": "rgb(17,17,17)",
            "gridcolor": "#506784",
            "gridwidth": 2,
            "linecolor": "#506784",
            "showbackground": true,
            "ticks": "",
            "zerolinecolor": "#C8D4E3"
           },
           "yaxis": {
            "backgroundcolor": "rgb(17,17,17)",
            "gridcolor": "#506784",
            "gridwidth": 2,
            "linecolor": "#506784",
            "showbackground": true,
            "ticks": "",
            "zerolinecolor": "#C8D4E3"
           },
           "zaxis": {
            "backgroundcolor": "rgb(17,17,17)",
            "gridcolor": "#506784",
            "gridwidth": 2,
            "linecolor": "#506784",
            "showbackground": true,
            "ticks": "",
            "zerolinecolor": "#C8D4E3"
           }
          },
          "shapedefaults": {
           "line": {
            "color": "#f2f5fa"
           }
          },
          "sliderdefaults": {
           "bgcolor": "#C8D4E3",
           "bordercolor": "rgb(17,17,17)",
           "borderwidth": 1,
           "tickwidth": 0
          },
          "ternary": {
           "aaxis": {
            "gridcolor": "#506784",
            "linecolor": "#506784",
            "ticks": ""
           },
           "baxis": {
            "gridcolor": "#506784",
            "linecolor": "#506784",
            "ticks": ""
           },
           "bgcolor": "rgb(17,17,17)",
           "caxis": {
            "gridcolor": "#506784",
            "linecolor": "#506784",
            "ticks": ""
           }
          },
          "title": {
           "x": 0.05
          },
          "updatemenudefaults": {
           "bgcolor": "#506784",
           "borderwidth": 0
          },
          "xaxis": {
           "automargin": true,
           "gridcolor": "#283442",
           "linecolor": "#506784",
           "ticks": "",
           "title": {
            "standoff": 15
           },
           "zerolinecolor": "#283442",
           "zerolinewidth": 2
          },
          "yaxis": {
           "automargin": true,
           "gridcolor": "#283442",
           "linecolor": "#506784",
           "ticks": "",
           "title": {
            "standoff": 15
           },
           "zerolinecolor": "#283442",
           "zerolinewidth": 2
          }
         }
        },
        "title": {
         "text": "RSI et ses composantes (EMA Up et EMA Down)"
        },
        "xaxis": {
         "title": {
          "text": "Périodes"
         }
        },
        "yaxis": {
         "title": {
          "text": "Valeur"
         }
        }
       }
      }
     },
     "metadata": {},
     "output_type": "display_data"
    },
    {
     "data": {
      "application/vnd.plotly.v1+json": {
       "config": {
        "plotlyServerURL": "https://plot.ly"
       },
       "data": [
        {
         "line": {
          "color": "blue"
         },
         "mode": "lines",
         "name": "RSI",
         "type": "scatter",
         "x": [
          "2024-11-15T23:00:00",
          "2024-11-15T23:30:00",
          "2024-11-16T00:00:00",
          "2024-11-16T00:30:00",
          "2024-11-16T01:00:00",
          "2024-11-16T01:30:00",
          "2024-11-16T02:00:00",
          "2024-11-16T02:30:00",
          "2024-11-16T03:00:00",
          "2024-11-16T03:30:00",
          "2024-11-16T04:00:00",
          "2024-11-16T04:30:00",
          "2024-11-16T05:00:00",
          "2024-11-16T05:30:00",
          "2024-11-16T06:00:00",
          "2024-11-16T06:30:00",
          "2024-11-16T07:00:00",
          "2024-11-16T07:30:00",
          "2024-11-16T08:00:00",
          "2024-11-16T08:30:00",
          "2024-11-16T09:00:00",
          "2024-11-16T09:30:00",
          "2024-11-16T10:00:00",
          "2024-11-16T10:30:00",
          "2024-11-16T11:00:00",
          "2024-11-16T11:30:00",
          "2024-11-16T12:00:00",
          "2024-11-16T12:30:00",
          "2024-11-16T13:00:00",
          "2024-11-16T13:30:00",
          "2024-11-16T14:00:00",
          "2024-11-16T14:30:00",
          "2024-11-16T15:00:00",
          "2024-11-16T15:30:00"
         ],
         "y": [
          70.52894656297104,
          72.83715719981973,
          73.87761324358723,
          74.75561673904173,
          67.63850728133937,
          70.38353162273059,
          75.57622257562586,
          68.18442184203924,
          71.45042298055442,
          66.72749352965094,
          69.9834784441033,
          73.94739656680734,
          71.56809106360227,
          64.98006274412441,
          68.1021800790729,
          68.9803698792682,
          70.53754352445421,
          63.428596411099754,
          64.38363216870502,
          61.579747084730606,
          64.38037074541066,
          59.50430331962295,
          55.40309584981777,
          54.57788734708184,
          62.1181357600863,
          62.58367372648058,
          64.01250617137839,
          69.84353526754168,
          65.81544521176994,
          58.8198279272718,
          61.14262721599472,
          54.17574702533771,
          64.4382781448026,
          61.551725084480154
         ]
        },
        {
         "line": {
          "color": "green"
         },
         "mode": "lines",
         "name": "EMA Up",
         "type": "scatter",
         "x": [
          "2024-11-15T23:00:00",
          "2024-11-15T23:30:00",
          "2024-11-16T00:00:00",
          "2024-11-16T00:30:00",
          "2024-11-16T01:00:00",
          "2024-11-16T01:30:00",
          "2024-11-16T02:00:00",
          "2024-11-16T02:30:00",
          "2024-11-16T03:00:00",
          "2024-11-16T03:30:00",
          "2024-11-16T04:00:00",
          "2024-11-16T04:30:00",
          "2024-11-16T05:00:00",
          "2024-11-16T05:30:00",
          "2024-11-16T06:00:00",
          "2024-11-16T06:30:00",
          "2024-11-16T07:00:00",
          "2024-11-16T07:30:00",
          "2024-11-16T08:00:00",
          "2024-11-16T08:30:00",
          "2024-11-16T09:00:00",
          "2024-11-16T09:30:00",
          "2024-11-16T10:00:00",
          "2024-11-16T10:30:00",
          "2024-11-16T11:00:00",
          "2024-11-16T11:30:00",
          "2024-11-16T12:00:00",
          "2024-11-16T12:30:00",
          "2024-11-16T13:00:00",
          "2024-11-16T13:30:00",
          "2024-11-16T14:00:00",
          "2024-11-16T14:30:00",
          "2024-11-16T15:00:00",
          "2024-11-16T15:30:00"
         ],
         "y": [
          1.0276415633745575,
          1.0330267564201565,
          0.9808711097665823,
          0.9274501510006049,
          0.8397507247084381,
          0.8665761127877373,
          1.026203971043291,
          0.9350507856064959,
          0.9965975922365801,
          0.910947880330984,
          0.9693193050698798,
          1.0814029799530922,
          0.9920827962062588,
          0.9110451822986196,
          0.9635164859914979,
          0.9231848000870647,
          0.9149907488294249,
          0.8429054819061401,
          0.8098311535099862,
          0.7469228266086239,
          0.7772676508966759,
          0.7176082473195651,
          0.6628198608258487,
          0.6124622520255496,
          0.7726136811174537,
          0.7287344425496833,
          0.7168257187453226,
          0.8635813226876766,
          0.7992389376376755,
          0.7398731967423292,
          0.7546959491715185,
          0.6989451168741361,
          0.9923164446179115,
          0.9193559334190298
         ]
        },
        {
         "line": {
          "color": "red"
         },
         "mode": "lines",
         "name": "EMA Down",
         "type": "scatter",
         "x": [
          "2024-11-15T23:00:00",
          "2024-11-15T23:30:00",
          "2024-11-16T00:00:00",
          "2024-11-16T00:30:00",
          "2024-11-16T01:00:00",
          "2024-11-16T01:30:00",
          "2024-11-16T02:00:00",
          "2024-11-16T02:30:00",
          "2024-11-16T03:00:00",
          "2024-11-16T03:30:00",
          "2024-11-16T04:00:00",
          "2024-11-16T04:30:00",
          "2024-11-16T05:00:00",
          "2024-11-16T05:30:00",
          "2024-11-16T06:00:00",
          "2024-11-16T06:30:00",
          "2024-11-16T07:00:00",
          "2024-11-16T07:30:00",
          "2024-11-16T08:00:00",
          "2024-11-16T08:30:00",
          "2024-11-16T09:00:00",
          "2024-11-16T09:30:00",
          "2024-11-16T10:00:00",
          "2024-11-16T10:30:00",
          "2024-11-16T11:00:00",
          "2024-11-16T11:30:00",
          "2024-11-16T12:00:00",
          "2024-11-16T12:30:00",
          "2024-11-16T13:00:00",
          "2024-11-16T13:30:00",
          "2024-11-16T14:00:00",
          "2024-11-16T14:30:00",
          "2024-11-16T15:00:00",
          "2024-11-16T15:30:00"
         ],
         "y": [
          0.42940779501482146,
          0.38524215485293906,
          0.3468262354799149,
          0.31319261466363263,
          0.4017768584115326,
          0.3646438797422678,
          0.3316357516504611,
          0.43630466530969625,
          0.39821233423202734,
          0.4542283493534059,
          0.4157494663317699,
          0.3809919523365185,
          0.39412547267798304,
          0.4909928334018153,
          0.4512935610184018,
          0.41514493299910793,
          0.38217768532821284,
          0.4859990337211913,
          0.44799032414131856,
          0.4660130199464065,
          0.4300376844055182,
          0.488368811961317,
          0.5335390260900869,
          0.5097179601374201,
          0.47116749754099024,
          0.4356817688325179,
          0.4029956437024948,
          0.3728700101087718,
          0.41512485655382164,
          0.5179903890831015,
          0.4796244971930963,
          0.5911988225296773,
          0.5476322833540337,
          0.5742755320796344
         ]
        }
       ],
       "layout": {
        "showlegend": true,
        "template": {
         "data": {
          "bar": [
           {
            "error_x": {
             "color": "#f2f5fa"
            },
            "error_y": {
             "color": "#f2f5fa"
            },
            "marker": {
             "line": {
              "color": "rgb(17,17,17)",
              "width": 0.5
             },
             "pattern": {
              "fillmode": "overlay",
              "size": 10,
              "solidity": 0.2
             }
            },
            "type": "bar"
           }
          ],
          "barpolar": [
           {
            "marker": {
             "line": {
              "color": "rgb(17,17,17)",
              "width": 0.5
             },
             "pattern": {
              "fillmode": "overlay",
              "size": 10,
              "solidity": 0.2
             }
            },
            "type": "barpolar"
           }
          ],
          "carpet": [
           {
            "aaxis": {
             "endlinecolor": "#A2B1C6",
             "gridcolor": "#506784",
             "linecolor": "#506784",
             "minorgridcolor": "#506784",
             "startlinecolor": "#A2B1C6"
            },
            "baxis": {
             "endlinecolor": "#A2B1C6",
             "gridcolor": "#506784",
             "linecolor": "#506784",
             "minorgridcolor": "#506784",
             "startlinecolor": "#A2B1C6"
            },
            "type": "carpet"
           }
          ],
          "choropleth": [
           {
            "colorbar": {
             "outlinewidth": 0,
             "ticks": ""
            },
            "type": "choropleth"
           }
          ],
          "contour": [
           {
            "colorbar": {
             "outlinewidth": 0,
             "ticks": ""
            },
            "colorscale": [
             [
              0,
              "#0d0887"
             ],
             [
              0.1111111111111111,
              "#46039f"
             ],
             [
              0.2222222222222222,
              "#7201a8"
             ],
             [
              0.3333333333333333,
              "#9c179e"
             ],
             [
              0.4444444444444444,
              "#bd3786"
             ],
             [
              0.5555555555555556,
              "#d8576b"
             ],
             [
              0.6666666666666666,
              "#ed7953"
             ],
             [
              0.7777777777777778,
              "#fb9f3a"
             ],
             [
              0.8888888888888888,
              "#fdca26"
             ],
             [
              1,
              "#f0f921"
             ]
            ],
            "type": "contour"
           }
          ],
          "contourcarpet": [
           {
            "colorbar": {
             "outlinewidth": 0,
             "ticks": ""
            },
            "type": "contourcarpet"
           }
          ],
          "heatmap": [
           {
            "colorbar": {
             "outlinewidth": 0,
             "ticks": ""
            },
            "colorscale": [
             [
              0,
              "#0d0887"
             ],
             [
              0.1111111111111111,
              "#46039f"
             ],
             [
              0.2222222222222222,
              "#7201a8"
             ],
             [
              0.3333333333333333,
              "#9c179e"
             ],
             [
              0.4444444444444444,
              "#bd3786"
             ],
             [
              0.5555555555555556,
              "#d8576b"
             ],
             [
              0.6666666666666666,
              "#ed7953"
             ],
             [
              0.7777777777777778,
              "#fb9f3a"
             ],
             [
              0.8888888888888888,
              "#fdca26"
             ],
             [
              1,
              "#f0f921"
             ]
            ],
            "type": "heatmap"
           }
          ],
          "heatmapgl": [
           {
            "colorbar": {
             "outlinewidth": 0,
             "ticks": ""
            },
            "colorscale": [
             [
              0,
              "#0d0887"
             ],
             [
              0.1111111111111111,
              "#46039f"
             ],
             [
              0.2222222222222222,
              "#7201a8"
             ],
             [
              0.3333333333333333,
              "#9c179e"
             ],
             [
              0.4444444444444444,
              "#bd3786"
             ],
             [
              0.5555555555555556,
              "#d8576b"
             ],
             [
              0.6666666666666666,
              "#ed7953"
             ],
             [
              0.7777777777777778,
              "#fb9f3a"
             ],
             [
              0.8888888888888888,
              "#fdca26"
             ],
             [
              1,
              "#f0f921"
             ]
            ],
            "type": "heatmapgl"
           }
          ],
          "histogram": [
           {
            "marker": {
             "pattern": {
              "fillmode": "overlay",
              "size": 10,
              "solidity": 0.2
             }
            },
            "type": "histogram"
           }
          ],
          "histogram2d": [
           {
            "colorbar": {
             "outlinewidth": 0,
             "ticks": ""
            },
            "colorscale": [
             [
              0,
              "#0d0887"
             ],
             [
              0.1111111111111111,
              "#46039f"
             ],
             [
              0.2222222222222222,
              "#7201a8"
             ],
             [
              0.3333333333333333,
              "#9c179e"
             ],
             [
              0.4444444444444444,
              "#bd3786"
             ],
             [
              0.5555555555555556,
              "#d8576b"
             ],
             [
              0.6666666666666666,
              "#ed7953"
             ],
             [
              0.7777777777777778,
              "#fb9f3a"
             ],
             [
              0.8888888888888888,
              "#fdca26"
             ],
             [
              1,
              "#f0f921"
             ]
            ],
            "type": "histogram2d"
           }
          ],
          "histogram2dcontour": [
           {
            "colorbar": {
             "outlinewidth": 0,
             "ticks": ""
            },
            "colorscale": [
             [
              0,
              "#0d0887"
             ],
             [
              0.1111111111111111,
              "#46039f"
             ],
             [
              0.2222222222222222,
              "#7201a8"
             ],
             [
              0.3333333333333333,
              "#9c179e"
             ],
             [
              0.4444444444444444,
              "#bd3786"
             ],
             [
              0.5555555555555556,
              "#d8576b"
             ],
             [
              0.6666666666666666,
              "#ed7953"
             ],
             [
              0.7777777777777778,
              "#fb9f3a"
             ],
             [
              0.8888888888888888,
              "#fdca26"
             ],
             [
              1,
              "#f0f921"
             ]
            ],
            "type": "histogram2dcontour"
           }
          ],
          "mesh3d": [
           {
            "colorbar": {
             "outlinewidth": 0,
             "ticks": ""
            },
            "type": "mesh3d"
           }
          ],
          "parcoords": [
           {
            "line": {
             "colorbar": {
              "outlinewidth": 0,
              "ticks": ""
             }
            },
            "type": "parcoords"
           }
          ],
          "pie": [
           {
            "automargin": true,
            "type": "pie"
           }
          ],
          "scatter": [
           {
            "marker": {
             "line": {
              "color": "#283442"
             }
            },
            "type": "scatter"
           }
          ],
          "scatter3d": [
           {
            "line": {
             "colorbar": {
              "outlinewidth": 0,
              "ticks": ""
             }
            },
            "marker": {
             "colorbar": {
              "outlinewidth": 0,
              "ticks": ""
             }
            },
            "type": "scatter3d"
           }
          ],
          "scattercarpet": [
           {
            "marker": {
             "colorbar": {
              "outlinewidth": 0,
              "ticks": ""
             }
            },
            "type": "scattercarpet"
           }
          ],
          "scattergeo": [
           {
            "marker": {
             "colorbar": {
              "outlinewidth": 0,
              "ticks": ""
             }
            },
            "type": "scattergeo"
           }
          ],
          "scattergl": [
           {
            "marker": {
             "line": {
              "color": "#283442"
             }
            },
            "type": "scattergl"
           }
          ],
          "scattermapbox": [
           {
            "marker": {
             "colorbar": {
              "outlinewidth": 0,
              "ticks": ""
             }
            },
            "type": "scattermapbox"
           }
          ],
          "scatterpolar": [
           {
            "marker": {
             "colorbar": {
              "outlinewidth": 0,
              "ticks": ""
             }
            },
            "type": "scatterpolar"
           }
          ],
          "scatterpolargl": [
           {
            "marker": {
             "colorbar": {
              "outlinewidth": 0,
              "ticks": ""
             }
            },
            "type": "scatterpolargl"
           }
          ],
          "scatterternary": [
           {
            "marker": {
             "colorbar": {
              "outlinewidth": 0,
              "ticks": ""
             }
            },
            "type": "scatterternary"
           }
          ],
          "surface": [
           {
            "colorbar": {
             "outlinewidth": 0,
             "ticks": ""
            },
            "colorscale": [
             [
              0,
              "#0d0887"
             ],
             [
              0.1111111111111111,
              "#46039f"
             ],
             [
              0.2222222222222222,
              "#7201a8"
             ],
             [
              0.3333333333333333,
              "#9c179e"
             ],
             [
              0.4444444444444444,
              "#bd3786"
             ],
             [
              0.5555555555555556,
              "#d8576b"
             ],
             [
              0.6666666666666666,
              "#ed7953"
             ],
             [
              0.7777777777777778,
              "#fb9f3a"
             ],
             [
              0.8888888888888888,
              "#fdca26"
             ],
             [
              1,
              "#f0f921"
             ]
            ],
            "type": "surface"
           }
          ],
          "table": [
           {
            "cells": {
             "fill": {
              "color": "#506784"
             },
             "line": {
              "color": "rgb(17,17,17)"
             }
            },
            "header": {
             "fill": {
              "color": "#2a3f5f"
             },
             "line": {
              "color": "rgb(17,17,17)"
             }
            },
            "type": "table"
           }
          ]
         },
         "layout": {
          "annotationdefaults": {
           "arrowcolor": "#f2f5fa",
           "arrowhead": 0,
           "arrowwidth": 1
          },
          "autotypenumbers": "strict",
          "coloraxis": {
           "colorbar": {
            "outlinewidth": 0,
            "ticks": ""
           }
          },
          "colorscale": {
           "diverging": [
            [
             0,
             "#8e0152"
            ],
            [
             0.1,
             "#c51b7d"
            ],
            [
             0.2,
             "#de77ae"
            ],
            [
             0.3,
             "#f1b6da"
            ],
            [
             0.4,
             "#fde0ef"
            ],
            [
             0.5,
             "#f7f7f7"
            ],
            [
             0.6,
             "#e6f5d0"
            ],
            [
             0.7,
             "#b8e186"
            ],
            [
             0.8,
             "#7fbc41"
            ],
            [
             0.9,
             "#4d9221"
            ],
            [
             1,
             "#276419"
            ]
           ],
           "sequential": [
            [
             0,
             "#0d0887"
            ],
            [
             0.1111111111111111,
             "#46039f"
            ],
            [
             0.2222222222222222,
             "#7201a8"
            ],
            [
             0.3333333333333333,
             "#9c179e"
            ],
            [
             0.4444444444444444,
             "#bd3786"
            ],
            [
             0.5555555555555556,
             "#d8576b"
            ],
            [
             0.6666666666666666,
             "#ed7953"
            ],
            [
             0.7777777777777778,
             "#fb9f3a"
            ],
            [
             0.8888888888888888,
             "#fdca26"
            ],
            [
             1,
             "#f0f921"
            ]
           ],
           "sequentialminus": [
            [
             0,
             "#0d0887"
            ],
            [
             0.1111111111111111,
             "#46039f"
            ],
            [
             0.2222222222222222,
             "#7201a8"
            ],
            [
             0.3333333333333333,
             "#9c179e"
            ],
            [
             0.4444444444444444,
             "#bd3786"
            ],
            [
             0.5555555555555556,
             "#d8576b"
            ],
            [
             0.6666666666666666,
             "#ed7953"
            ],
            [
             0.7777777777777778,
             "#fb9f3a"
            ],
            [
             0.8888888888888888,
             "#fdca26"
            ],
            [
             1,
             "#f0f921"
            ]
           ]
          },
          "colorway": [
           "#636efa",
           "#EF553B",
           "#00cc96",
           "#ab63fa",
           "#FFA15A",
           "#19d3f3",
           "#FF6692",
           "#B6E880",
           "#FF97FF",
           "#FECB52"
          ],
          "font": {
           "color": "#f2f5fa"
          },
          "geo": {
           "bgcolor": "rgb(17,17,17)",
           "lakecolor": "rgb(17,17,17)",
           "landcolor": "rgb(17,17,17)",
           "showlakes": true,
           "showland": true,
           "subunitcolor": "#506784"
          },
          "hoverlabel": {
           "align": "left"
          },
          "hovermode": "closest",
          "mapbox": {
           "style": "dark"
          },
          "paper_bgcolor": "rgb(17,17,17)",
          "plot_bgcolor": "rgb(17,17,17)",
          "polar": {
           "angularaxis": {
            "gridcolor": "#506784",
            "linecolor": "#506784",
            "ticks": ""
           },
           "bgcolor": "rgb(17,17,17)",
           "radialaxis": {
            "gridcolor": "#506784",
            "linecolor": "#506784",
            "ticks": ""
           }
          },
          "scene": {
           "xaxis": {
            "backgroundcolor": "rgb(17,17,17)",
            "gridcolor": "#506784",
            "gridwidth": 2,
            "linecolor": "#506784",
            "showbackground": true,
            "ticks": "",
            "zerolinecolor": "#C8D4E3"
           },
           "yaxis": {
            "backgroundcolor": "rgb(17,17,17)",
            "gridcolor": "#506784",
            "gridwidth": 2,
            "linecolor": "#506784",
            "showbackground": true,
            "ticks": "",
            "zerolinecolor": "#C8D4E3"
           },
           "zaxis": {
            "backgroundcolor": "rgb(17,17,17)",
            "gridcolor": "#506784",
            "gridwidth": 2,
            "linecolor": "#506784",
            "showbackground": true,
            "ticks": "",
            "zerolinecolor": "#C8D4E3"
           }
          },
          "shapedefaults": {
           "line": {
            "color": "#f2f5fa"
           }
          },
          "sliderdefaults": {
           "bgcolor": "#C8D4E3",
           "bordercolor": "rgb(17,17,17)",
           "borderwidth": 1,
           "tickwidth": 0
          },
          "ternary": {
           "aaxis": {
            "gridcolor": "#506784",
            "linecolor": "#506784",
            "ticks": ""
           },
           "baxis": {
            "gridcolor": "#506784",
            "linecolor": "#506784",
            "ticks": ""
           },
           "bgcolor": "rgb(17,17,17)",
           "caxis": {
            "gridcolor": "#506784",
            "linecolor": "#506784",
            "ticks": ""
           }
          },
          "title": {
           "x": 0.05
          },
          "updatemenudefaults": {
           "bgcolor": "#506784",
           "borderwidth": 0
          },
          "xaxis": {
           "automargin": true,
           "gridcolor": "#283442",
           "linecolor": "#506784",
           "ticks": "",
           "title": {
            "standoff": 15
           },
           "zerolinecolor": "#283442",
           "zerolinewidth": 2
          },
          "yaxis": {
           "automargin": true,
           "gridcolor": "#283442",
           "linecolor": "#506784",
           "ticks": "",
           "title": {
            "standoff": 15
           },
           "zerolinecolor": "#283442",
           "zerolinewidth": 2
          }
         }
        },
        "title": {
         "text": "RSI et ses composantes (EMA Up et EMA Down)"
        },
        "xaxis": {
         "title": {
          "text": "Périodes"
         }
        },
        "yaxis": {
         "title": {
          "text": "Valeur"
         }
        }
       }
      }
     },
     "metadata": {},
     "output_type": "display_data"
    }
   ],
   "source": [
    "def RSI_indica (prix, period=14):\n",
    "    delta = prix.diff()\n",
    "    up = delta.where(delta > 0, 0)  \n",
    "    down = -delta.where(delta < 0, 0)\n",
    "\n",
    "    ema_up = up.ewm(alpha=1/period, min_periods=period).mean()\n",
    "    ema_down = down.abs().ewm(alpha=1/period, min_periods=period).mean()\n",
    "    rs = ema_up / ema_down\n",
    "    rsi = 100 - 100 / (1 + rs)\n",
    "    \n",
    "    return rsi.iloc[period:], ema_up.iloc[period:], ema_down.iloc[period:]\n",
    "\n",
    "\n",
    "\n",
    "BTC_rsi, BTC_ema_up, BTC_ema_down = RSI_indica(open_BTC['Open'])\n",
    "ETH_rsi, ETH_ema_up, ETH_ema_down = RSI_indica(open_ETH['Open'])\n",
    "BNB_rsi, BNB_ema_up, BNB_ema_down = RSI_indica(open_BNB['Open'])\n",
    "\n",
    "def graph_RSI (rsi, ema_up, ema_down):\n",
    "    fig = go.Figure()\n",
    "    fig.add_trace(go.Scatter(x=rsi.index, y=rsi, mode='lines', name='RSI', line=dict(color='blue')))\n",
    "    fig.add_trace(go.Scatter(x=ema_up.index, y=ema_up, mode='lines', name='EMA Up', line=dict(color='green')))\n",
    "    fig.add_trace(go.Scatter(x=ema_down.index, y=ema_down, mode='lines', name='EMA Down', line=dict(color='red')))\n",
    "    fig.update_layout(\n",
    "        title=\"RSI et ses composantes (EMA Up et EMA Down)\",\n",
    "        xaxis_title=\"Périodes\",\n",
    "        yaxis_title=\"Valeur\",\n",
    "        template=\"plotly_dark\",  \n",
    "        showlegend=True\n",
    "    )\n",
    "\n",
    "    fig.show()\n",
    "\n",
    "graph_rsi_BTC =graph_RSI(BTC_rsi,BTC_ema_up,BTC_ema_down)\n",
    "graph_rsi_ETH =graph_RSI(ETH_rsi,ETH_ema_up,ETH_ema_down)\n",
    "graph_rsi_BNB =graph_RSI(BNB_rsi,BNB_ema_up,BNB_ema_down)\n",
    "\n",
    " "
   ]
  },
  {
   "cell_type": "markdown",
   "metadata": {},
   "source": [
    "graph EMA"
   ]
  },
  {
   "cell_type": "code",
   "execution_count": 316,
   "metadata": {},
   "outputs": [
    {
     "data": {
      "application/vnd.plotly.v1+json": {
       "config": {
        "plotlyServerURL": "https://plot.ly"
       },
       "data": [
        {
         "line": {
          "color": "green"
         },
         "mode": "lines",
         "name": "EMA Up",
         "type": "scatter",
         "x": [
          "2024-11-15T22:30:00",
          "2024-11-15T23:00:00",
          "2024-11-15T23:30:00",
          "2024-11-16T00:00:00",
          "2024-11-16T00:30:00",
          "2024-11-16T01:00:00",
          "2024-11-16T01:30:00",
          "2024-11-16T02:00:00",
          "2024-11-16T02:30:00",
          "2024-11-16T03:00:00",
          "2024-11-16T03:30:00",
          "2024-11-16T04:00:00",
          "2024-11-16T04:30:00",
          "2024-11-16T05:00:00",
          "2024-11-16T05:30:00",
          "2024-11-16T06:00:00",
          "2024-11-16T06:30:00",
          "2024-11-16T07:00:00",
          "2024-11-16T07:30:00",
          "2024-11-16T08:00:00",
          "2024-11-16T08:30:00",
          "2024-11-16T09:00:00",
          "2024-11-16T09:30:00",
          "2024-11-16T10:00:00",
          "2024-11-16T10:30:00",
          "2024-11-16T11:00:00",
          "2024-11-16T11:30:00",
          "2024-11-16T12:00:00",
          "2024-11-16T12:30:00",
          "2024-11-16T13:00:00",
          "2024-11-16T13:30:00",
          "2024-11-16T14:00:00",
          "2024-11-16T14:30:00",
          "2024-11-16T15:00:00"
         ],
         "y": [
          299.02125892525436,
          268.2661923527204,
          243.8085203361481,
          223.07434868294038,
          201.98050080455468,
          183.31308014315687,
          176.22405897966905,
          200.63119733826687,
          183.11474472803957,
          203.64505049229547,
          186.39374046952219,
          170.81083882407125,
          156.70244834194168,
          143.9023145671434,
          142.05054573802983,
          152.37940096230554,
          140.27873670711216,
          134.032958917354,
          123.55059278873472,
          124.75071500565133,
          115.12019259704961,
          129.69447218777782,
          119.79248054419766,
          110.69127035271983,
          102.31958245627334,
          107.41689699593739,
          99.35816608852201,
          91.930721765236,
          85.67734101756507,
          79.31341330092422,
          80.84560263415649,
          78.3453632748064,
          72.5719479561882,
          94.07285150538304
         ]
        },
        {
         "line": {
          "color": "red"
         },
         "mode": "lines",
         "name": "EMA Down",
         "type": "scatter",
         "x": [
          "2024-11-15T22:30:00",
          "2024-11-15T23:00:00",
          "2024-11-15T23:30:00",
          "2024-11-16T00:00:00",
          "2024-11-16T00:30:00",
          "2024-11-16T01:00:00",
          "2024-11-16T01:30:00",
          "2024-11-16T02:00:00",
          "2024-11-16T02:30:00",
          "2024-11-16T03:00:00",
          "2024-11-16T03:30:00",
          "2024-11-16T04:00:00",
          "2024-11-16T04:30:00",
          "2024-11-16T05:00:00",
          "2024-11-16T05:30:00",
          "2024-11-16T06:00:00",
          "2024-11-16T06:30:00",
          "2024-11-16T07:00:00",
          "2024-11-16T07:30:00",
          "2024-11-16T08:00:00",
          "2024-11-16T08:30:00",
          "2024-11-16T09:00:00",
          "2024-11-16T09:30:00",
          "2024-11-16T10:00:00",
          "2024-11-16T10:30:00",
          "2024-11-16T11:00:00",
          "2024-11-16T11:30:00",
          "2024-11-16T12:00:00",
          "2024-11-16T12:30:00",
          "2024-11-16T13:00:00",
          "2024-11-16T13:30:00",
          "2024-11-16T14:00:00",
          "2024-11-16T14:30:00",
          "2024-11-16T15:00:00"
         ],
         "y": [
          80.39421829014137,
          127.04868046555558,
          114.37952730115946,
          103.28752428394368,
          113.37822607359578,
          118.05678635414864,
          107.37010342164172,
          97.8328893553088,
          105.18124407036235,
          96.14174475521634,
          108.0742195422067,
          104.55672789638332,
          98.15080770296143,
          104.01976050328054,
          95.60923284472774,
          87.95093037412549,
          97.48419718392476,
          89.80414753993063,
          99.43897199986132,
          91.71447371378055,
          100.92309375150334,
          93.1767124716115,
          88.4296073950915,
          92.80350667093008,
          86.5409973296655,
          80.0232082855815,
          74.69483872956592,
          86.52882095481546,
          80.08186504049577,
          103.69613698991084,
          96.01569568247989,
          88.92283271721985,
          99.1716874611053,
          91.88004470655636
         ]
        }
       ],
       "layout": {
        "showlegend": true,
        "template": {
         "data": {
          "bar": [
           {
            "error_x": {
             "color": "#f2f5fa"
            },
            "error_y": {
             "color": "#f2f5fa"
            },
            "marker": {
             "line": {
              "color": "rgb(17,17,17)",
              "width": 0.5
             },
             "pattern": {
              "fillmode": "overlay",
              "size": 10,
              "solidity": 0.2
             }
            },
            "type": "bar"
           }
          ],
          "barpolar": [
           {
            "marker": {
             "line": {
              "color": "rgb(17,17,17)",
              "width": 0.5
             },
             "pattern": {
              "fillmode": "overlay",
              "size": 10,
              "solidity": 0.2
             }
            },
            "type": "barpolar"
           }
          ],
          "carpet": [
           {
            "aaxis": {
             "endlinecolor": "#A2B1C6",
             "gridcolor": "#506784",
             "linecolor": "#506784",
             "minorgridcolor": "#506784",
             "startlinecolor": "#A2B1C6"
            },
            "baxis": {
             "endlinecolor": "#A2B1C6",
             "gridcolor": "#506784",
             "linecolor": "#506784",
             "minorgridcolor": "#506784",
             "startlinecolor": "#A2B1C6"
            },
            "type": "carpet"
           }
          ],
          "choropleth": [
           {
            "colorbar": {
             "outlinewidth": 0,
             "ticks": ""
            },
            "type": "choropleth"
           }
          ],
          "contour": [
           {
            "colorbar": {
             "outlinewidth": 0,
             "ticks": ""
            },
            "colorscale": [
             [
              0,
              "#0d0887"
             ],
             [
              0.1111111111111111,
              "#46039f"
             ],
             [
              0.2222222222222222,
              "#7201a8"
             ],
             [
              0.3333333333333333,
              "#9c179e"
             ],
             [
              0.4444444444444444,
              "#bd3786"
             ],
             [
              0.5555555555555556,
              "#d8576b"
             ],
             [
              0.6666666666666666,
              "#ed7953"
             ],
             [
              0.7777777777777778,
              "#fb9f3a"
             ],
             [
              0.8888888888888888,
              "#fdca26"
             ],
             [
              1,
              "#f0f921"
             ]
            ],
            "type": "contour"
           }
          ],
          "contourcarpet": [
           {
            "colorbar": {
             "outlinewidth": 0,
             "ticks": ""
            },
            "type": "contourcarpet"
           }
          ],
          "heatmap": [
           {
            "colorbar": {
             "outlinewidth": 0,
             "ticks": ""
            },
            "colorscale": [
             [
              0,
              "#0d0887"
             ],
             [
              0.1111111111111111,
              "#46039f"
             ],
             [
              0.2222222222222222,
              "#7201a8"
             ],
             [
              0.3333333333333333,
              "#9c179e"
             ],
             [
              0.4444444444444444,
              "#bd3786"
             ],
             [
              0.5555555555555556,
              "#d8576b"
             ],
             [
              0.6666666666666666,
              "#ed7953"
             ],
             [
              0.7777777777777778,
              "#fb9f3a"
             ],
             [
              0.8888888888888888,
              "#fdca26"
             ],
             [
              1,
              "#f0f921"
             ]
            ],
            "type": "heatmap"
           }
          ],
          "heatmapgl": [
           {
            "colorbar": {
             "outlinewidth": 0,
             "ticks": ""
            },
            "colorscale": [
             [
              0,
              "#0d0887"
             ],
             [
              0.1111111111111111,
              "#46039f"
             ],
             [
              0.2222222222222222,
              "#7201a8"
             ],
             [
              0.3333333333333333,
              "#9c179e"
             ],
             [
              0.4444444444444444,
              "#bd3786"
             ],
             [
              0.5555555555555556,
              "#d8576b"
             ],
             [
              0.6666666666666666,
              "#ed7953"
             ],
             [
              0.7777777777777778,
              "#fb9f3a"
             ],
             [
              0.8888888888888888,
              "#fdca26"
             ],
             [
              1,
              "#f0f921"
             ]
            ],
            "type": "heatmapgl"
           }
          ],
          "histogram": [
           {
            "marker": {
             "pattern": {
              "fillmode": "overlay",
              "size": 10,
              "solidity": 0.2
             }
            },
            "type": "histogram"
           }
          ],
          "histogram2d": [
           {
            "colorbar": {
             "outlinewidth": 0,
             "ticks": ""
            },
            "colorscale": [
             [
              0,
              "#0d0887"
             ],
             [
              0.1111111111111111,
              "#46039f"
             ],
             [
              0.2222222222222222,
              "#7201a8"
             ],
             [
              0.3333333333333333,
              "#9c179e"
             ],
             [
              0.4444444444444444,
              "#bd3786"
             ],
             [
              0.5555555555555556,
              "#d8576b"
             ],
             [
              0.6666666666666666,
              "#ed7953"
             ],
             [
              0.7777777777777778,
              "#fb9f3a"
             ],
             [
              0.8888888888888888,
              "#fdca26"
             ],
             [
              1,
              "#f0f921"
             ]
            ],
            "type": "histogram2d"
           }
          ],
          "histogram2dcontour": [
           {
            "colorbar": {
             "outlinewidth": 0,
             "ticks": ""
            },
            "colorscale": [
             [
              0,
              "#0d0887"
             ],
             [
              0.1111111111111111,
              "#46039f"
             ],
             [
              0.2222222222222222,
              "#7201a8"
             ],
             [
              0.3333333333333333,
              "#9c179e"
             ],
             [
              0.4444444444444444,
              "#bd3786"
             ],
             [
              0.5555555555555556,
              "#d8576b"
             ],
             [
              0.6666666666666666,
              "#ed7953"
             ],
             [
              0.7777777777777778,
              "#fb9f3a"
             ],
             [
              0.8888888888888888,
              "#fdca26"
             ],
             [
              1,
              "#f0f921"
             ]
            ],
            "type": "histogram2dcontour"
           }
          ],
          "mesh3d": [
           {
            "colorbar": {
             "outlinewidth": 0,
             "ticks": ""
            },
            "type": "mesh3d"
           }
          ],
          "parcoords": [
           {
            "line": {
             "colorbar": {
              "outlinewidth": 0,
              "ticks": ""
             }
            },
            "type": "parcoords"
           }
          ],
          "pie": [
           {
            "automargin": true,
            "type": "pie"
           }
          ],
          "scatter": [
           {
            "marker": {
             "line": {
              "color": "#283442"
             }
            },
            "type": "scatter"
           }
          ],
          "scatter3d": [
           {
            "line": {
             "colorbar": {
              "outlinewidth": 0,
              "ticks": ""
             }
            },
            "marker": {
             "colorbar": {
              "outlinewidth": 0,
              "ticks": ""
             }
            },
            "type": "scatter3d"
           }
          ],
          "scattercarpet": [
           {
            "marker": {
             "colorbar": {
              "outlinewidth": 0,
              "ticks": ""
             }
            },
            "type": "scattercarpet"
           }
          ],
          "scattergeo": [
           {
            "marker": {
             "colorbar": {
              "outlinewidth": 0,
              "ticks": ""
             }
            },
            "type": "scattergeo"
           }
          ],
          "scattergl": [
           {
            "marker": {
             "line": {
              "color": "#283442"
             }
            },
            "type": "scattergl"
           }
          ],
          "scattermapbox": [
           {
            "marker": {
             "colorbar": {
              "outlinewidth": 0,
              "ticks": ""
             }
            },
            "type": "scattermapbox"
           }
          ],
          "scatterpolar": [
           {
            "marker": {
             "colorbar": {
              "outlinewidth": 0,
              "ticks": ""
             }
            },
            "type": "scatterpolar"
           }
          ],
          "scatterpolargl": [
           {
            "marker": {
             "colorbar": {
              "outlinewidth": 0,
              "ticks": ""
             }
            },
            "type": "scatterpolargl"
           }
          ],
          "scatterternary": [
           {
            "marker": {
             "colorbar": {
              "outlinewidth": 0,
              "ticks": ""
             }
            },
            "type": "scatterternary"
           }
          ],
          "surface": [
           {
            "colorbar": {
             "outlinewidth": 0,
             "ticks": ""
            },
            "colorscale": [
             [
              0,
              "#0d0887"
             ],
             [
              0.1111111111111111,
              "#46039f"
             ],
             [
              0.2222222222222222,
              "#7201a8"
             ],
             [
              0.3333333333333333,
              "#9c179e"
             ],
             [
              0.4444444444444444,
              "#bd3786"
             ],
             [
              0.5555555555555556,
              "#d8576b"
             ],
             [
              0.6666666666666666,
              "#ed7953"
             ],
             [
              0.7777777777777778,
              "#fb9f3a"
             ],
             [
              0.8888888888888888,
              "#fdca26"
             ],
             [
              1,
              "#f0f921"
             ]
            ],
            "type": "surface"
           }
          ],
          "table": [
           {
            "cells": {
             "fill": {
              "color": "#506784"
             },
             "line": {
              "color": "rgb(17,17,17)"
             }
            },
            "header": {
             "fill": {
              "color": "#2a3f5f"
             },
             "line": {
              "color": "rgb(17,17,17)"
             }
            },
            "type": "table"
           }
          ]
         },
         "layout": {
          "annotationdefaults": {
           "arrowcolor": "#f2f5fa",
           "arrowhead": 0,
           "arrowwidth": 1
          },
          "autotypenumbers": "strict",
          "coloraxis": {
           "colorbar": {
            "outlinewidth": 0,
            "ticks": ""
           }
          },
          "colorscale": {
           "diverging": [
            [
             0,
             "#8e0152"
            ],
            [
             0.1,
             "#c51b7d"
            ],
            [
             0.2,
             "#de77ae"
            ],
            [
             0.3,
             "#f1b6da"
            ],
            [
             0.4,
             "#fde0ef"
            ],
            [
             0.5,
             "#f7f7f7"
            ],
            [
             0.6,
             "#e6f5d0"
            ],
            [
             0.7,
             "#b8e186"
            ],
            [
             0.8,
             "#7fbc41"
            ],
            [
             0.9,
             "#4d9221"
            ],
            [
             1,
             "#276419"
            ]
           ],
           "sequential": [
            [
             0,
             "#0d0887"
            ],
            [
             0.1111111111111111,
             "#46039f"
            ],
            [
             0.2222222222222222,
             "#7201a8"
            ],
            [
             0.3333333333333333,
             "#9c179e"
            ],
            [
             0.4444444444444444,
             "#bd3786"
            ],
            [
             0.5555555555555556,
             "#d8576b"
            ],
            [
             0.6666666666666666,
             "#ed7953"
            ],
            [
             0.7777777777777778,
             "#fb9f3a"
            ],
            [
             0.8888888888888888,
             "#fdca26"
            ],
            [
             1,
             "#f0f921"
            ]
           ],
           "sequentialminus": [
            [
             0,
             "#0d0887"
            ],
            [
             0.1111111111111111,
             "#46039f"
            ],
            [
             0.2222222222222222,
             "#7201a8"
            ],
            [
             0.3333333333333333,
             "#9c179e"
            ],
            [
             0.4444444444444444,
             "#bd3786"
            ],
            [
             0.5555555555555556,
             "#d8576b"
            ],
            [
             0.6666666666666666,
             "#ed7953"
            ],
            [
             0.7777777777777778,
             "#fb9f3a"
            ],
            [
             0.8888888888888888,
             "#fdca26"
            ],
            [
             1,
             "#f0f921"
            ]
           ]
          },
          "colorway": [
           "#636efa",
           "#EF553B",
           "#00cc96",
           "#ab63fa",
           "#FFA15A",
           "#19d3f3",
           "#FF6692",
           "#B6E880",
           "#FF97FF",
           "#FECB52"
          ],
          "font": {
           "color": "#f2f5fa"
          },
          "geo": {
           "bgcolor": "rgb(17,17,17)",
           "lakecolor": "rgb(17,17,17)",
           "landcolor": "rgb(17,17,17)",
           "showlakes": true,
           "showland": true,
           "subunitcolor": "#506784"
          },
          "hoverlabel": {
           "align": "left"
          },
          "hovermode": "closest",
          "mapbox": {
           "style": "dark"
          },
          "paper_bgcolor": "rgb(17,17,17)",
          "plot_bgcolor": "rgb(17,17,17)",
          "polar": {
           "angularaxis": {
            "gridcolor": "#506784",
            "linecolor": "#506784",
            "ticks": ""
           },
           "bgcolor": "rgb(17,17,17)",
           "radialaxis": {
            "gridcolor": "#506784",
            "linecolor": "#506784",
            "ticks": ""
           }
          },
          "scene": {
           "xaxis": {
            "backgroundcolor": "rgb(17,17,17)",
            "gridcolor": "#506784",
            "gridwidth": 2,
            "linecolor": "#506784",
            "showbackground": true,
            "ticks": "",
            "zerolinecolor": "#C8D4E3"
           },
           "yaxis": {
            "backgroundcolor": "rgb(17,17,17)",
            "gridcolor": "#506784",
            "gridwidth": 2,
            "linecolor": "#506784",
            "showbackground": true,
            "ticks": "",
            "zerolinecolor": "#C8D4E3"
           },
           "zaxis": {
            "backgroundcolor": "rgb(17,17,17)",
            "gridcolor": "#506784",
            "gridwidth": 2,
            "linecolor": "#506784",
            "showbackground": true,
            "ticks": "",
            "zerolinecolor": "#C8D4E3"
           }
          },
          "shapedefaults": {
           "line": {
            "color": "#f2f5fa"
           }
          },
          "sliderdefaults": {
           "bgcolor": "#C8D4E3",
           "bordercolor": "rgb(17,17,17)",
           "borderwidth": 1,
           "tickwidth": 0
          },
          "ternary": {
           "aaxis": {
            "gridcolor": "#506784",
            "linecolor": "#506784",
            "ticks": ""
           },
           "baxis": {
            "gridcolor": "#506784",
            "linecolor": "#506784",
            "ticks": ""
           },
           "bgcolor": "rgb(17,17,17)",
           "caxis": {
            "gridcolor": "#506784",
            "linecolor": "#506784",
            "ticks": ""
           }
          },
          "title": {
           "x": 0.05
          },
          "updatemenudefaults": {
           "bgcolor": "#506784",
           "borderwidth": 0
          },
          "xaxis": {
           "automargin": true,
           "gridcolor": "#283442",
           "linecolor": "#506784",
           "ticks": "",
           "title": {
            "standoff": 15
           },
           "zerolinecolor": "#283442",
           "zerolinewidth": 2
          },
          "yaxis": {
           "automargin": true,
           "gridcolor": "#283442",
           "linecolor": "#506784",
           "ticks": "",
           "title": {
            "standoff": 15
           },
           "zerolinecolor": "#283442",
           "zerolinewidth": 2
          }
         }
        },
        "title": {
         "text": "EMA Up et EMA Down"
        },
        "xaxis": {
         "title": {
          "text": "Périodes"
         }
        },
        "yaxis": {
         "title": {
          "text": "Valeur"
         }
        }
       }
      }
     },
     "metadata": {},
     "output_type": "display_data"
    },
    {
     "data": {
      "application/vnd.plotly.v1+json": {
       "config": {
        "plotlyServerURL": "https://plot.ly"
       },
       "data": [
        {
         "line": {
          "color": "green"
         },
         "mode": "lines",
         "name": "EMA Up",
         "type": "scatter",
         "x": [
          "2024-11-15T22:30:00",
          "2024-11-15T23:00:00",
          "2024-11-15T23:30:00",
          "2024-11-16T00:00:00",
          "2024-11-16T00:30:00",
          "2024-11-16T01:00:00",
          "2024-11-16T01:30:00",
          "2024-11-16T02:00:00",
          "2024-11-16T02:30:00",
          "2024-11-16T03:00:00",
          "2024-11-16T03:30:00",
          "2024-11-16T04:00:00",
          "2024-11-16T04:30:00",
          "2024-11-16T05:00:00",
          "2024-11-16T05:30:00",
          "2024-11-16T06:00:00",
          "2024-11-16T06:30:00",
          "2024-11-16T07:00:00",
          "2024-11-16T07:30:00",
          "2024-11-16T08:00:00",
          "2024-11-16T08:30:00",
          "2024-11-16T09:00:00",
          "2024-11-16T09:30:00",
          "2024-11-16T10:00:00",
          "2024-11-16T10:30:00",
          "2024-11-16T11:00:00",
          "2024-11-16T11:30:00",
          "2024-11-16T12:00:00",
          "2024-11-16T12:30:00",
          "2024-11-16T13:00:00",
          "2024-11-16T13:30:00",
          "2024-11-16T14:00:00",
          "2024-11-16T14:30:00",
          "2024-11-16T15:00:00"
         ],
         "y": [
          299.02125892525436,
          268.2661923527204,
          243.8085203361481,
          223.07434868294038,
          201.98050080455468,
          183.31308014315687,
          176.22405897966905,
          200.63119733826687,
          183.11474472803957,
          203.64505049229547,
          186.39374046952219,
          170.81083882407125,
          156.70244834194168,
          143.9023145671434,
          142.05054573802983,
          152.37940096230554,
          140.27873670711216,
          134.032958917354,
          123.55059278873472,
          124.75071500565133,
          115.12019259704961,
          129.69447218777782,
          119.79248054419766,
          110.69127035271983,
          102.31958245627334,
          107.41689699593739,
          99.35816608852201,
          91.930721765236,
          85.67734101756507,
          79.31341330092422,
          80.84560263415649,
          78.3453632748064,
          72.5719479561882,
          94.07285150538304
         ]
        },
        {
         "line": {
          "color": "red"
         },
         "mode": "lines",
         "name": "EMA Down",
         "type": "scatter",
         "x": [
          "2024-11-15T22:30:00",
          "2024-11-15T23:00:00",
          "2024-11-15T23:30:00",
          "2024-11-16T00:00:00",
          "2024-11-16T00:30:00",
          "2024-11-16T01:00:00",
          "2024-11-16T01:30:00",
          "2024-11-16T02:00:00",
          "2024-11-16T02:30:00",
          "2024-11-16T03:00:00",
          "2024-11-16T03:30:00",
          "2024-11-16T04:00:00",
          "2024-11-16T04:30:00",
          "2024-11-16T05:00:00",
          "2024-11-16T05:30:00",
          "2024-11-16T06:00:00",
          "2024-11-16T06:30:00",
          "2024-11-16T07:00:00",
          "2024-11-16T07:30:00",
          "2024-11-16T08:00:00",
          "2024-11-16T08:30:00",
          "2024-11-16T09:00:00",
          "2024-11-16T09:30:00",
          "2024-11-16T10:00:00",
          "2024-11-16T10:30:00",
          "2024-11-16T11:00:00",
          "2024-11-16T11:30:00",
          "2024-11-16T12:00:00",
          "2024-11-16T12:30:00",
          "2024-11-16T13:00:00",
          "2024-11-16T13:30:00",
          "2024-11-16T14:00:00",
          "2024-11-16T14:30:00",
          "2024-11-16T15:00:00"
         ],
         "y": [
          80.39421829014137,
          127.04868046555558,
          114.37952730115946,
          103.28752428394368,
          113.37822607359578,
          118.05678635414864,
          107.37010342164172,
          97.8328893553088,
          105.18124407036235,
          96.14174475521634,
          108.0742195422067,
          104.55672789638332,
          98.15080770296143,
          104.01976050328054,
          95.60923284472774,
          87.95093037412549,
          97.48419718392476,
          89.80414753993063,
          99.43897199986132,
          91.71447371378055,
          100.92309375150334,
          93.1767124716115,
          88.4296073950915,
          92.80350667093008,
          86.5409973296655,
          80.0232082855815,
          74.69483872956592,
          86.52882095481546,
          80.08186504049577,
          103.69613698991084,
          96.01569568247989,
          88.92283271721985,
          99.1716874611053,
          91.88004470655636
         ]
        }
       ],
       "layout": {
        "showlegend": true,
        "template": {
         "data": {
          "bar": [
           {
            "error_x": {
             "color": "#f2f5fa"
            },
            "error_y": {
             "color": "#f2f5fa"
            },
            "marker": {
             "line": {
              "color": "rgb(17,17,17)",
              "width": 0.5
             },
             "pattern": {
              "fillmode": "overlay",
              "size": 10,
              "solidity": 0.2
             }
            },
            "type": "bar"
           }
          ],
          "barpolar": [
           {
            "marker": {
             "line": {
              "color": "rgb(17,17,17)",
              "width": 0.5
             },
             "pattern": {
              "fillmode": "overlay",
              "size": 10,
              "solidity": 0.2
             }
            },
            "type": "barpolar"
           }
          ],
          "carpet": [
           {
            "aaxis": {
             "endlinecolor": "#A2B1C6",
             "gridcolor": "#506784",
             "linecolor": "#506784",
             "minorgridcolor": "#506784",
             "startlinecolor": "#A2B1C6"
            },
            "baxis": {
             "endlinecolor": "#A2B1C6",
             "gridcolor": "#506784",
             "linecolor": "#506784",
             "minorgridcolor": "#506784",
             "startlinecolor": "#A2B1C6"
            },
            "type": "carpet"
           }
          ],
          "choropleth": [
           {
            "colorbar": {
             "outlinewidth": 0,
             "ticks": ""
            },
            "type": "choropleth"
           }
          ],
          "contour": [
           {
            "colorbar": {
             "outlinewidth": 0,
             "ticks": ""
            },
            "colorscale": [
             [
              0,
              "#0d0887"
             ],
             [
              0.1111111111111111,
              "#46039f"
             ],
             [
              0.2222222222222222,
              "#7201a8"
             ],
             [
              0.3333333333333333,
              "#9c179e"
             ],
             [
              0.4444444444444444,
              "#bd3786"
             ],
             [
              0.5555555555555556,
              "#d8576b"
             ],
             [
              0.6666666666666666,
              "#ed7953"
             ],
             [
              0.7777777777777778,
              "#fb9f3a"
             ],
             [
              0.8888888888888888,
              "#fdca26"
             ],
             [
              1,
              "#f0f921"
             ]
            ],
            "type": "contour"
           }
          ],
          "contourcarpet": [
           {
            "colorbar": {
             "outlinewidth": 0,
             "ticks": ""
            },
            "type": "contourcarpet"
           }
          ],
          "heatmap": [
           {
            "colorbar": {
             "outlinewidth": 0,
             "ticks": ""
            },
            "colorscale": [
             [
              0,
              "#0d0887"
             ],
             [
              0.1111111111111111,
              "#46039f"
             ],
             [
              0.2222222222222222,
              "#7201a8"
             ],
             [
              0.3333333333333333,
              "#9c179e"
             ],
             [
              0.4444444444444444,
              "#bd3786"
             ],
             [
              0.5555555555555556,
              "#d8576b"
             ],
             [
              0.6666666666666666,
              "#ed7953"
             ],
             [
              0.7777777777777778,
              "#fb9f3a"
             ],
             [
              0.8888888888888888,
              "#fdca26"
             ],
             [
              1,
              "#f0f921"
             ]
            ],
            "type": "heatmap"
           }
          ],
          "heatmapgl": [
           {
            "colorbar": {
             "outlinewidth": 0,
             "ticks": ""
            },
            "colorscale": [
             [
              0,
              "#0d0887"
             ],
             [
              0.1111111111111111,
              "#46039f"
             ],
             [
              0.2222222222222222,
              "#7201a8"
             ],
             [
              0.3333333333333333,
              "#9c179e"
             ],
             [
              0.4444444444444444,
              "#bd3786"
             ],
             [
              0.5555555555555556,
              "#d8576b"
             ],
             [
              0.6666666666666666,
              "#ed7953"
             ],
             [
              0.7777777777777778,
              "#fb9f3a"
             ],
             [
              0.8888888888888888,
              "#fdca26"
             ],
             [
              1,
              "#f0f921"
             ]
            ],
            "type": "heatmapgl"
           }
          ],
          "histogram": [
           {
            "marker": {
             "pattern": {
              "fillmode": "overlay",
              "size": 10,
              "solidity": 0.2
             }
            },
            "type": "histogram"
           }
          ],
          "histogram2d": [
           {
            "colorbar": {
             "outlinewidth": 0,
             "ticks": ""
            },
            "colorscale": [
             [
              0,
              "#0d0887"
             ],
             [
              0.1111111111111111,
              "#46039f"
             ],
             [
              0.2222222222222222,
              "#7201a8"
             ],
             [
              0.3333333333333333,
              "#9c179e"
             ],
             [
              0.4444444444444444,
              "#bd3786"
             ],
             [
              0.5555555555555556,
              "#d8576b"
             ],
             [
              0.6666666666666666,
              "#ed7953"
             ],
             [
              0.7777777777777778,
              "#fb9f3a"
             ],
             [
              0.8888888888888888,
              "#fdca26"
             ],
             [
              1,
              "#f0f921"
             ]
            ],
            "type": "histogram2d"
           }
          ],
          "histogram2dcontour": [
           {
            "colorbar": {
             "outlinewidth": 0,
             "ticks": ""
            },
            "colorscale": [
             [
              0,
              "#0d0887"
             ],
             [
              0.1111111111111111,
              "#46039f"
             ],
             [
              0.2222222222222222,
              "#7201a8"
             ],
             [
              0.3333333333333333,
              "#9c179e"
             ],
             [
              0.4444444444444444,
              "#bd3786"
             ],
             [
              0.5555555555555556,
              "#d8576b"
             ],
             [
              0.6666666666666666,
              "#ed7953"
             ],
             [
              0.7777777777777778,
              "#fb9f3a"
             ],
             [
              0.8888888888888888,
              "#fdca26"
             ],
             [
              1,
              "#f0f921"
             ]
            ],
            "type": "histogram2dcontour"
           }
          ],
          "mesh3d": [
           {
            "colorbar": {
             "outlinewidth": 0,
             "ticks": ""
            },
            "type": "mesh3d"
           }
          ],
          "parcoords": [
           {
            "line": {
             "colorbar": {
              "outlinewidth": 0,
              "ticks": ""
             }
            },
            "type": "parcoords"
           }
          ],
          "pie": [
           {
            "automargin": true,
            "type": "pie"
           }
          ],
          "scatter": [
           {
            "marker": {
             "line": {
              "color": "#283442"
             }
            },
            "type": "scatter"
           }
          ],
          "scatter3d": [
           {
            "line": {
             "colorbar": {
              "outlinewidth": 0,
              "ticks": ""
             }
            },
            "marker": {
             "colorbar": {
              "outlinewidth": 0,
              "ticks": ""
             }
            },
            "type": "scatter3d"
           }
          ],
          "scattercarpet": [
           {
            "marker": {
             "colorbar": {
              "outlinewidth": 0,
              "ticks": ""
             }
            },
            "type": "scattercarpet"
           }
          ],
          "scattergeo": [
           {
            "marker": {
             "colorbar": {
              "outlinewidth": 0,
              "ticks": ""
             }
            },
            "type": "scattergeo"
           }
          ],
          "scattergl": [
           {
            "marker": {
             "line": {
              "color": "#283442"
             }
            },
            "type": "scattergl"
           }
          ],
          "scattermapbox": [
           {
            "marker": {
             "colorbar": {
              "outlinewidth": 0,
              "ticks": ""
             }
            },
            "type": "scattermapbox"
           }
          ],
          "scatterpolar": [
           {
            "marker": {
             "colorbar": {
              "outlinewidth": 0,
              "ticks": ""
             }
            },
            "type": "scatterpolar"
           }
          ],
          "scatterpolargl": [
           {
            "marker": {
             "colorbar": {
              "outlinewidth": 0,
              "ticks": ""
             }
            },
            "type": "scatterpolargl"
           }
          ],
          "scatterternary": [
           {
            "marker": {
             "colorbar": {
              "outlinewidth": 0,
              "ticks": ""
             }
            },
            "type": "scatterternary"
           }
          ],
          "surface": [
           {
            "colorbar": {
             "outlinewidth": 0,
             "ticks": ""
            },
            "colorscale": [
             [
              0,
              "#0d0887"
             ],
             [
              0.1111111111111111,
              "#46039f"
             ],
             [
              0.2222222222222222,
              "#7201a8"
             ],
             [
              0.3333333333333333,
              "#9c179e"
             ],
             [
              0.4444444444444444,
              "#bd3786"
             ],
             [
              0.5555555555555556,
              "#d8576b"
             ],
             [
              0.6666666666666666,
              "#ed7953"
             ],
             [
              0.7777777777777778,
              "#fb9f3a"
             ],
             [
              0.8888888888888888,
              "#fdca26"
             ],
             [
              1,
              "#f0f921"
             ]
            ],
            "type": "surface"
           }
          ],
          "table": [
           {
            "cells": {
             "fill": {
              "color": "#506784"
             },
             "line": {
              "color": "rgb(17,17,17)"
             }
            },
            "header": {
             "fill": {
              "color": "#2a3f5f"
             },
             "line": {
              "color": "rgb(17,17,17)"
             }
            },
            "type": "table"
           }
          ]
         },
         "layout": {
          "annotationdefaults": {
           "arrowcolor": "#f2f5fa",
           "arrowhead": 0,
           "arrowwidth": 1
          },
          "autotypenumbers": "strict",
          "coloraxis": {
           "colorbar": {
            "outlinewidth": 0,
            "ticks": ""
           }
          },
          "colorscale": {
           "diverging": [
            [
             0,
             "#8e0152"
            ],
            [
             0.1,
             "#c51b7d"
            ],
            [
             0.2,
             "#de77ae"
            ],
            [
             0.3,
             "#f1b6da"
            ],
            [
             0.4,
             "#fde0ef"
            ],
            [
             0.5,
             "#f7f7f7"
            ],
            [
             0.6,
             "#e6f5d0"
            ],
            [
             0.7,
             "#b8e186"
            ],
            [
             0.8,
             "#7fbc41"
            ],
            [
             0.9,
             "#4d9221"
            ],
            [
             1,
             "#276419"
            ]
           ],
           "sequential": [
            [
             0,
             "#0d0887"
            ],
            [
             0.1111111111111111,
             "#46039f"
            ],
            [
             0.2222222222222222,
             "#7201a8"
            ],
            [
             0.3333333333333333,
             "#9c179e"
            ],
            [
             0.4444444444444444,
             "#bd3786"
            ],
            [
             0.5555555555555556,
             "#d8576b"
            ],
            [
             0.6666666666666666,
             "#ed7953"
            ],
            [
             0.7777777777777778,
             "#fb9f3a"
            ],
            [
             0.8888888888888888,
             "#fdca26"
            ],
            [
             1,
             "#f0f921"
            ]
           ],
           "sequentialminus": [
            [
             0,
             "#0d0887"
            ],
            [
             0.1111111111111111,
             "#46039f"
            ],
            [
             0.2222222222222222,
             "#7201a8"
            ],
            [
             0.3333333333333333,
             "#9c179e"
            ],
            [
             0.4444444444444444,
             "#bd3786"
            ],
            [
             0.5555555555555556,
             "#d8576b"
            ],
            [
             0.6666666666666666,
             "#ed7953"
            ],
            [
             0.7777777777777778,
             "#fb9f3a"
            ],
            [
             0.8888888888888888,
             "#fdca26"
            ],
            [
             1,
             "#f0f921"
            ]
           ]
          },
          "colorway": [
           "#636efa",
           "#EF553B",
           "#00cc96",
           "#ab63fa",
           "#FFA15A",
           "#19d3f3",
           "#FF6692",
           "#B6E880",
           "#FF97FF",
           "#FECB52"
          ],
          "font": {
           "color": "#f2f5fa"
          },
          "geo": {
           "bgcolor": "rgb(17,17,17)",
           "lakecolor": "rgb(17,17,17)",
           "landcolor": "rgb(17,17,17)",
           "showlakes": true,
           "showland": true,
           "subunitcolor": "#506784"
          },
          "hoverlabel": {
           "align": "left"
          },
          "hovermode": "closest",
          "mapbox": {
           "style": "dark"
          },
          "paper_bgcolor": "rgb(17,17,17)",
          "plot_bgcolor": "rgb(17,17,17)",
          "polar": {
           "angularaxis": {
            "gridcolor": "#506784",
            "linecolor": "#506784",
            "ticks": ""
           },
           "bgcolor": "rgb(17,17,17)",
           "radialaxis": {
            "gridcolor": "#506784",
            "linecolor": "#506784",
            "ticks": ""
           }
          },
          "scene": {
           "xaxis": {
            "backgroundcolor": "rgb(17,17,17)",
            "gridcolor": "#506784",
            "gridwidth": 2,
            "linecolor": "#506784",
            "showbackground": true,
            "ticks": "",
            "zerolinecolor": "#C8D4E3"
           },
           "yaxis": {
            "backgroundcolor": "rgb(17,17,17)",
            "gridcolor": "#506784",
            "gridwidth": 2,
            "linecolor": "#506784",
            "showbackground": true,
            "ticks": "",
            "zerolinecolor": "#C8D4E3"
           },
           "zaxis": {
            "backgroundcolor": "rgb(17,17,17)",
            "gridcolor": "#506784",
            "gridwidth": 2,
            "linecolor": "#506784",
            "showbackground": true,
            "ticks": "",
            "zerolinecolor": "#C8D4E3"
           }
          },
          "shapedefaults": {
           "line": {
            "color": "#f2f5fa"
           }
          },
          "sliderdefaults": {
           "bgcolor": "#C8D4E3",
           "bordercolor": "rgb(17,17,17)",
           "borderwidth": 1,
           "tickwidth": 0
          },
          "ternary": {
           "aaxis": {
            "gridcolor": "#506784",
            "linecolor": "#506784",
            "ticks": ""
           },
           "baxis": {
            "gridcolor": "#506784",
            "linecolor": "#506784",
            "ticks": ""
           },
           "bgcolor": "rgb(17,17,17)",
           "caxis": {
            "gridcolor": "#506784",
            "linecolor": "#506784",
            "ticks": ""
           }
          },
          "title": {
           "x": 0.05
          },
          "updatemenudefaults": {
           "bgcolor": "#506784",
           "borderwidth": 0
          },
          "xaxis": {
           "automargin": true,
           "gridcolor": "#283442",
           "linecolor": "#506784",
           "ticks": "",
           "title": {
            "standoff": 15
           },
           "zerolinecolor": "#283442",
           "zerolinewidth": 2
          },
          "yaxis": {
           "automargin": true,
           "gridcolor": "#283442",
           "linecolor": "#506784",
           "ticks": "",
           "title": {
            "standoff": 15
           },
           "zerolinecolor": "#283442",
           "zerolinewidth": 2
          }
         }
        },
        "title": {
         "text": "EMA Up et EMA Down"
        },
        "xaxis": {
         "title": {
          "text": "Périodes"
         }
        },
        "yaxis": {
         "title": {
          "text": "Valeur"
         }
        }
       }
      }
     },
     "metadata": {},
     "output_type": "display_data"
    }
   ],
   "source": [
    "def graph_EMA(ema_up,ema_down):\n",
    "    fig = go.Figure()\n",
    "    fig.add_trace(go.Scatter(x=ema_up.index, y=ema_up, mode='lines', name='EMA Up', line=dict(color='green')))\n",
    "    fig.add_trace(go.Scatter(x=ema_down.index, y=ema_down, mode='lines', name='EMA Down', line=dict(color='red')))\n",
    "    fig.update_layout(\n",
    "    title=\"EMA Up et EMA Down\",\n",
    "    xaxis_title=\"Périodes\",\n",
    "    yaxis_title=\"Valeur\",\n",
    "    template=\"plotly_dark\",  \n",
    "    showlegend=True\n",
    "    )\n",
    "\n",
    "    fig.show()\n",
    "    return fig\n",
    "\n",
    "\n",
    "graph_EMA(BTC_ema_up,BTC_ema_down)"
   ]
  },
  {
   "cell_type": "markdown",
   "metadata": {},
   "source": [
    "VAR avec BTC come ref avec sktime"
   ]
  },
  {
   "cell_type": "code",
   "execution_count": 317,
   "metadata": {},
   "outputs": [
    {
     "data": {
      "application/vnd.plotly.v1+json": {
       "config": {
        "plotlyServerURL": "https://plot.ly"
       },
       "data": [
        {
         "close": [
          87778,
          88403,
          89416,
          89556,
          89697,
          89375,
          89545,
          89265,
          89601,
          90388,
          90934,
          91359,
          91222,
          91777,
          91251,
          91267,
          91365,
          90948,
          90923,
          91123,
          91379,
          91334,
          91598,
          91566,
          91490,
          91147,
          91179,
          91371,
          91715,
          91406,
          91348,
          91279,
          91383,
          91204,
          91279,
          91324,
          91390,
          91316,
          91408,
          91486,
          91127,
          91169,
          90843,
          90925,
          91040,
          90908,
          90944,
          90973
         ],
         "decreasing": {
          "line": {
           "color": "red"
          }
         },
         "high": [
          89092,
          88732,
          89416,
          89582,
          89746,
          89981,
          89626,
          89802,
          89606,
          90853,
          91241,
          91359,
          91416,
          91777,
          91750,
          91507,
          91422,
          91269,
          91291,
          91166,
          91379,
          91451,
          91598,
          91691,
          91605,
          91388,
          91361,
          91371,
          91715,
          91583,
          91432,
          91436,
          91423,
          91362,
          91279,
          91456,
          91425,
          91433,
          91408,
          91577,
          91430,
          91197,
          91219,
          90947,
          91222,
          90954,
          90944,
          91091
         ],
         "increasing": {
          "line": {
           "color": "green"
          }
         },
         "low": [
          87778,
          88072,
          88433,
          88998,
          89360,
          89338,
          89410,
          89265,
          89301,
          89730,
          90478,
          90807,
          91222,
          91226,
          91251,
          91216,
          91239,
          90885,
          90923,
          90895,
          91000,
          91247,
          91237,
          91445,
          91454,
          91147,
          91136,
          91191,
          91206,
          91406,
          91278,
          91271,
          91223,
          91151,
          91137,
          91318,
          91347,
          91279,
          91269,
          91439,
          91127,
          91034,
          90635,
          90807,
          90907,
          90804,
          90678,
          90933
         ],
         "name": "OHLC",
         "open": [
          89092,
          88187,
          88433,
          89552,
          89360,
          89512,
          89517,
          89802,
          89401,
          89730,
          90478,
          90963,
          91416,
          91350,
          91750,
          91216,
          91239,
          91269,
          91059,
          90895,
          91000,
          91451,
          91269,
          91691,
          91454,
          91388,
          91361,
          91191,
          91312,
          91583,
          91375,
          91436,
          91223,
          91362,
          91151,
          91456,
          91425,
          91279,
          91269,
          91439,
          91430,
          91197,
          91205,
          90807,
          90907,
          90954,
          90726,
          91091
         ],
         "type": "candlestick",
         "x": [
          "2024-11-15T15:30:00",
          "2024-11-15T16:00:00",
          "2024-11-15T16:30:00",
          "2024-11-15T17:00:00",
          "2024-11-15T17:30:00",
          "2024-11-15T18:00:00",
          "2024-11-15T18:30:00",
          "2024-11-15T19:00:00",
          "2024-11-15T19:30:00",
          "2024-11-15T20:00:00",
          "2024-11-15T20:30:00",
          "2024-11-15T21:00:00",
          "2024-11-15T21:30:00",
          "2024-11-15T22:00:00",
          "2024-11-15T22:30:00",
          "2024-11-15T23:00:00",
          "2024-11-15T23:30:00",
          "2024-11-16T00:00:00",
          "2024-11-16T00:30:00",
          "2024-11-16T01:00:00",
          "2024-11-16T01:30:00",
          "2024-11-16T02:00:00",
          "2024-11-16T02:30:00",
          "2024-11-16T03:00:00",
          "2024-11-16T03:30:00",
          "2024-11-16T04:00:00",
          "2024-11-16T04:30:00",
          "2024-11-16T05:00:00",
          "2024-11-16T05:30:00",
          "2024-11-16T06:00:00",
          "2024-11-16T06:30:00",
          "2024-11-16T07:00:00",
          "2024-11-16T07:30:00",
          "2024-11-16T08:00:00",
          "2024-11-16T08:30:00",
          "2024-11-16T09:00:00",
          "2024-11-16T09:30:00",
          "2024-11-16T10:00:00",
          "2024-11-16T10:30:00",
          "2024-11-16T11:00:00",
          "2024-11-16T11:30:00",
          "2024-11-16T12:00:00",
          "2024-11-16T12:30:00",
          "2024-11-16T13:00:00",
          "2024-11-16T13:30:00",
          "2024-11-16T14:00:00",
          "2024-11-16T14:30:00",
          "2024-11-16T15:00:00"
         ]
        }
       ],
       "layout": {
        "template": {
         "data": {
          "candlestick": [
           {
            "decreasing": {
             "line": {
              "color": "#000033"
             }
            },
            "increasing": {
             "line": {
              "color": "#000032"
             }
            },
            "type": "candlestick"
           }
          ],
          "contour": [
           {
            "colorscale": [
             [
              0,
              "#000011"
             ],
             [
              0.1111111111111111,
              "#000012"
             ],
             [
              0.2222222222222222,
              "#000013"
             ],
             [
              0.3333333333333333,
              "#000014"
             ],
             [
              0.4444444444444444,
              "#000015"
             ],
             [
              0.5555555555555556,
              "#000016"
             ],
             [
              0.6666666666666666,
              "#000017"
             ],
             [
              0.7777777777777778,
              "#000018"
             ],
             [
              0.8888888888888888,
              "#000019"
             ],
             [
              1,
              "#000020"
             ]
            ],
            "type": "contour"
           }
          ],
          "contourcarpet": [
           {
            "colorscale": [
             [
              0,
              "#000011"
             ],
             [
              0.1111111111111111,
              "#000012"
             ],
             [
              0.2222222222222222,
              "#000013"
             ],
             [
              0.3333333333333333,
              "#000014"
             ],
             [
              0.4444444444444444,
              "#000015"
             ],
             [
              0.5555555555555556,
              "#000016"
             ],
             [
              0.6666666666666666,
              "#000017"
             ],
             [
              0.7777777777777778,
              "#000018"
             ],
             [
              0.8888888888888888,
              "#000019"
             ],
             [
              1,
              "#000020"
             ]
            ],
            "type": "contourcarpet"
           }
          ],
          "heatmap": [
           {
            "colorscale": [
             [
              0,
              "#000011"
             ],
             [
              0.1111111111111111,
              "#000012"
             ],
             [
              0.2222222222222222,
              "#000013"
             ],
             [
              0.3333333333333333,
              "#000014"
             ],
             [
              0.4444444444444444,
              "#000015"
             ],
             [
              0.5555555555555556,
              "#000016"
             ],
             [
              0.6666666666666666,
              "#000017"
             ],
             [
              0.7777777777777778,
              "#000018"
             ],
             [
              0.8888888888888888,
              "#000019"
             ],
             [
              1,
              "#000020"
             ]
            ],
            "type": "heatmap"
           }
          ],
          "histogram2d": [
           {
            "colorscale": [
             [
              0,
              "#000011"
             ],
             [
              0.1111111111111111,
              "#000012"
             ],
             [
              0.2222222222222222,
              "#000013"
             ],
             [
              0.3333333333333333,
              "#000014"
             ],
             [
              0.4444444444444444,
              "#000015"
             ],
             [
              0.5555555555555556,
              "#000016"
             ],
             [
              0.6666666666666666,
              "#000017"
             ],
             [
              0.7777777777777778,
              "#000018"
             ],
             [
              0.8888888888888888,
              "#000019"
             ],
             [
              1,
              "#000020"
             ]
            ],
            "type": "histogram2d"
           }
          ],
          "icicle": [
           {
            "textfont": {
             "color": "white"
            },
            "type": "icicle"
           }
          ],
          "sankey": [
           {
            "textfont": {
             "color": "#000036"
            },
            "type": "sankey"
           }
          ],
          "scatter": [
           {
            "marker": {
             "line": {
              "width": 0
             }
            },
            "type": "scatter"
           }
          ],
          "table": [
           {
            "cells": {
             "fill": {
              "color": "#000038"
             },
             "font": {
              "color": "#000037"
             },
             "line": {
              "color": "#000039"
             }
            },
            "header": {
             "fill": {
              "color": "#000040"
             },
             "font": {
              "color": "#000036"
             },
             "line": {
              "color": "#000039"
             }
            },
            "type": "table"
           }
          ],
          "waterfall": [
           {
            "connector": {
             "line": {
              "color": "#000036",
              "width": 2
             }
            },
            "decreasing": {
             "marker": {
              "color": "#000033"
             }
            },
            "increasing": {
             "marker": {
              "color": "#000032"
             }
            },
            "totals": {
             "marker": {
              "color": "#000034"
             }
            },
            "type": "waterfall"
           }
          ]
         },
         "layout": {
          "coloraxis": {
           "colorscale": [
            [
             0,
             "#000011"
            ],
            [
             0.1111111111111111,
             "#000012"
            ],
            [
             0.2222222222222222,
             "#000013"
            ],
            [
             0.3333333333333333,
             "#000014"
            ],
            [
             0.4444444444444444,
             "#000015"
            ],
            [
             0.5555555555555556,
             "#000016"
            ],
            [
             0.6666666666666666,
             "#000017"
            ],
            [
             0.7777777777777778,
             "#000018"
            ],
            [
             0.8888888888888888,
             "#000019"
            ],
            [
             1,
             "#000020"
            ]
           ]
          },
          "colorscale": {
           "diverging": [
            [
             0,
             "#000021"
            ],
            [
             0.1,
             "#000022"
            ],
            [
             0.2,
             "#000023"
            ],
            [
             0.3,
             "#000024"
            ],
            [
             0.4,
             "#000025"
            ],
            [
             0.5,
             "#000026"
            ],
            [
             0.6,
             "#000027"
            ],
            [
             0.7,
             "#000028"
            ],
            [
             0.8,
             "#000029"
            ],
            [
             0.9,
             "#000030"
            ],
            [
             1,
             "#000031"
            ]
           ],
           "sequential": [
            [
             0,
             "#000011"
            ],
            [
             0.1111111111111111,
             "#000012"
            ],
            [
             0.2222222222222222,
             "#000013"
            ],
            [
             0.3333333333333333,
             "#000014"
            ],
            [
             0.4444444444444444,
             "#000015"
            ],
            [
             0.5555555555555556,
             "#000016"
            ],
            [
             0.6666666666666666,
             "#000017"
            ],
            [
             0.7777777777777778,
             "#000018"
            ],
            [
             0.8888888888888888,
             "#000019"
            ],
            [
             1,
             "#000020"
            ]
           ],
           "sequentialminus": [
            [
             0,
             "#000011"
            ],
            [
             0.1111111111111111,
             "#000012"
            ],
            [
             0.2222222222222222,
             "#000013"
            ],
            [
             0.3333333333333333,
             "#000014"
            ],
            [
             0.4444444444444444,
             "#000015"
            ],
            [
             0.5555555555555556,
             "#000016"
            ],
            [
             0.6666666666666666,
             "#000017"
            ],
            [
             0.7777777777777778,
             "#000018"
            ],
            [
             0.8888888888888888,
             "#000019"
            ],
            [
             1,
             "#000020"
            ]
           ]
          },
          "colorway": [
           "#000001",
           "#000002",
           "#000003",
           "#000004",
           "#000005",
           "#000006",
           "#000007",
           "#000008",
           "#000009",
           "#000010"
          ]
         }
        }
       }
      }
     },
     "metadata": {},
     "output_type": "display_data"
    }
   ],
   "source": [
    "def fr(df):\n",
    "    fig = go.Figure()\n",
    "    \n",
    "    #bougies OHLC\n",
    "    fig.add_trace(go.Candlestick(\n",
    "        x=df['Timestamp'],\n",
    "        open=df['Open'],\n",
    "        high=df['High'],\n",
    "        low=df['Low'],\n",
    "        close=df['Close'],\n",
    "        name=\"OHLC\",\n",
    "        increasing_line_color='green',\n",
    "        decreasing_line_color= 'red',\n",
    "\n",
    "        \n",
    "    ))\n",
    "    fig.show()\n",
    "\n",
    "fr(df_OHLC_BTC)"
   ]
  },
  {
   "cell_type": "markdown",
   "metadata": {},
   "source": [
    "Tableau positions conseillé"
   ]
  },
  {
   "cell_type": "code",
   "execution_count": 339,
   "metadata": {},
   "outputs": [
    {
     "data": {
      "text/html": [
       "<div>\n",
       "<style scoped>\n",
       "    .dataframe tbody tr th:only-of-type {\n",
       "        vertical-align: middle;\n",
       "    }\n",
       "\n",
       "    .dataframe tbody tr th {\n",
       "        vertical-align: top;\n",
       "    }\n",
       "\n",
       "    .dataframe thead th {\n",
       "        text-align: right;\n",
       "    }\n",
       "</style>\n",
       "<table border=\"1\" class=\"dataframe\">\n",
       "  <thead>\n",
       "    <tr style=\"text-align: right;\">\n",
       "      <th></th>\n",
       "      <th>BTC</th>\n",
       "      <th>ETH</th>\n",
       "      <th>BNB</th>\n",
       "    </tr>\n",
       "  </thead>\n",
       "  <tbody>\n",
       "    <tr>\n",
       "      <th>prix_entrée</th>\n",
       "      <td>90761.38</td>\n",
       "      <td>3170.43</td>\n",
       "      <td>628.36</td>\n",
       "    </tr>\n",
       "    <tr>\n",
       "      <th>prix_cible</th>\n",
       "      <td>91006.01</td>\n",
       "      <td>3198.55</td>\n",
       "      <td>632.31</td>\n",
       "    </tr>\n",
       "    <tr>\n",
       "      <th>prix_sortie</th>\n",
       "      <td>89853.77</td>\n",
       "      <td>3138.73</td>\n",
       "      <td>622.08</td>\n",
       "    </tr>\n",
       "  </tbody>\n",
       "</table>\n",
       "</div>"
      ],
      "text/plain": [
       "                  BTC      ETH     BNB\n",
       "prix_entrée  90761.38  3170.43  628.36\n",
       "prix_cible   91006.01  3198.55  632.31\n",
       "prix_sortie  89853.77  3138.73  622.08"
      ]
     },
     "execution_count": 339,
     "metadata": {},
     "output_type": "execute_result"
    }
   ],
   "source": [
    "def prix(prevision):\n",
    "    prix_entrée = round(min(prevision), 2)\n",
    "    prix_cible = round(max(prevision), 2)\n",
    "    prix_stop = round(prix_entrée * 0.99, 2)\n",
    "\n",
    "\n",
    "    return prix_entrée, prix_cible, prix_stop\n",
    "\n",
    "prix_conseil_BTC= prix(BTC_pred)\n",
    "prix_conseil_ETH=prix(ETH_pred)\n",
    "prix_conseil_BNB=prix(BNB_pred)\n",
    "\n",
    "\n",
    "df_prix_conseil = pd.DataFrame({\n",
    "    \"BTC\":{\n",
    "        \"prix_entrée\":prix_conseil_BTC[0],\n",
    "        \"prix_cible\" : prix_conseil_BTC[1],\n",
    "        \"prix_sortie\" : prix_conseil_BTC[2],\n",
    "\n",
    "    },\n",
    "    \"ETH\":{\n",
    "        \"prix_entrée\":prix_conseil_ETH[0],\n",
    "        \"prix_cible\" : prix_conseil_ETH[1],\n",
    "        \"prix_sortie\" : prix_conseil_ETH[2],       \n",
    "    } ,\n",
    "    \"BNB\":{\n",
    "        \"prix_entrée\":prix_conseil_BNB[0],\n",
    "        \"prix_cible\" : prix_conseil_BNB[1],\n",
    "        \"prix_sortie\" : prix_conseil_BNB[2],       \n",
    "    } \n",
    "})\n",
    "\n",
    "# Afficher le DataFrame\n",
    "df_prix_conseil\n"
   ]
  },
  {
   "cell_type": "markdown",
   "metadata": {},
   "source": []
  },
  {
   "cell_type": "markdown",
   "metadata": {},
   "source": [
    "Historique prix "
   ]
  },
  {
   "cell_type": "markdown",
   "metadata": {},
   "source": [
    "#importation données "
   ]
  },
  {
   "cell_type": "code",
   "execution_count": 319,
   "metadata": {},
   "outputs": [],
   "source": [
    "from binance.client import Client\n",
    "import pandas as pd\n",
    "\n",
    "client = Client() #connection API public Binance \n",
    "\n",
    "\n",
    "symbols = ['BTCUSDT', 'ETHUSDT', 'BNBUSDT']\n",
    "start_date = \"1 year ago UTC\"  # Période de 1 an\n",
    "\n",
    "# Fonction pour obtenir des données OHLC\n",
    "def get_ohlc_data(symbol, interval):\n",
    "    klines = client.get_historical_klines(symbol, interval, start_date)\n",
    "    # Transformation des données en DataFrame\n",
    "    data = pd.DataFrame(klines, columns=[\n",
    "        'timestamp', 'open', 'high', 'low', 'close', 'volume', \n",
    "        'close_time', 'quote_asset_volume', 'number_of_trades', \n",
    "        'taker_buy_base_asset_volume', 'taker_buy_quote_asset_volume', 'ignore'\n",
    "    ])\n",
    "    data['timestamp'] = pd.to_datetime(data['timestamp'], unit='ms')\n",
    "    return data[['timestamp', 'open', 'high', 'low', 'close', 'volume']]\n",
    "    \n",
    "    \n",
    "\n",
    "data_monthly = {symbol: get_ohlc_data(symbol, Client.KLINE_INTERVAL_1MONTH) for symbol in symbols}\n",
    "data_weekly = {symbol: get_ohlc_data(symbol, Client.KLINE_INTERVAL_1WEEK) for symbol in symbols}\n",
    "data_daily= {symbol: get_ohlc_data(symbol, Client.KLINE_INTERVAL_3DAY ) for symbol in symbols}\n",
    "\n"
   ]
  },
  {
   "cell_type": "code",
   "execution_count": 320,
   "metadata": {},
   "outputs": [
    {
     "data": {
      "text/html": [
       "<div>\n",
       "<style scoped>\n",
       "    .dataframe tbody tr th:only-of-type {\n",
       "        vertical-align: middle;\n",
       "    }\n",
       "\n",
       "    .dataframe tbody tr th {\n",
       "        vertical-align: top;\n",
       "    }\n",
       "\n",
       "    .dataframe thead th {\n",
       "        text-align: right;\n",
       "    }\n",
       "</style>\n",
       "<table border=\"1\" class=\"dataframe\">\n",
       "  <thead>\n",
       "    <tr style=\"text-align: right;\">\n",
       "      <th></th>\n",
       "      <th>timestamp</th>\n",
       "      <th>open</th>\n",
       "      <th>high</th>\n",
       "      <th>low</th>\n",
       "      <th>close</th>\n",
       "      <th>volume</th>\n",
       "    </tr>\n",
       "  </thead>\n",
       "  <tbody>\n",
       "    <tr>\n",
       "      <th>0</th>\n",
       "      <td>2023-12-01</td>\n",
       "      <td>227.60000000</td>\n",
       "      <td>338.30000000</td>\n",
       "      <td>224.80000000</td>\n",
       "      <td>311.80000000</td>\n",
       "      <td>31559599.09200000</td>\n",
       "    </tr>\n",
       "    <tr>\n",
       "      <th>1</th>\n",
       "      <td>2024-01-01</td>\n",
       "      <td>311.90000000</td>\n",
       "      <td>334.30000000</td>\n",
       "      <td>287.50000000</td>\n",
       "      <td>300.50000000</td>\n",
       "      <td>26121085.47600000</td>\n",
       "    </tr>\n",
       "    <tr>\n",
       "      <th>2</th>\n",
       "      <td>2024-02-01</td>\n",
       "      <td>300.50000000</td>\n",
       "      <td>427.30000000</td>\n",
       "      <td>296.40000000</td>\n",
       "      <td>399.40000000</td>\n",
       "      <td>21405632.33800000</td>\n",
       "    </tr>\n",
       "    <tr>\n",
       "      <th>3</th>\n",
       "      <td>2024-03-01</td>\n",
       "      <td>399.30000000</td>\n",
       "      <td>645.20000000</td>\n",
       "      <td>356.10000000</td>\n",
       "      <td>606.70000000</td>\n",
       "      <td>41560483.98500000</td>\n",
       "    </tr>\n",
       "    <tr>\n",
       "      <th>4</th>\n",
       "      <td>2024-04-01</td>\n",
       "      <td>606.70000000</td>\n",
       "      <td>634.50000000</td>\n",
       "      <td>508.00000000</td>\n",
       "      <td>578.40000000</td>\n",
       "      <td>18881921.68900000</td>\n",
       "    </tr>\n",
       "    <tr>\n",
       "      <th>5</th>\n",
       "      <td>2024-05-01</td>\n",
       "      <td>578.40000000</td>\n",
       "      <td>631.40000000</td>\n",
       "      <td>536.70000000</td>\n",
       "      <td>593.70000000</td>\n",
       "      <td>10105224.99200000</td>\n",
       "    </tr>\n",
       "    <tr>\n",
       "      <th>6</th>\n",
       "      <td>2024-06-01</td>\n",
       "      <td>593.80000000</td>\n",
       "      <td>721.80000000</td>\n",
       "      <td>551.20000000</td>\n",
       "      <td>582.20000000</td>\n",
       "      <td>9602003.78070000</td>\n",
       "    </tr>\n",
       "    <tr>\n",
       "      <th>7</th>\n",
       "      <td>2024-07-01</td>\n",
       "      <td>582.30000000</td>\n",
       "      <td>605.60000000</td>\n",
       "      <td>454.80000000</td>\n",
       "      <td>576.50000000</td>\n",
       "      <td>8036736.77500000</td>\n",
       "    </tr>\n",
       "    <tr>\n",
       "      <th>8</th>\n",
       "      <td>2024-08-01</td>\n",
       "      <td>576.50000000</td>\n",
       "      <td>600.60000000</td>\n",
       "      <td>400.00000000</td>\n",
       "      <td>532.90000000</td>\n",
       "      <td>10004287.11700000</td>\n",
       "    </tr>\n",
       "    <tr>\n",
       "      <th>9</th>\n",
       "      <td>2024-09-01</td>\n",
       "      <td>532.90000000</td>\n",
       "      <td>618.60000000</td>\n",
       "      <td>471.30000000</td>\n",
       "      <td>567.40000000</td>\n",
       "      <td>7343488.67100000</td>\n",
       "    </tr>\n",
       "    <tr>\n",
       "      <th>10</th>\n",
       "      <td>2024-10-01</td>\n",
       "      <td>567.40000000</td>\n",
       "      <td>612.20000000</td>\n",
       "      <td>534.30000000</td>\n",
       "      <td>576.60000000</td>\n",
       "      <td>6486223.03000000</td>\n",
       "    </tr>\n",
       "    <tr>\n",
       "      <th>11</th>\n",
       "      <td>2024-11-01</td>\n",
       "      <td>576.50000000</td>\n",
       "      <td>667.40000000</td>\n",
       "      <td>543.60000000</td>\n",
       "      <td>622.98000000</td>\n",
       "      <td>9154399.19700000</td>\n",
       "    </tr>\n",
       "  </tbody>\n",
       "</table>\n",
       "</div>"
      ],
      "text/plain": [
       "    timestamp          open          high           low         close  \\\n",
       "0  2023-12-01  227.60000000  338.30000000  224.80000000  311.80000000   \n",
       "1  2024-01-01  311.90000000  334.30000000  287.50000000  300.50000000   \n",
       "2  2024-02-01  300.50000000  427.30000000  296.40000000  399.40000000   \n",
       "3  2024-03-01  399.30000000  645.20000000  356.10000000  606.70000000   \n",
       "4  2024-04-01  606.70000000  634.50000000  508.00000000  578.40000000   \n",
       "5  2024-05-01  578.40000000  631.40000000  536.70000000  593.70000000   \n",
       "6  2024-06-01  593.80000000  721.80000000  551.20000000  582.20000000   \n",
       "7  2024-07-01  582.30000000  605.60000000  454.80000000  576.50000000   \n",
       "8  2024-08-01  576.50000000  600.60000000  400.00000000  532.90000000   \n",
       "9  2024-09-01  532.90000000  618.60000000  471.30000000  567.40000000   \n",
       "10 2024-10-01  567.40000000  612.20000000  534.30000000  576.60000000   \n",
       "11 2024-11-01  576.50000000  667.40000000  543.60000000  622.98000000   \n",
       "\n",
       "               volume  \n",
       "0   31559599.09200000  \n",
       "1   26121085.47600000  \n",
       "2   21405632.33800000  \n",
       "3   41560483.98500000  \n",
       "4   18881921.68900000  \n",
       "5   10105224.99200000  \n",
       "6    9602003.78070000  \n",
       "7    8036736.77500000  \n",
       "8   10004287.11700000  \n",
       "9    7343488.67100000  \n",
       "10   6486223.03000000  \n",
       "11   9154399.19700000  "
      ]
     },
     "execution_count": 320,
     "metadata": {},
     "output_type": "execute_result"
    }
   ],
   "source": [
    "data_monthly['BNBUSDT']"
   ]
  },
  {
   "cell_type": "code",
   "execution_count": 321,
   "metadata": {},
   "outputs": [],
   "source": [
    "def graph_OHLC(df, interval, symbol):\n",
    "\n",
    "    fig = go.Figure()\n",
    "    \n",
    "    #bougies OHLC\n",
    "    fig.add_trace(go.Candlestick(\n",
    "        x=df['timestamp'],\n",
    "        open=df['open'],\n",
    "        high=df['high'],\n",
    "        low=df['low'],\n",
    "        close=df['close'],\n",
    "        name=\"OHLC\",\n",
    "        increasing_line_color='green',\n",
    "        decreasing_line_color= 'red',\n",
    "\n",
    "        \n",
    "    ))\n",
    "    fig.update_layout(\n",
    "        xaxis_rangeslider_visible=False,\n",
    "        template=\"plotly_dark\",\n",
    "        title=\"Historique\" + interval + \" des prix\" + symbol ,\n",
    "        xaxis_title=\"Dates\",\n",
    "        yaxis_title=\"Prix en USDT\"\n",
    "        )\n",
    "    \n",
    "\n",
    "#historique BTC\n",
    "hist_BTC_3d= graph_OHLC(data_daily['BTCUSDT'],\" journalier \", \" du BTC\")\n",
    "hist_BTC_sem=graph_OHLC(data_weekly['BTCUSDT'],\"hebdomadaire\", \" du BTC\")\n",
    "hist_BTC_m=graph_OHLC(data_monthly['BTCUSDT'],\" mensuel \", \" du BTC\")\n",
    "\n",
    "#ETH\n",
    "hist_ETH_3d=graph_OHLC(data_daily['ETHUSDT'],\" journalier \", \" de l'ETH\")\n",
    "hist_ETH_sem=graph_OHLC(data_weekly['ETHUSDT'],\"hebdomadaire\", \" de l'ETH\")\n",
    "hist_ETH_m=graph_OHLC(data_monthly['ETHUSDT'],\" mensuel \", \" de l'ETH\")\n",
    "\n",
    "#BNB\n",
    "\n",
    "hist_BNB_3d=graph_OHLC(data_daily['BNBUSDT'],\" journalier \", \" du BNB\")\n",
    "hist_BNB_sem=graph_OHLC(data_weekly['BNBUSDT'],\"hebdomadaire\", \" du BNB\")\n",
    "hist_BNB_m=graph_OHLC(data_monthly['BNBUSDT'],\" mensuel \", \" du BNB\")\n",
    "\n",
    "\n"
   ]
  },
  {
   "cell_type": "code",
   "execution_count": 322,
   "metadata": {},
   "outputs": [
    {
     "ename": "TypeError",
     "evalue": "unsupported operand type(s) for /: 'str' and 'int'",
     "output_type": "error",
     "traceback": [
      "\u001b[0;31m---------------------------------------------------------------------------\u001b[0m",
      "\u001b[0;31mTypeError\u001b[0m                                 Traceback (most recent call last)",
      "File \u001b[0;32m~/vscode/data_visu/.venv/lib/python3.9/site-packages/pandas/core/ops/array_ops.py:218\u001b[0m, in \u001b[0;36m_na_arithmetic_op\u001b[0;34m(left, right, op, is_cmp)\u001b[0m\n\u001b[1;32m    217\u001b[0m \u001b[38;5;28;01mtry\u001b[39;00m:\n\u001b[0;32m--> 218\u001b[0m     result \u001b[38;5;241m=\u001b[39m \u001b[43mfunc\u001b[49m\u001b[43m(\u001b[49m\u001b[43mleft\u001b[49m\u001b[43m,\u001b[49m\u001b[43m \u001b[49m\u001b[43mright\u001b[49m\u001b[43m)\u001b[49m\n\u001b[1;32m    219\u001b[0m \u001b[38;5;28;01mexcept\u001b[39;00m \u001b[38;5;167;01mTypeError\u001b[39;00m:\n",
      "File \u001b[0;32m~/vscode/data_visu/.venv/lib/python3.9/site-packages/pandas/core/computation/expressions.py:242\u001b[0m, in \u001b[0;36mevaluate\u001b[0;34m(op, a, b, use_numexpr)\u001b[0m\n\u001b[1;32m    240\u001b[0m     \u001b[38;5;28;01mif\u001b[39;00m use_numexpr:\n\u001b[1;32m    241\u001b[0m         \u001b[38;5;66;03m# error: \"None\" not callable\u001b[39;00m\n\u001b[0;32m--> 242\u001b[0m         \u001b[38;5;28;01mreturn\u001b[39;00m \u001b[43m_evaluate\u001b[49m\u001b[43m(\u001b[49m\u001b[43mop\u001b[49m\u001b[43m,\u001b[49m\u001b[43m \u001b[49m\u001b[43mop_str\u001b[49m\u001b[43m,\u001b[49m\u001b[43m \u001b[49m\u001b[43ma\u001b[49m\u001b[43m,\u001b[49m\u001b[43m \u001b[49m\u001b[43mb\u001b[49m\u001b[43m)\u001b[49m  \u001b[38;5;66;03m# type: ignore[misc]\u001b[39;00m\n\u001b[1;32m    243\u001b[0m \u001b[38;5;28;01mreturn\u001b[39;00m _evaluate_standard(op, op_str, a, b)\n",
      "File \u001b[0;32m~/vscode/data_visu/.venv/lib/python3.9/site-packages/pandas/core/computation/expressions.py:73\u001b[0m, in \u001b[0;36m_evaluate_standard\u001b[0;34m(op, op_str, a, b)\u001b[0m\n\u001b[1;32m     72\u001b[0m     _store_test_result(\u001b[38;5;28;01mFalse\u001b[39;00m)\n\u001b[0;32m---> 73\u001b[0m \u001b[38;5;28;01mreturn\u001b[39;00m \u001b[43mop\u001b[49m\u001b[43m(\u001b[49m\u001b[43ma\u001b[49m\u001b[43m,\u001b[49m\u001b[43m \u001b[49m\u001b[43mb\u001b[49m\u001b[43m)\u001b[49m\n",
      "\u001b[0;31mTypeError\u001b[0m: unsupported operand type(s) for /: 'str' and 'int'",
      "\nDuring handling of the above exception, another exception occurred:\n",
      "\u001b[0;31mTypeError\u001b[0m                                 Traceback (most recent call last)",
      "Cell \u001b[0;32mIn[322], line 1\u001b[0m\n\u001b[0;32m----> 1\u001b[0m \u001b[43mdata_daily\u001b[49m\u001b[43m[\u001b[49m\u001b[38;5;124;43m'\u001b[39;49m\u001b[38;5;124;43mBTCUSDT\u001b[39;49m\u001b[38;5;124;43m'\u001b[39;49m\u001b[43m]\u001b[49m\u001b[43m[\u001b[49m\u001b[38;5;124;43m'\u001b[39;49m\u001b[38;5;124;43mvolume\u001b[39;49m\u001b[38;5;124;43m'\u001b[39;49m\u001b[43m]\u001b[49m\u001b[38;5;241;43m/\u001b[39;49m\u001b[38;5;241;43m1000\u001b[39;49m\n",
      "File \u001b[0;32m~/vscode/data_visu/.venv/lib/python3.9/site-packages/pandas/core/ops/common.py:76\u001b[0m, in \u001b[0;36m_unpack_zerodim_and_defer.<locals>.new_method\u001b[0;34m(self, other)\u001b[0m\n\u001b[1;32m     72\u001b[0m             \u001b[38;5;28;01mreturn\u001b[39;00m \u001b[38;5;28mNotImplemented\u001b[39m\n\u001b[1;32m     74\u001b[0m other \u001b[38;5;241m=\u001b[39m item_from_zerodim(other)\n\u001b[0;32m---> 76\u001b[0m \u001b[38;5;28;01mreturn\u001b[39;00m \u001b[43mmethod\u001b[49m\u001b[43m(\u001b[49m\u001b[38;5;28;43mself\u001b[39;49m\u001b[43m,\u001b[49m\u001b[43m \u001b[49m\u001b[43mother\u001b[49m\u001b[43m)\u001b[49m\n",
      "File \u001b[0;32m~/vscode/data_visu/.venv/lib/python3.9/site-packages/pandas/core/arraylike.py:210\u001b[0m, in \u001b[0;36mOpsMixin.__truediv__\u001b[0;34m(self, other)\u001b[0m\n\u001b[1;32m    208\u001b[0m \u001b[38;5;129m@unpack_zerodim_and_defer\u001b[39m(\u001b[38;5;124m\"\u001b[39m\u001b[38;5;124m__truediv__\u001b[39m\u001b[38;5;124m\"\u001b[39m)\n\u001b[1;32m    209\u001b[0m \u001b[38;5;28;01mdef\u001b[39;00m \u001b[38;5;21m__truediv__\u001b[39m(\u001b[38;5;28mself\u001b[39m, other):\n\u001b[0;32m--> 210\u001b[0m     \u001b[38;5;28;01mreturn\u001b[39;00m \u001b[38;5;28;43mself\u001b[39;49m\u001b[38;5;241;43m.\u001b[39;49m\u001b[43m_arith_method\u001b[49m\u001b[43m(\u001b[49m\u001b[43mother\u001b[49m\u001b[43m,\u001b[49m\u001b[43m \u001b[49m\u001b[43moperator\u001b[49m\u001b[38;5;241;43m.\u001b[39;49m\u001b[43mtruediv\u001b[49m\u001b[43m)\u001b[49m\n",
      "File \u001b[0;32m~/vscode/data_visu/.venv/lib/python3.9/site-packages/pandas/core/series.py:6135\u001b[0m, in \u001b[0;36mSeries._arith_method\u001b[0;34m(self, other, op)\u001b[0m\n\u001b[1;32m   6133\u001b[0m \u001b[38;5;28;01mdef\u001b[39;00m \u001b[38;5;21m_arith_method\u001b[39m(\u001b[38;5;28mself\u001b[39m, other, op):\n\u001b[1;32m   6134\u001b[0m     \u001b[38;5;28mself\u001b[39m, other \u001b[38;5;241m=\u001b[39m \u001b[38;5;28mself\u001b[39m\u001b[38;5;241m.\u001b[39m_align_for_op(other)\n\u001b[0;32m-> 6135\u001b[0m     \u001b[38;5;28;01mreturn\u001b[39;00m \u001b[43mbase\u001b[49m\u001b[38;5;241;43m.\u001b[39;49m\u001b[43mIndexOpsMixin\u001b[49m\u001b[38;5;241;43m.\u001b[39;49m\u001b[43m_arith_method\u001b[49m\u001b[43m(\u001b[49m\u001b[38;5;28;43mself\u001b[39;49m\u001b[43m,\u001b[49m\u001b[43m \u001b[49m\u001b[43mother\u001b[49m\u001b[43m,\u001b[49m\u001b[43m \u001b[49m\u001b[43mop\u001b[49m\u001b[43m)\u001b[49m\n",
      "File \u001b[0;32m~/vscode/data_visu/.venv/lib/python3.9/site-packages/pandas/core/base.py:1382\u001b[0m, in \u001b[0;36mIndexOpsMixin._arith_method\u001b[0;34m(self, other, op)\u001b[0m\n\u001b[1;32m   1379\u001b[0m     rvalues \u001b[38;5;241m=\u001b[39m np\u001b[38;5;241m.\u001b[39marange(rvalues\u001b[38;5;241m.\u001b[39mstart, rvalues\u001b[38;5;241m.\u001b[39mstop, rvalues\u001b[38;5;241m.\u001b[39mstep)\n\u001b[1;32m   1381\u001b[0m \u001b[38;5;28;01mwith\u001b[39;00m np\u001b[38;5;241m.\u001b[39merrstate(\u001b[38;5;28mall\u001b[39m\u001b[38;5;241m=\u001b[39m\u001b[38;5;124m\"\u001b[39m\u001b[38;5;124mignore\u001b[39m\u001b[38;5;124m\"\u001b[39m):\n\u001b[0;32m-> 1382\u001b[0m     result \u001b[38;5;241m=\u001b[39m \u001b[43mops\u001b[49m\u001b[38;5;241;43m.\u001b[39;49m\u001b[43marithmetic_op\u001b[49m\u001b[43m(\u001b[49m\u001b[43mlvalues\u001b[49m\u001b[43m,\u001b[49m\u001b[43m \u001b[49m\u001b[43mrvalues\u001b[49m\u001b[43m,\u001b[49m\u001b[43m \u001b[49m\u001b[43mop\u001b[49m\u001b[43m)\u001b[49m\n\u001b[1;32m   1384\u001b[0m \u001b[38;5;28;01mreturn\u001b[39;00m \u001b[38;5;28mself\u001b[39m\u001b[38;5;241m.\u001b[39m_construct_result(result, name\u001b[38;5;241m=\u001b[39mres_name)\n",
      "File \u001b[0;32m~/vscode/data_visu/.venv/lib/python3.9/site-packages/pandas/core/ops/array_ops.py:283\u001b[0m, in \u001b[0;36marithmetic_op\u001b[0;34m(left, right, op)\u001b[0m\n\u001b[1;32m    279\u001b[0m     _bool_arith_check(op, left, right)  \u001b[38;5;66;03m# type: ignore[arg-type]\u001b[39;00m\n\u001b[1;32m    281\u001b[0m     \u001b[38;5;66;03m# error: Argument 1 to \"_na_arithmetic_op\" has incompatible type\u001b[39;00m\n\u001b[1;32m    282\u001b[0m     \u001b[38;5;66;03m# \"Union[ExtensionArray, ndarray[Any, Any]]\"; expected \"ndarray[Any, Any]\"\u001b[39;00m\n\u001b[0;32m--> 283\u001b[0m     res_values \u001b[38;5;241m=\u001b[39m \u001b[43m_na_arithmetic_op\u001b[49m\u001b[43m(\u001b[49m\u001b[43mleft\u001b[49m\u001b[43m,\u001b[49m\u001b[43m \u001b[49m\u001b[43mright\u001b[49m\u001b[43m,\u001b[49m\u001b[43m \u001b[49m\u001b[43mop\u001b[49m\u001b[43m)\u001b[49m  \u001b[38;5;66;03m# type: ignore[arg-type]\u001b[39;00m\n\u001b[1;32m    285\u001b[0m \u001b[38;5;28;01mreturn\u001b[39;00m res_values\n",
      "File \u001b[0;32m~/vscode/data_visu/.venv/lib/python3.9/site-packages/pandas/core/ops/array_ops.py:227\u001b[0m, in \u001b[0;36m_na_arithmetic_op\u001b[0;34m(left, right, op, is_cmp)\u001b[0m\n\u001b[1;32m    219\u001b[0m \u001b[38;5;28;01mexcept\u001b[39;00m \u001b[38;5;167;01mTypeError\u001b[39;00m:\n\u001b[1;32m    220\u001b[0m     \u001b[38;5;28;01mif\u001b[39;00m \u001b[38;5;129;01mnot\u001b[39;00m is_cmp \u001b[38;5;129;01mand\u001b[39;00m (\n\u001b[1;32m    221\u001b[0m         left\u001b[38;5;241m.\u001b[39mdtype \u001b[38;5;241m==\u001b[39m \u001b[38;5;28mobject\u001b[39m \u001b[38;5;129;01mor\u001b[39;00m \u001b[38;5;28mgetattr\u001b[39m(right, \u001b[38;5;124m\"\u001b[39m\u001b[38;5;124mdtype\u001b[39m\u001b[38;5;124m\"\u001b[39m, \u001b[38;5;28;01mNone\u001b[39;00m) \u001b[38;5;241m==\u001b[39m \u001b[38;5;28mobject\u001b[39m\n\u001b[1;32m    222\u001b[0m     ):\n\u001b[0;32m   (...)\u001b[0m\n\u001b[1;32m    225\u001b[0m         \u001b[38;5;66;03m# Don't do this for comparisons, as that will handle complex numbers\u001b[39;00m\n\u001b[1;32m    226\u001b[0m         \u001b[38;5;66;03m#  incorrectly, see GH#32047\u001b[39;00m\n\u001b[0;32m--> 227\u001b[0m         result \u001b[38;5;241m=\u001b[39m \u001b[43m_masked_arith_op\u001b[49m\u001b[43m(\u001b[49m\u001b[43mleft\u001b[49m\u001b[43m,\u001b[49m\u001b[43m \u001b[49m\u001b[43mright\u001b[49m\u001b[43m,\u001b[49m\u001b[43m \u001b[49m\u001b[43mop\u001b[49m\u001b[43m)\u001b[49m\n\u001b[1;32m    228\u001b[0m     \u001b[38;5;28;01melse\u001b[39;00m:\n\u001b[1;32m    229\u001b[0m         \u001b[38;5;28;01mraise\u001b[39;00m\n",
      "File \u001b[0;32m~/vscode/data_visu/.venv/lib/python3.9/site-packages/pandas/core/ops/array_ops.py:182\u001b[0m, in \u001b[0;36m_masked_arith_op\u001b[0;34m(x, y, op)\u001b[0m\n\u001b[1;32m    179\u001b[0m         mask \u001b[38;5;241m=\u001b[39m np\u001b[38;5;241m.\u001b[39mwhere(y \u001b[38;5;241m==\u001b[39m \u001b[38;5;241m1\u001b[39m, \u001b[38;5;28;01mFalse\u001b[39;00m, mask)\n\u001b[1;32m    181\u001b[0m     \u001b[38;5;28;01mif\u001b[39;00m mask\u001b[38;5;241m.\u001b[39many():\n\u001b[0;32m--> 182\u001b[0m         result[mask] \u001b[38;5;241m=\u001b[39m \u001b[43mop\u001b[49m\u001b[43m(\u001b[49m\u001b[43mxrav\u001b[49m\u001b[43m[\u001b[49m\u001b[43mmask\u001b[49m\u001b[43m]\u001b[49m\u001b[43m,\u001b[49m\u001b[43m \u001b[49m\u001b[43my\u001b[49m\u001b[43m)\u001b[49m\n\u001b[1;32m    184\u001b[0m np\u001b[38;5;241m.\u001b[39mputmask(result, \u001b[38;5;241m~\u001b[39mmask, np\u001b[38;5;241m.\u001b[39mnan)\n\u001b[1;32m    185\u001b[0m result \u001b[38;5;241m=\u001b[39m result\u001b[38;5;241m.\u001b[39mreshape(x\u001b[38;5;241m.\u001b[39mshape)  \u001b[38;5;66;03m# 2D compat\u001b[39;00m\n",
      "\u001b[0;31mTypeError\u001b[0m: unsupported operand type(s) for /: 'str' and 'int'"
     ]
    }
   ],
   "source": [
    "data_daily['BTCUSDT']['volume']/1000"
   ]
  },
  {
   "cell_type": "code",
   "execution_count": 334,
   "metadata": {},
   "outputs": [
    {
     "data": {
      "application/vnd.plotly.v1+json": {
       "config": {
        "plotlyServerURL": "https://plot.ly"
       },
       "data": [
        {
         "marker": {
          "color": "rgb(0, 0, 255, 255)"
         },
         "name": "Volume",
         "type": "bar",
         "x": [
          "2023-12-01T00:00:00",
          "2024-01-01T00:00:00",
          "2024-02-01T00:00:00",
          "2024-03-01T00:00:00",
          "2024-04-01T00:00:00",
          "2024-05-01T00:00:00",
          "2024-06-01T00:00:00",
          "2024-07-01T00:00:00",
          "2024-08-01T00:00:00",
          "2024-09-01T00:00:00",
          "2024-10-01T00:00:00",
          "2024-11-01T00:00:00"
         ],
         "y": [
          120,
          140,
          121,
          171,
          120,
          94,
          70,
          91,
          101,
          73,
          76,
          79
         ]
        }
       ],
       "layout": {
        "template": {
         "data": {
          "bar": [
           {
            "error_x": {
             "color": "#f2f5fa"
            },
            "error_y": {
             "color": "#f2f5fa"
            },
            "marker": {
             "line": {
              "color": "rgb(17,17,17)",
              "width": 0.5
             },
             "pattern": {
              "fillmode": "overlay",
              "size": 10,
              "solidity": 0.2
             }
            },
            "type": "bar"
           }
          ],
          "barpolar": [
           {
            "marker": {
             "line": {
              "color": "rgb(17,17,17)",
              "width": 0.5
             },
             "pattern": {
              "fillmode": "overlay",
              "size": 10,
              "solidity": 0.2
             }
            },
            "type": "barpolar"
           }
          ],
          "carpet": [
           {
            "aaxis": {
             "endlinecolor": "#A2B1C6",
             "gridcolor": "#506784",
             "linecolor": "#506784",
             "minorgridcolor": "#506784",
             "startlinecolor": "#A2B1C6"
            },
            "baxis": {
             "endlinecolor": "#A2B1C6",
             "gridcolor": "#506784",
             "linecolor": "#506784",
             "minorgridcolor": "#506784",
             "startlinecolor": "#A2B1C6"
            },
            "type": "carpet"
           }
          ],
          "choropleth": [
           {
            "colorbar": {
             "outlinewidth": 0,
             "ticks": ""
            },
            "type": "choropleth"
           }
          ],
          "contour": [
           {
            "colorbar": {
             "outlinewidth": 0,
             "ticks": ""
            },
            "colorscale": [
             [
              0,
              "#0d0887"
             ],
             [
              0.1111111111111111,
              "#46039f"
             ],
             [
              0.2222222222222222,
              "#7201a8"
             ],
             [
              0.3333333333333333,
              "#9c179e"
             ],
             [
              0.4444444444444444,
              "#bd3786"
             ],
             [
              0.5555555555555556,
              "#d8576b"
             ],
             [
              0.6666666666666666,
              "#ed7953"
             ],
             [
              0.7777777777777778,
              "#fb9f3a"
             ],
             [
              0.8888888888888888,
              "#fdca26"
             ],
             [
              1,
              "#f0f921"
             ]
            ],
            "type": "contour"
           }
          ],
          "contourcarpet": [
           {
            "colorbar": {
             "outlinewidth": 0,
             "ticks": ""
            },
            "type": "contourcarpet"
           }
          ],
          "heatmap": [
           {
            "colorbar": {
             "outlinewidth": 0,
             "ticks": ""
            },
            "colorscale": [
             [
              0,
              "#0d0887"
             ],
             [
              0.1111111111111111,
              "#46039f"
             ],
             [
              0.2222222222222222,
              "#7201a8"
             ],
             [
              0.3333333333333333,
              "#9c179e"
             ],
             [
              0.4444444444444444,
              "#bd3786"
             ],
             [
              0.5555555555555556,
              "#d8576b"
             ],
             [
              0.6666666666666666,
              "#ed7953"
             ],
             [
              0.7777777777777778,
              "#fb9f3a"
             ],
             [
              0.8888888888888888,
              "#fdca26"
             ],
             [
              1,
              "#f0f921"
             ]
            ],
            "type": "heatmap"
           }
          ],
          "heatmapgl": [
           {
            "colorbar": {
             "outlinewidth": 0,
             "ticks": ""
            },
            "colorscale": [
             [
              0,
              "#0d0887"
             ],
             [
              0.1111111111111111,
              "#46039f"
             ],
             [
              0.2222222222222222,
              "#7201a8"
             ],
             [
              0.3333333333333333,
              "#9c179e"
             ],
             [
              0.4444444444444444,
              "#bd3786"
             ],
             [
              0.5555555555555556,
              "#d8576b"
             ],
             [
              0.6666666666666666,
              "#ed7953"
             ],
             [
              0.7777777777777778,
              "#fb9f3a"
             ],
             [
              0.8888888888888888,
              "#fdca26"
             ],
             [
              1,
              "#f0f921"
             ]
            ],
            "type": "heatmapgl"
           }
          ],
          "histogram": [
           {
            "marker": {
             "pattern": {
              "fillmode": "overlay",
              "size": 10,
              "solidity": 0.2
             }
            },
            "type": "histogram"
           }
          ],
          "histogram2d": [
           {
            "colorbar": {
             "outlinewidth": 0,
             "ticks": ""
            },
            "colorscale": [
             [
              0,
              "#0d0887"
             ],
             [
              0.1111111111111111,
              "#46039f"
             ],
             [
              0.2222222222222222,
              "#7201a8"
             ],
             [
              0.3333333333333333,
              "#9c179e"
             ],
             [
              0.4444444444444444,
              "#bd3786"
             ],
             [
              0.5555555555555556,
              "#d8576b"
             ],
             [
              0.6666666666666666,
              "#ed7953"
             ],
             [
              0.7777777777777778,
              "#fb9f3a"
             ],
             [
              0.8888888888888888,
              "#fdca26"
             ],
             [
              1,
              "#f0f921"
             ]
            ],
            "type": "histogram2d"
           }
          ],
          "histogram2dcontour": [
           {
            "colorbar": {
             "outlinewidth": 0,
             "ticks": ""
            },
            "colorscale": [
             [
              0,
              "#0d0887"
             ],
             [
              0.1111111111111111,
              "#46039f"
             ],
             [
              0.2222222222222222,
              "#7201a8"
             ],
             [
              0.3333333333333333,
              "#9c179e"
             ],
             [
              0.4444444444444444,
              "#bd3786"
             ],
             [
              0.5555555555555556,
              "#d8576b"
             ],
             [
              0.6666666666666666,
              "#ed7953"
             ],
             [
              0.7777777777777778,
              "#fb9f3a"
             ],
             [
              0.8888888888888888,
              "#fdca26"
             ],
             [
              1,
              "#f0f921"
             ]
            ],
            "type": "histogram2dcontour"
           }
          ],
          "mesh3d": [
           {
            "colorbar": {
             "outlinewidth": 0,
             "ticks": ""
            },
            "type": "mesh3d"
           }
          ],
          "parcoords": [
           {
            "line": {
             "colorbar": {
              "outlinewidth": 0,
              "ticks": ""
             }
            },
            "type": "parcoords"
           }
          ],
          "pie": [
           {
            "automargin": true,
            "type": "pie"
           }
          ],
          "scatter": [
           {
            "marker": {
             "line": {
              "color": "#283442"
             }
            },
            "type": "scatter"
           }
          ],
          "scatter3d": [
           {
            "line": {
             "colorbar": {
              "outlinewidth": 0,
              "ticks": ""
             }
            },
            "marker": {
             "colorbar": {
              "outlinewidth": 0,
              "ticks": ""
             }
            },
            "type": "scatter3d"
           }
          ],
          "scattercarpet": [
           {
            "marker": {
             "colorbar": {
              "outlinewidth": 0,
              "ticks": ""
             }
            },
            "type": "scattercarpet"
           }
          ],
          "scattergeo": [
           {
            "marker": {
             "colorbar": {
              "outlinewidth": 0,
              "ticks": ""
             }
            },
            "type": "scattergeo"
           }
          ],
          "scattergl": [
           {
            "marker": {
             "line": {
              "color": "#283442"
             }
            },
            "type": "scattergl"
           }
          ],
          "scattermapbox": [
           {
            "marker": {
             "colorbar": {
              "outlinewidth": 0,
              "ticks": ""
             }
            },
            "type": "scattermapbox"
           }
          ],
          "scatterpolar": [
           {
            "marker": {
             "colorbar": {
              "outlinewidth": 0,
              "ticks": ""
             }
            },
            "type": "scatterpolar"
           }
          ],
          "scatterpolargl": [
           {
            "marker": {
             "colorbar": {
              "outlinewidth": 0,
              "ticks": ""
             }
            },
            "type": "scatterpolargl"
           }
          ],
          "scatterternary": [
           {
            "marker": {
             "colorbar": {
              "outlinewidth": 0,
              "ticks": ""
             }
            },
            "type": "scatterternary"
           }
          ],
          "surface": [
           {
            "colorbar": {
             "outlinewidth": 0,
             "ticks": ""
            },
            "colorscale": [
             [
              0,
              "#0d0887"
             ],
             [
              0.1111111111111111,
              "#46039f"
             ],
             [
              0.2222222222222222,
              "#7201a8"
             ],
             [
              0.3333333333333333,
              "#9c179e"
             ],
             [
              0.4444444444444444,
              "#bd3786"
             ],
             [
              0.5555555555555556,
              "#d8576b"
             ],
             [
              0.6666666666666666,
              "#ed7953"
             ],
             [
              0.7777777777777778,
              "#fb9f3a"
             ],
             [
              0.8888888888888888,
              "#fdca26"
             ],
             [
              1,
              "#f0f921"
             ]
            ],
            "type": "surface"
           }
          ],
          "table": [
           {
            "cells": {
             "fill": {
              "color": "#506784"
             },
             "line": {
              "color": "rgb(17,17,17)"
             }
            },
            "header": {
             "fill": {
              "color": "#2a3f5f"
             },
             "line": {
              "color": "rgb(17,17,17)"
             }
            },
            "type": "table"
           }
          ]
         },
         "layout": {
          "annotationdefaults": {
           "arrowcolor": "#f2f5fa",
           "arrowhead": 0,
           "arrowwidth": 1
          },
          "autotypenumbers": "strict",
          "coloraxis": {
           "colorbar": {
            "outlinewidth": 0,
            "ticks": ""
           }
          },
          "colorscale": {
           "diverging": [
            [
             0,
             "#8e0152"
            ],
            [
             0.1,
             "#c51b7d"
            ],
            [
             0.2,
             "#de77ae"
            ],
            [
             0.3,
             "#f1b6da"
            ],
            [
             0.4,
             "#fde0ef"
            ],
            [
             0.5,
             "#f7f7f7"
            ],
            [
             0.6,
             "#e6f5d0"
            ],
            [
             0.7,
             "#b8e186"
            ],
            [
             0.8,
             "#7fbc41"
            ],
            [
             0.9,
             "#4d9221"
            ],
            [
             1,
             "#276419"
            ]
           ],
           "sequential": [
            [
             0,
             "#0d0887"
            ],
            [
             0.1111111111111111,
             "#46039f"
            ],
            [
             0.2222222222222222,
             "#7201a8"
            ],
            [
             0.3333333333333333,
             "#9c179e"
            ],
            [
             0.4444444444444444,
             "#bd3786"
            ],
            [
             0.5555555555555556,
             "#d8576b"
            ],
            [
             0.6666666666666666,
             "#ed7953"
            ],
            [
             0.7777777777777778,
             "#fb9f3a"
            ],
            [
             0.8888888888888888,
             "#fdca26"
            ],
            [
             1,
             "#f0f921"
            ]
           ],
           "sequentialminus": [
            [
             0,
             "#0d0887"
            ],
            [
             0.1111111111111111,
             "#46039f"
            ],
            [
             0.2222222222222222,
             "#7201a8"
            ],
            [
             0.3333333333333333,
             "#9c179e"
            ],
            [
             0.4444444444444444,
             "#bd3786"
            ],
            [
             0.5555555555555556,
             "#d8576b"
            ],
            [
             0.6666666666666666,
             "#ed7953"
            ],
            [
             0.7777777777777778,
             "#fb9f3a"
            ],
            [
             0.8888888888888888,
             "#fdca26"
            ],
            [
             1,
             "#f0f921"
            ]
           ]
          },
          "colorway": [
           "#636efa",
           "#EF553B",
           "#00cc96",
           "#ab63fa",
           "#FFA15A",
           "#19d3f3",
           "#FF6692",
           "#B6E880",
           "#FF97FF",
           "#FECB52"
          ],
          "font": {
           "color": "#f2f5fa"
          },
          "geo": {
           "bgcolor": "rgb(17,17,17)",
           "lakecolor": "rgb(17,17,17)",
           "landcolor": "rgb(17,17,17)",
           "showlakes": true,
           "showland": true,
           "subunitcolor": "#506784"
          },
          "hoverlabel": {
           "align": "left"
          },
          "hovermode": "closest",
          "mapbox": {
           "style": "dark"
          },
          "paper_bgcolor": "rgb(17,17,17)",
          "plot_bgcolor": "rgb(17,17,17)",
          "polar": {
           "angularaxis": {
            "gridcolor": "#506784",
            "linecolor": "#506784",
            "ticks": ""
           },
           "bgcolor": "rgb(17,17,17)",
           "radialaxis": {
            "gridcolor": "#506784",
            "linecolor": "#506784",
            "ticks": ""
           }
          },
          "scene": {
           "xaxis": {
            "backgroundcolor": "rgb(17,17,17)",
            "gridcolor": "#506784",
            "gridwidth": 2,
            "linecolor": "#506784",
            "showbackground": true,
            "ticks": "",
            "zerolinecolor": "#C8D4E3"
           },
           "yaxis": {
            "backgroundcolor": "rgb(17,17,17)",
            "gridcolor": "#506784",
            "gridwidth": 2,
            "linecolor": "#506784",
            "showbackground": true,
            "ticks": "",
            "zerolinecolor": "#C8D4E3"
           },
           "zaxis": {
            "backgroundcolor": "rgb(17,17,17)",
            "gridcolor": "#506784",
            "gridwidth": 2,
            "linecolor": "#506784",
            "showbackground": true,
            "ticks": "",
            "zerolinecolor": "#C8D4E3"
           }
          },
          "shapedefaults": {
           "line": {
            "color": "#f2f5fa"
           }
          },
          "sliderdefaults": {
           "bgcolor": "#C8D4E3",
           "bordercolor": "rgb(17,17,17)",
           "borderwidth": 1,
           "tickwidth": 0
          },
          "ternary": {
           "aaxis": {
            "gridcolor": "#506784",
            "linecolor": "#506784",
            "ticks": ""
           },
           "baxis": {
            "gridcolor": "#506784",
            "linecolor": "#506784",
            "ticks": ""
           },
           "bgcolor": "rgb(17,17,17)",
           "caxis": {
            "gridcolor": "#506784",
            "linecolor": "#506784",
            "ticks": ""
           }
          },
          "title": {
           "x": 0.05
          },
          "updatemenudefaults": {
           "bgcolor": "#506784",
           "borderwidth": 0
          },
          "xaxis": {
           "automargin": true,
           "gridcolor": "#283442",
           "linecolor": "#506784",
           "ticks": "",
           "title": {
            "standoff": 15
           },
           "zerolinecolor": "#283442",
           "zerolinewidth": 2
          },
          "yaxis": {
           "automargin": true,
           "gridcolor": "#283442",
           "linecolor": "#506784",
           "ticks": "",
           "title": {
            "standoff": 15
           },
           "zerolinecolor": "#283442",
           "zerolinewidth": 2
          }
         }
        },
        "title": {
         "text": "Historique mensuel des volumes BTC"
        },
        "xaxis": {
         "rangeslider": {
          "visible": false
         },
         "title": {
          "text": "Dates"
         }
        },
        "yaxis": {
         "dtick": 50,
         "tickmode": "linear",
         "title": {
          "text": "Volume (en milliers)"
         }
        }
       }
      }
     },
     "metadata": {},
     "output_type": "display_data"
    },
    {
     "data": {
      "application/vnd.plotly.v1+json": {
       "config": {
        "plotlyServerURL": "https://plot.ly"
       },
       "data": [
        {
         "marker": {
          "color": "rgb(0, 0, 255, 255)"
         },
         "name": "Volume",
         "type": "bar",
         "x": [
          "2023-11-20T00:00:00",
          "2023-11-27T00:00:00",
          "2023-12-04T00:00:00",
          "2023-12-11T00:00:00",
          "2023-12-18T00:00:00",
          "2023-12-25T00:00:00",
          "2024-01-01T00:00:00",
          "2024-01-08T00:00:00",
          "2024-01-15T00:00:00",
          "2024-01-22T00:00:00",
          "2024-01-29T00:00:00",
          "2024-02-05T00:00:00",
          "2024-02-12T00:00:00",
          "2024-02-19T00:00:00",
          "2024-02-26T00:00:00",
          "2024-03-04T00:00:00",
          "2024-03-11T00:00:00",
          "2024-03-18T00:00:00",
          "2024-03-25T00:00:00",
          "2024-04-01T00:00:00",
          "2024-04-08T00:00:00",
          "2024-04-15T00:00:00",
          "2024-04-22T00:00:00",
          "2024-04-29T00:00:00",
          "2024-05-06T00:00:00",
          "2024-05-13T00:00:00",
          "2024-05-20T00:00:00",
          "2024-05-27T00:00:00",
          "2024-06-03T00:00:00",
          "2024-06-10T00:00:00",
          "2024-06-17T00:00:00",
          "2024-06-24T00:00:00",
          "2024-07-01T00:00:00",
          "2024-07-08T00:00:00",
          "2024-07-15T00:00:00",
          "2024-07-22T00:00:00",
          "2024-07-29T00:00:00",
          "2024-08-05T00:00:00",
          "2024-08-12T00:00:00",
          "2024-08-19T00:00:00",
          "2024-08-26T00:00:00",
          "2024-09-02T00:00:00",
          "2024-09-09T00:00:00",
          "2024-09-16T00:00:00",
          "2024-09-23T00:00:00",
          "2024-09-30T00:00:00",
          "2024-10-07T00:00:00",
          "2024-10-14T00:00:00",
          "2024-10-21T00:00:00",
          "2024-10-28T00:00:00",
          "2024-11-04T00:00:00",
          "2024-11-11T00:00:00"
         ],
         "y": [
          23,
          22,
          33,
          29,
          25,
          23,
          31,
          47,
          24,
          27,
          20,
          26,
          31,
          22,
          42,
          48,
          48,
          41,
          24,
          27,
          35,
          31,
          18,
          30,
          18,
          20,
          22,
          16,
          17,
          17,
          16,
          18,
          25,
          19,
          21,
          18,
          22,
          37,
          18,
          17,
          18,
          20,
          18,
          18,
          13,
          17,
          14,
          19,
          16,
          21,
          33,
          39
         ]
        }
       ],
       "layout": {
        "template": {
         "data": {
          "bar": [
           {
            "error_x": {
             "color": "#f2f5fa"
            },
            "error_y": {
             "color": "#f2f5fa"
            },
            "marker": {
             "line": {
              "color": "rgb(17,17,17)",
              "width": 0.5
             },
             "pattern": {
              "fillmode": "overlay",
              "size": 10,
              "solidity": 0.2
             }
            },
            "type": "bar"
           }
          ],
          "barpolar": [
           {
            "marker": {
             "line": {
              "color": "rgb(17,17,17)",
              "width": 0.5
             },
             "pattern": {
              "fillmode": "overlay",
              "size": 10,
              "solidity": 0.2
             }
            },
            "type": "barpolar"
           }
          ],
          "carpet": [
           {
            "aaxis": {
             "endlinecolor": "#A2B1C6",
             "gridcolor": "#506784",
             "linecolor": "#506784",
             "minorgridcolor": "#506784",
             "startlinecolor": "#A2B1C6"
            },
            "baxis": {
             "endlinecolor": "#A2B1C6",
             "gridcolor": "#506784",
             "linecolor": "#506784",
             "minorgridcolor": "#506784",
             "startlinecolor": "#A2B1C6"
            },
            "type": "carpet"
           }
          ],
          "choropleth": [
           {
            "colorbar": {
             "outlinewidth": 0,
             "ticks": ""
            },
            "type": "choropleth"
           }
          ],
          "contour": [
           {
            "colorbar": {
             "outlinewidth": 0,
             "ticks": ""
            },
            "colorscale": [
             [
              0,
              "#0d0887"
             ],
             [
              0.1111111111111111,
              "#46039f"
             ],
             [
              0.2222222222222222,
              "#7201a8"
             ],
             [
              0.3333333333333333,
              "#9c179e"
             ],
             [
              0.4444444444444444,
              "#bd3786"
             ],
             [
              0.5555555555555556,
              "#d8576b"
             ],
             [
              0.6666666666666666,
              "#ed7953"
             ],
             [
              0.7777777777777778,
              "#fb9f3a"
             ],
             [
              0.8888888888888888,
              "#fdca26"
             ],
             [
              1,
              "#f0f921"
             ]
            ],
            "type": "contour"
           }
          ],
          "contourcarpet": [
           {
            "colorbar": {
             "outlinewidth": 0,
             "ticks": ""
            },
            "type": "contourcarpet"
           }
          ],
          "heatmap": [
           {
            "colorbar": {
             "outlinewidth": 0,
             "ticks": ""
            },
            "colorscale": [
             [
              0,
              "#0d0887"
             ],
             [
              0.1111111111111111,
              "#46039f"
             ],
             [
              0.2222222222222222,
              "#7201a8"
             ],
             [
              0.3333333333333333,
              "#9c179e"
             ],
             [
              0.4444444444444444,
              "#bd3786"
             ],
             [
              0.5555555555555556,
              "#d8576b"
             ],
             [
              0.6666666666666666,
              "#ed7953"
             ],
             [
              0.7777777777777778,
              "#fb9f3a"
             ],
             [
              0.8888888888888888,
              "#fdca26"
             ],
             [
              1,
              "#f0f921"
             ]
            ],
            "type": "heatmap"
           }
          ],
          "heatmapgl": [
           {
            "colorbar": {
             "outlinewidth": 0,
             "ticks": ""
            },
            "colorscale": [
             [
              0,
              "#0d0887"
             ],
             [
              0.1111111111111111,
              "#46039f"
             ],
             [
              0.2222222222222222,
              "#7201a8"
             ],
             [
              0.3333333333333333,
              "#9c179e"
             ],
             [
              0.4444444444444444,
              "#bd3786"
             ],
             [
              0.5555555555555556,
              "#d8576b"
             ],
             [
              0.6666666666666666,
              "#ed7953"
             ],
             [
              0.7777777777777778,
              "#fb9f3a"
             ],
             [
              0.8888888888888888,
              "#fdca26"
             ],
             [
              1,
              "#f0f921"
             ]
            ],
            "type": "heatmapgl"
           }
          ],
          "histogram": [
           {
            "marker": {
             "pattern": {
              "fillmode": "overlay",
              "size": 10,
              "solidity": 0.2
             }
            },
            "type": "histogram"
           }
          ],
          "histogram2d": [
           {
            "colorbar": {
             "outlinewidth": 0,
             "ticks": ""
            },
            "colorscale": [
             [
              0,
              "#0d0887"
             ],
             [
              0.1111111111111111,
              "#46039f"
             ],
             [
              0.2222222222222222,
              "#7201a8"
             ],
             [
              0.3333333333333333,
              "#9c179e"
             ],
             [
              0.4444444444444444,
              "#bd3786"
             ],
             [
              0.5555555555555556,
              "#d8576b"
             ],
             [
              0.6666666666666666,
              "#ed7953"
             ],
             [
              0.7777777777777778,
              "#fb9f3a"
             ],
             [
              0.8888888888888888,
              "#fdca26"
             ],
             [
              1,
              "#f0f921"
             ]
            ],
            "type": "histogram2d"
           }
          ],
          "histogram2dcontour": [
           {
            "colorbar": {
             "outlinewidth": 0,
             "ticks": ""
            },
            "colorscale": [
             [
              0,
              "#0d0887"
             ],
             [
              0.1111111111111111,
              "#46039f"
             ],
             [
              0.2222222222222222,
              "#7201a8"
             ],
             [
              0.3333333333333333,
              "#9c179e"
             ],
             [
              0.4444444444444444,
              "#bd3786"
             ],
             [
              0.5555555555555556,
              "#d8576b"
             ],
             [
              0.6666666666666666,
              "#ed7953"
             ],
             [
              0.7777777777777778,
              "#fb9f3a"
             ],
             [
              0.8888888888888888,
              "#fdca26"
             ],
             [
              1,
              "#f0f921"
             ]
            ],
            "type": "histogram2dcontour"
           }
          ],
          "mesh3d": [
           {
            "colorbar": {
             "outlinewidth": 0,
             "ticks": ""
            },
            "type": "mesh3d"
           }
          ],
          "parcoords": [
           {
            "line": {
             "colorbar": {
              "outlinewidth": 0,
              "ticks": ""
             }
            },
            "type": "parcoords"
           }
          ],
          "pie": [
           {
            "automargin": true,
            "type": "pie"
           }
          ],
          "scatter": [
           {
            "marker": {
             "line": {
              "color": "#283442"
             }
            },
            "type": "scatter"
           }
          ],
          "scatter3d": [
           {
            "line": {
             "colorbar": {
              "outlinewidth": 0,
              "ticks": ""
             }
            },
            "marker": {
             "colorbar": {
              "outlinewidth": 0,
              "ticks": ""
             }
            },
            "type": "scatter3d"
           }
          ],
          "scattercarpet": [
           {
            "marker": {
             "colorbar": {
              "outlinewidth": 0,
              "ticks": ""
             }
            },
            "type": "scattercarpet"
           }
          ],
          "scattergeo": [
           {
            "marker": {
             "colorbar": {
              "outlinewidth": 0,
              "ticks": ""
             }
            },
            "type": "scattergeo"
           }
          ],
          "scattergl": [
           {
            "marker": {
             "line": {
              "color": "#283442"
             }
            },
            "type": "scattergl"
           }
          ],
          "scattermapbox": [
           {
            "marker": {
             "colorbar": {
              "outlinewidth": 0,
              "ticks": ""
             }
            },
            "type": "scattermapbox"
           }
          ],
          "scatterpolar": [
           {
            "marker": {
             "colorbar": {
              "outlinewidth": 0,
              "ticks": ""
             }
            },
            "type": "scatterpolar"
           }
          ],
          "scatterpolargl": [
           {
            "marker": {
             "colorbar": {
              "outlinewidth": 0,
              "ticks": ""
             }
            },
            "type": "scatterpolargl"
           }
          ],
          "scatterternary": [
           {
            "marker": {
             "colorbar": {
              "outlinewidth": 0,
              "ticks": ""
             }
            },
            "type": "scatterternary"
           }
          ],
          "surface": [
           {
            "colorbar": {
             "outlinewidth": 0,
             "ticks": ""
            },
            "colorscale": [
             [
              0,
              "#0d0887"
             ],
             [
              0.1111111111111111,
              "#46039f"
             ],
             [
              0.2222222222222222,
              "#7201a8"
             ],
             [
              0.3333333333333333,
              "#9c179e"
             ],
             [
              0.4444444444444444,
              "#bd3786"
             ],
             [
              0.5555555555555556,
              "#d8576b"
             ],
             [
              0.6666666666666666,
              "#ed7953"
             ],
             [
              0.7777777777777778,
              "#fb9f3a"
             ],
             [
              0.8888888888888888,
              "#fdca26"
             ],
             [
              1,
              "#f0f921"
             ]
            ],
            "type": "surface"
           }
          ],
          "table": [
           {
            "cells": {
             "fill": {
              "color": "#506784"
             },
             "line": {
              "color": "rgb(17,17,17)"
             }
            },
            "header": {
             "fill": {
              "color": "#2a3f5f"
             },
             "line": {
              "color": "rgb(17,17,17)"
             }
            },
            "type": "table"
           }
          ]
         },
         "layout": {
          "annotationdefaults": {
           "arrowcolor": "#f2f5fa",
           "arrowhead": 0,
           "arrowwidth": 1
          },
          "autotypenumbers": "strict",
          "coloraxis": {
           "colorbar": {
            "outlinewidth": 0,
            "ticks": ""
           }
          },
          "colorscale": {
           "diverging": [
            [
             0,
             "#8e0152"
            ],
            [
             0.1,
             "#c51b7d"
            ],
            [
             0.2,
             "#de77ae"
            ],
            [
             0.3,
             "#f1b6da"
            ],
            [
             0.4,
             "#fde0ef"
            ],
            [
             0.5,
             "#f7f7f7"
            ],
            [
             0.6,
             "#e6f5d0"
            ],
            [
             0.7,
             "#b8e186"
            ],
            [
             0.8,
             "#7fbc41"
            ],
            [
             0.9,
             "#4d9221"
            ],
            [
             1,
             "#276419"
            ]
           ],
           "sequential": [
            [
             0,
             "#0d0887"
            ],
            [
             0.1111111111111111,
             "#46039f"
            ],
            [
             0.2222222222222222,
             "#7201a8"
            ],
            [
             0.3333333333333333,
             "#9c179e"
            ],
            [
             0.4444444444444444,
             "#bd3786"
            ],
            [
             0.5555555555555556,
             "#d8576b"
            ],
            [
             0.6666666666666666,
             "#ed7953"
            ],
            [
             0.7777777777777778,
             "#fb9f3a"
            ],
            [
             0.8888888888888888,
             "#fdca26"
            ],
            [
             1,
             "#f0f921"
            ]
           ],
           "sequentialminus": [
            [
             0,
             "#0d0887"
            ],
            [
             0.1111111111111111,
             "#46039f"
            ],
            [
             0.2222222222222222,
             "#7201a8"
            ],
            [
             0.3333333333333333,
             "#9c179e"
            ],
            [
             0.4444444444444444,
             "#bd3786"
            ],
            [
             0.5555555555555556,
             "#d8576b"
            ],
            [
             0.6666666666666666,
             "#ed7953"
            ],
            [
             0.7777777777777778,
             "#fb9f3a"
            ],
            [
             0.8888888888888888,
             "#fdca26"
            ],
            [
             1,
             "#f0f921"
            ]
           ]
          },
          "colorway": [
           "#636efa",
           "#EF553B",
           "#00cc96",
           "#ab63fa",
           "#FFA15A",
           "#19d3f3",
           "#FF6692",
           "#B6E880",
           "#FF97FF",
           "#FECB52"
          ],
          "font": {
           "color": "#f2f5fa"
          },
          "geo": {
           "bgcolor": "rgb(17,17,17)",
           "lakecolor": "rgb(17,17,17)",
           "landcolor": "rgb(17,17,17)",
           "showlakes": true,
           "showland": true,
           "subunitcolor": "#506784"
          },
          "hoverlabel": {
           "align": "left"
          },
          "hovermode": "closest",
          "mapbox": {
           "style": "dark"
          },
          "paper_bgcolor": "rgb(17,17,17)",
          "plot_bgcolor": "rgb(17,17,17)",
          "polar": {
           "angularaxis": {
            "gridcolor": "#506784",
            "linecolor": "#506784",
            "ticks": ""
           },
           "bgcolor": "rgb(17,17,17)",
           "radialaxis": {
            "gridcolor": "#506784",
            "linecolor": "#506784",
            "ticks": ""
           }
          },
          "scene": {
           "xaxis": {
            "backgroundcolor": "rgb(17,17,17)",
            "gridcolor": "#506784",
            "gridwidth": 2,
            "linecolor": "#506784",
            "showbackground": true,
            "ticks": "",
            "zerolinecolor": "#C8D4E3"
           },
           "yaxis": {
            "backgroundcolor": "rgb(17,17,17)",
            "gridcolor": "#506784",
            "gridwidth": 2,
            "linecolor": "#506784",
            "showbackground": true,
            "ticks": "",
            "zerolinecolor": "#C8D4E3"
           },
           "zaxis": {
            "backgroundcolor": "rgb(17,17,17)",
            "gridcolor": "#506784",
            "gridwidth": 2,
            "linecolor": "#506784",
            "showbackground": true,
            "ticks": "",
            "zerolinecolor": "#C8D4E3"
           }
          },
          "shapedefaults": {
           "line": {
            "color": "#f2f5fa"
           }
          },
          "sliderdefaults": {
           "bgcolor": "#C8D4E3",
           "bordercolor": "rgb(17,17,17)",
           "borderwidth": 1,
           "tickwidth": 0
          },
          "ternary": {
           "aaxis": {
            "gridcolor": "#506784",
            "linecolor": "#506784",
            "ticks": ""
           },
           "baxis": {
            "gridcolor": "#506784",
            "linecolor": "#506784",
            "ticks": ""
           },
           "bgcolor": "rgb(17,17,17)",
           "caxis": {
            "gridcolor": "#506784",
            "linecolor": "#506784",
            "ticks": ""
           }
          },
          "title": {
           "x": 0.05
          },
          "updatemenudefaults": {
           "bgcolor": "#506784",
           "borderwidth": 0
          },
          "xaxis": {
           "automargin": true,
           "gridcolor": "#283442",
           "linecolor": "#506784",
           "ticks": "",
           "title": {
            "standoff": 15
           },
           "zerolinecolor": "#283442",
           "zerolinewidth": 2
          },
          "yaxis": {
           "automargin": true,
           "gridcolor": "#283442",
           "linecolor": "#506784",
           "ticks": "",
           "title": {
            "standoff": 15
           },
           "zerolinecolor": "#283442",
           "zerolinewidth": 2
          }
         }
        },
        "title": {
         "text": "Historique hebdomadaire des volumes BTC"
        },
        "xaxis": {
         "rangeslider": {
          "visible": false
         },
         "title": {
          "text": "Dates"
         }
        },
        "yaxis": {
         "dtick": 10,
         "tickmode": "linear",
         "title": {
          "text": "Volume (en milliers)"
         }
        }
       }
      }
     },
     "metadata": {},
     "output_type": "display_data"
    },
    {
     "data": {
      "application/vnd.plotly.v1+json": {
       "config": {
        "plotlyServerURL": "https://plot.ly"
       },
       "data": [
        {
         "marker": {
          "color": "rgb(0, 0, 255, 255)"
         },
         "name": "Volume",
         "type": "bar",
         "x": [
          "2023-12-01T00:00:00",
          "2024-01-01T00:00:00",
          "2024-02-01T00:00:00",
          "2024-03-01T00:00:00",
          "2024-04-01T00:00:00",
          "2024-05-01T00:00:00",
          "2024-06-01T00:00:00",
          "2024-07-01T00:00:00",
          "2024-08-01T00:00:00",
          "2024-09-01T00:00:00",
          "2024-10-01T00:00:00",
          "2024-11-01T00:00:00"
         ],
         "y": [
          1187,
          1322,
          1213,
          1767,
          1289,
          1160,
          762,
          894,
          1253,
          793,
          887,
          953
         ]
        }
       ],
       "layout": {
        "template": {
         "data": {
          "bar": [
           {
            "error_x": {
             "color": "#f2f5fa"
            },
            "error_y": {
             "color": "#f2f5fa"
            },
            "marker": {
             "line": {
              "color": "rgb(17,17,17)",
              "width": 0.5
             },
             "pattern": {
              "fillmode": "overlay",
              "size": 10,
              "solidity": 0.2
             }
            },
            "type": "bar"
           }
          ],
          "barpolar": [
           {
            "marker": {
             "line": {
              "color": "rgb(17,17,17)",
              "width": 0.5
             },
             "pattern": {
              "fillmode": "overlay",
              "size": 10,
              "solidity": 0.2
             }
            },
            "type": "barpolar"
           }
          ],
          "carpet": [
           {
            "aaxis": {
             "endlinecolor": "#A2B1C6",
             "gridcolor": "#506784",
             "linecolor": "#506784",
             "minorgridcolor": "#506784",
             "startlinecolor": "#A2B1C6"
            },
            "baxis": {
             "endlinecolor": "#A2B1C6",
             "gridcolor": "#506784",
             "linecolor": "#506784",
             "minorgridcolor": "#506784",
             "startlinecolor": "#A2B1C6"
            },
            "type": "carpet"
           }
          ],
          "choropleth": [
           {
            "colorbar": {
             "outlinewidth": 0,
             "ticks": ""
            },
            "type": "choropleth"
           }
          ],
          "contour": [
           {
            "colorbar": {
             "outlinewidth": 0,
             "ticks": ""
            },
            "colorscale": [
             [
              0,
              "#0d0887"
             ],
             [
              0.1111111111111111,
              "#46039f"
             ],
             [
              0.2222222222222222,
              "#7201a8"
             ],
             [
              0.3333333333333333,
              "#9c179e"
             ],
             [
              0.4444444444444444,
              "#bd3786"
             ],
             [
              0.5555555555555556,
              "#d8576b"
             ],
             [
              0.6666666666666666,
              "#ed7953"
             ],
             [
              0.7777777777777778,
              "#fb9f3a"
             ],
             [
              0.8888888888888888,
              "#fdca26"
             ],
             [
              1,
              "#f0f921"
             ]
            ],
            "type": "contour"
           }
          ],
          "contourcarpet": [
           {
            "colorbar": {
             "outlinewidth": 0,
             "ticks": ""
            },
            "type": "contourcarpet"
           }
          ],
          "heatmap": [
           {
            "colorbar": {
             "outlinewidth": 0,
             "ticks": ""
            },
            "colorscale": [
             [
              0,
              "#0d0887"
             ],
             [
              0.1111111111111111,
              "#46039f"
             ],
             [
              0.2222222222222222,
              "#7201a8"
             ],
             [
              0.3333333333333333,
              "#9c179e"
             ],
             [
              0.4444444444444444,
              "#bd3786"
             ],
             [
              0.5555555555555556,
              "#d8576b"
             ],
             [
              0.6666666666666666,
              "#ed7953"
             ],
             [
              0.7777777777777778,
              "#fb9f3a"
             ],
             [
              0.8888888888888888,
              "#fdca26"
             ],
             [
              1,
              "#f0f921"
             ]
            ],
            "type": "heatmap"
           }
          ],
          "heatmapgl": [
           {
            "colorbar": {
             "outlinewidth": 0,
             "ticks": ""
            },
            "colorscale": [
             [
              0,
              "#0d0887"
             ],
             [
              0.1111111111111111,
              "#46039f"
             ],
             [
              0.2222222222222222,
              "#7201a8"
             ],
             [
              0.3333333333333333,
              "#9c179e"
             ],
             [
              0.4444444444444444,
              "#bd3786"
             ],
             [
              0.5555555555555556,
              "#d8576b"
             ],
             [
              0.6666666666666666,
              "#ed7953"
             ],
             [
              0.7777777777777778,
              "#fb9f3a"
             ],
             [
              0.8888888888888888,
              "#fdca26"
             ],
             [
              1,
              "#f0f921"
             ]
            ],
            "type": "heatmapgl"
           }
          ],
          "histogram": [
           {
            "marker": {
             "pattern": {
              "fillmode": "overlay",
              "size": 10,
              "solidity": 0.2
             }
            },
            "type": "histogram"
           }
          ],
          "histogram2d": [
           {
            "colorbar": {
             "outlinewidth": 0,
             "ticks": ""
            },
            "colorscale": [
             [
              0,
              "#0d0887"
             ],
             [
              0.1111111111111111,
              "#46039f"
             ],
             [
              0.2222222222222222,
              "#7201a8"
             ],
             [
              0.3333333333333333,
              "#9c179e"
             ],
             [
              0.4444444444444444,
              "#bd3786"
             ],
             [
              0.5555555555555556,
              "#d8576b"
             ],
             [
              0.6666666666666666,
              "#ed7953"
             ],
             [
              0.7777777777777778,
              "#fb9f3a"
             ],
             [
              0.8888888888888888,
              "#fdca26"
             ],
             [
              1,
              "#f0f921"
             ]
            ],
            "type": "histogram2d"
           }
          ],
          "histogram2dcontour": [
           {
            "colorbar": {
             "outlinewidth": 0,
             "ticks": ""
            },
            "colorscale": [
             [
              0,
              "#0d0887"
             ],
             [
              0.1111111111111111,
              "#46039f"
             ],
             [
              0.2222222222222222,
              "#7201a8"
             ],
             [
              0.3333333333333333,
              "#9c179e"
             ],
             [
              0.4444444444444444,
              "#bd3786"
             ],
             [
              0.5555555555555556,
              "#d8576b"
             ],
             [
              0.6666666666666666,
              "#ed7953"
             ],
             [
              0.7777777777777778,
              "#fb9f3a"
             ],
             [
              0.8888888888888888,
              "#fdca26"
             ],
             [
              1,
              "#f0f921"
             ]
            ],
            "type": "histogram2dcontour"
           }
          ],
          "mesh3d": [
           {
            "colorbar": {
             "outlinewidth": 0,
             "ticks": ""
            },
            "type": "mesh3d"
           }
          ],
          "parcoords": [
           {
            "line": {
             "colorbar": {
              "outlinewidth": 0,
              "ticks": ""
             }
            },
            "type": "parcoords"
           }
          ],
          "pie": [
           {
            "automargin": true,
            "type": "pie"
           }
          ],
          "scatter": [
           {
            "marker": {
             "line": {
              "color": "#283442"
             }
            },
            "type": "scatter"
           }
          ],
          "scatter3d": [
           {
            "line": {
             "colorbar": {
              "outlinewidth": 0,
              "ticks": ""
             }
            },
            "marker": {
             "colorbar": {
              "outlinewidth": 0,
              "ticks": ""
             }
            },
            "type": "scatter3d"
           }
          ],
          "scattercarpet": [
           {
            "marker": {
             "colorbar": {
              "outlinewidth": 0,
              "ticks": ""
             }
            },
            "type": "scattercarpet"
           }
          ],
          "scattergeo": [
           {
            "marker": {
             "colorbar": {
              "outlinewidth": 0,
              "ticks": ""
             }
            },
            "type": "scattergeo"
           }
          ],
          "scattergl": [
           {
            "marker": {
             "line": {
              "color": "#283442"
             }
            },
            "type": "scattergl"
           }
          ],
          "scattermapbox": [
           {
            "marker": {
             "colorbar": {
              "outlinewidth": 0,
              "ticks": ""
             }
            },
            "type": "scattermapbox"
           }
          ],
          "scatterpolar": [
           {
            "marker": {
             "colorbar": {
              "outlinewidth": 0,
              "ticks": ""
             }
            },
            "type": "scatterpolar"
           }
          ],
          "scatterpolargl": [
           {
            "marker": {
             "colorbar": {
              "outlinewidth": 0,
              "ticks": ""
             }
            },
            "type": "scatterpolargl"
           }
          ],
          "scatterternary": [
           {
            "marker": {
             "colorbar": {
              "outlinewidth": 0,
              "ticks": ""
             }
            },
            "type": "scatterternary"
           }
          ],
          "surface": [
           {
            "colorbar": {
             "outlinewidth": 0,
             "ticks": ""
            },
            "colorscale": [
             [
              0,
              "#0d0887"
             ],
             [
              0.1111111111111111,
              "#46039f"
             ],
             [
              0.2222222222222222,
              "#7201a8"
             ],
             [
              0.3333333333333333,
              "#9c179e"
             ],
             [
              0.4444444444444444,
              "#bd3786"
             ],
             [
              0.5555555555555556,
              "#d8576b"
             ],
             [
              0.6666666666666666,
              "#ed7953"
             ],
             [
              0.7777777777777778,
              "#fb9f3a"
             ],
             [
              0.8888888888888888,
              "#fdca26"
             ],
             [
              1,
              "#f0f921"
             ]
            ],
            "type": "surface"
           }
          ],
          "table": [
           {
            "cells": {
             "fill": {
              "color": "#506784"
             },
             "line": {
              "color": "rgb(17,17,17)"
             }
            },
            "header": {
             "fill": {
              "color": "#2a3f5f"
             },
             "line": {
              "color": "rgb(17,17,17)"
             }
            },
            "type": "table"
           }
          ]
         },
         "layout": {
          "annotationdefaults": {
           "arrowcolor": "#f2f5fa",
           "arrowhead": 0,
           "arrowwidth": 1
          },
          "autotypenumbers": "strict",
          "coloraxis": {
           "colorbar": {
            "outlinewidth": 0,
            "ticks": ""
           }
          },
          "colorscale": {
           "diverging": [
            [
             0,
             "#8e0152"
            ],
            [
             0.1,
             "#c51b7d"
            ],
            [
             0.2,
             "#de77ae"
            ],
            [
             0.3,
             "#f1b6da"
            ],
            [
             0.4,
             "#fde0ef"
            ],
            [
             0.5,
             "#f7f7f7"
            ],
            [
             0.6,
             "#e6f5d0"
            ],
            [
             0.7,
             "#b8e186"
            ],
            [
             0.8,
             "#7fbc41"
            ],
            [
             0.9,
             "#4d9221"
            ],
            [
             1,
             "#276419"
            ]
           ],
           "sequential": [
            [
             0,
             "#0d0887"
            ],
            [
             0.1111111111111111,
             "#46039f"
            ],
            [
             0.2222222222222222,
             "#7201a8"
            ],
            [
             0.3333333333333333,
             "#9c179e"
            ],
            [
             0.4444444444444444,
             "#bd3786"
            ],
            [
             0.5555555555555556,
             "#d8576b"
            ],
            [
             0.6666666666666666,
             "#ed7953"
            ],
            [
             0.7777777777777778,
             "#fb9f3a"
            ],
            [
             0.8888888888888888,
             "#fdca26"
            ],
            [
             1,
             "#f0f921"
            ]
           ],
           "sequentialminus": [
            [
             0,
             "#0d0887"
            ],
            [
             0.1111111111111111,
             "#46039f"
            ],
            [
             0.2222222222222222,
             "#7201a8"
            ],
            [
             0.3333333333333333,
             "#9c179e"
            ],
            [
             0.4444444444444444,
             "#bd3786"
            ],
            [
             0.5555555555555556,
             "#d8576b"
            ],
            [
             0.6666666666666666,
             "#ed7953"
            ],
            [
             0.7777777777777778,
             "#fb9f3a"
            ],
            [
             0.8888888888888888,
             "#fdca26"
            ],
            [
             1,
             "#f0f921"
            ]
           ]
          },
          "colorway": [
           "#636efa",
           "#EF553B",
           "#00cc96",
           "#ab63fa",
           "#FFA15A",
           "#19d3f3",
           "#FF6692",
           "#B6E880",
           "#FF97FF",
           "#FECB52"
          ],
          "font": {
           "color": "#f2f5fa"
          },
          "geo": {
           "bgcolor": "rgb(17,17,17)",
           "lakecolor": "rgb(17,17,17)",
           "landcolor": "rgb(17,17,17)",
           "showlakes": true,
           "showland": true,
           "subunitcolor": "#506784"
          },
          "hoverlabel": {
           "align": "left"
          },
          "hovermode": "closest",
          "mapbox": {
           "style": "dark"
          },
          "paper_bgcolor": "rgb(17,17,17)",
          "plot_bgcolor": "rgb(17,17,17)",
          "polar": {
           "angularaxis": {
            "gridcolor": "#506784",
            "linecolor": "#506784",
            "ticks": ""
           },
           "bgcolor": "rgb(17,17,17)",
           "radialaxis": {
            "gridcolor": "#506784",
            "linecolor": "#506784",
            "ticks": ""
           }
          },
          "scene": {
           "xaxis": {
            "backgroundcolor": "rgb(17,17,17)",
            "gridcolor": "#506784",
            "gridwidth": 2,
            "linecolor": "#506784",
            "showbackground": true,
            "ticks": "",
            "zerolinecolor": "#C8D4E3"
           },
           "yaxis": {
            "backgroundcolor": "rgb(17,17,17)",
            "gridcolor": "#506784",
            "gridwidth": 2,
            "linecolor": "#506784",
            "showbackground": true,
            "ticks": "",
            "zerolinecolor": "#C8D4E3"
           },
           "zaxis": {
            "backgroundcolor": "rgb(17,17,17)",
            "gridcolor": "#506784",
            "gridwidth": 2,
            "linecolor": "#506784",
            "showbackground": true,
            "ticks": "",
            "zerolinecolor": "#C8D4E3"
           }
          },
          "shapedefaults": {
           "line": {
            "color": "#f2f5fa"
           }
          },
          "sliderdefaults": {
           "bgcolor": "#C8D4E3",
           "bordercolor": "rgb(17,17,17)",
           "borderwidth": 1,
           "tickwidth": 0
          },
          "ternary": {
           "aaxis": {
            "gridcolor": "#506784",
            "linecolor": "#506784",
            "ticks": ""
           },
           "baxis": {
            "gridcolor": "#506784",
            "linecolor": "#506784",
            "ticks": ""
           },
           "bgcolor": "rgb(17,17,17)",
           "caxis": {
            "gridcolor": "#506784",
            "linecolor": "#506784",
            "ticks": ""
           }
          },
          "title": {
           "x": 0.05
          },
          "updatemenudefaults": {
           "bgcolor": "#506784",
           "borderwidth": 0
          },
          "xaxis": {
           "automargin": true,
           "gridcolor": "#283442",
           "linecolor": "#506784",
           "ticks": "",
           "title": {
            "standoff": 15
           },
           "zerolinecolor": "#283442",
           "zerolinewidth": 2
          },
          "yaxis": {
           "automargin": true,
           "gridcolor": "#283442",
           "linecolor": "#506784",
           "ticks": "",
           "title": {
            "standoff": 15
           },
           "zerolinecolor": "#283442",
           "zerolinewidth": 2
          }
         }
        },
        "title": {
         "text": "Historique mensuel des volumes ETH"
        },
        "xaxis": {
         "rangeslider": {
          "visible": false
         },
         "title": {
          "text": "Dates"
         }
        },
        "yaxis": {
         "dtick": 250,
         "tickmode": "linear",
         "title": {
          "text": "Volume (en milliers)"
         }
        }
       }
      }
     },
     "metadata": {},
     "output_type": "display_data"
    },
    {
     "data": {
      "application/vnd.plotly.v1+json": {
       "config": {
        "plotlyServerURL": "https://plot.ly"
       },
       "data": [
        {
         "marker": {
          "color": "rgb(0, 0, 255, 255)"
         },
         "name": "Volume",
         "type": "bar",
         "x": [
          "2023-11-20T00:00:00",
          "2023-11-27T00:00:00",
          "2023-12-04T00:00:00",
          "2023-12-11T00:00:00",
          "2023-12-18T00:00:00",
          "2023-12-25T00:00:00",
          "2024-01-01T00:00:00",
          "2024-01-08T00:00:00",
          "2024-01-15T00:00:00",
          "2024-01-22T00:00:00",
          "2024-01-29T00:00:00",
          "2024-02-05T00:00:00",
          "2024-02-12T00:00:00",
          "2024-02-19T00:00:00",
          "2024-02-26T00:00:00",
          "2024-03-04T00:00:00",
          "2024-03-11T00:00:00",
          "2024-03-18T00:00:00",
          "2024-03-25T00:00:00",
          "2024-04-01T00:00:00",
          "2024-04-08T00:00:00",
          "2024-04-15T00:00:00",
          "2024-04-22T00:00:00",
          "2024-04-29T00:00:00",
          "2024-05-06T00:00:00",
          "2024-05-13T00:00:00",
          "2024-05-20T00:00:00",
          "2024-05-27T00:00:00",
          "2024-06-03T00:00:00",
          "2024-06-10T00:00:00",
          "2024-06-17T00:00:00",
          "2024-06-24T00:00:00",
          "2024-07-01T00:00:00",
          "2024-07-08T00:00:00",
          "2024-07-15T00:00:00",
          "2024-07-22T00:00:00",
          "2024-07-29T00:00:00",
          "2024-08-05T00:00:00",
          "2024-08-12T00:00:00",
          "2024-08-19T00:00:00",
          "2024-08-26T00:00:00",
          "2024-09-02T00:00:00",
          "2024-09-09T00:00:00",
          "2024-09-16T00:00:00",
          "2024-09-23T00:00:00",
          "2024-09-30T00:00:00",
          "2024-10-07T00:00:00",
          "2024-10-14T00:00:00",
          "2024-10-21T00:00:00",
          "2024-10-28T00:00:00",
          "2024-11-04T00:00:00",
          "2024-11-11T00:00:00"
         ],
         "y": [
          244,
          206,
          286,
          259,
          277,
          270,
          273,
          458,
          220,
          263,
          193,
          218,
          288,
          333,
          392,
          488,
          450,
          457,
          268,
          254,
          411,
          308,
          217,
          275,
          173,
          201,
          443,
          201,
          160,
          200,
          203,
          164,
          240,
          181,
          190,
          207,
          232,
          540,
          204,
          177,
          197,
          221,
          158,
          193,
          170,
          187,
          150,
          199,
          212,
          253,
          433,
          434
         ]
        }
       ],
       "layout": {
        "template": {
         "data": {
          "bar": [
           {
            "error_x": {
             "color": "#f2f5fa"
            },
            "error_y": {
             "color": "#f2f5fa"
            },
            "marker": {
             "line": {
              "color": "rgb(17,17,17)",
              "width": 0.5
             },
             "pattern": {
              "fillmode": "overlay",
              "size": 10,
              "solidity": 0.2
             }
            },
            "type": "bar"
           }
          ],
          "barpolar": [
           {
            "marker": {
             "line": {
              "color": "rgb(17,17,17)",
              "width": 0.5
             },
             "pattern": {
              "fillmode": "overlay",
              "size": 10,
              "solidity": 0.2
             }
            },
            "type": "barpolar"
           }
          ],
          "carpet": [
           {
            "aaxis": {
             "endlinecolor": "#A2B1C6",
             "gridcolor": "#506784",
             "linecolor": "#506784",
             "minorgridcolor": "#506784",
             "startlinecolor": "#A2B1C6"
            },
            "baxis": {
             "endlinecolor": "#A2B1C6",
             "gridcolor": "#506784",
             "linecolor": "#506784",
             "minorgridcolor": "#506784",
             "startlinecolor": "#A2B1C6"
            },
            "type": "carpet"
           }
          ],
          "choropleth": [
           {
            "colorbar": {
             "outlinewidth": 0,
             "ticks": ""
            },
            "type": "choropleth"
           }
          ],
          "contour": [
           {
            "colorbar": {
             "outlinewidth": 0,
             "ticks": ""
            },
            "colorscale": [
             [
              0,
              "#0d0887"
             ],
             [
              0.1111111111111111,
              "#46039f"
             ],
             [
              0.2222222222222222,
              "#7201a8"
             ],
             [
              0.3333333333333333,
              "#9c179e"
             ],
             [
              0.4444444444444444,
              "#bd3786"
             ],
             [
              0.5555555555555556,
              "#d8576b"
             ],
             [
              0.6666666666666666,
              "#ed7953"
             ],
             [
              0.7777777777777778,
              "#fb9f3a"
             ],
             [
              0.8888888888888888,
              "#fdca26"
             ],
             [
              1,
              "#f0f921"
             ]
            ],
            "type": "contour"
           }
          ],
          "contourcarpet": [
           {
            "colorbar": {
             "outlinewidth": 0,
             "ticks": ""
            },
            "type": "contourcarpet"
           }
          ],
          "heatmap": [
           {
            "colorbar": {
             "outlinewidth": 0,
             "ticks": ""
            },
            "colorscale": [
             [
              0,
              "#0d0887"
             ],
             [
              0.1111111111111111,
              "#46039f"
             ],
             [
              0.2222222222222222,
              "#7201a8"
             ],
             [
              0.3333333333333333,
              "#9c179e"
             ],
             [
              0.4444444444444444,
              "#bd3786"
             ],
             [
              0.5555555555555556,
              "#d8576b"
             ],
             [
              0.6666666666666666,
              "#ed7953"
             ],
             [
              0.7777777777777778,
              "#fb9f3a"
             ],
             [
              0.8888888888888888,
              "#fdca26"
             ],
             [
              1,
              "#f0f921"
             ]
            ],
            "type": "heatmap"
           }
          ],
          "heatmapgl": [
           {
            "colorbar": {
             "outlinewidth": 0,
             "ticks": ""
            },
            "colorscale": [
             [
              0,
              "#0d0887"
             ],
             [
              0.1111111111111111,
              "#46039f"
             ],
             [
              0.2222222222222222,
              "#7201a8"
             ],
             [
              0.3333333333333333,
              "#9c179e"
             ],
             [
              0.4444444444444444,
              "#bd3786"
             ],
             [
              0.5555555555555556,
              "#d8576b"
             ],
             [
              0.6666666666666666,
              "#ed7953"
             ],
             [
              0.7777777777777778,
              "#fb9f3a"
             ],
             [
              0.8888888888888888,
              "#fdca26"
             ],
             [
              1,
              "#f0f921"
             ]
            ],
            "type": "heatmapgl"
           }
          ],
          "histogram": [
           {
            "marker": {
             "pattern": {
              "fillmode": "overlay",
              "size": 10,
              "solidity": 0.2
             }
            },
            "type": "histogram"
           }
          ],
          "histogram2d": [
           {
            "colorbar": {
             "outlinewidth": 0,
             "ticks": ""
            },
            "colorscale": [
             [
              0,
              "#0d0887"
             ],
             [
              0.1111111111111111,
              "#46039f"
             ],
             [
              0.2222222222222222,
              "#7201a8"
             ],
             [
              0.3333333333333333,
              "#9c179e"
             ],
             [
              0.4444444444444444,
              "#bd3786"
             ],
             [
              0.5555555555555556,
              "#d8576b"
             ],
             [
              0.6666666666666666,
              "#ed7953"
             ],
             [
              0.7777777777777778,
              "#fb9f3a"
             ],
             [
              0.8888888888888888,
              "#fdca26"
             ],
             [
              1,
              "#f0f921"
             ]
            ],
            "type": "histogram2d"
           }
          ],
          "histogram2dcontour": [
           {
            "colorbar": {
             "outlinewidth": 0,
             "ticks": ""
            },
            "colorscale": [
             [
              0,
              "#0d0887"
             ],
             [
              0.1111111111111111,
              "#46039f"
             ],
             [
              0.2222222222222222,
              "#7201a8"
             ],
             [
              0.3333333333333333,
              "#9c179e"
             ],
             [
              0.4444444444444444,
              "#bd3786"
             ],
             [
              0.5555555555555556,
              "#d8576b"
             ],
             [
              0.6666666666666666,
              "#ed7953"
             ],
             [
              0.7777777777777778,
              "#fb9f3a"
             ],
             [
              0.8888888888888888,
              "#fdca26"
             ],
             [
              1,
              "#f0f921"
             ]
            ],
            "type": "histogram2dcontour"
           }
          ],
          "mesh3d": [
           {
            "colorbar": {
             "outlinewidth": 0,
             "ticks": ""
            },
            "type": "mesh3d"
           }
          ],
          "parcoords": [
           {
            "line": {
             "colorbar": {
              "outlinewidth": 0,
              "ticks": ""
             }
            },
            "type": "parcoords"
           }
          ],
          "pie": [
           {
            "automargin": true,
            "type": "pie"
           }
          ],
          "scatter": [
           {
            "marker": {
             "line": {
              "color": "#283442"
             }
            },
            "type": "scatter"
           }
          ],
          "scatter3d": [
           {
            "line": {
             "colorbar": {
              "outlinewidth": 0,
              "ticks": ""
             }
            },
            "marker": {
             "colorbar": {
              "outlinewidth": 0,
              "ticks": ""
             }
            },
            "type": "scatter3d"
           }
          ],
          "scattercarpet": [
           {
            "marker": {
             "colorbar": {
              "outlinewidth": 0,
              "ticks": ""
             }
            },
            "type": "scattercarpet"
           }
          ],
          "scattergeo": [
           {
            "marker": {
             "colorbar": {
              "outlinewidth": 0,
              "ticks": ""
             }
            },
            "type": "scattergeo"
           }
          ],
          "scattergl": [
           {
            "marker": {
             "line": {
              "color": "#283442"
             }
            },
            "type": "scattergl"
           }
          ],
          "scattermapbox": [
           {
            "marker": {
             "colorbar": {
              "outlinewidth": 0,
              "ticks": ""
             }
            },
            "type": "scattermapbox"
           }
          ],
          "scatterpolar": [
           {
            "marker": {
             "colorbar": {
              "outlinewidth": 0,
              "ticks": ""
             }
            },
            "type": "scatterpolar"
           }
          ],
          "scatterpolargl": [
           {
            "marker": {
             "colorbar": {
              "outlinewidth": 0,
              "ticks": ""
             }
            },
            "type": "scatterpolargl"
           }
          ],
          "scatterternary": [
           {
            "marker": {
             "colorbar": {
              "outlinewidth": 0,
              "ticks": ""
             }
            },
            "type": "scatterternary"
           }
          ],
          "surface": [
           {
            "colorbar": {
             "outlinewidth": 0,
             "ticks": ""
            },
            "colorscale": [
             [
              0,
              "#0d0887"
             ],
             [
              0.1111111111111111,
              "#46039f"
             ],
             [
              0.2222222222222222,
              "#7201a8"
             ],
             [
              0.3333333333333333,
              "#9c179e"
             ],
             [
              0.4444444444444444,
              "#bd3786"
             ],
             [
              0.5555555555555556,
              "#d8576b"
             ],
             [
              0.6666666666666666,
              "#ed7953"
             ],
             [
              0.7777777777777778,
              "#fb9f3a"
             ],
             [
              0.8888888888888888,
              "#fdca26"
             ],
             [
              1,
              "#f0f921"
             ]
            ],
            "type": "surface"
           }
          ],
          "table": [
           {
            "cells": {
             "fill": {
              "color": "#506784"
             },
             "line": {
              "color": "rgb(17,17,17)"
             }
            },
            "header": {
             "fill": {
              "color": "#2a3f5f"
             },
             "line": {
              "color": "rgb(17,17,17)"
             }
            },
            "type": "table"
           }
          ]
         },
         "layout": {
          "annotationdefaults": {
           "arrowcolor": "#f2f5fa",
           "arrowhead": 0,
           "arrowwidth": 1
          },
          "autotypenumbers": "strict",
          "coloraxis": {
           "colorbar": {
            "outlinewidth": 0,
            "ticks": ""
           }
          },
          "colorscale": {
           "diverging": [
            [
             0,
             "#8e0152"
            ],
            [
             0.1,
             "#c51b7d"
            ],
            [
             0.2,
             "#de77ae"
            ],
            [
             0.3,
             "#f1b6da"
            ],
            [
             0.4,
             "#fde0ef"
            ],
            [
             0.5,
             "#f7f7f7"
            ],
            [
             0.6,
             "#e6f5d0"
            ],
            [
             0.7,
             "#b8e186"
            ],
            [
             0.8,
             "#7fbc41"
            ],
            [
             0.9,
             "#4d9221"
            ],
            [
             1,
             "#276419"
            ]
           ],
           "sequential": [
            [
             0,
             "#0d0887"
            ],
            [
             0.1111111111111111,
             "#46039f"
            ],
            [
             0.2222222222222222,
             "#7201a8"
            ],
            [
             0.3333333333333333,
             "#9c179e"
            ],
            [
             0.4444444444444444,
             "#bd3786"
            ],
            [
             0.5555555555555556,
             "#d8576b"
            ],
            [
             0.6666666666666666,
             "#ed7953"
            ],
            [
             0.7777777777777778,
             "#fb9f3a"
            ],
            [
             0.8888888888888888,
             "#fdca26"
            ],
            [
             1,
             "#f0f921"
            ]
           ],
           "sequentialminus": [
            [
             0,
             "#0d0887"
            ],
            [
             0.1111111111111111,
             "#46039f"
            ],
            [
             0.2222222222222222,
             "#7201a8"
            ],
            [
             0.3333333333333333,
             "#9c179e"
            ],
            [
             0.4444444444444444,
             "#bd3786"
            ],
            [
             0.5555555555555556,
             "#d8576b"
            ],
            [
             0.6666666666666666,
             "#ed7953"
            ],
            [
             0.7777777777777778,
             "#fb9f3a"
            ],
            [
             0.8888888888888888,
             "#fdca26"
            ],
            [
             1,
             "#f0f921"
            ]
           ]
          },
          "colorway": [
           "#636efa",
           "#EF553B",
           "#00cc96",
           "#ab63fa",
           "#FFA15A",
           "#19d3f3",
           "#FF6692",
           "#B6E880",
           "#FF97FF",
           "#FECB52"
          ],
          "font": {
           "color": "#f2f5fa"
          },
          "geo": {
           "bgcolor": "rgb(17,17,17)",
           "lakecolor": "rgb(17,17,17)",
           "landcolor": "rgb(17,17,17)",
           "showlakes": true,
           "showland": true,
           "subunitcolor": "#506784"
          },
          "hoverlabel": {
           "align": "left"
          },
          "hovermode": "closest",
          "mapbox": {
           "style": "dark"
          },
          "paper_bgcolor": "rgb(17,17,17)",
          "plot_bgcolor": "rgb(17,17,17)",
          "polar": {
           "angularaxis": {
            "gridcolor": "#506784",
            "linecolor": "#506784",
            "ticks": ""
           },
           "bgcolor": "rgb(17,17,17)",
           "radialaxis": {
            "gridcolor": "#506784",
            "linecolor": "#506784",
            "ticks": ""
           }
          },
          "scene": {
           "xaxis": {
            "backgroundcolor": "rgb(17,17,17)",
            "gridcolor": "#506784",
            "gridwidth": 2,
            "linecolor": "#506784",
            "showbackground": true,
            "ticks": "",
            "zerolinecolor": "#C8D4E3"
           },
           "yaxis": {
            "backgroundcolor": "rgb(17,17,17)",
            "gridcolor": "#506784",
            "gridwidth": 2,
            "linecolor": "#506784",
            "showbackground": true,
            "ticks": "",
            "zerolinecolor": "#C8D4E3"
           },
           "zaxis": {
            "backgroundcolor": "rgb(17,17,17)",
            "gridcolor": "#506784",
            "gridwidth": 2,
            "linecolor": "#506784",
            "showbackground": true,
            "ticks": "",
            "zerolinecolor": "#C8D4E3"
           }
          },
          "shapedefaults": {
           "line": {
            "color": "#f2f5fa"
           }
          },
          "sliderdefaults": {
           "bgcolor": "#C8D4E3",
           "bordercolor": "rgb(17,17,17)",
           "borderwidth": 1,
           "tickwidth": 0
          },
          "ternary": {
           "aaxis": {
            "gridcolor": "#506784",
            "linecolor": "#506784",
            "ticks": ""
           },
           "baxis": {
            "gridcolor": "#506784",
            "linecolor": "#506784",
            "ticks": ""
           },
           "bgcolor": "rgb(17,17,17)",
           "caxis": {
            "gridcolor": "#506784",
            "linecolor": "#506784",
            "ticks": ""
           }
          },
          "title": {
           "x": 0.05
          },
          "updatemenudefaults": {
           "bgcolor": "#506784",
           "borderwidth": 0
          },
          "xaxis": {
           "automargin": true,
           "gridcolor": "#283442",
           "linecolor": "#506784",
           "ticks": "",
           "title": {
            "standoff": 15
           },
           "zerolinecolor": "#283442",
           "zerolinewidth": 2
          },
          "yaxis": {
           "automargin": true,
           "gridcolor": "#283442",
           "linecolor": "#506784",
           "ticks": "",
           "title": {
            "standoff": 15
           },
           "zerolinecolor": "#283442",
           "zerolinewidth": 2
          }
         }
        },
        "title": {
         "text": "Historique hebdomadaire des volumes ETH"
        },
        "xaxis": {
         "rangeslider": {
          "visible": false
         },
         "title": {
          "text": "Dates"
         }
        },
        "yaxis": {
         "dtick": 100,
         "tickmode": "linear",
         "title": {
          "text": "Volume (en milliers)"
         }
        }
       }
      }
     },
     "metadata": {},
     "output_type": "display_data"
    },
    {
     "data": {
      "application/vnd.plotly.v1+json": {
       "config": {
        "plotlyServerURL": "https://plot.ly"
       },
       "data": [
        {
         "marker": {
          "color": "rgb(0, 0, 255, 255)"
         },
         "name": "Volume",
         "type": "bar",
         "x": [
          "2023-12-01T00:00:00",
          "2024-01-01T00:00:00",
          "2024-02-01T00:00:00",
          "2024-03-01T00:00:00",
          "2024-04-01T00:00:00",
          "2024-05-01T00:00:00",
          "2024-06-01T00:00:00",
          "2024-07-01T00:00:00",
          "2024-08-01T00:00:00",
          "2024-09-01T00:00:00",
          "2024-10-01T00:00:00",
          "2024-11-01T00:00:00"
         ],
         "y": [
          3156,
          2612,
          2141,
          4156,
          1888,
          1011,
          960,
          804,
          1000,
          734,
          649,
          915
         ]
        }
       ],
       "layout": {
        "template": {
         "data": {
          "bar": [
           {
            "error_x": {
             "color": "#f2f5fa"
            },
            "error_y": {
             "color": "#f2f5fa"
            },
            "marker": {
             "line": {
              "color": "rgb(17,17,17)",
              "width": 0.5
             },
             "pattern": {
              "fillmode": "overlay",
              "size": 10,
              "solidity": 0.2
             }
            },
            "type": "bar"
           }
          ],
          "barpolar": [
           {
            "marker": {
             "line": {
              "color": "rgb(17,17,17)",
              "width": 0.5
             },
             "pattern": {
              "fillmode": "overlay",
              "size": 10,
              "solidity": 0.2
             }
            },
            "type": "barpolar"
           }
          ],
          "carpet": [
           {
            "aaxis": {
             "endlinecolor": "#A2B1C6",
             "gridcolor": "#506784",
             "linecolor": "#506784",
             "minorgridcolor": "#506784",
             "startlinecolor": "#A2B1C6"
            },
            "baxis": {
             "endlinecolor": "#A2B1C6",
             "gridcolor": "#506784",
             "linecolor": "#506784",
             "minorgridcolor": "#506784",
             "startlinecolor": "#A2B1C6"
            },
            "type": "carpet"
           }
          ],
          "choropleth": [
           {
            "colorbar": {
             "outlinewidth": 0,
             "ticks": ""
            },
            "type": "choropleth"
           }
          ],
          "contour": [
           {
            "colorbar": {
             "outlinewidth": 0,
             "ticks": ""
            },
            "colorscale": [
             [
              0,
              "#0d0887"
             ],
             [
              0.1111111111111111,
              "#46039f"
             ],
             [
              0.2222222222222222,
              "#7201a8"
             ],
             [
              0.3333333333333333,
              "#9c179e"
             ],
             [
              0.4444444444444444,
              "#bd3786"
             ],
             [
              0.5555555555555556,
              "#d8576b"
             ],
             [
              0.6666666666666666,
              "#ed7953"
             ],
             [
              0.7777777777777778,
              "#fb9f3a"
             ],
             [
              0.8888888888888888,
              "#fdca26"
             ],
             [
              1,
              "#f0f921"
             ]
            ],
            "type": "contour"
           }
          ],
          "contourcarpet": [
           {
            "colorbar": {
             "outlinewidth": 0,
             "ticks": ""
            },
            "type": "contourcarpet"
           }
          ],
          "heatmap": [
           {
            "colorbar": {
             "outlinewidth": 0,
             "ticks": ""
            },
            "colorscale": [
             [
              0,
              "#0d0887"
             ],
             [
              0.1111111111111111,
              "#46039f"
             ],
             [
              0.2222222222222222,
              "#7201a8"
             ],
             [
              0.3333333333333333,
              "#9c179e"
             ],
             [
              0.4444444444444444,
              "#bd3786"
             ],
             [
              0.5555555555555556,
              "#d8576b"
             ],
             [
              0.6666666666666666,
              "#ed7953"
             ],
             [
              0.7777777777777778,
              "#fb9f3a"
             ],
             [
              0.8888888888888888,
              "#fdca26"
             ],
             [
              1,
              "#f0f921"
             ]
            ],
            "type": "heatmap"
           }
          ],
          "heatmapgl": [
           {
            "colorbar": {
             "outlinewidth": 0,
             "ticks": ""
            },
            "colorscale": [
             [
              0,
              "#0d0887"
             ],
             [
              0.1111111111111111,
              "#46039f"
             ],
             [
              0.2222222222222222,
              "#7201a8"
             ],
             [
              0.3333333333333333,
              "#9c179e"
             ],
             [
              0.4444444444444444,
              "#bd3786"
             ],
             [
              0.5555555555555556,
              "#d8576b"
             ],
             [
              0.6666666666666666,
              "#ed7953"
             ],
             [
              0.7777777777777778,
              "#fb9f3a"
             ],
             [
              0.8888888888888888,
              "#fdca26"
             ],
             [
              1,
              "#f0f921"
             ]
            ],
            "type": "heatmapgl"
           }
          ],
          "histogram": [
           {
            "marker": {
             "pattern": {
              "fillmode": "overlay",
              "size": 10,
              "solidity": 0.2
             }
            },
            "type": "histogram"
           }
          ],
          "histogram2d": [
           {
            "colorbar": {
             "outlinewidth": 0,
             "ticks": ""
            },
            "colorscale": [
             [
              0,
              "#0d0887"
             ],
             [
              0.1111111111111111,
              "#46039f"
             ],
             [
              0.2222222222222222,
              "#7201a8"
             ],
             [
              0.3333333333333333,
              "#9c179e"
             ],
             [
              0.4444444444444444,
              "#bd3786"
             ],
             [
              0.5555555555555556,
              "#d8576b"
             ],
             [
              0.6666666666666666,
              "#ed7953"
             ],
             [
              0.7777777777777778,
              "#fb9f3a"
             ],
             [
              0.8888888888888888,
              "#fdca26"
             ],
             [
              1,
              "#f0f921"
             ]
            ],
            "type": "histogram2d"
           }
          ],
          "histogram2dcontour": [
           {
            "colorbar": {
             "outlinewidth": 0,
             "ticks": ""
            },
            "colorscale": [
             [
              0,
              "#0d0887"
             ],
             [
              0.1111111111111111,
              "#46039f"
             ],
             [
              0.2222222222222222,
              "#7201a8"
             ],
             [
              0.3333333333333333,
              "#9c179e"
             ],
             [
              0.4444444444444444,
              "#bd3786"
             ],
             [
              0.5555555555555556,
              "#d8576b"
             ],
             [
              0.6666666666666666,
              "#ed7953"
             ],
             [
              0.7777777777777778,
              "#fb9f3a"
             ],
             [
              0.8888888888888888,
              "#fdca26"
             ],
             [
              1,
              "#f0f921"
             ]
            ],
            "type": "histogram2dcontour"
           }
          ],
          "mesh3d": [
           {
            "colorbar": {
             "outlinewidth": 0,
             "ticks": ""
            },
            "type": "mesh3d"
           }
          ],
          "parcoords": [
           {
            "line": {
             "colorbar": {
              "outlinewidth": 0,
              "ticks": ""
             }
            },
            "type": "parcoords"
           }
          ],
          "pie": [
           {
            "automargin": true,
            "type": "pie"
           }
          ],
          "scatter": [
           {
            "marker": {
             "line": {
              "color": "#283442"
             }
            },
            "type": "scatter"
           }
          ],
          "scatter3d": [
           {
            "line": {
             "colorbar": {
              "outlinewidth": 0,
              "ticks": ""
             }
            },
            "marker": {
             "colorbar": {
              "outlinewidth": 0,
              "ticks": ""
             }
            },
            "type": "scatter3d"
           }
          ],
          "scattercarpet": [
           {
            "marker": {
             "colorbar": {
              "outlinewidth": 0,
              "ticks": ""
             }
            },
            "type": "scattercarpet"
           }
          ],
          "scattergeo": [
           {
            "marker": {
             "colorbar": {
              "outlinewidth": 0,
              "ticks": ""
             }
            },
            "type": "scattergeo"
           }
          ],
          "scattergl": [
           {
            "marker": {
             "line": {
              "color": "#283442"
             }
            },
            "type": "scattergl"
           }
          ],
          "scattermapbox": [
           {
            "marker": {
             "colorbar": {
              "outlinewidth": 0,
              "ticks": ""
             }
            },
            "type": "scattermapbox"
           }
          ],
          "scatterpolar": [
           {
            "marker": {
             "colorbar": {
              "outlinewidth": 0,
              "ticks": ""
             }
            },
            "type": "scatterpolar"
           }
          ],
          "scatterpolargl": [
           {
            "marker": {
             "colorbar": {
              "outlinewidth": 0,
              "ticks": ""
             }
            },
            "type": "scatterpolargl"
           }
          ],
          "scatterternary": [
           {
            "marker": {
             "colorbar": {
              "outlinewidth": 0,
              "ticks": ""
             }
            },
            "type": "scatterternary"
           }
          ],
          "surface": [
           {
            "colorbar": {
             "outlinewidth": 0,
             "ticks": ""
            },
            "colorscale": [
             [
              0,
              "#0d0887"
             ],
             [
              0.1111111111111111,
              "#46039f"
             ],
             [
              0.2222222222222222,
              "#7201a8"
             ],
             [
              0.3333333333333333,
              "#9c179e"
             ],
             [
              0.4444444444444444,
              "#bd3786"
             ],
             [
              0.5555555555555556,
              "#d8576b"
             ],
             [
              0.6666666666666666,
              "#ed7953"
             ],
             [
              0.7777777777777778,
              "#fb9f3a"
             ],
             [
              0.8888888888888888,
              "#fdca26"
             ],
             [
              1,
              "#f0f921"
             ]
            ],
            "type": "surface"
           }
          ],
          "table": [
           {
            "cells": {
             "fill": {
              "color": "#506784"
             },
             "line": {
              "color": "rgb(17,17,17)"
             }
            },
            "header": {
             "fill": {
              "color": "#2a3f5f"
             },
             "line": {
              "color": "rgb(17,17,17)"
             }
            },
            "type": "table"
           }
          ]
         },
         "layout": {
          "annotationdefaults": {
           "arrowcolor": "#f2f5fa",
           "arrowhead": 0,
           "arrowwidth": 1
          },
          "autotypenumbers": "strict",
          "coloraxis": {
           "colorbar": {
            "outlinewidth": 0,
            "ticks": ""
           }
          },
          "colorscale": {
           "diverging": [
            [
             0,
             "#8e0152"
            ],
            [
             0.1,
             "#c51b7d"
            ],
            [
             0.2,
             "#de77ae"
            ],
            [
             0.3,
             "#f1b6da"
            ],
            [
             0.4,
             "#fde0ef"
            ],
            [
             0.5,
             "#f7f7f7"
            ],
            [
             0.6,
             "#e6f5d0"
            ],
            [
             0.7,
             "#b8e186"
            ],
            [
             0.8,
             "#7fbc41"
            ],
            [
             0.9,
             "#4d9221"
            ],
            [
             1,
             "#276419"
            ]
           ],
           "sequential": [
            [
             0,
             "#0d0887"
            ],
            [
             0.1111111111111111,
             "#46039f"
            ],
            [
             0.2222222222222222,
             "#7201a8"
            ],
            [
             0.3333333333333333,
             "#9c179e"
            ],
            [
             0.4444444444444444,
             "#bd3786"
            ],
            [
             0.5555555555555556,
             "#d8576b"
            ],
            [
             0.6666666666666666,
             "#ed7953"
            ],
            [
             0.7777777777777778,
             "#fb9f3a"
            ],
            [
             0.8888888888888888,
             "#fdca26"
            ],
            [
             1,
             "#f0f921"
            ]
           ],
           "sequentialminus": [
            [
             0,
             "#0d0887"
            ],
            [
             0.1111111111111111,
             "#46039f"
            ],
            [
             0.2222222222222222,
             "#7201a8"
            ],
            [
             0.3333333333333333,
             "#9c179e"
            ],
            [
             0.4444444444444444,
             "#bd3786"
            ],
            [
             0.5555555555555556,
             "#d8576b"
            ],
            [
             0.6666666666666666,
             "#ed7953"
            ],
            [
             0.7777777777777778,
             "#fb9f3a"
            ],
            [
             0.8888888888888888,
             "#fdca26"
            ],
            [
             1,
             "#f0f921"
            ]
           ]
          },
          "colorway": [
           "#636efa",
           "#EF553B",
           "#00cc96",
           "#ab63fa",
           "#FFA15A",
           "#19d3f3",
           "#FF6692",
           "#B6E880",
           "#FF97FF",
           "#FECB52"
          ],
          "font": {
           "color": "#f2f5fa"
          },
          "geo": {
           "bgcolor": "rgb(17,17,17)",
           "lakecolor": "rgb(17,17,17)",
           "landcolor": "rgb(17,17,17)",
           "showlakes": true,
           "showland": true,
           "subunitcolor": "#506784"
          },
          "hoverlabel": {
           "align": "left"
          },
          "hovermode": "closest",
          "mapbox": {
           "style": "dark"
          },
          "paper_bgcolor": "rgb(17,17,17)",
          "plot_bgcolor": "rgb(17,17,17)",
          "polar": {
           "angularaxis": {
            "gridcolor": "#506784",
            "linecolor": "#506784",
            "ticks": ""
           },
           "bgcolor": "rgb(17,17,17)",
           "radialaxis": {
            "gridcolor": "#506784",
            "linecolor": "#506784",
            "ticks": ""
           }
          },
          "scene": {
           "xaxis": {
            "backgroundcolor": "rgb(17,17,17)",
            "gridcolor": "#506784",
            "gridwidth": 2,
            "linecolor": "#506784",
            "showbackground": true,
            "ticks": "",
            "zerolinecolor": "#C8D4E3"
           },
           "yaxis": {
            "backgroundcolor": "rgb(17,17,17)",
            "gridcolor": "#506784",
            "gridwidth": 2,
            "linecolor": "#506784",
            "showbackground": true,
            "ticks": "",
            "zerolinecolor": "#C8D4E3"
           },
           "zaxis": {
            "backgroundcolor": "rgb(17,17,17)",
            "gridcolor": "#506784",
            "gridwidth": 2,
            "linecolor": "#506784",
            "showbackground": true,
            "ticks": "",
            "zerolinecolor": "#C8D4E3"
           }
          },
          "shapedefaults": {
           "line": {
            "color": "#f2f5fa"
           }
          },
          "sliderdefaults": {
           "bgcolor": "#C8D4E3",
           "bordercolor": "rgb(17,17,17)",
           "borderwidth": 1,
           "tickwidth": 0
          },
          "ternary": {
           "aaxis": {
            "gridcolor": "#506784",
            "linecolor": "#506784",
            "ticks": ""
           },
           "baxis": {
            "gridcolor": "#506784",
            "linecolor": "#506784",
            "ticks": ""
           },
           "bgcolor": "rgb(17,17,17)",
           "caxis": {
            "gridcolor": "#506784",
            "linecolor": "#506784",
            "ticks": ""
           }
          },
          "title": {
           "x": 0.05
          },
          "updatemenudefaults": {
           "bgcolor": "#506784",
           "borderwidth": 0
          },
          "xaxis": {
           "automargin": true,
           "gridcolor": "#283442",
           "linecolor": "#506784",
           "ticks": "",
           "title": {
            "standoff": 15
           },
           "zerolinecolor": "#283442",
           "zerolinewidth": 2
          },
          "yaxis": {
           "automargin": true,
           "gridcolor": "#283442",
           "linecolor": "#506784",
           "ticks": "",
           "title": {
            "standoff": 15
           },
           "zerolinecolor": "#283442",
           "zerolinewidth": 2
          }
         }
        },
        "title": {
         "text": "Historique mensuel des volumes BNB"
        },
        "xaxis": {
         "rangeslider": {
          "visible": false
         },
         "title": {
          "text": "Dates"
         }
        },
        "yaxis": {
         "dtick": 1000,
         "tickmode": "linear",
         "title": {
          "text": "Volume (en milliers)"
         }
        }
       }
      }
     },
     "metadata": {},
     "output_type": "display_data"
    },
    {
     "data": {
      "application/vnd.plotly.v1+json": {
       "config": {
        "plotlyServerURL": "https://plot.ly"
       },
       "data": [
        {
         "marker": {
          "color": "rgb(0, 0, 255, 255)"
         },
         "name": "Volume",
         "type": "bar",
         "x": [
          "2023-11-20T00:00:00",
          "2023-11-27T00:00:00",
          "2023-12-04T00:00:00",
          "2023-12-11T00:00:00",
          "2023-12-18T00:00:00",
          "2023-12-25T00:00:00",
          "2024-01-01T00:00:00",
          "2024-01-08T00:00:00",
          "2024-01-15T00:00:00",
          "2024-01-22T00:00:00",
          "2024-01-29T00:00:00",
          "2024-02-05T00:00:00",
          "2024-02-12T00:00:00",
          "2024-02-19T00:00:00",
          "2024-02-26T00:00:00",
          "2024-03-04T00:00:00",
          "2024-03-11T00:00:00",
          "2024-03-18T00:00:00",
          "2024-03-25T00:00:00",
          "2024-04-01T00:00:00",
          "2024-04-08T00:00:00",
          "2024-04-15T00:00:00",
          "2024-04-22T00:00:00",
          "2024-04-29T00:00:00",
          "2024-05-06T00:00:00",
          "2024-05-13T00:00:00",
          "2024-05-20T00:00:00",
          "2024-05-27T00:00:00",
          "2024-06-03T00:00:00",
          "2024-06-10T00:00:00",
          "2024-06-17T00:00:00",
          "2024-06-24T00:00:00",
          "2024-07-01T00:00:00",
          "2024-07-08T00:00:00",
          "2024-07-15T00:00:00",
          "2024-07-22T00:00:00",
          "2024-07-29T00:00:00",
          "2024-08-05T00:00:00",
          "2024-08-12T00:00:00",
          "2024-08-19T00:00:00",
          "2024-08-26T00:00:00",
          "2024-09-02T00:00:00",
          "2024-09-09T00:00:00",
          "2024-09-16T00:00:00",
          "2024-09-23T00:00:00",
          "2024-09-30T00:00:00",
          "2024-10-07T00:00:00",
          "2024-10-14T00:00:00",
          "2024-10-21T00:00:00",
          "2024-10-28T00:00:00",
          "2024-11-04T00:00:00",
          "2024-11-11T00:00:00"
         ],
         "y": [
          945,
          363,
          603,
          742,
          680,
          984,
          739,
          643,
          617,
          484,
          267,
          336,
          502,
          703,
          662,
          1105,
          1477,
          945,
          428,
          441,
          672,
          364,
          302,
          285,
          203,
          220,
          300,
          148,
          359,
          261,
          168,
          137,
          263,
          177,
          176,
          131,
          177,
          371,
          151,
          227,
          151,
          173,
          147,
          164,
          197,
          172,
          144,
          137,
          132,
          156,
          329,
          526
         ]
        }
       ],
       "layout": {
        "template": {
         "data": {
          "bar": [
           {
            "error_x": {
             "color": "#f2f5fa"
            },
            "error_y": {
             "color": "#f2f5fa"
            },
            "marker": {
             "line": {
              "color": "rgb(17,17,17)",
              "width": 0.5
             },
             "pattern": {
              "fillmode": "overlay",
              "size": 10,
              "solidity": 0.2
             }
            },
            "type": "bar"
           }
          ],
          "barpolar": [
           {
            "marker": {
             "line": {
              "color": "rgb(17,17,17)",
              "width": 0.5
             },
             "pattern": {
              "fillmode": "overlay",
              "size": 10,
              "solidity": 0.2
             }
            },
            "type": "barpolar"
           }
          ],
          "carpet": [
           {
            "aaxis": {
             "endlinecolor": "#A2B1C6",
             "gridcolor": "#506784",
             "linecolor": "#506784",
             "minorgridcolor": "#506784",
             "startlinecolor": "#A2B1C6"
            },
            "baxis": {
             "endlinecolor": "#A2B1C6",
             "gridcolor": "#506784",
             "linecolor": "#506784",
             "minorgridcolor": "#506784",
             "startlinecolor": "#A2B1C6"
            },
            "type": "carpet"
           }
          ],
          "choropleth": [
           {
            "colorbar": {
             "outlinewidth": 0,
             "ticks": ""
            },
            "type": "choropleth"
           }
          ],
          "contour": [
           {
            "colorbar": {
             "outlinewidth": 0,
             "ticks": ""
            },
            "colorscale": [
             [
              0,
              "#0d0887"
             ],
             [
              0.1111111111111111,
              "#46039f"
             ],
             [
              0.2222222222222222,
              "#7201a8"
             ],
             [
              0.3333333333333333,
              "#9c179e"
             ],
             [
              0.4444444444444444,
              "#bd3786"
             ],
             [
              0.5555555555555556,
              "#d8576b"
             ],
             [
              0.6666666666666666,
              "#ed7953"
             ],
             [
              0.7777777777777778,
              "#fb9f3a"
             ],
             [
              0.8888888888888888,
              "#fdca26"
             ],
             [
              1,
              "#f0f921"
             ]
            ],
            "type": "contour"
           }
          ],
          "contourcarpet": [
           {
            "colorbar": {
             "outlinewidth": 0,
             "ticks": ""
            },
            "type": "contourcarpet"
           }
          ],
          "heatmap": [
           {
            "colorbar": {
             "outlinewidth": 0,
             "ticks": ""
            },
            "colorscale": [
             [
              0,
              "#0d0887"
             ],
             [
              0.1111111111111111,
              "#46039f"
             ],
             [
              0.2222222222222222,
              "#7201a8"
             ],
             [
              0.3333333333333333,
              "#9c179e"
             ],
             [
              0.4444444444444444,
              "#bd3786"
             ],
             [
              0.5555555555555556,
              "#d8576b"
             ],
             [
              0.6666666666666666,
              "#ed7953"
             ],
             [
              0.7777777777777778,
              "#fb9f3a"
             ],
             [
              0.8888888888888888,
              "#fdca26"
             ],
             [
              1,
              "#f0f921"
             ]
            ],
            "type": "heatmap"
           }
          ],
          "heatmapgl": [
           {
            "colorbar": {
             "outlinewidth": 0,
             "ticks": ""
            },
            "colorscale": [
             [
              0,
              "#0d0887"
             ],
             [
              0.1111111111111111,
              "#46039f"
             ],
             [
              0.2222222222222222,
              "#7201a8"
             ],
             [
              0.3333333333333333,
              "#9c179e"
             ],
             [
              0.4444444444444444,
              "#bd3786"
             ],
             [
              0.5555555555555556,
              "#d8576b"
             ],
             [
              0.6666666666666666,
              "#ed7953"
             ],
             [
              0.7777777777777778,
              "#fb9f3a"
             ],
             [
              0.8888888888888888,
              "#fdca26"
             ],
             [
              1,
              "#f0f921"
             ]
            ],
            "type": "heatmapgl"
           }
          ],
          "histogram": [
           {
            "marker": {
             "pattern": {
              "fillmode": "overlay",
              "size": 10,
              "solidity": 0.2
             }
            },
            "type": "histogram"
           }
          ],
          "histogram2d": [
           {
            "colorbar": {
             "outlinewidth": 0,
             "ticks": ""
            },
            "colorscale": [
             [
              0,
              "#0d0887"
             ],
             [
              0.1111111111111111,
              "#46039f"
             ],
             [
              0.2222222222222222,
              "#7201a8"
             ],
             [
              0.3333333333333333,
              "#9c179e"
             ],
             [
              0.4444444444444444,
              "#bd3786"
             ],
             [
              0.5555555555555556,
              "#d8576b"
             ],
             [
              0.6666666666666666,
              "#ed7953"
             ],
             [
              0.7777777777777778,
              "#fb9f3a"
             ],
             [
              0.8888888888888888,
              "#fdca26"
             ],
             [
              1,
              "#f0f921"
             ]
            ],
            "type": "histogram2d"
           }
          ],
          "histogram2dcontour": [
           {
            "colorbar": {
             "outlinewidth": 0,
             "ticks": ""
            },
            "colorscale": [
             [
              0,
              "#0d0887"
             ],
             [
              0.1111111111111111,
              "#46039f"
             ],
             [
              0.2222222222222222,
              "#7201a8"
             ],
             [
              0.3333333333333333,
              "#9c179e"
             ],
             [
              0.4444444444444444,
              "#bd3786"
             ],
             [
              0.5555555555555556,
              "#d8576b"
             ],
             [
              0.6666666666666666,
              "#ed7953"
             ],
             [
              0.7777777777777778,
              "#fb9f3a"
             ],
             [
              0.8888888888888888,
              "#fdca26"
             ],
             [
              1,
              "#f0f921"
             ]
            ],
            "type": "histogram2dcontour"
           }
          ],
          "mesh3d": [
           {
            "colorbar": {
             "outlinewidth": 0,
             "ticks": ""
            },
            "type": "mesh3d"
           }
          ],
          "parcoords": [
           {
            "line": {
             "colorbar": {
              "outlinewidth": 0,
              "ticks": ""
             }
            },
            "type": "parcoords"
           }
          ],
          "pie": [
           {
            "automargin": true,
            "type": "pie"
           }
          ],
          "scatter": [
           {
            "marker": {
             "line": {
              "color": "#283442"
             }
            },
            "type": "scatter"
           }
          ],
          "scatter3d": [
           {
            "line": {
             "colorbar": {
              "outlinewidth": 0,
              "ticks": ""
             }
            },
            "marker": {
             "colorbar": {
              "outlinewidth": 0,
              "ticks": ""
             }
            },
            "type": "scatter3d"
           }
          ],
          "scattercarpet": [
           {
            "marker": {
             "colorbar": {
              "outlinewidth": 0,
              "ticks": ""
             }
            },
            "type": "scattercarpet"
           }
          ],
          "scattergeo": [
           {
            "marker": {
             "colorbar": {
              "outlinewidth": 0,
              "ticks": ""
             }
            },
            "type": "scattergeo"
           }
          ],
          "scattergl": [
           {
            "marker": {
             "line": {
              "color": "#283442"
             }
            },
            "type": "scattergl"
           }
          ],
          "scattermapbox": [
           {
            "marker": {
             "colorbar": {
              "outlinewidth": 0,
              "ticks": ""
             }
            },
            "type": "scattermapbox"
           }
          ],
          "scatterpolar": [
           {
            "marker": {
             "colorbar": {
              "outlinewidth": 0,
              "ticks": ""
             }
            },
            "type": "scatterpolar"
           }
          ],
          "scatterpolargl": [
           {
            "marker": {
             "colorbar": {
              "outlinewidth": 0,
              "ticks": ""
             }
            },
            "type": "scatterpolargl"
           }
          ],
          "scatterternary": [
           {
            "marker": {
             "colorbar": {
              "outlinewidth": 0,
              "ticks": ""
             }
            },
            "type": "scatterternary"
           }
          ],
          "surface": [
           {
            "colorbar": {
             "outlinewidth": 0,
             "ticks": ""
            },
            "colorscale": [
             [
              0,
              "#0d0887"
             ],
             [
              0.1111111111111111,
              "#46039f"
             ],
             [
              0.2222222222222222,
              "#7201a8"
             ],
             [
              0.3333333333333333,
              "#9c179e"
             ],
             [
              0.4444444444444444,
              "#bd3786"
             ],
             [
              0.5555555555555556,
              "#d8576b"
             ],
             [
              0.6666666666666666,
              "#ed7953"
             ],
             [
              0.7777777777777778,
              "#fb9f3a"
             ],
             [
              0.8888888888888888,
              "#fdca26"
             ],
             [
              1,
              "#f0f921"
             ]
            ],
            "type": "surface"
           }
          ],
          "table": [
           {
            "cells": {
             "fill": {
              "color": "#506784"
             },
             "line": {
              "color": "rgb(17,17,17)"
             }
            },
            "header": {
             "fill": {
              "color": "#2a3f5f"
             },
             "line": {
              "color": "rgb(17,17,17)"
             }
            },
            "type": "table"
           }
          ]
         },
         "layout": {
          "annotationdefaults": {
           "arrowcolor": "#f2f5fa",
           "arrowhead": 0,
           "arrowwidth": 1
          },
          "autotypenumbers": "strict",
          "coloraxis": {
           "colorbar": {
            "outlinewidth": 0,
            "ticks": ""
           }
          },
          "colorscale": {
           "diverging": [
            [
             0,
             "#8e0152"
            ],
            [
             0.1,
             "#c51b7d"
            ],
            [
             0.2,
             "#de77ae"
            ],
            [
             0.3,
             "#f1b6da"
            ],
            [
             0.4,
             "#fde0ef"
            ],
            [
             0.5,
             "#f7f7f7"
            ],
            [
             0.6,
             "#e6f5d0"
            ],
            [
             0.7,
             "#b8e186"
            ],
            [
             0.8,
             "#7fbc41"
            ],
            [
             0.9,
             "#4d9221"
            ],
            [
             1,
             "#276419"
            ]
           ],
           "sequential": [
            [
             0,
             "#0d0887"
            ],
            [
             0.1111111111111111,
             "#46039f"
            ],
            [
             0.2222222222222222,
             "#7201a8"
            ],
            [
             0.3333333333333333,
             "#9c179e"
            ],
            [
             0.4444444444444444,
             "#bd3786"
            ],
            [
             0.5555555555555556,
             "#d8576b"
            ],
            [
             0.6666666666666666,
             "#ed7953"
            ],
            [
             0.7777777777777778,
             "#fb9f3a"
            ],
            [
             0.8888888888888888,
             "#fdca26"
            ],
            [
             1,
             "#f0f921"
            ]
           ],
           "sequentialminus": [
            [
             0,
             "#0d0887"
            ],
            [
             0.1111111111111111,
             "#46039f"
            ],
            [
             0.2222222222222222,
             "#7201a8"
            ],
            [
             0.3333333333333333,
             "#9c179e"
            ],
            [
             0.4444444444444444,
             "#bd3786"
            ],
            [
             0.5555555555555556,
             "#d8576b"
            ],
            [
             0.6666666666666666,
             "#ed7953"
            ],
            [
             0.7777777777777778,
             "#fb9f3a"
            ],
            [
             0.8888888888888888,
             "#fdca26"
            ],
            [
             1,
             "#f0f921"
            ]
           ]
          },
          "colorway": [
           "#636efa",
           "#EF553B",
           "#00cc96",
           "#ab63fa",
           "#FFA15A",
           "#19d3f3",
           "#FF6692",
           "#B6E880",
           "#FF97FF",
           "#FECB52"
          ],
          "font": {
           "color": "#f2f5fa"
          },
          "geo": {
           "bgcolor": "rgb(17,17,17)",
           "lakecolor": "rgb(17,17,17)",
           "landcolor": "rgb(17,17,17)",
           "showlakes": true,
           "showland": true,
           "subunitcolor": "#506784"
          },
          "hoverlabel": {
           "align": "left"
          },
          "hovermode": "closest",
          "mapbox": {
           "style": "dark"
          },
          "paper_bgcolor": "rgb(17,17,17)",
          "plot_bgcolor": "rgb(17,17,17)",
          "polar": {
           "angularaxis": {
            "gridcolor": "#506784",
            "linecolor": "#506784",
            "ticks": ""
           },
           "bgcolor": "rgb(17,17,17)",
           "radialaxis": {
            "gridcolor": "#506784",
            "linecolor": "#506784",
            "ticks": ""
           }
          },
          "scene": {
           "xaxis": {
            "backgroundcolor": "rgb(17,17,17)",
            "gridcolor": "#506784",
            "gridwidth": 2,
            "linecolor": "#506784",
            "showbackground": true,
            "ticks": "",
            "zerolinecolor": "#C8D4E3"
           },
           "yaxis": {
            "backgroundcolor": "rgb(17,17,17)",
            "gridcolor": "#506784",
            "gridwidth": 2,
            "linecolor": "#506784",
            "showbackground": true,
            "ticks": "",
            "zerolinecolor": "#C8D4E3"
           },
           "zaxis": {
            "backgroundcolor": "rgb(17,17,17)",
            "gridcolor": "#506784",
            "gridwidth": 2,
            "linecolor": "#506784",
            "showbackground": true,
            "ticks": "",
            "zerolinecolor": "#C8D4E3"
           }
          },
          "shapedefaults": {
           "line": {
            "color": "#f2f5fa"
           }
          },
          "sliderdefaults": {
           "bgcolor": "#C8D4E3",
           "bordercolor": "rgb(17,17,17)",
           "borderwidth": 1,
           "tickwidth": 0
          },
          "ternary": {
           "aaxis": {
            "gridcolor": "#506784",
            "linecolor": "#506784",
            "ticks": ""
           },
           "baxis": {
            "gridcolor": "#506784",
            "linecolor": "#506784",
            "ticks": ""
           },
           "bgcolor": "rgb(17,17,17)",
           "caxis": {
            "gridcolor": "#506784",
            "linecolor": "#506784",
            "ticks": ""
           }
          },
          "title": {
           "x": 0.05
          },
          "updatemenudefaults": {
           "bgcolor": "#506784",
           "borderwidth": 0
          },
          "xaxis": {
           "automargin": true,
           "gridcolor": "#283442",
           "linecolor": "#506784",
           "ticks": "",
           "title": {
            "standoff": 15
           },
           "zerolinecolor": "#283442",
           "zerolinewidth": 2
          },
          "yaxis": {
           "automargin": true,
           "gridcolor": "#283442",
           "linecolor": "#506784",
           "ticks": "",
           "title": {
            "standoff": 15
           },
           "zerolinecolor": "#283442",
           "zerolinewidth": 2
          }
         }
        },
        "title": {
         "text": "Historique hebdomadaire des volumes BNB"
        },
        "xaxis": {
         "rangeslider": {
          "visible": false
         },
         "title": {
          "text": "Dates"
         }
        },
        "yaxis": {
         "dtick": 100,
         "tickmode": "linear",
         "title": {
          "text": "Volume (en milliers)"
         }
        }
       }
      }
     },
     "metadata": {},
     "output_type": "display_data"
    }
   ],
   "source": [
    "\n",
    "\n",
    "\n",
    "def graph_hist_vol(df, interval, symbol,dtick_val):\n",
    "\n",
    "    df['volume']=pd.to_numeric(df['volume'], errors='coerce')\n",
    "    df['volume_conv']=(df['volume']/100).round() # nouvelle col pour éviter les probleme de perfs\n",
    "    fig = go.Figure()\n",
    "\n",
    "    # Ajouter un histogramme pour le volume\n",
    "    fig.add_trace(go.Bar(\n",
    "        x=df['timestamp'], \n",
    "        y=df['volume_conv'],\n",
    "        name='Volume',\n",
    "        marker=dict(color='rgb(0, 0, 255, 255)')\n",
    "    ))\n",
    "    \n",
    "    # Mise en forme du graphique\n",
    "    fig.update_layout(\n",
    "        xaxis_rangeslider_visible=False,\n",
    "        template=\"plotly_dark\",\n",
    "        title=f\"Historique {interval} des volumes {symbol}\",\n",
    "        xaxis_title=\"Dates\",\n",
    "        yaxis_title=\"Volume (en milliers)\",\n",
    "        yaxis=dict(\n",
    "            tickmode=\"linear\",         \n",
    "            dtick=dtick_val)\n",
    "    )\n",
    "    fig.show()\n",
    "    \n",
    "    \n",
    "\n",
    "#BTC\n",
    "#vol_BTC_D=graph_hist_vol(data_daily['BTCUSDT'], 'daily', 'BTC',20)\n",
    "vol_BTC_M=graph_hist_vol(data_monthly['BTCUSDT'], 'mensuel', 'BTC',50)\n",
    "vol_BTC_W=graph_hist_vol(data_weekly['BTCUSDT'], 'hebdomadaire', 'BTC',10)\n",
    "\n",
    "#ETH\n",
    "\n",
    "#vol_ETH_D=graph_hist_vol(data_daily['ETHUSDT'], 'daily', 'ETH',20)\n",
    "vol_ETH_M=graph_hist_vol(data_monthly['ETHUSDT'], 'mensuel', 'ETH',250)\n",
    "vol_ETH_W=graph_hist_vol(data_weekly['ETHUSDT'], 'hebdomadaire', 'ETH',100)\n",
    "\n",
    "#BNB\n",
    "\n",
    "#vol_BNB_D=graph_hist_vol(data_daily['BNBUSDT'], 'daily', 'BNB',20)\n",
    "vol_BNB_M=graph_hist_vol(data_monthly['BNBUSDT'], 'mensuel', 'BNB',1000)\n",
    "vol_BNB_W=graph_hist_vol(data_weekly['BNBUSDT'], 'hebdomadaire', 'BNB',100)\n",
    "    "
   ]
  },
  {
   "cell_type": "code",
   "execution_count": 281,
   "metadata": {},
   "outputs": [
    {
     "name": "stdout",
     "output_type": "stream",
     "text": [
      "0       766.0\n",
      "1      1287.0\n",
      "2       799.0\n",
      "3       888.0\n",
      "4      1012.0\n",
      "        ...  \n",
      "117     653.0\n",
      "118    1824.0\n",
      "119    1153.0\n",
      "120    2664.0\n",
      "121     875.0\n",
      "Name: volume, Length: 122, dtype: float64\n"
     ]
    }
   ],
   "source": [
    "print(es)"
   ]
  },
  {
   "cell_type": "code",
   "execution_count": 338,
   "metadata": {},
   "outputs": [
    {
     "data": {
      "application/vnd.plotly.v1+json": {
       "config": {
        "plotlyServerURL": "https://plot.ly"
       },
       "data": [
        {
         "marker": {
          "color": "rgb(0, 0, 255, 255)"
         },
         "name": "Volume",
         "type": "bar",
         "x": [
          "2023-11-20T00:00:00",
          "2023-11-27T00:00:00",
          "2023-12-04T00:00:00",
          "2023-12-11T00:00:00",
          "2023-12-18T00:00:00",
          "2023-12-25T00:00:00",
          "2024-01-01T00:00:00",
          "2024-01-08T00:00:00",
          "2024-01-15T00:00:00",
          "2024-01-22T00:00:00",
          "2024-01-29T00:00:00",
          "2024-02-05T00:00:00",
          "2024-02-12T00:00:00",
          "2024-02-19T00:00:00",
          "2024-02-26T00:00:00",
          "2024-03-04T00:00:00",
          "2024-03-11T00:00:00",
          "2024-03-18T00:00:00",
          "2024-03-25T00:00:00",
          "2024-04-01T00:00:00",
          "2024-04-08T00:00:00",
          "2024-04-15T00:00:00",
          "2024-04-22T00:00:00",
          "2024-04-29T00:00:00",
          "2024-05-06T00:00:00",
          "2024-05-13T00:00:00",
          "2024-05-20T00:00:00",
          "2024-05-27T00:00:00",
          "2024-06-03T00:00:00",
          "2024-06-10T00:00:00",
          "2024-06-17T00:00:00",
          "2024-06-24T00:00:00",
          "2024-07-01T00:00:00",
          "2024-07-08T00:00:00",
          "2024-07-15T00:00:00",
          "2024-07-22T00:00:00",
          "2024-07-29T00:00:00",
          "2024-08-05T00:00:00",
          "2024-08-12T00:00:00",
          "2024-08-19T00:00:00",
          "2024-08-26T00:00:00",
          "2024-09-02T00:00:00",
          "2024-09-09T00:00:00",
          "2024-09-16T00:00:00",
          "2024-09-23T00:00:00",
          "2024-09-30T00:00:00",
          "2024-10-07T00:00:00",
          "2024-10-14T00:00:00",
          "2024-10-21T00:00:00",
          "2024-10-28T00:00:00",
          "2024-11-04T00:00:00",
          "2024-11-11T00:00:00"
         ],
         "y": [
          945,
          363,
          603,
          742,
          680,
          984,
          739,
          643,
          617,
          484,
          267,
          336,
          502,
          703,
          662,
          1105,
          1477,
          945,
          428,
          441,
          672,
          364,
          302,
          285,
          203,
          220,
          300,
          148,
          359,
          261,
          168,
          137,
          263,
          177,
          176,
          131,
          177,
          371,
          151,
          227,
          151,
          173,
          147,
          164,
          197,
          172,
          144,
          137,
          132,
          156,
          329,
          526
         ]
        }
       ],
       "layout": {
        "template": {
         "data": {
          "bar": [
           {
            "error_x": {
             "color": "#f2f5fa"
            },
            "error_y": {
             "color": "#f2f5fa"
            },
            "marker": {
             "line": {
              "color": "rgb(17,17,17)",
              "width": 0.5
             },
             "pattern": {
              "fillmode": "overlay",
              "size": 10,
              "solidity": 0.2
             }
            },
            "type": "bar"
           }
          ],
          "barpolar": [
           {
            "marker": {
             "line": {
              "color": "rgb(17,17,17)",
              "width": 0.5
             },
             "pattern": {
              "fillmode": "overlay",
              "size": 10,
              "solidity": 0.2
             }
            },
            "type": "barpolar"
           }
          ],
          "carpet": [
           {
            "aaxis": {
             "endlinecolor": "#A2B1C6",
             "gridcolor": "#506784",
             "linecolor": "#506784",
             "minorgridcolor": "#506784",
             "startlinecolor": "#A2B1C6"
            },
            "baxis": {
             "endlinecolor": "#A2B1C6",
             "gridcolor": "#506784",
             "linecolor": "#506784",
             "minorgridcolor": "#506784",
             "startlinecolor": "#A2B1C6"
            },
            "type": "carpet"
           }
          ],
          "choropleth": [
           {
            "colorbar": {
             "outlinewidth": 0,
             "ticks": ""
            },
            "type": "choropleth"
           }
          ],
          "contour": [
           {
            "colorbar": {
             "outlinewidth": 0,
             "ticks": ""
            },
            "colorscale": [
             [
              0,
              "#0d0887"
             ],
             [
              0.1111111111111111,
              "#46039f"
             ],
             [
              0.2222222222222222,
              "#7201a8"
             ],
             [
              0.3333333333333333,
              "#9c179e"
             ],
             [
              0.4444444444444444,
              "#bd3786"
             ],
             [
              0.5555555555555556,
              "#d8576b"
             ],
             [
              0.6666666666666666,
              "#ed7953"
             ],
             [
              0.7777777777777778,
              "#fb9f3a"
             ],
             [
              0.8888888888888888,
              "#fdca26"
             ],
             [
              1,
              "#f0f921"
             ]
            ],
            "type": "contour"
           }
          ],
          "contourcarpet": [
           {
            "colorbar": {
             "outlinewidth": 0,
             "ticks": ""
            },
            "type": "contourcarpet"
           }
          ],
          "heatmap": [
           {
            "colorbar": {
             "outlinewidth": 0,
             "ticks": ""
            },
            "colorscale": [
             [
              0,
              "#0d0887"
             ],
             [
              0.1111111111111111,
              "#46039f"
             ],
             [
              0.2222222222222222,
              "#7201a8"
             ],
             [
              0.3333333333333333,
              "#9c179e"
             ],
             [
              0.4444444444444444,
              "#bd3786"
             ],
             [
              0.5555555555555556,
              "#d8576b"
             ],
             [
              0.6666666666666666,
              "#ed7953"
             ],
             [
              0.7777777777777778,
              "#fb9f3a"
             ],
             [
              0.8888888888888888,
              "#fdca26"
             ],
             [
              1,
              "#f0f921"
             ]
            ],
            "type": "heatmap"
           }
          ],
          "heatmapgl": [
           {
            "colorbar": {
             "outlinewidth": 0,
             "ticks": ""
            },
            "colorscale": [
             [
              0,
              "#0d0887"
             ],
             [
              0.1111111111111111,
              "#46039f"
             ],
             [
              0.2222222222222222,
              "#7201a8"
             ],
             [
              0.3333333333333333,
              "#9c179e"
             ],
             [
              0.4444444444444444,
              "#bd3786"
             ],
             [
              0.5555555555555556,
              "#d8576b"
             ],
             [
              0.6666666666666666,
              "#ed7953"
             ],
             [
              0.7777777777777778,
              "#fb9f3a"
             ],
             [
              0.8888888888888888,
              "#fdca26"
             ],
             [
              1,
              "#f0f921"
             ]
            ],
            "type": "heatmapgl"
           }
          ],
          "histogram": [
           {
            "marker": {
             "pattern": {
              "fillmode": "overlay",
              "size": 10,
              "solidity": 0.2
             }
            },
            "type": "histogram"
           }
          ],
          "histogram2d": [
           {
            "colorbar": {
             "outlinewidth": 0,
             "ticks": ""
            },
            "colorscale": [
             [
              0,
              "#0d0887"
             ],
             [
              0.1111111111111111,
              "#46039f"
             ],
             [
              0.2222222222222222,
              "#7201a8"
             ],
             [
              0.3333333333333333,
              "#9c179e"
             ],
             [
              0.4444444444444444,
              "#bd3786"
             ],
             [
              0.5555555555555556,
              "#d8576b"
             ],
             [
              0.6666666666666666,
              "#ed7953"
             ],
             [
              0.7777777777777778,
              "#fb9f3a"
             ],
             [
              0.8888888888888888,
              "#fdca26"
             ],
             [
              1,
              "#f0f921"
             ]
            ],
            "type": "histogram2d"
           }
          ],
          "histogram2dcontour": [
           {
            "colorbar": {
             "outlinewidth": 0,
             "ticks": ""
            },
            "colorscale": [
             [
              0,
              "#0d0887"
             ],
             [
              0.1111111111111111,
              "#46039f"
             ],
             [
              0.2222222222222222,
              "#7201a8"
             ],
             [
              0.3333333333333333,
              "#9c179e"
             ],
             [
              0.4444444444444444,
              "#bd3786"
             ],
             [
              0.5555555555555556,
              "#d8576b"
             ],
             [
              0.6666666666666666,
              "#ed7953"
             ],
             [
              0.7777777777777778,
              "#fb9f3a"
             ],
             [
              0.8888888888888888,
              "#fdca26"
             ],
             [
              1,
              "#f0f921"
             ]
            ],
            "type": "histogram2dcontour"
           }
          ],
          "mesh3d": [
           {
            "colorbar": {
             "outlinewidth": 0,
             "ticks": ""
            },
            "type": "mesh3d"
           }
          ],
          "parcoords": [
           {
            "line": {
             "colorbar": {
              "outlinewidth": 0,
              "ticks": ""
             }
            },
            "type": "parcoords"
           }
          ],
          "pie": [
           {
            "automargin": true,
            "type": "pie"
           }
          ],
          "scatter": [
           {
            "marker": {
             "line": {
              "color": "#283442"
             }
            },
            "type": "scatter"
           }
          ],
          "scatter3d": [
           {
            "line": {
             "colorbar": {
              "outlinewidth": 0,
              "ticks": ""
             }
            },
            "marker": {
             "colorbar": {
              "outlinewidth": 0,
              "ticks": ""
             }
            },
            "type": "scatter3d"
           }
          ],
          "scattercarpet": [
           {
            "marker": {
             "colorbar": {
              "outlinewidth": 0,
              "ticks": ""
             }
            },
            "type": "scattercarpet"
           }
          ],
          "scattergeo": [
           {
            "marker": {
             "colorbar": {
              "outlinewidth": 0,
              "ticks": ""
             }
            },
            "type": "scattergeo"
           }
          ],
          "scattergl": [
           {
            "marker": {
             "line": {
              "color": "#283442"
             }
            },
            "type": "scattergl"
           }
          ],
          "scattermapbox": [
           {
            "marker": {
             "colorbar": {
              "outlinewidth": 0,
              "ticks": ""
             }
            },
            "type": "scattermapbox"
           }
          ],
          "scatterpolar": [
           {
            "marker": {
             "colorbar": {
              "outlinewidth": 0,
              "ticks": ""
             }
            },
            "type": "scatterpolar"
           }
          ],
          "scatterpolargl": [
           {
            "marker": {
             "colorbar": {
              "outlinewidth": 0,
              "ticks": ""
             }
            },
            "type": "scatterpolargl"
           }
          ],
          "scatterternary": [
           {
            "marker": {
             "colorbar": {
              "outlinewidth": 0,
              "ticks": ""
             }
            },
            "type": "scatterternary"
           }
          ],
          "surface": [
           {
            "colorbar": {
             "outlinewidth": 0,
             "ticks": ""
            },
            "colorscale": [
             [
              0,
              "#0d0887"
             ],
             [
              0.1111111111111111,
              "#46039f"
             ],
             [
              0.2222222222222222,
              "#7201a8"
             ],
             [
              0.3333333333333333,
              "#9c179e"
             ],
             [
              0.4444444444444444,
              "#bd3786"
             ],
             [
              0.5555555555555556,
              "#d8576b"
             ],
             [
              0.6666666666666666,
              "#ed7953"
             ],
             [
              0.7777777777777778,
              "#fb9f3a"
             ],
             [
              0.8888888888888888,
              "#fdca26"
             ],
             [
              1,
              "#f0f921"
             ]
            ],
            "type": "surface"
           }
          ],
          "table": [
           {
            "cells": {
             "fill": {
              "color": "#506784"
             },
             "line": {
              "color": "rgb(17,17,17)"
             }
            },
            "header": {
             "fill": {
              "color": "#2a3f5f"
             },
             "line": {
              "color": "rgb(17,17,17)"
             }
            },
            "type": "table"
           }
          ]
         },
         "layout": {
          "annotationdefaults": {
           "arrowcolor": "#f2f5fa",
           "arrowhead": 0,
           "arrowwidth": 1
          },
          "autotypenumbers": "strict",
          "coloraxis": {
           "colorbar": {
            "outlinewidth": 0,
            "ticks": ""
           }
          },
          "colorscale": {
           "diverging": [
            [
             0,
             "#8e0152"
            ],
            [
             0.1,
             "#c51b7d"
            ],
            [
             0.2,
             "#de77ae"
            ],
            [
             0.3,
             "#f1b6da"
            ],
            [
             0.4,
             "#fde0ef"
            ],
            [
             0.5,
             "#f7f7f7"
            ],
            [
             0.6,
             "#e6f5d0"
            ],
            [
             0.7,
             "#b8e186"
            ],
            [
             0.8,
             "#7fbc41"
            ],
            [
             0.9,
             "#4d9221"
            ],
            [
             1,
             "#276419"
            ]
           ],
           "sequential": [
            [
             0,
             "#0d0887"
            ],
            [
             0.1111111111111111,
             "#46039f"
            ],
            [
             0.2222222222222222,
             "#7201a8"
            ],
            [
             0.3333333333333333,
             "#9c179e"
            ],
            [
             0.4444444444444444,
             "#bd3786"
            ],
            [
             0.5555555555555556,
             "#d8576b"
            ],
            [
             0.6666666666666666,
             "#ed7953"
            ],
            [
             0.7777777777777778,
             "#fb9f3a"
            ],
            [
             0.8888888888888888,
             "#fdca26"
            ],
            [
             1,
             "#f0f921"
            ]
           ],
           "sequentialminus": [
            [
             0,
             "#0d0887"
            ],
            [
             0.1111111111111111,
             "#46039f"
            ],
            [
             0.2222222222222222,
             "#7201a8"
            ],
            [
             0.3333333333333333,
             "#9c179e"
            ],
            [
             0.4444444444444444,
             "#bd3786"
            ],
            [
             0.5555555555555556,
             "#d8576b"
            ],
            [
             0.6666666666666666,
             "#ed7953"
            ],
            [
             0.7777777777777778,
             "#fb9f3a"
            ],
            [
             0.8888888888888888,
             "#fdca26"
            ],
            [
             1,
             "#f0f921"
            ]
           ]
          },
          "colorway": [
           "#636efa",
           "#EF553B",
           "#00cc96",
           "#ab63fa",
           "#FFA15A",
           "#19d3f3",
           "#FF6692",
           "#B6E880",
           "#FF97FF",
           "#FECB52"
          ],
          "font": {
           "color": "#f2f5fa"
          },
          "geo": {
           "bgcolor": "rgb(17,17,17)",
           "lakecolor": "rgb(17,17,17)",
           "landcolor": "rgb(17,17,17)",
           "showlakes": true,
           "showland": true,
           "subunitcolor": "#506784"
          },
          "hoverlabel": {
           "align": "left"
          },
          "hovermode": "closest",
          "mapbox": {
           "style": "dark"
          },
          "paper_bgcolor": "rgb(17,17,17)",
          "plot_bgcolor": "rgb(17,17,17)",
          "polar": {
           "angularaxis": {
            "gridcolor": "#506784",
            "linecolor": "#506784",
            "ticks": ""
           },
           "bgcolor": "rgb(17,17,17)",
           "radialaxis": {
            "gridcolor": "#506784",
            "linecolor": "#506784",
            "ticks": ""
           }
          },
          "scene": {
           "xaxis": {
            "backgroundcolor": "rgb(17,17,17)",
            "gridcolor": "#506784",
            "gridwidth": 2,
            "linecolor": "#506784",
            "showbackground": true,
            "ticks": "",
            "zerolinecolor": "#C8D4E3"
           },
           "yaxis": {
            "backgroundcolor": "rgb(17,17,17)",
            "gridcolor": "#506784",
            "gridwidth": 2,
            "linecolor": "#506784",
            "showbackground": true,
            "ticks": "",
            "zerolinecolor": "#C8D4E3"
           },
           "zaxis": {
            "backgroundcolor": "rgb(17,17,17)",
            "gridcolor": "#506784",
            "gridwidth": 2,
            "linecolor": "#506784",
            "showbackground": true,
            "ticks": "",
            "zerolinecolor": "#C8D4E3"
           }
          },
          "shapedefaults": {
           "line": {
            "color": "#f2f5fa"
           }
          },
          "sliderdefaults": {
           "bgcolor": "#C8D4E3",
           "bordercolor": "rgb(17,17,17)",
           "borderwidth": 1,
           "tickwidth": 0
          },
          "ternary": {
           "aaxis": {
            "gridcolor": "#506784",
            "linecolor": "#506784",
            "ticks": ""
           },
           "baxis": {
            "gridcolor": "#506784",
            "linecolor": "#506784",
            "ticks": ""
           },
           "bgcolor": "rgb(17,17,17)",
           "caxis": {
            "gridcolor": "#506784",
            "linecolor": "#506784",
            "ticks": ""
           }
          },
          "title": {
           "x": 0.05
          },
          "updatemenudefaults": {
           "bgcolor": "#506784",
           "borderwidth": 0
          },
          "xaxis": {
           "automargin": true,
           "gridcolor": "#283442",
           "linecolor": "#506784",
           "ticks": "",
           "title": {
            "standoff": 15
           },
           "zerolinecolor": "#283442",
           "zerolinewidth": 2
          },
          "yaxis": {
           "automargin": true,
           "gridcolor": "#283442",
           "linecolor": "#506784",
           "ticks": "",
           "title": {
            "standoff": 15
           },
           "zerolinecolor": "#283442",
           "zerolinewidth": 2
          }
         }
        },
        "title": {
         "text": "Historique hebdomadaire des volumes BNB"
        },
        "xaxis": {
         "rangeslider": {
          "visible": false
         },
         "title": {
          "text": "Dates"
         }
        },
        "yaxis": {
         "dtick": 100,
         "tickmode": "linear",
         "title": {
          "text": "Volume (en milliers)"
         }
        }
       }
      }
     },
     "metadata": {},
     "output_type": "display_data"
    }
   ],
   "source": [
    "def graph_hist_vo_2(df, interval, symbol,dtick_val):\n",
    "    fig = go.Figure()\n",
    "    \n",
    "    # Ajouter un histogramme pour le volume\n",
    "    fig.add_trace(go.bar(\n",
    "        x=df['timestamp'], \n",
    "        y=df['volume'],\n",
    "        name='Volume',\n",
    "        marker=dict(color='rgb(0, 0, 255, 255)'),\n",
    "        xaxis_rangeslider_visible=False,\n",
    "        template=\"plotly_dark\",\n",
    "        title=f\"Historique {interval} des volumes {symbol}\",\n",
    "        xaxis_title=\"Dates\",\n",
    "        yaxis_title=\"Volume\",\n",
    "        yaxis=dict(\n",
    "            dtick=dtick_val)\n",
    "\n",
    "    ))\n",
    "    \n",
    "    fig.show()\n",
    "\n",
    "vol_BNB_W2=graph_hist_vol(data_weekly['BNBUSDT'], 'hebdomadaire', 'BNB',100)"
   ]
  },
  {
   "cell_type": "markdown",
   "metadata": {},
   "source": [
    "API tendace \n"
   ]
  },
  {
   "cell_type": "code",
   "execution_count": 258,
   "metadata": {},
   "outputs": [],
   "source": [
    "import requests\n",
    "\n",
    "\n",
    "url = \"https://api.coingecko.com/api/v3/coins/markets\"\n",
    "params = {\n",
    "    \"vs_currency\": \"usd\",  \n",
    "    \"per_page\": 10,  # nbr de cryptos par page classé par rank market cap\n",
    "    \"page\": 1,  # nbr de page  \n",
    "}\n",
    "\n",
    "response = requests.get(url, params=params)\n",
    "response.raise_for_status()\n",
    "classement = response.json()\n",
    "\n",
    "\n",
    "\n",
    "\n",
    "\n",
    "\n"
   ]
  },
  {
   "cell_type": "code",
   "execution_count": 249,
   "metadata": {},
   "outputs": [
    {
     "data": {
      "text/plain": [
       "Index(['id', 'symbol', 'name', 'image', 'current_price', 'market_cap',\n",
       "       'market_cap_rank', 'fully_diluted_valuation', 'total_volume',\n",
       "       'high_24h', 'low_24h', 'price_change_24h',\n",
       "       'price_change_percentage_24h', 'market_cap_change_24h',\n",
       "       'market_cap_change_percentage_24h', 'circulating_supply',\n",
       "       'total_supply', 'max_supply', 'ath', 'ath_change_percentage',\n",
       "       'ath_date', 'atl', 'atl_change_percentage', 'atl_date', 'roi',\n",
       "       'last_updated'],\n",
       "      dtype='object')"
      ]
     },
     "execution_count": 249,
     "metadata": {},
     "output_type": "execute_result"
    }
   ],
   "source": [
    "df_gagnant.columns"
   ]
  },
  {
   "cell_type": "code",
   "execution_count": 261,
   "metadata": {},
   "outputs": [
    {
     "data": {
      "text/html": [
       "<div>\n",
       "<style scoped>\n",
       "    .dataframe tbody tr th:only-of-type {\n",
       "        vertical-align: middle;\n",
       "    }\n",
       "\n",
       "    .dataframe tbody tr th {\n",
       "        vertical-align: top;\n",
       "    }\n",
       "\n",
       "    .dataframe thead th {\n",
       "        text-align: right;\n",
       "    }\n",
       "</style>\n",
       "<table border=\"1\" class=\"dataframe\">\n",
       "  <thead>\n",
       "    <tr style=\"text-align: right;\">\n",
       "      <th></th>\n",
       "      <th>name</th>\n",
       "      <th>price_change_percentage_24h</th>\n",
       "    </tr>\n",
       "  </thead>\n",
       "  <tbody>\n",
       "    <tr>\n",
       "      <th>9</th>\n",
       "      <td>Cardano</td>\n",
       "      <td>17.60055</td>\n",
       "    </tr>\n",
       "    <tr>\n",
       "      <th>6</th>\n",
       "      <td>XRP</td>\n",
       "      <td>11.44618</td>\n",
       "    </tr>\n",
       "    <tr>\n",
       "      <th>0</th>\n",
       "      <td>Bitcoin</td>\n",
       "      <td>4.00124</td>\n",
       "    </tr>\n",
       "    <tr>\n",
       "      <th>3</th>\n",
       "      <td>Solana</td>\n",
       "      <td>2.57307</td>\n",
       "    </tr>\n",
       "    <tr>\n",
       "      <th>2</th>\n",
       "      <td>Tether</td>\n",
       "      <td>-0.03476</td>\n",
       "    </tr>\n",
       "    <tr>\n",
       "      <th>7</th>\n",
       "      <td>USDC</td>\n",
       "      <td>-0.07087</td>\n",
       "    </tr>\n",
       "    <tr>\n",
       "      <th>8</th>\n",
       "      <td>Lido Staked Ether</td>\n",
       "      <td>-0.71904</td>\n",
       "    </tr>\n",
       "    <tr>\n",
       "      <th>1</th>\n",
       "      <td>Ethereum</td>\n",
       "      <td>-0.76615</td>\n",
       "    </tr>\n",
       "    <tr>\n",
       "      <th>5</th>\n",
       "      <td>Dogecoin</td>\n",
       "      <td>-2.56810</td>\n",
       "    </tr>\n",
       "    <tr>\n",
       "      <th>4</th>\n",
       "      <td>BNB</td>\n",
       "      <td>-2.73730</td>\n",
       "    </tr>\n",
       "  </tbody>\n",
       "</table>\n",
       "</div>"
      ],
      "text/plain": [
       "                name  price_change_percentage_24h\n",
       "9            Cardano                     17.60055\n",
       "6                XRP                     11.44618\n",
       "0            Bitcoin                      4.00124\n",
       "3             Solana                      2.57307\n",
       "2             Tether                     -0.03476\n",
       "7               USDC                     -0.07087\n",
       "8  Lido Staked Ether                     -0.71904\n",
       "1           Ethereum                     -0.76615\n",
       "5           Dogecoin                     -2.56810\n",
       "4                BNB                     -2.73730"
      ]
     },
     "execution_count": 261,
     "metadata": {},
     "output_type": "execute_result"
    }
   ],
   "source": [
    "df_classement= pd.DataFrame(classement,columns=[\"name\",\"price_change_percentage_24h\"])\n",
    "df_classement.sort_values(by=\"price_change_percentage_24h\",ascending= False)"
   ]
  },
  {
   "cell_type": "markdown",
   "metadata": {},
   "source": [
    "File actu"
   ]
  },
  {
   "cell_type": "code",
   "execution_count": 266,
   "metadata": {},
   "outputs": [],
   "source": [
    "import requests\n",
    "\n",
    "\n",
    "url = \"https://cryptopanic.com/api/v1/posts/\"\n",
    "\n",
    "params = {\n",
    "    \"auth_token\": \"426c945ba63a8df1f3957d45c79b8e6393cc8e67\",  # clé API\n",
    "    \"filter\": \"trending\",  \n",
    "}\n",
    "response = requests.get(url, params=params)\n",
    "response.raise_for_status()\n",
    "news = response.json()\n",
    "\n",
    "\n",
    "\n"
   ]
  },
  {
   "cell_type": "code",
   "execution_count": 267,
   "metadata": {},
   "outputs": [
    {
     "data": {
      "text/html": [
       "<div>\n",
       "<style scoped>\n",
       "    .dataframe tbody tr th:only-of-type {\n",
       "        vertical-align: middle;\n",
       "    }\n",
       "\n",
       "    .dataframe tbody tr th {\n",
       "        vertical-align: top;\n",
       "    }\n",
       "\n",
       "    .dataframe thead th {\n",
       "        text-align: right;\n",
       "    }\n",
       "</style>\n",
       "<table border=\"1\" class=\"dataframe\">\n",
       "  <thead>\n",
       "    <tr style=\"text-align: right;\">\n",
       "      <th></th>\n",
       "      <th>previous</th>\n",
       "      <th>results</th>\n",
       "    </tr>\n",
       "  </thead>\n",
       "  <tbody>\n",
       "    <tr>\n",
       "      <th>0</th>\n",
       "      <td>NaN</td>\n",
       "      <td>{'kind': 'news', 'domain': 'dailycoin.com', 'v...</td>\n",
       "    </tr>\n",
       "    <tr>\n",
       "      <th>1</th>\n",
       "      <td>NaN</td>\n",
       "      <td>{'kind': 'news', 'domain': 'u.today', 'votes':...</td>\n",
       "    </tr>\n",
       "    <tr>\n",
       "      <th>2</th>\n",
       "      <td>NaN</td>\n",
       "      <td>{'kind': 'news', 'domain': 'decrypt.co', 'vote...</td>\n",
       "    </tr>\n",
       "    <tr>\n",
       "      <th>3</th>\n",
       "      <td>NaN</td>\n",
       "      <td>{'kind': 'news', 'domain': '@DaanCrypto', 'vot...</td>\n",
       "    </tr>\n",
       "    <tr>\n",
       "      <th>4</th>\n",
       "      <td>NaN</td>\n",
       "      <td>{'kind': 'news', 'domain': 'coinpaprika.com', ...</td>\n",
       "    </tr>\n",
       "    <tr>\n",
       "      <th>5</th>\n",
       "      <td>NaN</td>\n",
       "      <td>{'kind': 'news', 'domain': 'coinpaprika.com', ...</td>\n",
       "    </tr>\n",
       "    <tr>\n",
       "      <th>6</th>\n",
       "      <td>NaN</td>\n",
       "      <td>{'kind': 'news', 'domain': 'beincrypto.com', '...</td>\n",
       "    </tr>\n",
       "    <tr>\n",
       "      <th>7</th>\n",
       "      <td>NaN</td>\n",
       "      <td>{'kind': 'reddit', 'domain': 'reddit.com', 'vo...</td>\n",
       "    </tr>\n",
       "    <tr>\n",
       "      <th>8</th>\n",
       "      <td>NaN</td>\n",
       "      <td>{'kind': 'news', 'domain': 'cryptopolitan.com'...</td>\n",
       "    </tr>\n",
       "    <tr>\n",
       "      <th>9</th>\n",
       "      <td>NaN</td>\n",
       "      <td>{'kind': 'news', 'domain': '@BTC_Archive', 'vo...</td>\n",
       "    </tr>\n",
       "    <tr>\n",
       "      <th>10</th>\n",
       "      <td>NaN</td>\n",
       "      <td>{'kind': 'news', 'domain': 'bankless.com', 'vo...</td>\n",
       "    </tr>\n",
       "    <tr>\n",
       "      <th>11</th>\n",
       "      <td>NaN</td>\n",
       "      <td>{'kind': 'media', 'domain': 'youtube.com', 'vo...</td>\n",
       "    </tr>\n",
       "    <tr>\n",
       "      <th>12</th>\n",
       "      <td>NaN</td>\n",
       "      <td>{'kind': 'news', 'domain': '@BTC_Archive', 'vo...</td>\n",
       "    </tr>\n",
       "    <tr>\n",
       "      <th>13</th>\n",
       "      <td>NaN</td>\n",
       "      <td>{'kind': 'news', 'domain': 'u.today', 'votes':...</td>\n",
       "    </tr>\n",
       "    <tr>\n",
       "      <th>14</th>\n",
       "      <td>NaN</td>\n",
       "      <td>{'kind': 'news', 'domain': 'coinpedia.org', 'v...</td>\n",
       "    </tr>\n",
       "    <tr>\n",
       "      <th>15</th>\n",
       "      <td>NaN</td>\n",
       "      <td>{'kind': 'news', 'domain': '@Bitcoinsensus', '...</td>\n",
       "    </tr>\n",
       "    <tr>\n",
       "      <th>16</th>\n",
       "      <td>NaN</td>\n",
       "      <td>{'kind': 'news', 'domain': 'coinpedia.org', 'v...</td>\n",
       "    </tr>\n",
       "    <tr>\n",
       "      <th>17</th>\n",
       "      <td>NaN</td>\n",
       "      <td>{'kind': 'news', 'domain': 'thecoinrepublic.co...</td>\n",
       "    </tr>\n",
       "    <tr>\n",
       "      <th>18</th>\n",
       "      <td>NaN</td>\n",
       "      <td>{'kind': 'news', 'domain': 'coinpaprika.com', ...</td>\n",
       "    </tr>\n",
       "    <tr>\n",
       "      <th>19</th>\n",
       "      <td>NaN</td>\n",
       "      <td>{'kind': 'news', 'domain': 'coinpaprika.com', ...</td>\n",
       "    </tr>\n",
       "  </tbody>\n",
       "</table>\n",
       "</div>"
      ],
      "text/plain": [
       "   previous                                            results\n",
       "0       NaN  {'kind': 'news', 'domain': 'dailycoin.com', 'v...\n",
       "1       NaN  {'kind': 'news', 'domain': 'u.today', 'votes':...\n",
       "2       NaN  {'kind': 'news', 'domain': 'decrypt.co', 'vote...\n",
       "3       NaN  {'kind': 'news', 'domain': '@DaanCrypto', 'vot...\n",
       "4       NaN  {'kind': 'news', 'domain': 'coinpaprika.com', ...\n",
       "5       NaN  {'kind': 'news', 'domain': 'coinpaprika.com', ...\n",
       "6       NaN  {'kind': 'news', 'domain': 'beincrypto.com', '...\n",
       "7       NaN  {'kind': 'reddit', 'domain': 'reddit.com', 'vo...\n",
       "8       NaN  {'kind': 'news', 'domain': 'cryptopolitan.com'...\n",
       "9       NaN  {'kind': 'news', 'domain': '@BTC_Archive', 'vo...\n",
       "10      NaN  {'kind': 'news', 'domain': 'bankless.com', 'vo...\n",
       "11      NaN  {'kind': 'media', 'domain': 'youtube.com', 'vo...\n",
       "12      NaN  {'kind': 'news', 'domain': '@BTC_Archive', 'vo...\n",
       "13      NaN  {'kind': 'news', 'domain': 'u.today', 'votes':...\n",
       "14      NaN  {'kind': 'news', 'domain': 'coinpedia.org', 'v...\n",
       "15      NaN  {'kind': 'news', 'domain': '@Bitcoinsensus', '...\n",
       "16      NaN  {'kind': 'news', 'domain': 'coinpedia.org', 'v...\n",
       "17      NaN  {'kind': 'news', 'domain': 'thecoinrepublic.co...\n",
       "18      NaN  {'kind': 'news', 'domain': 'coinpaprika.com', ...\n",
       "19      NaN  {'kind': 'news', 'domain': 'coinpaprika.com', ..."
      ]
     },
     "execution_count": 267,
     "metadata": {},
     "output_type": "execute_result"
    }
   ],
   "source": []
  },
  {
   "cell_type": "code",
   "execution_count": null,
   "metadata": {},
   "outputs": [],
   "source": []
  }
 ],
 "metadata": {
  "kernelspec": {
   "display_name": ".venv",
   "language": "python",
   "name": "python3"
  },
  "language_info": {
   "codemirror_mode": {
    "name": "ipython",
    "version": 3
   },
   "file_extension": ".py",
   "mimetype": "text/x-python",
   "name": "python",
   "nbconvert_exporter": "python",
   "pygments_lexer": "ipython3",
   "version": "3.9.6"
  }
 },
 "nbformat": 4,
 "nbformat_minor": 2
}
